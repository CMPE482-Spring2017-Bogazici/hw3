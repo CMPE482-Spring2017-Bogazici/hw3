{
 "cells": [
  {
   "cell_type": "markdown",
   "metadata": {
    "deletable": true,
    "editable": true
   },
   "source": [
    "#### Yaşarcan Yılmaz"
   ]
  },
  {
   "cell_type": "markdown",
   "metadata": {
    "deletable": true,
    "editable": true
   },
   "source": [
    "### Exercise 3.6.a"
   ]
  },
  {
   "cell_type": "markdown",
   "metadata": {
    "deletable": true,
    "editable": true
   },
   "source": [
    "$ \\|x\\|' \\geq |(\\frac{x}{\\|x\\|})* x| = \\|x\\|$\n",
    "\n",
    "\n",
    "$So, \\|x\\|' = 0$  iff  $x = 0.$\n",
    "\n",
    "\n",
    "$ \\|x_{1} + x_{2} \\|' = \\sup\\limits_{\\|y\\| = 1} (|y^*x_{1}| + |y^*x_{2}|) \\leq \\sup\\limits_{\\|y\\| = 1} |y^*x_{1}| + \\sup\\limits_{\\|y\\| = 1} |y^*x_{2}| = \\|x_{1}\\|' + \\|x_{2}\\|'$\n",
    "\n",
    "$t \\in \\mathbb{C}, \\|tx\\|' = \\sup\\limits_{\\|y\\|=1} |y^*(tx)| = \\sup\\limits_{\\|y\\|=1} |t||y^*x|= |t| \\|x\\|'$"
   ]
  },
  {
   "cell_type": "markdown",
   "metadata": {
    "deletable": true,
    "editable": true
   },
   "source": [
    "### Exercise 4.5"
   ]
  },
  {
   "cell_type": "markdown",
   "metadata": {
    "deletable": true,
    "editable": true
   },
   "source": [
    "To be able to prove, we have to change $\\mathbb{C}^{m}$ with $\\mathbb{R}^{m}$ everywhere.\\n So, if $A$ is real, then it has a real SVD.\n",
    "\n",
    "Let's take $A^*A$ is real and symmetric which means that it is real and orthonormal eigen vector: $v_1, v_2, \\dots, v_n$\n",
    "\n",
    "$V = [v_1, v_2, \\dots, v_n]$ and $\\lambda_{i}$ corresponding eigen value to $v_{i}$.\n",
    "\n",
    "Since we know that $A^*A$ is non-negative, then all $\\lambda_{i}$ is non-negative.\n",
    "\n",
    "And, let's assume that $\\lambda_{1} \\geq \\lambda_{2} \\geq \\dots \\geq \\lambda_{n}$\n",
    "\n",
    "$x \\in null(A^*A) => A^*Ax = 0 => (Ax)^*(Ax) = x^*A^*Ax = 0 => Ax =0 => x \\in null(A)$\n",
    "\n",
    "Let $r$ be the largest index which satify $\\lambda_{r} > 0$ $ => \\lambda_{r+1} = \\lambda_{n} = 0$\n",
    "\n",
    "$\\sigma_{i} = \\sqrt \\lambda_{i}$ and $u_{i} = \\frac{A_{v_{i}}}{\\sigma_{i}}$ for $(i=1,\\dots, r)$  $\\{u_1, \\dots, u_r\\}$ becomes an orthogonal set.\n",
    "\n",
    "$u_{i}^*u_{j} = \\frac{(Av_i)^*(Av_j)}{\\sigma_i \\sigma_j} = \\frac{v_i^*(A^*A)v_j)}{\\sqrt{\\lambda_i\\lambda_j}} = \\frac{\\lambda_jv_i^*v_j}{\\sqrt{\\lambda_i\\lambda_j}} = \\delta_{ij} $\n",
    "\n",
    "$\\{u_1,\\dots, u_r\\}$ to be orthogonal basis for $\\mathbb{R}^{m}$: $\\{u_1, \\dots,u_r, u_{r+1},\\dots, u_m\\}$\n",
    "\n",
    "$U= [u_1,\\dots,u_m]$ If we check $U^*AV$ is a diagonal matrix by using $null(A^*A) = null(A)$\n",
    "\n",
    "$U^*AV = \n",
    "\\begin{bmatrix} \n",
    "u_1^* \\\\\n",
    "u_2^* \\\\\n",
    "\\dots \\\\\n",
    "u_m^* \\\\\n",
    "\\end{bmatrix} A[v_1,\\dots,v_n] = (u_i^*Av_j),$ and $u_i^*Av_j = \\begin{cases} \n",
    "      0 & if j > r \\\\\n",
    "      \\sigma_i\\delta_ij & if j \\leq r. \\\\ \n",
    "   \\end{cases}$\n",
    "   \n",
    "In conclusion, $U^*AV$ is diagonal matrix $\\Sigma$.\n",
    "So we can say that $A$ has a real SVD, $A = U\\Sigma V^*$"
   ]
  },
  {
   "cell_type": "markdown",
   "metadata": {
    "deletable": true,
    "editable": true
   },
   "source": [
    "### Exercise 5.3"
   ]
  },
  {
   "cell_type": "code",
   "execution_count": 43,
   "metadata": {
    "collapsed": false,
    "deletable": true,
    "editable": true
   },
   "outputs": [
    {
     "name": "stdout",
     "output_type": "stream",
     "text": [
      "E =\n",
      "\n",
      "   5   3\n",
      "   3   5\n",
      "\n",
      "singlerValues =\n",
      "\n",
      "    7.0711\n",
      "   14.1421\n",
      "\n"
     ]
    }
   ],
   "source": [
    "A = [-2,11;-10,5];\n",
    "B = A*transpose(A);\n",
    "D = reshape(B,1,4);\n",
    "\n",
    "c = D(1);\n",
    "for k = 2:length(D)\n",
    " c = gcd(c,D(k));\n",
    "end\n",
    "\n",
    "E = B / c\n",
    "eig(B);\n",
    "singlerValues = sqrt(eig(B))\n",
    "#E.U = U.[8,0;0,2]\n",
    "#U = 1/sqrt(2)[a,b;a,-b]\n",
    "\n",
    "#V=transpose(A).U.inv(sigma)\n",
    "\n",
    "#V = transpose(A)*1/sqrt(2)*[a,b;a,-b]*[1/singlerValues(1),0;0,1/singlerValues(2)]\n"
   ]
  }
 ],
 "metadata": {
  "kernelspec": {
   "display_name": "Octave",
   "language": "octave",
   "name": "octave"
  },
  "language_info": {
   "file_extension": ".m",
   "help_links": [
    {
     "text": "GNU Octave",
     "url": "https://www.gnu.org/software/octave/support.html"
    },
    {
     "text": "Octave Kernel",
     "url": "https://github.com/Calysto/octave_kernel"
    },
    {
     "text": "MetaKernel Magics",
     "url": "https://github.com/calysto/metakernel/blob/master/metakernel/magics/README.md"
    }
   ],
   "mimetype": "text/x-octave",
   "name": "octave",
   "version": "4.2.0"
  }
 },
 "nbformat": 4,
 "nbformat_minor": 2
}
