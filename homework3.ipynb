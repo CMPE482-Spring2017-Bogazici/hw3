{
 "cells": [
  {
   "cell_type": "markdown",
   "metadata": {},
   "source": [
    "### Neşat Dereli\n",
    "\n",
    "## 3.6.a\n",
    "\n",
    "(1) $\\|x\\|' = 0$ if and only if x is zero vector\n",
    "\n",
    "\\begin{eqnarray}\n",
    "&\\|x\\|' &= &sup_{\\|y\\|=1} |y^*x| \\geq 0 \\qquad \\text{ since absolute value}\\\\\n",
    "&\\|x\\| &= &0 \\Leftrightarrow \\text{x is zero vector}\\\\\n",
    "&\\|x\\|' &= &0 \\Leftrightarrow \\|x\\| = 0\\\\\n",
    "&\\|x\\|' &= &0 \\Leftrightarrow \\text{x is zero vector}\\\\\n",
    "\\end{eqnarray}\n",
    "\n",
    "(2) $\\|x + z\\|' \\leq \\|x\\|' + \\|z\\|'$\n",
    "\n",
    "\\begin{eqnarray}\n",
    "&\\|x + z\\|' &= &sup_{\\|y\\|=1} |y^*(x+z)|\\\\\n",
    "& &= &sup_{\\|y\\|=1} |y^*x + y^*z)|\\\\\n",
    "& &\\leq &sup_{\\|y\\|=1} | y^*x| + sup_{\\|y\\|=1} |y^*z |\\\\\n",
    "& &\\leq &\\|x\\|' + \\|z\\|'\\\\\n",
    "\\end{eqnarray}\n",
    "\n",
    "(3) $\\|ax\\|' = |a| \\|x\\|'$\n",
    "\n",
    "\\begin{eqnarray}\n",
    "&\\|ax\\|' &= &sup_{\\|y\\|=1} |y^*ax|\\\\\n",
    "& &= &|a|sup_{\\|y\\|=1} |y^*x|\\\\\n",
    "& &= &sup_{\\|y\\|=1} |a||y^*x|\\\\\n",
    "& &= &|a| \\|x\\|'\\\\\n",
    "\\end{eqnarray}\n",
    "\n",
    "\n",
    "\n",
    "## 4.5\n",
    "\n",
    "\\begin{eqnarray}\n",
    "A \\in \\mathbb{R}^{mxn} \\Rightarrow A^*A = A^TA \\in \\mathbb{R}^{nxn}\\\\\n",
    "A^TA = V\\Sigma^2V^T\\\\\n",
    "A^*A = V\\Sigma^2V^*\\\\\n",
    "\\Sigma^2 \\in \\mathbb{R}^{nxn}\\\\\n",
    "A^TA = A^*A \\Rightarrow V\\Sigma^2V^T = V\\Sigma^2V^*\\\\\n",
    "V^T = V^* \\Rightarrow V \\in \\mathbb{R}^{nxn}\n",
    "\\text{ }\\\\\n",
    "AA^T = U^T\\Sigma^2U\\\\\n",
    "AA^* = U^*\\Sigma^2U\\\\\n",
    "\\Sigma^2 \\in \\mathbb{R}^{mxm}\\\\\n",
    "AA^T = AA^* \\Rightarrow U^T\\Sigma^2U = U^*\\Sigma^2U\\\\\n",
    "U^T = U^* \\Rightarrow U \\in \\mathbb{R}^{mxm}\n",
    "\\end{eqnarray}\n",
    "\n",
    "\n",
    "## 5.3\n"
   ]
  }
 ],
 "metadata": {
  "kernelspec": {
   "display_name": "Octave",
   "language": "octave",
   "name": "octave"
  },
  "language_info": {
   "file_extension": ".m",
   "help_links": [
    {
     "text": "GNU Octave",
     "url": "https://www.gnu.org/software/octave/support.html"
    },
    {
     "text": "Octave Kernel",
     "url": "https://github.com/Calysto/octave_kernel"
    },
    {
     "text": "MetaKernel Magics",
     "url": "https://github.com/calysto/metakernel/blob/master/metakernel/magics/README.md"
    }
   ],
   "mimetype": "text/x-octave",
   "name": "octave",
   "version": "4.2.0"
  }
 },
 "nbformat": 4,
 "nbformat_minor": 2
}
