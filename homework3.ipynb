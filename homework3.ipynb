{
 "cells": [
  {
   "cell_type": "markdown",
   "metadata": {},
   "source": [
    "### Homework 3\n",
    "#### Mustafa Haluk AYDIN"
   ]
  },
  {
   "cell_type": "markdown",
   "metadata": {},
   "source": [
    "### Exercise 3.6.a"
   ]
  },
  {
   "cell_type": "markdown",
   "metadata": {},
   "source": [
    "\n",
    "A function $\\|\\cdot\\|: \\mathbb{C}^m \\rightarrow \\mathbb{R}$ is a norm iff:\n",
    "\n",
    "* (Nonnegativity) $\\|x\\| \\geq 0$, $\\|x\\| = 0 \\Leftrightarrow x = 0$\n",
    "* (Triangle Inequality) $\\|x+y\\| \\leq \\|x\\| + \\| y \\|$\n",
    "* (Scaling) $\\|\\alpha x\\| = |\\alpha|\\|x\\|$  for a scalar $\\alpha$,  \n"
   ]
  },
  {
   "cell_type": "markdown",
   "metadata": {},
   "source": [
    "Is $\\|x\\|^/ = \\sup_{\\|y\\|^/ = 1} |y^* x| $ is a norm ?\n",
    "* $\\|x\\|^/ =  \n",
    "\\sup_{\\|y\\|^/ = 1} |y^* x| \\geq 0$, $\\|x\\|^/ = 0 \\Leftrightarrow x = 0$\n",
    "$$$$\n",
    "$ \\sup_{\\|y\\|^/ = 1} |y^* x| = \\sup_{\\|y\\|^/ = 1} |y_1x_1 + y_2x_2 + .... + y_nx_n| $\n",
    "$$$$ \n",
    "For $x = 0 $ ,  $|y_1x_1 + y_2x_2 + .... + y_nx_n| = |y_10 + y_20 + .... + y_n0| = 0$ Nonnegativity satisfied\n",
    "$$$$\n",
    "* \n",
    "$\\|x+z\\|^/ =  \n",
    "\\sup_{\\|y\\|^/ = 1} |y^* \\left(x+z\\right)| =\n",
    "\\sup_{\\|y\\|^/ = 1} |y^*x + y^*z| \\leq\n",
    "\\sup_{\\|y\\|^/ = 1} |y^*x| + \n",
    "\\sup_{\\|y\\|^/ = 1} |y^* z| = \n",
    "\\|x\\|^/ + \\|y\\|^/$  Triangle Equality satisfied\n",
    "$$$$  \n",
    "* \n",
    "$\n",
    "\\|\\alpha x\\|^/ =  \n",
    "\\sup_{\\|y\\|^/ = 1} |y^*(\\alpha x)| =\n",
    "\\sup_{\\|y\\|^/ = 1} |\\alpha y^* x)| =\n",
    "\\sup_{\\|y\\|^/ = 1} \\alpha |y^* x)| =\n",
    "|\\alpha|\\|x\\|^/ $ Scaling satisfied"
   ]
  },
  {
   "cell_type": "markdown",
   "metadata": {},
   "source": [
    "### Exercise 4.5"
   ]
  },
  {
   "cell_type": "markdown",
   "metadata": {},
   "source": [
    "$$\n",
    "\\begin{array}{cc} \n",
    "A = UΣV^*\n",
    "\\end{array}\n",
    "$$\n",
    "if $A$ is real then $ A^*A =$\n",
    "$\n",
    "\\begin{array}{cc} \n",
    "A^TA =  \n",
    "\\left(\\begin{array}{cc}VΣ^TU^T\\end{array}\\right)\n",
    "\\left(\\begin{array}{cc}UΣV^T\\end{array}\\right)\n",
    "\\end{array} =\n",
    "\\left(\\begin{array}{cc}VΣ^TΣV^T\\end{array}\\right)\n",
    "$ where $Σ$ and $Σ^TΣ$ are real and $Σ^TΣ$ is a square matrix \n",
    "$$$$\n",
    "So $V$ should be a real matrix\n",
    "$$$$\n",
    "\n",
    "if $A$ is real then $ AA^* =$\n",
    "$\n",
    "\\begin{array}{cc} \n",
    "AA^T =  \n",
    "\\left(\\begin{array}{cc}UΣV^T\\end{array}\\right)\n",
    "\\left(\\begin{array}{cc}VΣ^TU^T\\end{array}\\right)\n",
    "\\end{array} =\n",
    "\\left(\\begin{array}{cc}UΣΣ^TU^T\\end{array}\\right)\n",
    "$ where $Σ$ and $ΣΣ^T$ are real and $ΣΣ^T$ is a square matrix \n",
    "$$$$\n",
    "So $U$ should be a real matrix\n",
    "$$$$"
   ]
  },
  {
   "cell_type": "markdown",
   "metadata": {},
   "source": [
    "### Exercise 5.3"
   ]
  },
  {
   "cell_type": "markdown",
   "metadata": {},
   "source": [
    "$$ A =\n",
    "\\left(\\begin{array}{cc} \n",
    "-2 & 11\\\\\n",
    "-10 & 5\n",
    "\\end{array}\\right)\n",
    "$$"
   ]
  },
  {
   "cell_type": "code",
   "execution_count": 49,
   "metadata": {
    "collapsed": false
   },
   "outputs": [],
   "source": [
    "A = [-2,11;-10,5] ;\n",
    "I = [1,0;0,1] ;"
   ]
  },
  {
   "cell_type": "code",
   "execution_count": 29,
   "metadata": {
    "collapsed": false
   },
   "outputs": [
    {
     "name": "stdout",
     "output_type": "stream",
     "text": [
      "Sigma =\n",
      "\n",
      "Diagonal Matrix\n",
      "\n",
      "    7.0711         0\n",
      "         0   14.1421\n",
      "\n",
      "V =\n",
      "\n",
      "   0.80000  -0.60000\n",
      "   0.60000   0.80000\n",
      "\n",
      "U =\n",
      "\n",
      "   0.70711   0.70711\n",
      "  -0.70711   0.70711\n",
      "\n"
     ]
    }
   ],
   "source": [
    "#a)\n",
    "#First we compute the singular values σi by finding the eigenvalues of AAT\n",
    "AAT = A * transpose(A);\n",
    "# finding roots that make det(AAT − λI) zero\n",
    "#ax^2+bx+c\n",
    "a = 1;\n",
    "b = -1*(AAT(1)+AAT(4));\n",
    "c = det(AAT);\n",
    "lamda1 = ((-1*b - sqrt((b)^2-4*a*c))/(2*a));# λ1, first root\n",
    "lamda2 = ((-1*b + sqrt((b)^2-4*a*c))/(2*a));# λ2, second root\n",
    "sigma1 = sqrt(lamda1);# singular value σ1\n",
    "sigma2 = sqrt(lamda2);# singular value σ2\n",
    "Sigma = diag([sigma1,sigma2])# Σ matrix\n",
    "ATA = transpose(A) * A;\n",
    "rowreduced1 = rref(ATA - lamda1 * I);# row reduced form of (AAT − λI) for λ1\n",
    "rowreduced2 = rref(ATA - lamda2 * I);# row reduced form of (AAT − λI) for λ2\n",
    "v1 = null(rowreduced1);#A unit-length vector in the kernel\n",
    "v2 = null(rowreduced2);#A unit-length vector in the kernel\n",
    "V=[v1,v2] # V matrix\n",
    "U = [(1/sigma1)*A*v1 , (1/sigma2)*A*v2 ] # U matrix"
   ]
  },
  {
   "cell_type": "code",
   "execution_count": 34,
   "metadata": {
    "collapsed": false
   },
   "outputs": [
    {
     "name": "stdout",
     "output_type": "stream",
     "text": [
      "Sv =\n",
      "\n",
      "    7.0711\n",
      "   14.1421\n",
      "\n",
      "Lsv1 =\n",
      "\n",
      "   0.70711\n",
      "  -0.70711\n",
      "\n",
      "Lsv2 =\n",
      "\n",
      "   0.70711\n",
      "   0.70711\n",
      "\n",
      "Rsv2 =\n",
      "\n",
      "   0.80000\n",
      "   0.60000\n",
      "\n",
      "Rsv2 =\n",
      "\n",
      "  -0.60000\n",
      "   0.80000\n",
      "\n"
     ]
    }
   ],
   "source": [
    "#b)\n",
    "Sv=diag(Sigma)# singular values\n",
    "Lsv1=U(:,1)# left singular vectors\n",
    "Lsv2=U(:,2)\n",
    "Rsv2=V(:,1)# right singular vectors,\n",
    "Rsv2=V(:,2)\n",
    "# no drawing"
   ]
  },
  {
   "cell_type": "code",
   "execution_count": 38,
   "metadata": {
    "collapsed": false
   },
   "outputs": [
    {
     "name": "stdout",
     "output_type": "stream",
     "text": [
      "NormA1 =  16\n",
      "NormA2 =  14.142\n",
      "NormAinf =  9\n",
      "NormAfro =  15.811\n"
     ]
    }
   ],
   "source": [
    "# c)\n",
    "NormA1 = max(sum(A(:,1)),sum(A(:,2))) # 1-Norm is Max of column sums\n",
    "NormA2 = max(sigma1, sigma2) # 2-Norm is Max of singular values\n",
    "NormAinf = max(sum(A(1,:)), sum(A(2,:))) # Infinity-Norm is Max of row sums\n",
    "NormAfro = sqrt(sum(A(1)^2+A(2)^2+A(3)^2+A(4)^2)) # Frobenius-Norm is square root of sum of all elements' square "
   ]
  },
  {
   "cell_type": "markdown",
   "metadata": {},
   "source": [
    "$$\n",
    "A^\\left(-1\\right) = V \\Sigma^\\left(-1\\right)  U^\\left(T\\right)\n",
    "$$"
   ]
  },
  {
   "cell_type": "code",
   "execution_count": 41,
   "metadata": {
    "collapsed": false
   },
   "outputs": [
    {
     "name": "stdout",
     "output_type": "stream",
     "text": [
      "Ainv =\n",
      "\n",
      "   0.050000  -0.110000\n",
      "   0.100000  -0.020000\n",
      "\n",
      "ans =\n",
      "\n",
      "   0.050000  -0.110000\n",
      "   0.100000  -0.020000\n",
      "\n"
     ]
    }
   ],
   "source": [
    "# d)\n",
    "SigmaInv = diag([1/sigma1,1/sigma2]); # inverse of Σ\n",
    "Ainv = V*SigmaInv*transpose(U) # Above equation\n",
    "inverse(A) # for comparison"
   ]
  },
  {
   "cell_type": "code",
   "execution_count": 51,
   "metadata": {
    "collapsed": false
   },
   "outputs": [
    {
     "name": "stdout",
     "output_type": "stream",
     "text": [
      "eigvals =\n",
      "\n",
      "   1.5000 + 9.8869i\n",
      "   1.5000 - 9.8869i\n",
      "\n"
     ]
    }
   ],
   "source": [
    "# e)\n",
    "#ax^2+bx+c\n",
    "a = 1;\n",
    "b = -1*(A(1)+A(4));\n",
    "c = det(A);\n",
    "eigvals = roots([a,b,c])# eigenvalue values"
   ]
  },
  {
   "cell_type": "code",
   "execution_count": 54,
   "metadata": {
    "collapsed": false
   },
   "outputs": [
    {
     "name": "stdout",
     "output_type": "stream",
     "text": [
      "ans =  100.00\n",
      "ans =  100\n",
      "ans =  100.00\n"
     ]
    }
   ],
   "source": [
    "# f)\n",
    "eigvals(1)*eigvals(2)\n",
    "det(A)\n",
    "\n",
    "sigma1*sigma2"
   ]
  },
  {
   "cell_type": "code",
   "execution_count": 55,
   "metadata": {
    "collapsed": false
   },
   "outputs": [
    {
     "name": "stdout",
     "output_type": "stream",
     "text": [
      "Area =  314.16\n"
     ]
    }
   ],
   "source": [
    "# g)\n",
    "Area = sigma1*sigma2*pi"
   ]
  }
 ],
 "metadata": {
  "kernelspec": {
   "display_name": "Octave",
   "language": "octave",
   "name": "octave"
  },
  "language_info": {
   "file_extension": ".m",
   "help_links": [
    {
     "text": "GNU Octave",
     "url": "https://www.gnu.org/software/octave/support.html"
    },
    {
     "text": "Octave Kernel",
     "url": "https://github.com/Calysto/octave_kernel"
    },
    {
     "text": "MetaKernel Magics",
     "url": "https://github.com/calysto/metakernel/blob/master/metakernel/magics/README.md"
    }
   ],
   "mimetype": "text/x-octave",
   "name": "octave",
   "version": "4.0.2"
  }
 },
 "nbformat": 4,
 "nbformat_minor": 1
}
