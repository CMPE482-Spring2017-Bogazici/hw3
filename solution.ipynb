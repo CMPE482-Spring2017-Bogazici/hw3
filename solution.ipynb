{
 "cells": [
  {
   "cell_type": "markdown",
   "metadata": {},
   "source": [
    "# Homework 3 - CMPE 482 Numerical Linear Algebra\n",
    "#### Author: Deniz Ekiz , 2016700051\n",
    "### Book: Trefethen, Bau.\n"
   ]
  },
  {
   "cell_type": "markdown",
   "metadata": {},
   "source": [
    "## 3.6.a"
   ]
  },
  {
   "cell_type": "markdown",
   "metadata": {},
   "source": [
    "Prove that $ \\|x\\|'$ is a norm such that \n",
    "$\n",
    "\\begin{eqnarray}\n",
    "\\|x\\|'= \\sup_{\\|y\\| = 1} { |y^*x|} .\n",
    "\\end{eqnarray}\n",
    "$\n",
    "A norm must satisfy the following conditions, for all vectors x and y and all scalars $\\alpha \\in  \\mathbb{C} $\n",
    "\n",
    "\n",
    "$\n",
    "(1)\\:  \\|x\\|  \\geq 0,\\: and \\: \\|x\\| = 0 \\:  only \\: if \\: x = 0, \\\\\n",
    "(2)\\: \\|x + y \\| \\leq \\|x\\| + \\|y\\|, \\\\\n",
    "(3)\\: \\|\\alpha x\\| = |\\alpha|\\|x\\|\n",
    "$"
   ]
  },
  {
   "cell_type": "markdown",
   "metadata": {},
   "source": [
    "Since , $ \\begin{eqnarray} \\|x\\|'= \\sup_{\\|y\\| = 1} |y^*x|  \\end{eqnarray} $.\n",
    "\n",
    "The result of absolute value is always $\\geq 0$,$\\\\$ and when $x = 0$, $|y^*0| = 0$ the result of the product also will be zero.\n",
    "\n",
    "Therefore $\\|x\\|'$ satisfies (1).  \n",
    "\n",
    "$ \\begin{eqnarray} \\|\\alpha x\\|'= \\sup_{\\|y\\| = 1} |\\alpha y^*x| = |\\alpha| . \\sup_{\\|y\\| = 1} |y^*x| \\end{eqnarray}  $.\n",
    "\n",
    "From, $|x||y| = |xy| $ Condition (3) is satisfied\n",
    "\n",
    "$ \\|x + z \\| \\leq \\|x\\| + \\|z\\| $\n",
    "\n",
    "$ |y^*x+ y^*z| \\leq |y^*x| + |y^*z| $\n",
    "\n",
    "Let's take the square of this equation:\n",
    "\n",
    "$ (y^*x)^2 + (y^*z)^2 + 2y^*xy^*z \\leq  (y^*x)^2 + (y^*z)^2 + 2|y^*x||y^*z| $\n",
    "\n",
    "Thus,\n",
    "\n",
    "$2y^*xy^*z \\leq  2|y^*x||y^*z| $\n",
    "\n",
    "Hence,\n",
    "\n",
    "$ \\|x\\|' $ satisfies all the conditions of the norm proposed by the (3.1) in the textbook\n"
   ]
  },
  {
   "cell_type": "markdown",
   "metadata": {},
   "source": [
    "## 4.5"
   ]
  },
  {
   "cell_type": "markdown",
   "metadata": {
    "collapsed": true
   },
   "source": [
    "Let A be  $A$ $\\in$ $ \\mathbb{R}^{mxn} $\n",
    " \n",
    "$\\|A\\hat{x}\\|_2^2$ = $\\sup\\limits_{\\hat{x}\\neq0} \\dfrac{\\|A\\hat{x}\\|_2^2}{\\|\\hat{x}\\|_2^2} $= $\\sup\\limits_{\\hat{x}\\neq0} \\dfrac{\\hat{x}^*A^*Ax}{\\hat{x}^*\\hat{x}} $\n",
    "\n",
    "Let $\\hat{x} = x+yi$, if $y = 0$ $\\hat{x}$ is real. \n",
    "\n",
    "$\\dfrac{ \\|Ax\\|_2^2 + \\|Ay\\|_2^2}{\\|x\\|_2^2 + \\|y\\|_2^2} $\n",
    "\n",
    "$\\|A\\|_2^2\\|x\\|_2^2 + \\|A\\|_2^2\\|y\\|_2^2 =  \\|Ax\\|_2^2 + \\|Ay\\|_2^2\n",
    "$\n",
    "\n",
    "Hence, if   $A$ $\\in$ $ \\mathbb{R}^{mxn} $, it has a real SVD however, it might also have complex SVD."
   ]
  },
  {
   "cell_type": "markdown",
   "metadata": {},
   "source": [
    "## 5.3\n"
   ]
  },
  {
   "cell_type": "markdown",
   "metadata": {},
   "source": [
    "### (a)\n",
    "$A^*A$ and $\\Sigma^*\\Sigma$ has same n eigenvalues.\n",
    "\n",
    "The eigenvalues of the diagonal matrix  $\\Sigma^*\\Sigma$ are $\\sigma_1^2$,$\\sigma_2^2$ ,...,  $\\sigma_p^2$\n",
    "\n",
    "We need to calculate eigenvalues of $A^*A$. \n",
    "\n",
    "Then, take the square root of eigenvalues.\n",
    "\n",
    "$det(\\lambda I -A^*A) = 0 $\n",
    "Let $A^*A = M$\n"
   ]
  },
  {
   "cell_type": "code",
   "execution_count": 362,
   "metadata": {
    "collapsed": false
   },
   "outputs": [
    {
     "name": "stdout",
     "output_type": "stream",
     "text": [
      "A =\n",
      "\n",
      "   -2   11\n",
      "  -10    5\n",
      "\n",
      "M =\n",
      "\n",
      "   104   -72\n",
      "   -72   146\n",
      "\n",
      "e_value =\n",
      "\n",
      "   200\n",
      "    50\n",
      "\n",
      "sigma_vector =\n",
      "\n",
      "   14.1421\n",
      "    7.0711\n",
      "\n",
      "error: eig(-72): subscripts must be either integers 1 to (2^31)-1 or logicals\n"
     ]
    }
   ],
   "source": [
    "A = [-2,11;-10,5];\n",
    "A\n",
    "M = A'*A\n",
    "# 2x2 Matrix -> eigenvalues\n",
    "# Finds the eigenvalues of 2x2 matrix\n",
    "# the values come from quadratic equation ax^2 +bx + c = 0\n",
    "function eigan =  eig_2_2(M)\n",
    "    a = 1;\n",
    "    b = -M(1,1) - M(2,2);\n",
    "    c = - M(1,2)*M(2,1) + M(1,1)*M(2,2);\n",
    "    e1 = (-b + sqrt(b^2 - 4*a*c))/(2*a);\n",
    "    e2 = (-b - sqrt(b^2 - 4*a*c))/(2*a);\n",
    "    eigan =  [e1;e2];\n",
    "endfunction\n",
    "e_value = eig_2_2(M)\n",
    "# square root of eigen values are equal to sigma\n",
    "sigma_vector = e_value.^0.5\n",
    "\n",
    "[v,d] = eig(M)"
   ]
  },
  {
   "cell_type": "markdown",
   "metadata": {
    "collapsed": false
   },
   "source": [
    "Eigenvectors of $A^*A$ and $AA^*$ are equal to U and V"
   ]
  },
  {
   "cell_type": "code",
   "execution_count": 363,
   "metadata": {
    "collapsed": false
   },
   "outputs": [
    {
     "name": "stdout",
     "output_type": "stream",
     "text": [
      "e_value =\n",
      "\n",
      "   200\n",
      "    50\n",
      "\n",
      "n_1 =\n",
      "\n",
      "   0.70711\n",
      "   0.70711\n",
      "\n",
      "n_2 =\n",
      "\n",
      "  -0.70711\n",
      "   0.70711\n",
      "\n",
      "U =\n",
      "\n",
      "   0.70711   0.70711\n",
      "   0.70711  -0.70711\n",
      "\n",
      "e_value =\n",
      "\n",
      "   200\n",
      "    50\n",
      "\n",
      "n_1 =\n",
      "\n",
      "  -0.60000\n",
      "   0.80000\n",
      "\n",
      "n_2 =\n",
      "\n",
      "   0.60000\n",
      "   0.80000\n",
      "\n",
      "V =\n",
      "\n",
      "  -0.60000   0.80000\n",
      "   0.80000   0.60000\n",
      "\n",
      "E =\n",
      "\n",
      "Diagonal Matrix\n",
      "\n",
      "   14.1421         0\n",
      "         0    7.0711\n",
      "\n"
     ]
    }
   ],
   "source": [
    "e_value = eig_2_2(A*A')\n",
    "U = eye(2);\n",
    "n_1 = sort(null(eye(2)*e_value(1) - A*A'))\n",
    "n_2 = sort(null(eye(2)*e_value(2) - A*A'))\n",
    "U(1,1) = n_1(1);\n",
    "U(2,1) = n_1(2);\n",
    "\n",
    "U(1,2) = n_2(2);\n",
    "U(2,2) = n_2(1)\n",
    "\n",
    "V = eye(2);\n",
    "e_value = eig_2_2(A'*A)\n",
    "n_1 = sort(null(eye(2)*e_value(1) - A'*A))\n",
    "n_2 = sort(null(eye(2)*e_value(2) - A'*A))\n",
    "V(1,1) = n_1(1);\n",
    "V(2,1) = n_1(2);\n",
    "V(1,2) = n_2(2);\n",
    "V(2,2) = n_2(1)\n",
    "\n",
    "\n",
    "\n",
    "\n",
    "\n",
    "E = eye(2);\n",
    "E(1,1) = sigma_vector(1);\n",
    "E(2,2) = sigma_vector(2)\n"
   ]
  },
  {
   "cell_type": "markdown",
   "metadata": {
    "collapsed": false
   },
   "source": [
    "Let's compute $U\\Sigma V^*$ to double check our results"
   ]
  },
  {
   "cell_type": "code",
   "execution_count": 364,
   "metadata": {
    "collapsed": false
   },
   "outputs": [
    {
     "name": "stdout",
     "output_type": "stream",
     "text": [
      "A =\n",
      "\n",
      "   -2.0000   11.0000\n",
      "  -10.0000    5.0000\n",
      "\n"
     ]
    }
   ],
   "source": [
    "A = U*E*V'"
   ]
  },
  {
   "cell_type": "markdown",
   "metadata": {
    "collapsed": true
   },
   "source": [
    "### (b) \n",
    "Singular values of $A$ are the diagonal elements of $\\Sigma$"
   ]
  },
  {
   "cell_type": "code",
   "execution_count": 348,
   "metadata": {
    "collapsed": false
   },
   "outputs": [
    {
     "name": "stdout",
     "output_type": "stream",
     "text": [
      "E =\n",
      "\n",
      "Diagonal Matrix\n",
      "\n",
      "   14.1421         0\n",
      "         0    7.0711\n",
      "\n",
      "singular_value_1 =  14.142\n",
      "singular_value_2 =  7.0711\n"
     ]
    }
   ],
   "source": [
    "E\n",
    "singular_value_1 = E(1,1)\n",
    "singular_value_2 = E(2,2)"
   ]
  },
  {
   "cell_type": "markdown",
   "metadata": {},
   "source": [
    "Left signular values are \n",
    "\n"
   ]
  },
  {
   "cell_type": "code",
   "execution_count": 365,
   "metadata": {
    "collapsed": false,
    "scrolled": true
   },
   "outputs": [
    {
     "name": "stdout",
     "output_type": "stream",
     "text": [
      "l_1 =\n",
      "\n",
      "   0.70711\n",
      "   0.70711\n",
      "\n",
      "l_2 =\n",
      "\n",
      "   0.70711\n",
      "  -0.70711\n",
      "\n"
     ]
    }
   ],
   "source": [
    "l_1 = null(eye(2)*e_value(1) - A*A')\n",
    "l_2 = flip(null(eye(2)*e_value(2) - A*A'))"
   ]
  },
  {
   "cell_type": "markdown",
   "metadata": {},
   "source": [
    "Right singular values are\n"
   ]
  },
  {
   "cell_type": "code",
   "execution_count": 366,
   "metadata": {
    "collapsed": false
   },
   "outputs": [
    {
     "name": "stdout",
     "output_type": "stream",
     "text": [
      "r_1 =\n",
      "\n",
      "  -0.60000\n",
      "   0.80000\n",
      "\n",
      "r_2 =\n",
      "\n",
      "   0.70711\n",
      "  -0.70711\n",
      "\n"
     ]
    }
   ],
   "source": [
    "r_1 = null(eye(2)*e_value(1) - A'*A)\n",
    "r_2 = flip(null(eye(2)*e_value(2) - A*A'))"
   ]
  },
  {
   "cell_type": "markdown",
   "metadata": {},
   "source": [
    "### (c)\n",
    "1 norm of A is the maximum value of the absolute value sum of columns"
   ]
  },
  {
   "cell_type": "code",
   "execution_count": 367,
   "metadata": {
    "collapsed": false
   },
   "outputs": [
    {
     "name": "stdout",
     "output_type": "stream",
     "text": [
      "one_norm =  16\n"
     ]
    }
   ],
   "source": [
    "one_norm = max(abs(A(1,1))+abs(A(2,1)),abs(A(1,2))+abs(A(2,2)))"
   ]
  },
  {
   "cell_type": "code",
   "execution_count": 368,
   "metadata": {
    "collapsed": false
   },
   "outputs": [
    {
     "name": "stdout",
     "output_type": "stream",
     "text": [
      "eig_A =\n",
      "\n",
      "   200\n",
      "    50\n",
      "\n",
      "two_norm =  14.142\n"
     ]
    }
   ],
   "source": [
    "eig_A = eig_2_2(A'*A)\n",
    "\n",
    "two_norm = sqrt(max(abs(eig_A(1)),abs(eig_A(2))))"
   ]
  },
  {
   "cell_type": "code",
   "execution_count": 369,
   "metadata": {
    "collapsed": false
   },
   "outputs": [
    {
     "name": "stdout",
     "output_type": "stream",
     "text": [
      "infinity_norm =  15\n"
     ]
    }
   ],
   "source": [
    "infinity_norm =  max(abs(A(1,1))+abs(A(1,2)),abs(A(2,1))+abs(A(2,2)))"
   ]
  },
  {
   "cell_type": "code",
   "execution_count": 370,
   "metadata": {
    "collapsed": false
   },
   "outputs": [
    {
     "name": "stdout",
     "output_type": "stream",
     "text": [
      "frobenius_norm =  15.811\n"
     ]
    }
   ],
   "source": [
    "frobenius_norm =  sqrt(trace(A'*A))"
   ]
  },
  {
   "cell_type": "markdown",
   "metadata": {},
   "source": [
    "### (d)\n",
    "\n",
    "$A^-1 = (U\\Sigma V')^{-1}$\n",
    "\n",
    "Since $\\Sigma$ is a diagonal matrix  $\\dfrac{1}{\\Sigma} = \\Sigma^{-1}$\n",
    "\n",
    "$A^-1 = V\\Sigma^{-1} U'  $\n",
    "\n"
   ]
  },
  {
   "cell_type": "code",
   "execution_count": 371,
   "metadata": {
    "collapsed": false
   },
   "outputs": [
    {
     "name": "stdout",
     "output_type": "stream",
     "text": [
      "A_inverse =\n",
      "\n",
      "   0.050000  -0.110000\n",
      "   0.100000  -0.020000\n",
      "\n"
     ]
    }
   ],
   "source": [
    "A_inverse = V*E^(-1)*U'\n"
   ]
  },
  {
   "cell_type": "markdown",
   "metadata": {},
   "source": [
    "Let's double check calculation using octave's builtin method."
   ]
  },
  {
   "cell_type": "code",
   "execution_count": 372,
   "metadata": {
    "collapsed": false
   },
   "outputs": [
    {
     "name": "stdout",
     "output_type": "stream",
     "text": [
      "A_inverse =\n",
      "\n",
      "   0.050000  -0.110000\n",
      "   0.100000  -0.020000\n",
      "\n"
     ]
    }
   ],
   "source": [
    "A_inverse = inv(A)"
   ]
  },
  {
   "cell_type": "markdown",
   "metadata": {},
   "source": [
    "### (e)\n",
    "Finding eigenvalue of A is easy because, I have implement the function before"
   ]
  },
  {
   "cell_type": "code",
   "execution_count": 374,
   "metadata": {
    "collapsed": false
   },
   "outputs": [
    {
     "name": "stdout",
     "output_type": "stream",
     "text": [
      "eigenvalue_of_a =\n",
      "\n",
      "   1.5000 + 9.8869i\n",
      "   1.5000 - 9.8869i\n",
      "\n"
     ]
    }
   ],
   "source": [
    "A = [-2,11;-10,5];\n",
    "\n",
    "eigenvalue_of_a = eig_2_2(A)"
   ]
  },
  {
   "cell_type": "markdown",
   "metadata": {},
   "source": [
    "### (f)"
   ]
  },
  {
   "cell_type": "code",
   "execution_count": 382,
   "metadata": {
    "collapsed": false
   },
   "outputs": [
    {
     "name": "stdout",
     "output_type": "stream",
     "text": [
      "product_of_eigenvalues_of_A =  100.00\n",
      "det_A =  100\n",
      "abs_det_a =  100\n",
      "sigma_product = 0\n"
     ]
    }
   ],
   "source": [
    "product_of_eigenvalues_of_A = eigenvalue_of_a(1)*eigenvalue_of_a(2)\n",
    "det_A = det(A)\n",
    "abs_det_a = abs(det(A))\n",
    "sigma_product = sigma_vector(1)E(2)\n"
   ]
  },
  {
   "cell_type": "code",
   "execution_count": null,
   "metadata": {
    "collapsed": true
   },
   "outputs": [],
   "source": []
  }
 ],
 "metadata": {
  "kernelspec": {
   "display_name": "Octave",
   "language": "octave",
   "name": "octave"
  },
  "language_info": {
   "file_extension": ".m",
   "help_links": [
    {
     "text": "GNU Octave",
     "url": "https://www.gnu.org/software/octave/support.html"
    },
    {
     "text": "Octave Kernel",
     "url": "https://github.com/Calysto/octave_kernel"
    },
    {
     "text": "MetaKernel Magics",
     "url": "https://github.com/calysto/metakernel/blob/master/metakernel/magics/README.md"
    }
   ],
   "mimetype": "text/x-octave",
   "name": "octave",
   "version": "4.2.1"
  }
 },
 "nbformat": 4,
 "nbformat_minor": 2
}
