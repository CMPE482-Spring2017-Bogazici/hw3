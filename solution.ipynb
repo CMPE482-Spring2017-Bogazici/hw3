{
 "cells": [
  {
   "cell_type": "markdown",
   "metadata": {},
   "source": [
    "# Homework 3 - CMPE 482 Numerical Linear Algebra\n",
    "#### Author: Deniz Ekiz , 2016700051\n",
    "### Book: Trefethen, Bau.\n"
   ]
  },
  {
   "cell_type": "markdown",
   "metadata": {},
   "source": [
    "## 3.6.a"
   ]
  },
  {
   "cell_type": "markdown",
   "metadata": {},
   "source": [
    "Prove that $ \\|x\\|'$ is a norm such that \n",
    "$\n",
    "\\begin{eqnarray}\n",
    "\\|x\\|'= \\sup_{\\|y\\| = 1} { |y^*x|} .\n",
    "\\end{eqnarray}\n",
    "$\n",
    "A norm must satisfy the following conditions, for all vectors x and y and all scalars $\\alpha \\in  \\mathbb{C} $\n",
    "\n",
    "\n",
    "$\n",
    "(1)\\:  \\|x\\|  \\geq 0,\\: and \\: \\|x\\| = 0 \\:  only \\: if \\: x = 0, \\\\\n",
    "(2)\\: \\|x + y \\| \\leq \\|x\\| + \\|y\\|, \\\\\n",
    "(3)\\: \\|\\alpha x\\| = |\\alpha|\\|x\\|\n",
    "$"
   ]
  },
  {
   "cell_type": "markdown",
   "metadata": {},
   "source": [
    "Since , $ \\begin{eqnarray} \\|x\\|'= \\sup_{\\|y\\| = 1} |y^*x|  \\end{eqnarray} $.\n",
    "\n",
    "The result of absolute value is always $\\geq 0$,$\\\\$ and when $x = 0$, $|y^*0| = 0$ the result of the product also will be zero.\n",
    "\n",
    "Therefore $\\|x\\|'$ satisfies (1).  \n",
    "\n",
    "$ \\begin{eqnarray} \\|\\alpha x\\|'= \\sup_{\\|y\\| = 1} |\\alpha y^*x| = |\\alpha| . \\sup_{\\|y\\| = 1} |y^*x| \\end{eqnarray}  $.\n",
    "\n",
    "From, $|x||y| = |xy| $ Condition (3) is satisfied\n",
    "\n",
    "$ \\|x + z \\| \\leq \\|x\\| + \\|z\\| $\n",
    "\n",
    "$ |y^*x+ y^*z| \\leq |y^*x| + |y^*z| $\n",
    "\n",
    "Let's take the square of this equation:\n",
    "\n",
    "$ (y^*x)^2 + (y^*z)^2 + 2y^*xy^*z \\leq  (y^*x)^2 + (y^*z)^2 + 2|y^*x||y^*z| $\n",
    "\n",
    "Thus,\n",
    "\n",
    "$2y^*xy^*z \\leq  2|y^*x||y^*z| $\n",
    "\n",
    "Hence,\n",
    "\n",
    "$ \\|x\\|' $ satisfies all the conditions of the norm proposed by the (3.1) in the textbook\n"
   ]
  },
  {
   "cell_type": "markdown",
   "metadata": {},
   "source": [
    "## 4.5"
   ]
  },
  {
   "cell_type": "markdown",
   "metadata": {
    "collapsed": true
   },
   "source": [
    "Let A be  $A$ $\\in$ $ \\mathbb{R}^{mxn} $\n",
    "$A$ $=$ $U\\Sigma V^{-1}$\n",
    "\n",
    "$\\|A\\hat{x}\\|_2^2$ = $\\sup\\limits_{\\hat{x}\\neq0} \\dfrac{\\|A\\hat{x}\\|_2^2}{\\|\\hat{x}\\|_2^2} $= $\\sup\\limits_{\\hat{x}\\neq0} \\dfrac{\\hat{x}^*A^*Ax}{\\hat{x}^*\\hat{x}} $\n",
    "\n",
    "Let $\\hat{x} = x+yi$, if $y = 0$ $\\hat{x}$ is real. \n",
    "\n",
    "$\\dfrac{ \\|Ax\\|_2^2 + \\|Ay\\|_2^2}{\\|x\\|_2^2 + \\|y\\|_2^2} $\n",
    "\n",
    "$\\|A\\|_2^2\\|x\\|_2^2 + \\|A\\|_2^2\\|y\\|_2^2 =  \\|Ax\\|_2^2 + \\|Ay\\|_2^2\n",
    "$\n",
    "\n",
    "Hence, if   $A$ $\\in$ $ \\mathbb{R}^{mxn} $, it has a real SVD however, it might also have complex SVD."
   ]
  },
  {
   "cell_type": "markdown",
   "metadata": {},
   "source": [
    "## 5.3\n"
   ]
  },
  {
   "cell_type": "markdown",
   "metadata": {},
   "source": [
    "### (a)\n",
    "$A^*A$ and $\\Sigma^*\\Sigma$ has same n eigenvalues.\n",
    "\n",
    "The eigenvalues of the diagonal matrix  $\\Sigma^*\\Sigma$ are $\\sigma_1^2$,$\\sigma_2^2$ ,...,  $\\sigma_p^2$\n",
    "\n",
    "We need to calculate eigenvalues of $A^*A$. \n",
    "\n",
    "Then, take the square root of eigenvalues.\n",
    "\n",
    "$det(\\lambda I -A^*A) = 0 $\n",
    "Let $A^*A = M$\n"
   ]
  },
  {
   "cell_type": "code",
   "execution_count": 48,
   "metadata": {
    "collapsed": false
   },
   "outputs": [
    {
     "name": "stdout",
     "output_type": "stream",
     "text": [
      "A =\n",
      "\n",
      "   -2   11\n",
      "  -10    5\n",
      "\n",
      "M =\n",
      "\n",
      "   104   -72\n",
      "   -72   146\n",
      "\n",
      "e_value =\n",
      "\n",
      "   200\n",
      "    50\n",
      "\n",
      "sigma_vector =\n",
      "\n",
      "   14.1421\n",
      "    7.0711\n",
      "\n",
      "v =\n",
      "\n",
      "  -0.80000  -0.60000\n",
      "  -0.60000   0.80000\n",
      "\n",
      "d =\n",
      "\n",
      "Diagonal Matrix\n",
      "\n",
      "    50     0\n",
      "     0   200\n",
      "\n"
     ]
    }
   ],
   "source": [
    "A = [-2,11;-10,5];\n",
    "A\n",
    "M = A'*A\n",
    "# 2x2 Matrix -> eigenvalues\n",
    "# Finds the eigenvalues of 2x2 matrix\n",
    "# the values come from quadratic equation ax^2 +bx + c = 0\n",
    "function eigan =  eig_2_2(M)\n",
    "    a = 1;\n",
    "    b = -M(1,1) - M(2,2);\n",
    "    c = - M(1,2)*M(2,1) + M(1,1)*M(2,2);\n",
    "    e1 = (-b + sqrt(b^2 - 4*a*c))/(2*a);\n",
    "    e2 = (-b - sqrt(b^2 - 4*a*c))/(2*a);\n",
    "    eigan =  [e1;e2];\n",
    "endfunction\n",
    "e_value = eig_2_2(M)\n",
    "# square root of eigen values are equal to sigma\n",
    "sigma_vector = e_value.^0.5\n",
    "\n",
    "[v,d] = eig(M)"
   ]
  },
  {
   "cell_type": "markdown",
   "metadata": {
    "collapsed": false
   },
   "source": [
    "Eigenvectors of $A^*A$ and $AA^*$ are equal to U and V"
   ]
  },
  {
   "cell_type": "code",
   "execution_count": 49,
   "metadata": {
    "collapsed": false
   },
   "outputs": [
    {
     "name": "stdout",
     "output_type": "stream",
     "text": [
      "e_value =\n",
      "\n",
      "   200\n",
      "    50\n",
      "\n",
      "n_1 =\n",
      "\n",
      "   0.70711\n",
      "   0.70711\n",
      "\n",
      "n_2 =\n",
      "\n",
      "  -0.70711\n",
      "   0.70711\n",
      "\n",
      "U =\n",
      "\n",
      "   0.70711   0.70711\n",
      "   0.70711  -0.70711\n",
      "\n",
      "e_value =\n",
      "\n",
      "   200\n",
      "    50\n",
      "\n",
      "n_1 =\n",
      "\n",
      "  -0.60000\n",
      "   0.80000\n",
      "\n",
      "n_2 =\n",
      "\n",
      "   0.60000\n",
      "   0.80000\n",
      "\n",
      "V =\n",
      "\n",
      "  -0.60000   0.80000\n",
      "   0.80000   0.60000\n",
      "\n",
      "E =\n",
      "\n",
      "Diagonal Matrix\n",
      "\n",
      "   14.1421         0\n",
      "         0    7.0711\n",
      "\n"
     ]
    }
   ],
   "source": [
    "e_value = eig_2_2(A*A')\n",
    "U = eye(2);\n",
    "n_1 = sort(null(eye(2)*e_value(1) - A*A'))\n",
    "n_2 = sort(null(eye(2)*e_value(2) - A*A'))\n",
    "U(1,1) = n_1(1);\n",
    "U(2,1) = n_1(2);\n",
    "\n",
    "U(1,2) = n_2(2);\n",
    "U(2,2) = n_2(1)\n",
    "\n",
    "V = eye(2);\n",
    "e_value = eig_2_2(A'*A)\n",
    "n_1 = sort(null(eye(2)*e_value(1) - A'*A))\n",
    "n_2 = sort(null(eye(2)*e_value(2) - A'*A))\n",
    "V(1,1) = n_1(1);\n",
    "V(2,1) = n_1(2);\n",
    "V(1,2) = n_2(2);\n",
    "V(2,2) = n_2(1)\n",
    "\n",
    "\n",
    "\n",
    "E = eye(2);\n",
    "E(1,1) = sigma_vector(1);\n",
    "E(2,2) = sigma_vector(2)"
   ]
  },
  {
   "cell_type": "markdown",
   "metadata": {
    "collapsed": false
   },
   "source": [
    "Let's compute $U\\Sigma V^*$ to double check our results"
   ]
  },
  {
   "cell_type": "code",
   "execution_count": 50,
   "metadata": {
    "collapsed": false
   },
   "outputs": [
    {
     "name": "stdout",
     "output_type": "stream",
     "text": [
      "A =\n",
      "\n",
      "   -2.0000   11.0000\n",
      "  -10.0000    5.0000\n",
      "\n"
     ]
    }
   ],
   "source": [
    "A = U*E*V"
   ]
  },
  {
   "cell_type": "markdown",
   "metadata": {
    "collapsed": true
   },
   "source": [
    "### (b) \n",
    "Singular values of $A$ are the diagonal elements of $\\Sigma$"
   ]
  },
  {
   "cell_type": "code",
   "execution_count": 51,
   "metadata": {
    "collapsed": false
   },
   "outputs": [
    {
     "name": "stdout",
     "output_type": "stream",
     "text": [
      "E =\n",
      "\n",
      "Diagonal Matrix\n",
      "\n",
      "   14.1421         0\n",
      "         0    7.0711\n",
      "\n",
      "singular_value_1 =  14.142\n",
      "singular_value_2 =  7.0711\n"
     ]
    }
   ],
   "source": [
    "E\n",
    "singular_value_1 = E(1,1)\n",
    "singular_value_2 = E(2,2)"
   ]
  },
  {
   "cell_type": "markdown",
   "metadata": {},
   "source": [
    "Left signular values are \n",
    "\n"
   ]
  },
  {
   "cell_type": "code",
   "execution_count": 52,
   "metadata": {
    "collapsed": false,
    "scrolled": true
   },
   "outputs": [
    {
     "name": "stdout",
     "output_type": "stream",
     "text": [
      "l_1 =\n",
      "\n",
      "   0.70711\n",
      "   0.70711\n",
      "\n",
      "l_2 =\n",
      "\n",
      "   0.70711\n",
      "  -0.70711\n",
      "\n"
     ]
    }
   ],
   "source": [
    "l_1 = null(eye(2)*e_value(1) - A*A')\n",
    "l_2 = flip(null(eye(2)*e_value(2) - A*A'))"
   ]
  },
  {
   "cell_type": "markdown",
   "metadata": {},
   "source": [
    "Right singular values are\n"
   ]
  },
  {
   "cell_type": "code",
   "execution_count": 53,
   "metadata": {
    "collapsed": false
   },
   "outputs": [
    {
     "name": "stdout",
     "output_type": "stream",
     "text": [
      "r_1 =\n",
      "\n",
      "  -0.60000\n",
      "   0.80000\n",
      "\n",
      "r_2 =\n",
      "\n",
      "   0.70711\n",
      "  -0.70711\n",
      "\n"
     ]
    }
   ],
   "source": [
    "r_1 = null(eye(2)*e_value(1) - A'*A)\n",
    "r_2 = flip(null(eye(2)*e_value(2) - A*A'))"
   ]
  },
  {
   "cell_type": "markdown",
   "metadata": {},
   "source": [
    "Let $S$ be a unit ball in $\\mathbb{R}^2$ Plot S and AS."
   ]
  },
  {
   "cell_type": "code",
   "execution_count": 76,
   "metadata": {
    "collapsed": false
   },
   "outputs": [
    {
     "name": "stdout",
     "output_type": "stream",
     "text": [
      "r =  1\n",
      "r =  1\n"
     ]
    },
    {
     "data": {
      "image/svg+xml": [
       "<svg height=\"420px\" viewBox=\"0 0 560 420\" width=\"560px\" xmlns=\"http://www.w3.org/2000/svg\" xmlns:xlink=\"http://www.w3.org/1999/xlink\">\n",
       "\n",
       "<title>Gnuplot</title>\n",
       "<desc>Produced by GNUPLOT 5.0 patchlevel 5 </desc>\n",
       "\n",
       "<g id=\"gnuplot_canvas\">\n",
       "\n",
       "<rect fill=\"#ffffff\" height=\"420\" width=\"560\" x=\"0\" y=\"0\"/>\n",
       "<defs>\n",
       "\n",
       "\t<circle id=\"gpDot\" r=\"0.5\" stroke-width=\"0.5\"/>\n",
       "\t<path d=\"M-1,0 h2 M0,-1 v2\" id=\"gpPt0\" stroke=\"currentColor\" stroke-width=\"0.333\"/>\n",
       "\t<path d=\"M-1,-1 L1,1 M1,-1 L-1,1\" id=\"gpPt1\" stroke=\"currentColor\" stroke-width=\"0.333\"/>\n",
       "\t<path d=\"M-1,0 L1,0 M0,-1 L0,1 M-1,-1 L1,1 M-1,1 L1,-1\" id=\"gpPt2\" stroke=\"currentColor\" stroke-width=\"0.333\"/>\n",
       "\t<rect height=\"2\" id=\"gpPt3\" stroke=\"currentColor\" stroke-width=\"0.333\" width=\"2\" x=\"-1\" y=\"-1\"/>\n",
       "\t<rect fill=\"currentColor\" height=\"2\" id=\"gpPt4\" stroke=\"currentColor\" stroke-width=\"0.333\" width=\"2\" x=\"-1\" y=\"-1\"/>\n",
       "\t<circle cx=\"0\" cy=\"0\" id=\"gpPt5\" r=\"1\" stroke=\"currentColor\" stroke-width=\"0.333\"/>\n",
       "\t<use fill=\"currentColor\" id=\"gpPt6\" stroke=\"none\" xlink:href=\"#gpPt5\"/>\n",
       "\t<path d=\"M0,-1.33 L-1.33,0.67 L1.33,0.67 z\" id=\"gpPt7\" stroke=\"currentColor\" stroke-width=\"0.333\"/>\n",
       "\t<use fill=\"currentColor\" id=\"gpPt8\" stroke=\"none\" xlink:href=\"#gpPt7\"/>\n",
       "\t<use id=\"gpPt9\" stroke=\"currentColor\" transform=\"rotate(180)\" xlink:href=\"#gpPt7\"/>\n",
       "\t<use fill=\"currentColor\" id=\"gpPt10\" stroke=\"none\" xlink:href=\"#gpPt9\"/>\n",
       "\t<use id=\"gpPt11\" stroke=\"currentColor\" transform=\"rotate(45)\" xlink:href=\"#gpPt3\"/>\n",
       "\t<use fill=\"currentColor\" id=\"gpPt12\" stroke=\"none\" xlink:href=\"#gpPt11\"/>\n",
       "\t<path d=\"M0,1.330 L1.265,0.411 L0.782,-1.067 L-0.782,-1.076 L-1.265,0.411 z\" id=\"gpPt13\" stroke=\"currentColor\" stroke-width=\"0.333\"/>\n",
       "\t<use fill=\"currentColor\" id=\"gpPt14\" stroke=\"none\" xlink:href=\"#gpPt13\"/>\n",
       "\t<filter filterUnits=\"objectBoundingBox\" height=\"1\" id=\"textbox\" width=\"1\" x=\"0\" y=\"0\">\n",
       "\t  <feFlood flood-color=\"#FFFFFF\" flood-opacity=\"1\" result=\"bgnd\"/>\n",
       "\t  <feComposite in=\"SourceGraphic\" in2=\"bgnd\" operator=\"atop\"/>\n",
       "\t</filter>\n",
       "\t<filter filterUnits=\"objectBoundingBox\" height=\"1\" id=\"greybox\" width=\"1\" x=\"0\" y=\"0\">\n",
       "\t  <feFlood flood-color=\"lightgrey\" flood-opacity=\"1\" result=\"grey\"/>\n",
       "\t  <feComposite in=\"SourceGraphic\" in2=\"grey\" operator=\"atop\"/>\n",
       "\t</filter>\n",
       "</defs>\n",
       "<g color=\"#FFFFFF\" fill=\"none\" stroke=\"currentColor\" stroke-linecap=\"butt\" stroke-linejoin=\"miter\" stroke-width=\"1.00\">\n",
       "</g>\n",
       "<g color=\"black\" fill=\"none\" stroke=\"currentColor\" stroke-linecap=\"butt\" stroke-linejoin=\"miter\" stroke-width=\"1.00\">\n",
       "\t<g shape-rendering=\"crispEdges\" stroke=\"none\">\n",
       "\t\t<polygon fill=\"rgb(255, 255, 255)\" points=\"72.8,373.8 146.3,373.8 146.3,31.7 72.8,31.7 \"/>\n",
       "\t</g>\n",
       "</g>\n",
       "<g color=\"black\" fill=\"none\" stroke=\"currentColor\" stroke-linecap=\"butt\" stroke-linejoin=\"miter\" stroke-width=\"1.00\">\n",
       "\t<path d=\"M72.8,373.8 L81.2,373.8 M146.4,373.8 L138.0,373.8  \" stroke=\"rgb(  0,   0,   0)\"/>\t<g fill=\"rgb(38,38,38)\" font-family=\"Arial\" font-size=\"10.00\" stroke=\"none\" text-anchor=\"end\" transform=\"translate(67.2,377.1)\">\n",
       "\t\t<text><tspan font-family=\"Arial\">-1</tspan></text>\n",
       "\t</g>\n",
       "</g>\n",
       "<g color=\"black\" fill=\"none\" stroke=\"currentColor\" stroke-linecap=\"butt\" stroke-linejoin=\"miter\" stroke-width=\"1.00\">\n",
       "\t<path d=\"M72.8,288.2 L81.2,288.2 M146.4,288.2 L138.0,288.2  \" stroke=\"rgb(  0,   0,   0)\"/>\t<g fill=\"rgb(38,38,38)\" font-family=\"Arial\" font-size=\"10.00\" stroke=\"none\" text-anchor=\"end\" transform=\"translate(67.2,291.5)\">\n",
       "\t\t<text><tspan font-family=\"Arial\">-0.5</tspan></text>\n",
       "\t</g>\n",
       "</g>\n",
       "<g color=\"black\" fill=\"none\" stroke=\"currentColor\" stroke-linecap=\"butt\" stroke-linejoin=\"miter\" stroke-width=\"1.00\">\n",
       "\t<path d=\"M72.8,202.7 L81.2,202.7 M146.4,202.7 L138.0,202.7  \" stroke=\"rgb(  0,   0,   0)\"/>\t<g fill=\"rgb(38,38,38)\" font-family=\"Arial\" font-size=\"10.00\" stroke=\"none\" text-anchor=\"end\" transform=\"translate(67.2,206.0)\">\n",
       "\t\t<text><tspan font-family=\"Arial\">0</tspan></text>\n",
       "\t</g>\n",
       "</g>\n",
       "<g color=\"black\" fill=\"none\" stroke=\"currentColor\" stroke-linecap=\"butt\" stroke-linejoin=\"miter\" stroke-width=\"1.00\">\n",
       "\t<path d=\"M72.8,117.1 L81.2,117.1 M146.4,117.1 L138.0,117.1  \" stroke=\"rgb(  0,   0,   0)\"/>\t<g fill=\"rgb(38,38,38)\" font-family=\"Arial\" font-size=\"10.00\" stroke=\"none\" text-anchor=\"end\" transform=\"translate(67.2,120.4)\">\n",
       "\t\t<text><tspan font-family=\"Arial\">0.5</tspan></text>\n",
       "\t</g>\n",
       "</g>\n",
       "<g color=\"black\" fill=\"none\" stroke=\"currentColor\" stroke-linecap=\"butt\" stroke-linejoin=\"miter\" stroke-width=\"1.00\">\n",
       "\t<path d=\"M72.8,31.6 L81.2,31.6 M146.4,31.6 L138.0,31.6  \" stroke=\"rgb(  0,   0,   0)\"/>\t<g fill=\"rgb(38,38,38)\" font-family=\"Arial\" font-size=\"10.00\" stroke=\"none\" text-anchor=\"end\" transform=\"translate(67.2,34.9)\">\n",
       "\t\t<text><tspan font-family=\"Arial\">1</tspan></text>\n",
       "\t</g>\n",
       "</g>\n",
       "<g color=\"black\" fill=\"none\" stroke=\"currentColor\" stroke-linecap=\"butt\" stroke-linejoin=\"miter\" stroke-width=\"1.00\">\n",
       "\t<path d=\"M72.8,373.8 L72.8,365.4 M72.8,31.6 L72.8,40.0  \" stroke=\"rgb(  0,   0,   0)\"/>\t<g fill=\"rgb(38,38,38)\" font-family=\"Arial\" font-size=\"10.00\" stroke=\"none\" text-anchor=\"middle\" transform=\"translate(72.8,389.1)\">\n",
       "\t\t<text><tspan font-family=\"Arial\">-1</tspan></text>\n",
       "\t</g>\n",
       "</g>\n",
       "<g color=\"black\" fill=\"none\" stroke=\"currentColor\" stroke-linecap=\"butt\" stroke-linejoin=\"miter\" stroke-width=\"1.00\">\n",
       "\t<path d=\"M91.2,373.8 L91.2,365.4 M91.2,31.6 L91.2,40.0  \" stroke=\"rgb(  0,   0,   0)\"/>\t<g fill=\"rgb(38,38,38)\" font-family=\"Arial\" font-size=\"10.00\" stroke=\"none\" text-anchor=\"middle\" transform=\"translate(91.2,389.1)\">\n",
       "\t\t<text><tspan font-family=\"Arial\">-0.5</tspan></text>\n",
       "\t</g>\n",
       "</g>\n",
       "<g color=\"black\" fill=\"none\" stroke=\"currentColor\" stroke-linecap=\"butt\" stroke-linejoin=\"miter\" stroke-width=\"1.00\">\n",
       "\t<path d=\"M109.6,373.8 L109.6,365.4 M109.6,31.6 L109.6,40.0  \" stroke=\"rgb(  0,   0,   0)\"/>\t<g fill=\"rgb(38,38,38)\" font-family=\"Arial\" font-size=\"10.00\" stroke=\"none\" text-anchor=\"middle\" transform=\"translate(109.6,389.1)\">\n",
       "\t\t<text><tspan font-family=\"Arial\">0</tspan></text>\n",
       "\t</g>\n",
       "</g>\n",
       "<g color=\"black\" fill=\"none\" stroke=\"currentColor\" stroke-linecap=\"butt\" stroke-linejoin=\"miter\" stroke-width=\"1.00\">\n",
       "\t<path d=\"M128.0,373.8 L128.0,365.4 M128.0,31.6 L128.0,40.0  \" stroke=\"rgb(  0,   0,   0)\"/>\t<g fill=\"rgb(38,38,38)\" font-family=\"Arial\" font-size=\"10.00\" stroke=\"none\" text-anchor=\"middle\" transform=\"translate(128.0,389.1)\">\n",
       "\t\t<text><tspan font-family=\"Arial\">0.5</tspan></text>\n",
       "\t</g>\n",
       "</g>\n",
       "<g color=\"black\" fill=\"none\" stroke=\"currentColor\" stroke-linecap=\"butt\" stroke-linejoin=\"miter\" stroke-width=\"1.00\">\n",
       "\t<path d=\"M146.4,373.8 L146.4,365.4 M146.4,31.6 L146.4,40.0  \" stroke=\"rgb(  0,   0,   0)\"/>\t<g fill=\"rgb(38,38,38)\" font-family=\"Arial\" font-size=\"10.00\" stroke=\"none\" text-anchor=\"middle\" transform=\"translate(146.4,389.1)\">\n",
       "\t\t<text><tspan font-family=\"Arial\">1</tspan></text>\n",
       "\t</g>\n",
       "</g>\n",
       "<g color=\"black\" fill=\"none\" stroke=\"currentColor\" stroke-linecap=\"butt\" stroke-linejoin=\"miter\" stroke-width=\"1.00\">\n",
       "</g>\n",
       "<g color=\"black\" fill=\"none\" stroke=\"currentColor\" stroke-linecap=\"butt\" stroke-linejoin=\"miter\" stroke-width=\"1.00\">\n",
       "\t<g fill=\"rgb(0,0,0)\" font-family=\":Bold\" font-size=\"11.00\" stroke=\"none\" text-anchor=\"middle\" transform=\"translate(109.6,12.7)\">\n",
       "\t\t<text><tspan font-family=\"\" font-weight=\"bold\">I</tspan></text>\n",
       "\t</g>\n",
       "</g>\n",
       "<g color=\"black\" fill=\"none\" stroke=\"currentColor\" stroke-linecap=\"butt\" stroke-linejoin=\"miter\" stroke-width=\"1.00\">\n",
       "</g>\n",
       "\t<g id=\"gnuplot_plot_1a\"><title>gnuplot_plot_1a</title>\n",
       "<g color=\"#FFFFFF\" fill=\"none\" stroke=\"currentColor\" stroke-linecap=\"butt\" stroke-linejoin=\"miter\" stroke-width=\"0.50\">\n",
       "</g>\n",
       "<g color=\"black\" fill=\"none\" stroke=\"currentColor\" stroke-linecap=\"butt\" stroke-linejoin=\"miter\" stroke-width=\"0.50\">\n",
       "\t<path d=\"M109.6,202.7 L87.5,65.8  \" stroke=\"rgb(  0, 114, 189)\"/></g>\n",
       "\t</g>\n",
       "\t<g id=\"gnuplot_plot_2a\"><title>gnuplot_plot_2a</title>\n",
       "<g color=\"black\" fill=\"none\" stroke=\"currentColor\" stroke-linecap=\"butt\" stroke-linejoin=\"miter\" stroke-width=\"0.50\">\n",
       "\t<path d=\"M98.2,100.0 L87.5,65.8 L91.6,122.9  \" stroke=\"rgb(  0, 114, 189)\"/></g>\n",
       "\t</g>\n",
       "\t<g id=\"gnuplot_plot_3a\"><title>gnuplot_plot_3a</title>\n",
       "<g color=\"black\" fill=\"none\" stroke=\"currentColor\" stroke-linecap=\"butt\" stroke-linejoin=\"miter\" stroke-width=\"0.50\">\n",
       "\t<path d=\"M109.6,202.7 L139.0,100.0  \" stroke=\"rgb(119, 172,  48)\"/></g>\n",
       "\t</g>\n",
       "\t<g id=\"gnuplot_plot_4a\"><title>gnuplot_plot_4a</title>\n",
       "<g color=\"black\" fill=\"none\" stroke=\"currentColor\" stroke-linecap=\"butt\" stroke-linejoin=\"miter\" stroke-width=\"0.50\">\n",
       "\t<path d=\"M131.7,149.5 L139.0,100.0 L126.8,119.1  \" stroke=\"rgb(119, 172,  48)\"/></g>\n",
       "\t</g>\n",
       "\t<g id=\"gnuplot_plot_5a\"><title>gnuplot_plot_5a</title>\n",
       "<g color=\"black\" fill=\"none\" stroke=\"currentColor\" stroke-linecap=\"butt\" stroke-linejoin=\"miter\" stroke-width=\"0.50\">\n",
       "\t<path d=\"M109.6,31.6 L111.9,31.9 L114.3,33.0 L116.6,34.7 L118.8,37.1 L121.1,40.1 L123.3,43.9 L125.4,48.2   L127.5,53.2 L129.5,58.8 L131.4,64.9 L133.3,71.6 L135.0,78.9 L136.6,86.6 L138.2,94.8 L139.6,103.5   L140.9,112.5 L142.0,121.9 L143.1,131.6 L144.0,141.6 L144.7,151.9 L145.4,162.4 L145.8,173.0 L146.2,183.7   L146.4,194.6 L146.4,205.4 L146.3,216.3 L146.0,227.1 L145.6,237.7 L145.1,248.3 L144.4,258.7 L143.5,268.8   L142.6,278.7 L141.5,288.3 L140.2,297.5 L138.9,306.3 L137.4,314.7 L135.8,322.7 L134.1,330.2 L132.3,337.2   L130.5,343.6 L128.5,349.5 L126.5,354.8 L124.4,359.4 L122.2,363.5 L120.0,366.9 L117.7,369.6 L115.4,371.7   L113.1,373.0 L110.8,373.7 L108.4,373.7 L106.1,373.0 L103.8,371.7 L101.5,369.6 L99.2,366.9 L97.0,363.5   L94.8,359.4 L92.7,354.8 L90.7,349.5 L88.7,343.6 L86.9,337.2 L85.1,330.2 L83.4,322.7 L81.8,314.7   L80.3,306.3 L79.0,297.5 L77.7,288.2 L76.6,278.7 L75.7,268.8 L74.8,258.7 L74.1,248.3 L73.6,237.7   L73.2,227.1 L72.9,216.3 L72.8,205.4 L72.8,194.6 L73.0,183.7 L73.4,173.0 L73.8,162.4 L74.5,151.9   L75.2,141.6 L76.1,131.6 L77.2,121.9 L78.3,112.5 L79.6,103.5 L81.0,94.8 L82.6,86.6 L84.2,78.9   L85.9,71.6 L87.8,64.9 L89.7,58.8 L91.7,53.2 L93.8,48.2 L95.9,43.9 L98.1,40.1 L100.4,37.1   L102.6,34.7 L104.9,33.0 L107.3,31.9 L109.6,31.6  \" stroke=\"rgb(217,  83,  25)\"/></g>\n",
       "\t</g>\n",
       "<g color=\"#FFFFFF\" fill=\"none\" stroke=\"rgb(217,  83,  25)\" stroke-linecap=\"butt\" stroke-linejoin=\"miter\" stroke-width=\"2.00\">\n",
       "</g>\n",
       "<g color=\"black\" fill=\"none\" stroke=\"currentColor\" stroke-linecap=\"butt\" stroke-linejoin=\"miter\" stroke-width=\"2.00\">\n",
       "</g>\n",
       "<g color=\"black\" fill=\"none\" stroke=\"black\" stroke-linecap=\"butt\" stroke-linejoin=\"miter\" stroke-width=\"0.50\">\n",
       "</g>\n",
       "<g color=\"black\" fill=\"none\" stroke=\"currentColor\" stroke-linecap=\"butt\" stroke-linejoin=\"miter\" stroke-width=\"0.50\">\n",
       "\t<path d=\"M72.8,373.8 L146.4,373.8  \" stroke=\"rgb( 38,  38,  38)\"/></g>\n",
       "<g color=\"black\" fill=\"none\" stroke=\"currentColor\" stroke-linecap=\"butt\" stroke-linejoin=\"miter\" stroke-width=\"0.50\">\n",
       "\t<path d=\"M72.8,31.6 L146.4,31.6  \" stroke=\"rgb( 38,  38,  38)\"/></g>\n",
       "<g color=\"black\" fill=\"none\" stroke=\"currentColor\" stroke-linecap=\"butt\" stroke-linejoin=\"miter\" stroke-width=\"0.50\">\n",
       "\t<path d=\"M72.8,373.8 L72.8,31.6  \" stroke=\"rgb( 38,  38,  38)\"/></g>\n",
       "<g color=\"black\" fill=\"none\" stroke=\"currentColor\" stroke-linecap=\"butt\" stroke-linejoin=\"miter\" stroke-width=\"0.50\">\n",
       "\t<path d=\"M146.4,373.8 L146.4,31.6  \" stroke=\"rgb( 38,  38,  38)\"/></g>\n",
       "<g color=\"black\" fill=\"none\" stroke=\"rgb( 38,  38,  38)\" stroke-linecap=\"butt\" stroke-linejoin=\"miter\" stroke-width=\"1.00\">\n",
       "</g>\n",
       "<g color=\"black\" fill=\"none\" stroke=\"currentColor\" stroke-linecap=\"butt\" stroke-linejoin=\"miter\" stroke-width=\"1.00\">\n",
       "</g>\n",
       "<g color=\"black\" fill=\"none\" stroke=\"currentColor\" stroke-linecap=\"butt\" stroke-linejoin=\"miter\" stroke-width=\"1.00\">\n",
       "\t<g shape-rendering=\"crispEdges\" stroke=\"none\">\n",
       "\t\t<polygon fill=\"rgb(255, 255, 255)\" points=\"192.9,373.8 266.4,373.8 266.4,31.7 192.9,31.7 \"/>\n",
       "\t</g>\n",
       "</g>\n",
       "<g color=\"black\" fill=\"none\" stroke=\"currentColor\" stroke-linecap=\"butt\" stroke-linejoin=\"miter\" stroke-width=\"1.00\">\n",
       "\t<path d=\"M192.9,373.8 L201.3,373.8 M266.5,373.8 L258.1,373.8  \" stroke=\"rgb(  0,   0,   0)\"/>\t<g fill=\"rgb(38,38,38)\" font-family=\"Arial\" font-size=\"10.00\" stroke=\"none\" text-anchor=\"end\" transform=\"translate(187.3,377.1)\">\n",
       "\t\t<text><tspan font-family=\"Arial\">-1</tspan></text>\n",
       "\t</g>\n",
       "</g>\n",
       "<g color=\"black\" fill=\"none\" stroke=\"currentColor\" stroke-linecap=\"butt\" stroke-linejoin=\"miter\" stroke-width=\"1.00\">\n",
       "\t<path d=\"M192.9,288.2 L201.3,288.2 M266.5,288.2 L258.1,288.2  \" stroke=\"rgb(  0,   0,   0)\"/>\t<g fill=\"rgb(38,38,38)\" font-family=\"Arial\" font-size=\"10.00\" stroke=\"none\" text-anchor=\"end\" transform=\"translate(187.3,291.5)\">\n",
       "\t\t<text><tspan font-family=\"Arial\">-0.5</tspan></text>\n",
       "\t</g>\n",
       "</g>\n",
       "<g color=\"black\" fill=\"none\" stroke=\"currentColor\" stroke-linecap=\"butt\" stroke-linejoin=\"miter\" stroke-width=\"1.00\">\n",
       "\t<path d=\"M192.9,202.7 L201.3,202.7 M266.5,202.7 L258.1,202.7  \" stroke=\"rgb(  0,   0,   0)\"/>\t<g fill=\"rgb(38,38,38)\" font-family=\"Arial\" font-size=\"10.00\" stroke=\"none\" text-anchor=\"end\" transform=\"translate(187.3,206.0)\">\n",
       "\t\t<text><tspan font-family=\"Arial\">0</tspan></text>\n",
       "\t</g>\n",
       "</g>\n",
       "<g color=\"black\" fill=\"none\" stroke=\"currentColor\" stroke-linecap=\"butt\" stroke-linejoin=\"miter\" stroke-width=\"1.00\">\n",
       "\t<path d=\"M192.9,117.1 L201.3,117.1 M266.5,117.1 L258.1,117.1  \" stroke=\"rgb(  0,   0,   0)\"/>\t<g fill=\"rgb(38,38,38)\" font-family=\"Arial\" font-size=\"10.00\" stroke=\"none\" text-anchor=\"end\" transform=\"translate(187.3,120.4)\">\n",
       "\t\t<text><tspan font-family=\"Arial\">0.5</tspan></text>\n",
       "\t</g>\n",
       "</g>\n",
       "<g color=\"black\" fill=\"none\" stroke=\"currentColor\" stroke-linecap=\"butt\" stroke-linejoin=\"miter\" stroke-width=\"1.00\">\n",
       "\t<path d=\"M192.9,31.6 L201.3,31.6 M266.5,31.6 L258.1,31.6  \" stroke=\"rgb(  0,   0,   0)\"/>\t<g fill=\"rgb(38,38,38)\" font-family=\"Arial\" font-size=\"10.00\" stroke=\"none\" text-anchor=\"end\" transform=\"translate(187.3,34.9)\">\n",
       "\t\t<text><tspan font-family=\"Arial\">1</tspan></text>\n",
       "\t</g>\n",
       "</g>\n",
       "<g color=\"black\" fill=\"none\" stroke=\"currentColor\" stroke-linecap=\"butt\" stroke-linejoin=\"miter\" stroke-width=\"1.00\">\n",
       "\t<path d=\"M192.9,373.8 L192.9,365.4 M192.9,31.6 L192.9,40.0  \" stroke=\"rgb(  0,   0,   0)\"/>\t<g fill=\"rgb(38,38,38)\" font-family=\"Arial\" font-size=\"10.00\" stroke=\"none\" text-anchor=\"middle\" transform=\"translate(192.9,389.1)\">\n",
       "\t\t<text><tspan font-family=\"Arial\">-1</tspan></text>\n",
       "\t</g>\n",
       "</g>\n",
       "<g color=\"black\" fill=\"none\" stroke=\"currentColor\" stroke-linecap=\"butt\" stroke-linejoin=\"miter\" stroke-width=\"1.00\">\n",
       "\t<path d=\"M211.3,373.8 L211.3,365.4 M211.3,31.6 L211.3,40.0  \" stroke=\"rgb(  0,   0,   0)\"/>\t<g fill=\"rgb(38,38,38)\" font-family=\"Arial\" font-size=\"10.00\" stroke=\"none\" text-anchor=\"middle\" transform=\"translate(211.3,389.1)\">\n",
       "\t\t<text><tspan font-family=\"Arial\">-0.5</tspan></text>\n",
       "\t</g>\n",
       "</g>\n",
       "<g color=\"black\" fill=\"none\" stroke=\"currentColor\" stroke-linecap=\"butt\" stroke-linejoin=\"miter\" stroke-width=\"1.00\">\n",
       "\t<path d=\"M229.7,373.8 L229.7,365.4 M229.7,31.6 L229.7,40.0  \" stroke=\"rgb(  0,   0,   0)\"/>\t<g fill=\"rgb(38,38,38)\" font-family=\"Arial\" font-size=\"10.00\" stroke=\"none\" text-anchor=\"middle\" transform=\"translate(229.7,389.1)\">\n",
       "\t\t<text><tspan font-family=\"Arial\">0</tspan></text>\n",
       "\t</g>\n",
       "</g>\n",
       "<g color=\"black\" fill=\"none\" stroke=\"currentColor\" stroke-linecap=\"butt\" stroke-linejoin=\"miter\" stroke-width=\"1.00\">\n",
       "\t<path d=\"M248.1,373.8 L248.1,365.4 M248.1,31.6 L248.1,40.0  \" stroke=\"rgb(  0,   0,   0)\"/>\t<g fill=\"rgb(38,38,38)\" font-family=\"Arial\" font-size=\"10.00\" stroke=\"none\" text-anchor=\"middle\" transform=\"translate(248.1,389.1)\">\n",
       "\t\t<text><tspan font-family=\"Arial\">0.5</tspan></text>\n",
       "\t</g>\n",
       "</g>\n",
       "<g color=\"black\" fill=\"none\" stroke=\"currentColor\" stroke-linecap=\"butt\" stroke-linejoin=\"miter\" stroke-width=\"1.00\">\n",
       "\t<path d=\"M266.5,373.8 L266.5,365.4 M266.5,31.6 L266.5,40.0  \" stroke=\"rgb(  0,   0,   0)\"/>\t<g fill=\"rgb(38,38,38)\" font-family=\"Arial\" font-size=\"10.00\" stroke=\"none\" text-anchor=\"middle\" transform=\"translate(266.5,389.1)\">\n",
       "\t\t<text><tspan font-family=\"Arial\">1</tspan></text>\n",
       "\t</g>\n",
       "</g>\n",
       "<g color=\"black\" fill=\"none\" stroke=\"currentColor\" stroke-linecap=\"butt\" stroke-linejoin=\"miter\" stroke-width=\"1.00\">\n",
       "</g>\n",
       "<g color=\"black\" fill=\"none\" stroke=\"currentColor\" stroke-linecap=\"butt\" stroke-linejoin=\"miter\" stroke-width=\"1.00\">\n",
       "\t<g fill=\"rgb(0,0,0)\" font-family=\":Bold\" font-size=\"11.00\" stroke=\"none\" text-anchor=\"middle\" transform=\"translate(229.7,12.7)\">\n",
       "\t\t<text><tspan font-family=\"\" font-weight=\"bold\">V'I</tspan></text>\n",
       "\t</g>\n",
       "</g>\n",
       "<g color=\"black\" fill=\"none\" stroke=\"currentColor\" stroke-linecap=\"butt\" stroke-linejoin=\"miter\" stroke-width=\"1.00\">\n",
       "</g>\n",
       "\t<g id=\"gnuplot_plot_1b\"><title>gnuplot_plot_1b</title>\n",
       "<g color=\"#FFFFFF\" fill=\"none\" stroke=\"currentColor\" stroke-linecap=\"butt\" stroke-linejoin=\"miter\" stroke-width=\"0.50\">\n",
       "</g>\n",
       "<g color=\"black\" fill=\"none\" stroke=\"currentColor\" stroke-linecap=\"butt\" stroke-linejoin=\"miter\" stroke-width=\"0.50\">\n",
       "\t<path d=\"M259.1,100.0 L257.7,91.6 L256.1,83.5 L254.4,76.0 L252.7,69.0 L250.8,62.5 L248.8,56.5 L246.8,51.2   L244.7,46.4 L242.5,42.3 L240.3,38.9 L238.1,36.1 L235.8,33.9 L233.5,32.5 L231.1,31.7 L228.8,31.7   L226.5,32.3 L224.1,33.6 L221.8,35.5 L219.6,38.2 L217.4,41.5 L215.2,45.5 L213.1,50.1 L211.0,55.3   L209.0,61.1 L207.2,67.5 L205.4,74.4 L203.7,81.8 L202.1,89.7 L200.6,98.1 L199.2,106.9 L198.0,116.1   L196.8,125.6 L195.9,135.5 L195.0,145.6 L194.3,155.9 L193.7,166.5 L193.3,177.2 L193.0,187.9 L192.9,198.8   L192.9,209.6 L193.1,220.5 L193.4,231.2 L193.9,241.9 L194.5,252.4 L195.2,262.6 L196.1,272.7 L197.1,282.4   L198.3,291.9 L199.6,301.0 L201.0,309.7 L202.5,317.9 L204.1,325.7 L205.8,333.0 L207.7,339.8 L209.6,346.0   L211.6,351.6 L213.7,356.7 L215.8,361.1 L218.0,364.9 L220.2,368.0 L222.5,370.5 L224.8,372.3 L227.1,373.4   L229.4,373.8 L231.8,373.5 L234.1,372.6 L236.4,370.9 L238.7,368.6 L240.9,365.6 L243.1,362.0 L245.3,357.7   L247.4,352.8 L249.4,347.3 L251.3,341.2 L253.2,334.5 L254.9,327.4 L256.6,319.7 L258.1,311.5 L259.5,302.9   L260.8,293.9 L262.0,284.6 L263.1,274.9 L264.0,264.9 L264.8,254.7 L265.4,244.2 L265.9,233.6 L266.2,222.9   L266.4,212.0 L266.5,201.2 L266.4,190.3 L266.2,179.5 L265.8,168.8 L265.2,158.3 L264.6,147.9 L263.7,137.7   L262.8,127.8 L261.7,118.2 L260.5,108.9 L259.1,100.0  \" stroke=\"rgb(  0, 114, 189)\"/></g>\n",
       "\t</g>\n",
       "<g color=\"#FFFFFF\" fill=\"none\" stroke=\"rgb(  0, 114, 189)\" stroke-linecap=\"butt\" stroke-linejoin=\"miter\" stroke-width=\"2.00\">\n",
       "</g>\n",
       "<g color=\"black\" fill=\"none\" stroke=\"currentColor\" stroke-linecap=\"butt\" stroke-linejoin=\"miter\" stroke-width=\"2.00\">\n",
       "</g>\n",
       "<g color=\"black\" fill=\"none\" stroke=\"black\" stroke-linecap=\"butt\" stroke-linejoin=\"miter\" stroke-width=\"0.50\">\n",
       "</g>\n",
       "<g color=\"black\" fill=\"none\" stroke=\"currentColor\" stroke-linecap=\"butt\" stroke-linejoin=\"miter\" stroke-width=\"0.50\">\n",
       "\t<path d=\"M192.9,373.8 L266.5,373.8  \" stroke=\"rgb( 38,  38,  38)\"/></g>\n",
       "<g color=\"black\" fill=\"none\" stroke=\"currentColor\" stroke-linecap=\"butt\" stroke-linejoin=\"miter\" stroke-width=\"0.50\">\n",
       "\t<path d=\"M192.9,31.6 L266.5,31.6  \" stroke=\"rgb( 38,  38,  38)\"/></g>\n",
       "<g color=\"black\" fill=\"none\" stroke=\"currentColor\" stroke-linecap=\"butt\" stroke-linejoin=\"miter\" stroke-width=\"0.50\">\n",
       "\t<path d=\"M192.9,373.8 L192.9,31.6  \" stroke=\"rgb( 38,  38,  38)\"/></g>\n",
       "<g color=\"black\" fill=\"none\" stroke=\"currentColor\" stroke-linecap=\"butt\" stroke-linejoin=\"miter\" stroke-width=\"0.50\">\n",
       "\t<path d=\"M266.5,373.8 L266.5,31.6  \" stroke=\"rgb( 38,  38,  38)\"/></g>\n",
       "<g color=\"black\" fill=\"none\" stroke=\"rgb( 38,  38,  38)\" stroke-linecap=\"butt\" stroke-linejoin=\"miter\" stroke-width=\"1.00\">\n",
       "</g>\n",
       "<g color=\"black\" fill=\"none\" stroke=\"currentColor\" stroke-linecap=\"butt\" stroke-linejoin=\"miter\" stroke-width=\"1.00\">\n",
       "</g>\n",
       "<g color=\"black\" fill=\"none\" stroke=\"currentColor\" stroke-linecap=\"butt\" stroke-linejoin=\"miter\" stroke-width=\"1.00\">\n",
       "\t<g shape-rendering=\"crispEdges\" stroke=\"none\">\n",
       "\t\t<polygon fill=\"rgb(255, 255, 255)\" points=\"313.0,373.8 386.5,373.8 386.5,31.7 313.0,31.7 \"/>\n",
       "\t</g>\n",
       "</g>\n",
       "<g color=\"black\" fill=\"none\" stroke=\"currentColor\" stroke-linecap=\"butt\" stroke-linejoin=\"miter\" stroke-width=\"1.00\">\n",
       "\t<path d=\"M313.0,373.8 L321.4,373.8 M386.6,373.8 L378.2,373.8  \" stroke=\"rgb(  0,   0,   0)\"/>\t<g fill=\"rgb(38,38,38)\" font-family=\"Arial\" font-size=\"10.00\" stroke=\"none\" text-anchor=\"end\" transform=\"translate(307.4,377.1)\">\n",
       "\t\t<text><tspan font-family=\"Arial\">-10</tspan></text>\n",
       "\t</g>\n",
       "</g>\n",
       "<g color=\"black\" fill=\"none\" stroke=\"currentColor\" stroke-linecap=\"butt\" stroke-linejoin=\"miter\" stroke-width=\"1.00\">\n",
       "\t<path d=\"M313.0,288.2 L321.4,288.2 M386.6,288.2 L378.2,288.2  \" stroke=\"rgb(  0,   0,   0)\"/>\t<g fill=\"rgb(38,38,38)\" font-family=\"Arial\" font-size=\"10.00\" stroke=\"none\" text-anchor=\"end\" transform=\"translate(307.4,291.5)\">\n",
       "\t\t<text><tspan font-family=\"Arial\">-5</tspan></text>\n",
       "\t</g>\n",
       "</g>\n",
       "<g color=\"black\" fill=\"none\" stroke=\"currentColor\" stroke-linecap=\"butt\" stroke-linejoin=\"miter\" stroke-width=\"1.00\">\n",
       "\t<path d=\"M313.0,202.7 L321.4,202.7 M386.6,202.7 L378.2,202.7  \" stroke=\"rgb(  0,   0,   0)\"/>\t<g fill=\"rgb(38,38,38)\" font-family=\"Arial\" font-size=\"10.00\" stroke=\"none\" text-anchor=\"end\" transform=\"translate(307.4,206.0)\">\n",
       "\t\t<text><tspan font-family=\"Arial\">0</tspan></text>\n",
       "\t</g>\n",
       "</g>\n",
       "<g color=\"black\" fill=\"none\" stroke=\"currentColor\" stroke-linecap=\"butt\" stroke-linejoin=\"miter\" stroke-width=\"1.00\">\n",
       "\t<path d=\"M313.0,117.1 L321.4,117.1 M386.6,117.1 L378.2,117.1  \" stroke=\"rgb(  0,   0,   0)\"/>\t<g fill=\"rgb(38,38,38)\" font-family=\"Arial\" font-size=\"10.00\" stroke=\"none\" text-anchor=\"end\" transform=\"translate(307.4,120.4)\">\n",
       "\t\t<text><tspan font-family=\"Arial\">5</tspan></text>\n",
       "\t</g>\n",
       "</g>\n",
       "<g color=\"black\" fill=\"none\" stroke=\"currentColor\" stroke-linecap=\"butt\" stroke-linejoin=\"miter\" stroke-width=\"1.00\">\n",
       "\t<path d=\"M313.0,31.6 L321.4,31.6 M386.6,31.6 L378.2,31.6  \" stroke=\"rgb(  0,   0,   0)\"/>\t<g fill=\"rgb(38,38,38)\" font-family=\"Arial\" font-size=\"10.00\" stroke=\"none\" text-anchor=\"end\" transform=\"translate(307.4,34.9)\">\n",
       "\t\t<text><tspan font-family=\"Arial\">10</tspan></text>\n",
       "\t</g>\n",
       "</g>\n",
       "<g color=\"black\" fill=\"none\" stroke=\"currentColor\" stroke-linecap=\"butt\" stroke-linejoin=\"miter\" stroke-width=\"1.00\">\n",
       "\t<path d=\"M313.0,373.8 L313.0,365.4 M313.0,31.6 L313.0,40.0  \" stroke=\"rgb(  0,   0,   0)\"/>\t<g fill=\"rgb(38,38,38)\" font-family=\"Arial\" font-size=\"10.00\" stroke=\"none\" text-anchor=\"middle\" transform=\"translate(313.0,389.1)\">\n",
       "\t\t<text><tspan font-family=\"Arial\">-15</tspan></text>\n",
       "\t</g>\n",
       "</g>\n",
       "<g color=\"black\" fill=\"none\" stroke=\"currentColor\" stroke-linecap=\"butt\" stroke-linejoin=\"miter\" stroke-width=\"1.00\">\n",
       "\t<path d=\"M325.3,373.8 L325.3,365.4 M325.3,31.6 L325.3,40.0  \" stroke=\"rgb(  0,   0,   0)\"/>\t<g fill=\"rgb(38,38,38)\" font-family=\"Arial\" font-size=\"10.00\" stroke=\"none\" text-anchor=\"middle\" transform=\"translate(325.3,389.1)\">\n",
       "\t\t<text><tspan font-family=\"Arial\">-10</tspan></text>\n",
       "\t</g>\n",
       "</g>\n",
       "<g color=\"black\" fill=\"none\" stroke=\"currentColor\" stroke-linecap=\"butt\" stroke-linejoin=\"miter\" stroke-width=\"1.00\">\n",
       "\t<path d=\"M337.5,373.8 L337.5,365.4 M337.5,31.6 L337.5,40.0  \" stroke=\"rgb(  0,   0,   0)\"/>\t<g fill=\"rgb(38,38,38)\" font-family=\"Arial\" font-size=\"10.00\" stroke=\"none\" text-anchor=\"middle\" transform=\"translate(337.5,389.1)\">\n",
       "\t\t<text><tspan font-family=\"Arial\">-5</tspan></text>\n",
       "\t</g>\n",
       "</g>\n",
       "<g color=\"black\" fill=\"none\" stroke=\"currentColor\" stroke-linecap=\"butt\" stroke-linejoin=\"miter\" stroke-width=\"1.00\">\n",
       "\t<path d=\"M349.8,373.8 L349.8,365.4 M349.8,31.6 L349.8,40.0  \" stroke=\"rgb(  0,   0,   0)\"/>\t<g fill=\"rgb(38,38,38)\" font-family=\"Arial\" font-size=\"10.00\" stroke=\"none\" text-anchor=\"middle\" transform=\"translate(349.8,389.1)\">\n",
       "\t\t<text><tspan font-family=\"Arial\">0</tspan></text>\n",
       "\t</g>\n",
       "</g>\n",
       "<g color=\"black\" fill=\"none\" stroke=\"currentColor\" stroke-linecap=\"butt\" stroke-linejoin=\"miter\" stroke-width=\"1.00\">\n",
       "\t<path d=\"M362.1,373.8 L362.1,365.4 M362.1,31.6 L362.1,40.0  \" stroke=\"rgb(  0,   0,   0)\"/>\t<g fill=\"rgb(38,38,38)\" font-family=\"Arial\" font-size=\"10.00\" stroke=\"none\" text-anchor=\"middle\" transform=\"translate(362.1,389.1)\">\n",
       "\t\t<text><tspan font-family=\"Arial\">5</tspan></text>\n",
       "\t</g>\n",
       "</g>\n",
       "<g color=\"black\" fill=\"none\" stroke=\"currentColor\" stroke-linecap=\"butt\" stroke-linejoin=\"miter\" stroke-width=\"1.00\">\n",
       "\t<path d=\"M374.3,373.8 L374.3,365.4 M374.3,31.6 L374.3,40.0  \" stroke=\"rgb(  0,   0,   0)\"/>\t<g fill=\"rgb(38,38,38)\" font-family=\"Arial\" font-size=\"10.00\" stroke=\"none\" text-anchor=\"middle\" transform=\"translate(374.3,389.1)\">\n",
       "\t\t<text><tspan font-family=\"Arial\">10</tspan></text>\n",
       "\t</g>\n",
       "</g>\n",
       "<g color=\"black\" fill=\"none\" stroke=\"currentColor\" stroke-linecap=\"butt\" stroke-linejoin=\"miter\" stroke-width=\"1.00\">\n",
       "\t<path d=\"M386.6,373.8 L386.6,365.4 M386.6,31.6 L386.6,40.0  \" stroke=\"rgb(  0,   0,   0)\"/>\t<g fill=\"rgb(38,38,38)\" font-family=\"Arial\" font-size=\"10.00\" stroke=\"none\" text-anchor=\"middle\" transform=\"translate(386.6,389.1)\">\n",
       "\t\t<text><tspan font-family=\"Arial\">15</tspan></text>\n",
       "\t</g>\n",
       "</g>\n",
       "<g color=\"black\" fill=\"none\" stroke=\"currentColor\" stroke-linecap=\"butt\" stroke-linejoin=\"miter\" stroke-width=\"1.00\">\n",
       "</g>\n",
       "<g color=\"black\" fill=\"none\" stroke=\"currentColor\" stroke-linecap=\"butt\" stroke-linejoin=\"miter\" stroke-width=\"1.00\">\n",
       "\t<g fill=\"rgb(0,0,0)\" font-family=\":Bold\" font-size=\"11.00\" stroke=\"none\" text-anchor=\"middle\" transform=\"translate(349.8,12.7)\">\n",
       "\t\t<text><tspan font-family=\"\" font-weight=\"bold\">EV'I</tspan></text>\n",
       "\t</g>\n",
       "</g>\n",
       "<g color=\"black\" fill=\"none\" stroke=\"currentColor\" stroke-linecap=\"butt\" stroke-linejoin=\"miter\" stroke-width=\"1.00\">\n",
       "</g>\n",
       "\t<g id=\"gnuplot_plot_1c\"><title>gnuplot_plot_1c</title>\n",
       "<g color=\"#FFFFFF\" fill=\"none\" stroke=\"currentColor\" stroke-linecap=\"butt\" stroke-linejoin=\"miter\" stroke-width=\"0.50\">\n",
       "</g>\n",
       "<g color=\"black\" fill=\"none\" stroke=\"currentColor\" stroke-linecap=\"butt\" stroke-linejoin=\"miter\" stroke-width=\"0.50\">\n",
       "\t<path d=\"M377.6,130.1 L376.2,124.1 L374.7,118.4 L373.1,113.1 L371.4,108.1 L369.7,103.5 L367.8,99.3 L365.9,95.6   L363.9,92.2 L361.9,89.3 L359.8,86.9 L357.7,84.9 L355.5,83.4 L353.3,82.3 L351.1,81.8 L348.9,81.8   L346.7,82.2 L344.6,83.1 L342.4,84.5 L340.3,86.4 L338.2,88.7 L336.1,91.5 L334.1,94.8 L332.2,98.5   L330.3,102.6 L328.5,107.1 L326.8,112.0 L325.2,117.2 L323.7,122.8 L322.3,128.8 L321.0,135.0 L319.9,141.5   L318.8,148.2 L317.9,155.2 L317.1,162.3 L316.4,169.6 L315.9,177.1 L315.5,184.6 L315.2,192.3 L315.1,199.9   L315.1,207.6 L315.3,215.3 L315.6,222.9 L316.0,230.4 L316.6,237.8 L317.3,245.1 L318.1,252.2 L319.1,259.1   L320.2,265.8 L321.4,272.2 L322.7,278.3 L324.1,284.2 L325.7,289.7 L327.3,294.8 L329.0,299.6 L330.8,304.0   L332.7,308.0 L334.7,311.6 L336.7,314.7 L338.7,317.4 L340.9,319.6 L343.0,321.3 L345.2,322.6 L347.4,323.4   L349.6,323.7 L351.8,323.5 L354.0,322.8 L356.1,321.7 L358.3,320.0 L360.4,317.9 L362.5,315.3 L364.5,312.3   L366.5,308.8 L368.4,304.9 L370.2,300.6 L371.9,295.9 L373.6,290.8 L375.1,285.4 L376.6,279.6 L377.9,273.6   L379.2,267.2 L380.3,260.6 L381.3,253.7 L382.1,246.7 L382.9,239.4 L383.5,232.0 L383.9,224.5 L384.3,217.0   L384.4,209.3 L384.5,201.6 L384.4,194.0 L384.2,186.3 L383.8,178.8 L383.3,171.3 L382.7,163.9 L381.9,156.7   L381.0,149.7 L380.0,142.9 L378.8,136.4 L377.6,130.1  \" stroke=\"rgb(  0, 114, 189)\"/></g>\n",
       "\t</g>\n",
       "<g color=\"#FFFFFF\" fill=\"none\" stroke=\"rgb(  0, 114, 189)\" stroke-linecap=\"butt\" stroke-linejoin=\"miter\" stroke-width=\"2.00\">\n",
       "</g>\n",
       "<g color=\"black\" fill=\"none\" stroke=\"currentColor\" stroke-linecap=\"butt\" stroke-linejoin=\"miter\" stroke-width=\"2.00\">\n",
       "</g>\n",
       "<g color=\"black\" fill=\"none\" stroke=\"black\" stroke-linecap=\"butt\" stroke-linejoin=\"miter\" stroke-width=\"0.50\">\n",
       "</g>\n",
       "<g color=\"black\" fill=\"none\" stroke=\"currentColor\" stroke-linecap=\"butt\" stroke-linejoin=\"miter\" stroke-width=\"0.50\">\n",
       "\t<path d=\"M313.0,373.8 L386.6,373.8  \" stroke=\"rgb( 38,  38,  38)\"/></g>\n",
       "<g color=\"black\" fill=\"none\" stroke=\"currentColor\" stroke-linecap=\"butt\" stroke-linejoin=\"miter\" stroke-width=\"0.50\">\n",
       "\t<path d=\"M313.0,31.6 L386.6,31.6  \" stroke=\"rgb( 38,  38,  38)\"/></g>\n",
       "<g color=\"black\" fill=\"none\" stroke=\"currentColor\" stroke-linecap=\"butt\" stroke-linejoin=\"miter\" stroke-width=\"0.50\">\n",
       "\t<path d=\"M313.0,373.8 L313.0,31.6  \" stroke=\"rgb( 38,  38,  38)\"/></g>\n",
       "<g color=\"black\" fill=\"none\" stroke=\"currentColor\" stroke-linecap=\"butt\" stroke-linejoin=\"miter\" stroke-width=\"0.50\">\n",
       "\t<path d=\"M386.6,373.8 L386.6,31.6  \" stroke=\"rgb( 38,  38,  38)\"/></g>\n",
       "<g color=\"black\" fill=\"none\" stroke=\"rgb( 38,  38,  38)\" stroke-linecap=\"butt\" stroke-linejoin=\"miter\" stroke-width=\"1.00\">\n",
       "</g>\n",
       "<g color=\"black\" fill=\"none\" stroke=\"currentColor\" stroke-linecap=\"butt\" stroke-linejoin=\"miter\" stroke-width=\"1.00\">\n",
       "</g>\n",
       "<g color=\"black\" fill=\"none\" stroke=\"currentColor\" stroke-linecap=\"butt\" stroke-linejoin=\"miter\" stroke-width=\"1.00\">\n",
       "\t<g shape-rendering=\"crispEdges\" stroke=\"none\">\n",
       "\t\t<polygon fill=\"rgb(255, 255, 255)\" points=\"433.1,373.8 506.6,373.8 506.6,31.7 433.1,31.7 \"/>\n",
       "\t</g>\n",
       "</g>\n",
       "<g color=\"black\" fill=\"none\" stroke=\"currentColor\" stroke-linecap=\"butt\" stroke-linejoin=\"miter\" stroke-width=\"1.00\">\n",
       "\t<path d=\"M433.1,373.8 L441.5,373.8 M506.7,373.8 L498.3,373.8  \" stroke=\"rgb(  0,   0,   0)\"/>\t<g fill=\"rgb(38,38,38)\" font-family=\"Arial\" font-size=\"10.00\" stroke=\"none\" text-anchor=\"end\" transform=\"translate(427.5,377.1)\">\n",
       "\t\t<text><tspan font-family=\"Arial\">-15</tspan></text>\n",
       "\t</g>\n",
       "</g>\n",
       "<g color=\"black\" fill=\"none\" stroke=\"currentColor\" stroke-linecap=\"butt\" stroke-linejoin=\"miter\" stroke-width=\"1.00\">\n",
       "\t<path d=\"M433.1,316.8 L441.5,316.8 M506.7,316.8 L498.3,316.8  \" stroke=\"rgb(  0,   0,   0)\"/>\t<g fill=\"rgb(38,38,38)\" font-family=\"Arial\" font-size=\"10.00\" stroke=\"none\" text-anchor=\"end\" transform=\"translate(427.5,320.1)\">\n",
       "\t\t<text><tspan font-family=\"Arial\">-10</tspan></text>\n",
       "\t</g>\n",
       "</g>\n",
       "<g color=\"black\" fill=\"none\" stroke=\"currentColor\" stroke-linecap=\"butt\" stroke-linejoin=\"miter\" stroke-width=\"1.00\">\n",
       "\t<path d=\"M433.1,259.7 L441.5,259.7 M506.7,259.7 L498.3,259.7  \" stroke=\"rgb(  0,   0,   0)\"/>\t<g fill=\"rgb(38,38,38)\" font-family=\"Arial\" font-size=\"10.00\" stroke=\"none\" text-anchor=\"end\" transform=\"translate(427.5,263.0)\">\n",
       "\t\t<text><tspan font-family=\"Arial\">-5</tspan></text>\n",
       "\t</g>\n",
       "</g>\n",
       "<g color=\"black\" fill=\"none\" stroke=\"currentColor\" stroke-linecap=\"butt\" stroke-linejoin=\"miter\" stroke-width=\"1.00\">\n",
       "\t<path d=\"M433.1,202.7 L441.5,202.7 M506.7,202.7 L498.3,202.7  \" stroke=\"rgb(  0,   0,   0)\"/>\t<g fill=\"rgb(38,38,38)\" font-family=\"Arial\" font-size=\"10.00\" stroke=\"none\" text-anchor=\"end\" transform=\"translate(427.5,206.0)\">\n",
       "\t\t<text><tspan font-family=\"Arial\">0</tspan></text>\n",
       "\t</g>\n",
       "</g>\n",
       "<g color=\"black\" fill=\"none\" stroke=\"currentColor\" stroke-linecap=\"butt\" stroke-linejoin=\"miter\" stroke-width=\"1.00\">\n",
       "\t<path d=\"M433.1,145.7 L441.5,145.7 M506.7,145.7 L498.3,145.7  \" stroke=\"rgb(  0,   0,   0)\"/>\t<g fill=\"rgb(38,38,38)\" font-family=\"Arial\" font-size=\"10.00\" stroke=\"none\" text-anchor=\"end\" transform=\"translate(427.5,149.0)\">\n",
       "\t\t<text><tspan font-family=\"Arial\">5</tspan></text>\n",
       "\t</g>\n",
       "</g>\n",
       "<g color=\"black\" fill=\"none\" stroke=\"currentColor\" stroke-linecap=\"butt\" stroke-linejoin=\"miter\" stroke-width=\"1.00\">\n",
       "\t<path d=\"M433.1,88.6 L441.5,88.6 M506.7,88.6 L498.3,88.6  \" stroke=\"rgb(  0,   0,   0)\"/>\t<g fill=\"rgb(38,38,38)\" font-family=\"Arial\" font-size=\"10.00\" stroke=\"none\" text-anchor=\"end\" transform=\"translate(427.5,91.9)\">\n",
       "\t\t<text><tspan font-family=\"Arial\">10</tspan></text>\n",
       "\t</g>\n",
       "</g>\n",
       "<g color=\"black\" fill=\"none\" stroke=\"currentColor\" stroke-linecap=\"butt\" stroke-linejoin=\"miter\" stroke-width=\"1.00\">\n",
       "\t<path d=\"M433.1,31.6 L441.5,31.6 M506.7,31.6 L498.3,31.6  \" stroke=\"rgb(  0,   0,   0)\"/>\t<g fill=\"rgb(38,38,38)\" font-family=\"Arial\" font-size=\"10.00\" stroke=\"none\" text-anchor=\"end\" transform=\"translate(427.5,34.9)\">\n",
       "\t\t<text><tspan font-family=\"Arial\">15</tspan></text>\n",
       "\t</g>\n",
       "</g>\n",
       "<g color=\"black\" fill=\"none\" stroke=\"currentColor\" stroke-linecap=\"butt\" stroke-linejoin=\"miter\" stroke-width=\"1.00\">\n",
       "\t<path d=\"M433.1,373.8 L433.1,365.4 M433.1,31.6 L433.1,40.0  \" stroke=\"rgb(  0,   0,   0)\"/>\t<g fill=\"rgb(38,38,38)\" font-family=\"Arial\" font-size=\"10.00\" stroke=\"none\" text-anchor=\"middle\" transform=\"translate(433.1,389.1)\">\n",
       "\t\t<text><tspan font-family=\"Arial\">-15</tspan></text>\n",
       "\t</g>\n",
       "</g>\n",
       "<g color=\"black\" fill=\"none\" stroke=\"currentColor\" stroke-linecap=\"butt\" stroke-linejoin=\"miter\" stroke-width=\"1.00\">\n",
       "\t<path d=\"M445.4,373.8 L445.4,365.4 M445.4,31.6 L445.4,40.0  \" stroke=\"rgb(  0,   0,   0)\"/>\t<g fill=\"rgb(38,38,38)\" font-family=\"Arial\" font-size=\"10.00\" stroke=\"none\" text-anchor=\"middle\" transform=\"translate(445.4,389.1)\">\n",
       "\t\t<text><tspan font-family=\"Arial\">-10</tspan></text>\n",
       "\t</g>\n",
       "</g>\n",
       "<g color=\"black\" fill=\"none\" stroke=\"currentColor\" stroke-linecap=\"butt\" stroke-linejoin=\"miter\" stroke-width=\"1.00\">\n",
       "\t<path d=\"M457.6,373.8 L457.6,365.4 M457.6,31.6 L457.6,40.0  \" stroke=\"rgb(  0,   0,   0)\"/>\t<g fill=\"rgb(38,38,38)\" font-family=\"Arial\" font-size=\"10.00\" stroke=\"none\" text-anchor=\"middle\" transform=\"translate(457.6,389.1)\">\n",
       "\t\t<text><tspan font-family=\"Arial\">-5</tspan></text>\n",
       "\t</g>\n",
       "</g>\n",
       "<g color=\"black\" fill=\"none\" stroke=\"currentColor\" stroke-linecap=\"butt\" stroke-linejoin=\"miter\" stroke-width=\"1.00\">\n",
       "\t<path d=\"M469.9,373.8 L469.9,365.4 M469.9,31.6 L469.9,40.0  \" stroke=\"rgb(  0,   0,   0)\"/>\t<g fill=\"rgb(38,38,38)\" font-family=\"Arial\" font-size=\"10.00\" stroke=\"none\" text-anchor=\"middle\" transform=\"translate(469.9,389.1)\">\n",
       "\t\t<text><tspan font-family=\"Arial\">0</tspan></text>\n",
       "\t</g>\n",
       "</g>\n",
       "<g color=\"black\" fill=\"none\" stroke=\"currentColor\" stroke-linecap=\"butt\" stroke-linejoin=\"miter\" stroke-width=\"1.00\">\n",
       "\t<path d=\"M482.2,373.8 L482.2,365.4 M482.2,31.6 L482.2,40.0  \" stroke=\"rgb(  0,   0,   0)\"/>\t<g fill=\"rgb(38,38,38)\" font-family=\"Arial\" font-size=\"10.00\" stroke=\"none\" text-anchor=\"middle\" transform=\"translate(482.2,389.1)\">\n",
       "\t\t<text><tspan font-family=\"Arial\">5</tspan></text>\n",
       "\t</g>\n",
       "</g>\n",
       "<g color=\"black\" fill=\"none\" stroke=\"currentColor\" stroke-linecap=\"butt\" stroke-linejoin=\"miter\" stroke-width=\"1.00\">\n",
       "\t<path d=\"M494.4,373.8 L494.4,365.4 M494.4,31.6 L494.4,40.0  \" stroke=\"rgb(  0,   0,   0)\"/>\t<g fill=\"rgb(38,38,38)\" font-family=\"Arial\" font-size=\"10.00\" stroke=\"none\" text-anchor=\"middle\" transform=\"translate(494.4,389.1)\">\n",
       "\t\t<text><tspan font-family=\"Arial\">10</tspan></text>\n",
       "\t</g>\n",
       "</g>\n",
       "<g color=\"black\" fill=\"none\" stroke=\"currentColor\" stroke-linecap=\"butt\" stroke-linejoin=\"miter\" stroke-width=\"1.00\">\n",
       "\t<path d=\"M506.7,373.8 L506.7,365.4 M506.7,31.6 L506.7,40.0  \" stroke=\"rgb(  0,   0,   0)\"/>\t<g fill=\"rgb(38,38,38)\" font-family=\"Arial\" font-size=\"10.00\" stroke=\"none\" text-anchor=\"middle\" transform=\"translate(506.7,389.1)\">\n",
       "\t\t<text><tspan font-family=\"Arial\">15</tspan></text>\n",
       "\t</g>\n",
       "</g>\n",
       "<g color=\"black\" fill=\"none\" stroke=\"currentColor\" stroke-linecap=\"butt\" stroke-linejoin=\"miter\" stroke-width=\"1.00\">\n",
       "</g>\n",
       "<g color=\"black\" fill=\"none\" stroke=\"currentColor\" stroke-linecap=\"butt\" stroke-linejoin=\"miter\" stroke-width=\"1.00\">\n",
       "\t<g fill=\"rgb(0,0,0)\" font-family=\":Bold\" font-size=\"11.00\" stroke=\"none\" text-anchor=\"middle\" transform=\"translate(469.9,12.7)\">\n",
       "\t\t<text><tspan font-family=\"\" font-weight=\"bold\">UEV'I</tspan></text>\n",
       "\t</g>\n",
       "</g>\n",
       "<g color=\"black\" fill=\"none\" stroke=\"currentColor\" stroke-linecap=\"butt\" stroke-linejoin=\"miter\" stroke-width=\"1.00\">\n",
       "</g>\n",
       "\t<g id=\"gnuplot_plot_1d\"><title>gnuplot_plot_1d</title>\n",
       "<g color=\"#FFFFFF\" fill=\"none\" stroke=\"currentColor\" stroke-linecap=\"butt\" stroke-linejoin=\"miter\" stroke-width=\"0.50\">\n",
       "</g>\n",
       "<g color=\"black\" fill=\"none\" stroke=\"currentColor\" stroke-linecap=\"butt\" stroke-linejoin=\"miter\" stroke-width=\"0.50\">\n",
       "\t<path d=\"M469.9,202.7 L494.4,88.6  \" stroke=\"rgb(  0, 114, 189)\"/></g>\n",
       "\t</g>\n",
       "\t<g id=\"gnuplot_plot_2d\"><title>gnuplot_plot_2d</title>\n",
       "<g color=\"black\" fill=\"none\" stroke=\"currentColor\" stroke-linecap=\"butt\" stroke-linejoin=\"miter\" stroke-width=\"0.50\">\n",
       "\t<path d=\"M489.0,139.3 L494.4,88.6 L483.5,114.0  \" stroke=\"rgb(  0, 114, 189)\"/></g>\n",
       "\t</g>\n",
       "\t<g id=\"gnuplot_plot_3d\"><title>gnuplot_plot_3d</title>\n",
       "<g color=\"black\" fill=\"none\" stroke=\"currentColor\" stroke-linecap=\"butt\" stroke-linejoin=\"miter\" stroke-width=\"0.50\">\n",
       "\t<path d=\"M469.9,202.7 L482.2,259.7  \" stroke=\"rgb(119, 172,  48)\"/></g>\n",
       "\t</g>\n",
       "\t<g id=\"gnuplot_plot_4d\"><title>gnuplot_plot_4d</title>\n",
       "<g color=\"black\" fill=\"none\" stroke=\"currentColor\" stroke-linecap=\"butt\" stroke-linejoin=\"miter\" stroke-width=\"0.50\">\n",
       "\t<path d=\"M476.7,247.1 L482.2,259.7 L479.4,234.4  \" stroke=\"rgb(119, 172,  48)\"/></g>\n",
       "\t</g>\n",
       "\t<g id=\"gnuplot_plot_5d\"><title>gnuplot_plot_5d</title>\n",
       "<g color=\"black\" fill=\"none\" stroke=\"currentColor\" stroke-linecap=\"butt\" stroke-linejoin=\"miter\" stroke-width=\"0.50\">\n",
       "\t<path d=\"M496.9,145.7 L496.5,153.0 L496.0,160.6 L495.5,168.3 L494.8,176.1 L494.0,184.1 L493.1,192.1 L492.2,200.2   L491.1,208.3 L489.9,216.4 L488.7,224.4 L487.4,232.3 L486.0,240.1 L484.6,247.8 L483.1,255.3 L481.6,262.5   L480.0,269.6 L478.3,276.3 L476.6,282.8 L474.9,288.9 L473.2,294.7 L471.5,300.1 L469.8,305.1 L468.0,309.7   L466.3,313.9 L464.6,317.7 L462.9,320.9 L461.2,323.7 L459.6,326.0 L458.0,327.8 L456.4,329.1 L454.9,329.9   L453.5,330.2 L452.2,330.0 L450.9,329.3 L449.7,328.0 L448.5,326.3 L447.5,324.0 L446.5,321.3 L445.7,318.0   L444.9,314.4 L444.2,310.2 L443.7,305.7 L443.2,300.7 L442.9,295.3 L442.6,289.6 L442.5,283.5 L442.5,277.0   L442.6,270.3 L442.8,263.3 L443.1,256.1 L443.5,248.6 L444.0,241.0 L444.7,233.2 L445.4,225.3 L446.2,217.3   L447.1,209.2 L448.2,201.1 L449.3,193.0 L450.5,185.0 L451.7,177.0 L453.1,169.1 L454.5,161.4 L455.9,153.8   L457.5,146.5 L459.0,139.3 L460.7,132.4 L462.3,125.8 L464.0,119.5 L465.7,113.6 L467.4,108.0 L469.2,102.7   L470.9,97.9 L472.7,93.5 L474.4,89.6 L476.1,86.0 L477.8,83.0 L479.4,80.5 L481.0,78.4 L482.6,76.8   L484.1,75.8 L485.6,75.2 L487.0,75.2 L488.3,75.7 L489.6,76.7 L490.7,78.2 L491.8,80.2 L492.8,82.7   L493.7,85.7 L494.5,89.1 L495.3,93.1 L495.9,97.4 L496.4,102.2 L496.8,107.4 L497.1,112.9 L497.3,118.8   L497.3,125.1 L497.3,131.7 L497.1,138.5 L496.9,145.7  \" stroke=\"rgb(217,  83,  25)\"/></g>\n",
       "\t</g>\n",
       "<g color=\"#FFFFFF\" fill=\"none\" stroke=\"rgb(217,  83,  25)\" stroke-linecap=\"butt\" stroke-linejoin=\"miter\" stroke-width=\"2.00\">\n",
       "</g>\n",
       "<g color=\"black\" fill=\"none\" stroke=\"currentColor\" stroke-linecap=\"butt\" stroke-linejoin=\"miter\" stroke-width=\"2.00\">\n",
       "</g>\n",
       "<g color=\"black\" fill=\"none\" stroke=\"black\" stroke-linecap=\"butt\" stroke-linejoin=\"miter\" stroke-width=\"0.50\">\n",
       "</g>\n",
       "<g color=\"black\" fill=\"none\" stroke=\"currentColor\" stroke-linecap=\"butt\" stroke-linejoin=\"miter\" stroke-width=\"0.50\">\n",
       "\t<path d=\"M433.1,373.8 L506.7,373.8  \" stroke=\"rgb( 38,  38,  38)\"/></g>\n",
       "<g color=\"black\" fill=\"none\" stroke=\"currentColor\" stroke-linecap=\"butt\" stroke-linejoin=\"miter\" stroke-width=\"0.50\">\n",
       "\t<path d=\"M433.1,31.6 L506.7,31.6  \" stroke=\"rgb( 38,  38,  38)\"/></g>\n",
       "<g color=\"black\" fill=\"none\" stroke=\"currentColor\" stroke-linecap=\"butt\" stroke-linejoin=\"miter\" stroke-width=\"0.50\">\n",
       "\t<path d=\"M433.1,373.8 L433.1,31.6  \" stroke=\"rgb( 38,  38,  38)\"/></g>\n",
       "<g color=\"black\" fill=\"none\" stroke=\"currentColor\" stroke-linecap=\"butt\" stroke-linejoin=\"miter\" stroke-width=\"0.50\">\n",
       "\t<path d=\"M506.7,373.8 L506.7,31.6  \" stroke=\"rgb( 38,  38,  38)\"/></g>\n",
       "<g color=\"black\" fill=\"none\" stroke=\"rgb( 38,  38,  38)\" stroke-linecap=\"butt\" stroke-linejoin=\"miter\" stroke-width=\"1.00\">\n",
       "</g>\n",
       "<g color=\"black\" fill=\"none\" stroke=\"currentColor\" stroke-linecap=\"butt\" stroke-linejoin=\"miter\" stroke-width=\"1.00\">\n",
       "</g>\n",
       "</g>\n",
       "</svg>"
      ],
      "text/plain": [
       "<IPython.core.display.SVG object>"
      ]
     },
     "metadata": {},
     "output_type": "display_data"
    }
   ],
   "source": [
    "r = 1\n",
    "t = linspace(0,2*pi,100)';\n",
    "unit_x = [sin(t) cos(t)];\n",
    "\n",
    "\n",
    "plot(unit_x(:,1),unit_x(:,2)); \n",
    "\n",
    "\n",
    "V_T = V'*unit_x';\n",
    "EE = E*V_T;\n",
    "\n",
    "N = A*unit_x';\n",
    "plot(N(1,:),N(2,:))\n",
    "r =  1\n",
    "\n",
    "\n",
    "subplot (1, 4, 1)\n",
    "quiver(0,0,V(1,1),V(2,1));\n",
    "hold on;\n",
    "quiver(0,0,V(1,2),V(2,2))\n",
    "hold on;\n",
    "plot(unit_x(:,1),unit_x(:,2)); \n",
    "title(\"I\");\n",
    "subplot (1, 4, 2)\n",
    "plot(V_T(1,:),V_T(2,:))\n",
    "title(\"V'I\");\n",
    "subplot (1, 4, 3)\n",
    "plot(EE(1,:),EE(2,:))\n",
    "title(\"EV'I\");\n",
    "subplot (1, 4, 4)\n",
    "quiver(0,0,U(1,1)*sigma_vector(1),U(1,2)*sigma_vector(1))\n",
    "hold on;\n",
    "quiver(0,0,U(2,1)*sigma_vector(2),U(2,2)*sigma_vector(2))\n",
    "hold on;\n",
    "plot(N(1,:),N(2,:))\n",
    "title(\"UEV'I\");\n"
   ]
  },
  {
   "cell_type": "markdown",
   "metadata": {},
   "source": [
    "### (c)\n",
    "1 norm of A is the maximum value of the absolute value sum of columns"
   ]
  },
  {
   "cell_type": "code",
   "execution_count": 55,
   "metadata": {
    "collapsed": false
   },
   "outputs": [
    {
     "name": "stdout",
     "output_type": "stream",
     "text": [
      "one_norm =  16\n"
     ]
    }
   ],
   "source": [
    "one_norm = max(abs(A(1,1))+abs(A(2,1)),abs(A(1,2))+abs(A(2,2)))"
   ]
  },
  {
   "cell_type": "code",
   "execution_count": 56,
   "metadata": {
    "collapsed": false
   },
   "outputs": [
    {
     "name": "stdout",
     "output_type": "stream",
     "text": [
      "eig_A =\n",
      "\n",
      "   200\n",
      "    50\n",
      "\n",
      "two_norm =  14.142\n"
     ]
    }
   ],
   "source": [
    "eig_A = eig_2_2(A'*A)\n",
    "\n",
    "two_norm = sqrt(max(abs(eig_A(1)),abs(eig_A(2))))"
   ]
  },
  {
   "cell_type": "code",
   "execution_count": 57,
   "metadata": {
    "collapsed": false
   },
   "outputs": [
    {
     "name": "stdout",
     "output_type": "stream",
     "text": [
      "infinity_norm =  15\n"
     ]
    }
   ],
   "source": [
    "infinity_norm =  max(abs(A(1,1))+abs(A(1,2)),abs(A(2,1))+abs(A(2,2)))"
   ]
  },
  {
   "cell_type": "code",
   "execution_count": 58,
   "metadata": {
    "collapsed": false
   },
   "outputs": [
    {
     "name": "stdout",
     "output_type": "stream",
     "text": [
      "frobenius_norm =  15.811\n"
     ]
    }
   ],
   "source": [
    "frobenius_norm =  sqrt(trace(A'*A))"
   ]
  },
  {
   "cell_type": "markdown",
   "metadata": {},
   "source": [
    "### (d)\n",
    "\n",
    "$A^-1 = (U\\Sigma V')^{-1}$\n",
    "\n",
    "Since $\\Sigma$ is a diagonal matrix  $\\dfrac{1}{\\Sigma} = \\Sigma^{-1}$\n",
    "\n",
    "$A^-1 = V\\Sigma^{-1} U'  $\n",
    "\n"
   ]
  },
  {
   "cell_type": "code",
   "execution_count": 59,
   "metadata": {
    "collapsed": false
   },
   "outputs": [
    {
     "name": "stdout",
     "output_type": "stream",
     "text": [
      "A_inverse =\n",
      "\n",
      "   0.050000  -0.110000\n",
      "   0.100000  -0.020000\n",
      "\n"
     ]
    }
   ],
   "source": [
    "A_inverse = V*E^(-1)*U'"
   ]
  },
  {
   "cell_type": "markdown",
   "metadata": {},
   "source": [
    "Let's double check calculation using octave's builtin method."
   ]
  },
  {
   "cell_type": "code",
   "execution_count": 60,
   "metadata": {
    "collapsed": false
   },
   "outputs": [
    {
     "name": "stdout",
     "output_type": "stream",
     "text": [
      "A_inverse =\n",
      "\n",
      "   0.050000  -0.110000\n",
      "   0.100000  -0.020000\n",
      "\n"
     ]
    }
   ],
   "source": [
    "A_inverse = inv(A)"
   ]
  },
  {
   "cell_type": "markdown",
   "metadata": {},
   "source": [
    "### (e)\n",
    "Finding eigenvalue of A is easy because, I have implement the function before"
   ]
  },
  {
   "cell_type": "code",
   "execution_count": 61,
   "metadata": {
    "collapsed": false
   },
   "outputs": [
    {
     "name": "stdout",
     "output_type": "stream",
     "text": [
      "eigenvalue_of_a =\n",
      "\n",
      "   1.5000 + 9.8869i\n",
      "   1.5000 - 9.8869i\n",
      "\n"
     ]
    }
   ],
   "source": [
    "A = [-2,11;-10,5];\n",
    "\n",
    "eigenvalue_of_a = eig_2_2(A)"
   ]
  },
  {
   "cell_type": "markdown",
   "metadata": {},
   "source": [
    "### (f)"
   ]
  },
  {
   "cell_type": "code",
   "execution_count": 62,
   "metadata": {
    "collapsed": false
   },
   "outputs": [
    {
     "name": "stdout",
     "output_type": "stream",
     "text": [
      "product_of_eigenvalues_of_A =  100.00\n",
      "det_A =  100\n",
      "abs_det_a =  100\n",
      "sigma_product =  100.00\n"
     ]
    }
   ],
   "source": [
    "product_of_eigenvalues_of_A = eigenvalue_of_a(1)*eigenvalue_of_a(2)\n",
    "det_A = det(A)\n",
    "abs_det_a = abs(det(A))\n",
    "sigma_product = sigma_vector(1)*sigma_vector(2)\n"
   ]
  },
  {
   "cell_type": "markdown",
   "metadata": {},
   "source": [
    "### (g)"
   ]
  },
  {
   "cell_type": "code",
   "execution_count": 63,
   "metadata": {
    "collapsed": false
   },
   "outputs": [
    {
     "name": "stdout",
     "output_type": "stream",
     "text": [
      "area_of_elipsoid =  314.16\n"
     ]
    }
   ],
   "source": [
    "area_of_elipsoid = pi*sigma_product"
   ]
  },
  {
   "cell_type": "code",
   "execution_count": null,
   "metadata": {
    "collapsed": true
   },
   "outputs": [],
   "source": []
  }
 ],
 "metadata": {
  "kernelspec": {
   "display_name": "Octave",
   "language": "octave",
   "name": "octave"
  },
  "language_info": {
   "file_extension": ".m",
   "help_links": [
    {
     "text": "GNU Octave",
     "url": "https://www.gnu.org/software/octave/support.html"
    },
    {
     "text": "Octave Kernel",
     "url": "https://github.com/Calysto/octave_kernel"
    },
    {
     "text": "MetaKernel Magics",
     "url": "https://github.com/calysto/metakernel/blob/master/metakernel/magics/README.md"
    }
   ],
   "mimetype": "text/x-octave",
   "name": "octave",
   "version": "4.2.1"
  }
 },
 "nbformat": 4,
 "nbformat_minor": 2
}
