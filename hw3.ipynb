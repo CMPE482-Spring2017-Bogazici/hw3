{
 "cells": [
  {
   "cell_type": "markdown",
   "metadata": {},
   "source": [
    "### Ahmet Ercan Tekden\n",
    "### 2012400159\n",
    "# Hw3\n"
   ]
  },
  {
   "cell_type": "markdown",
   "metadata": {},
   "source": [
    "# 3.6.a\n",
    "\n",
    "Let $\\|.\\|$ denote any norm on $C^m$. The corresponding  dual norm $\\|.\\|'$ is defined by formula $\\|x\\|'= \\sup_{\\|y\\|=1}|y^*x|$.\n",
    "\n",
    "Prove that $\\|.\\|'$ is a norm.\n"
   ]
  },
  {
   "cell_type": "markdown",
   "metadata": {},
   "source": [
    "### solution\n",
    "\n",
    "We need to prove it on three points:\n",
    "* (1) $\\|x\\|\\geq 0$, and $\\|x\\|=0$ only if $x=0$,\n",
    "* (2) $\\|x+z\\| \\leq \\|x\\| + \\|z\\|$,\n",
    "* (3) $\\|\\alpha x\\|= |\\alpha|* \\|x\\|$.\n",
    "\n",
    "to prove first one we can think of it this way\n",
    "\n",
    "$|y^*x|=|y_1*x_1+y_2*x_2+...+y_m*x_m|$ \n",
    "\n",
    "Since dual norm is equal to supremum of this all $x_i*y_i$ will be either positive or negative(if $x_i*y_i\\geq 0$, $x_j*y_j\\geq0$ and if $x_i*y_i\\leq 0$, $x_j*y_j\\leq0$ ) so that non of those will have negative effect on output of calculation, such that following will be always true $|x_i*y_i+x_j*y_j|\\geq|x_i*y_i|$ .\n",
    "\n",
    "So if we start with **(1)** for any non-0 x to make $|y^*x|=|y_1*x_1+y_2*x_2+...+y_m*x_m|=0$ , values of y's should be selected in such a way that when we add for some of the $x_i*y_i$ values, $|x_i*y_i+x_j*y_j|\\leq|x_i*y_i|$ . But since we proved on above that this is not possible, **(1)** is proven.\n",
    "\n",
    "For **(2)**\n",
    "\n",
    "$\\|x+z\\|'= \\sup_{\\|y\\|=1}|y^*(x+z)|$\n",
    "\n",
    "Thinking them individually it will be\n",
    "\n",
    "$\\|x\\|'= \\sup_{\\|y_1\\|=1}|y_1^*x|$\n",
    "\n",
    "$\\|z\\|'= \\sup_{\\|y_2\\|=1}|y_2^*z|$\n",
    "\n",
    "$\\|x+z\\|'= \\sup_{\\|y_3\\|=1}|y_3^*(x+z)|$ since in here it can be different vector that maximizes $\\|x+z\\|'$ value\n",
    "\n",
    "so $y_1$ maximizes $\\|x\\|'$ and $y_2$ maximizes $\\|x\\|'$ so for any other $y_i$ vector it will be $|y_i^*z|\\leq|y_2^*z|$\n",
    "\n",
    "so we have following \n",
    "\n",
    "$\\|x+z\\|'= |y_3^*(x+z)| \\leq |y_3^*x| + |y_3^*z|  $\n",
    "\n",
    "$\\|x\\|'= |y_1^*x| \\geq |y_3^*x| $\n",
    "\n",
    "$\\|z\\|'= |y_2^*z| \\geq |y_3^*z| $\n",
    "\n",
    "from here we can derive\n",
    "\n",
    "$\\|x+z\\|'= |y_3^*(x+z)| \\leq |y_3^*x| + |y_3^*z| \\leq |y_1^*x| + |y_2^*z| = \\|x\\|' + \\|z\\|'$\n",
    "\n",
    "which proves **(2)**.\n",
    "\n",
    "For **(3)**,\n",
    "\n",
    "we should prove \n",
    "\n",
    "$ |\\alpha| *\\|x\\|' =  \\|\\alpha x\\|'= \\sup_{\\|y\\|=1}|\\alpha y^*x| = | \\alpha * y_1*x_1+ \\alpha *  y_2*x_2+...+ \\alpha * y_m*x_m|$\n",
    "\n",
    "since \n",
    "\n",
    "$| \\alpha * y_1*x_1+ \\alpha *  y_2*x_2+...+ \\alpha * y_m*x_m| = |\\alpha| * | y_1*x_1+ y_2*x_2+...+ y_m*x_m|$ , \n",
    "\n",
    "**(3)** is proven.\n"
   ]
  },
  {
   "cell_type": "markdown",
   "metadata": {},
   "source": [
    "# 4.5"
   ]
  },
  {
   "cell_type": "code",
   "execution_count": null,
   "metadata": {
    "collapsed": false
   },
   "outputs": [],
   "source": []
  },
  {
   "cell_type": "markdown",
   "metadata": {},
   "source": [
    "# 5.3"
   ]
  },
  {
   "cell_type": "code",
   "execution_count": 62,
   "metadata": {
    "collapsed": false
   },
   "outputs": [
    {
     "name": "stdout",
     "output_type": "stream",
     "text": [
      "---------------a------------\n",
      "U =\n",
      "\n",
      "   0.70711  -0.70711\n",
      "   0.70711   0.70711\n",
      "\n",
      "S =\n",
      "\n",
      "   14.14214    0.00000\n",
      "    0.00000    7.07107\n",
      "\n",
      "VT =\n",
      "\n",
      "  -0.60000   0.80000\n",
      "  -0.80000  -0.60000\n",
      "\n",
      "---------------b------------\n",
      "Singular Values:\n",
      "   14.1421\n",
      "    7.0711\n",
      "Left singular vectors:\n",
      "   0.70711  -0.70711\n",
      "   0.70711   0.70711\n",
      "Right singular vectors:\n",
      "  -0.60000  -0.80000\n",
      "   0.80000  -0.60000\n",
      "Plots are in bottom for some reason\n",
      "---------------c------------\n",
      "1 Norm:\n",
      " 16\n",
      "2 Norm:\n",
      " 14.142\n",
      "Inf Norm:\n",
      " 15\n",
      "Frobenius Norm:\n",
      " 15.811\n",
      "---------------d------------\n",
      "A inverse\n",
      "   0.050000  -0.110000\n",
      "   0.100000  -0.020000\n",
      "---------------e------------\n",
      "Eigenvalues of A\n",
      "   1.5000 + 9.8869i\n",
      "   1.5000 - 9.8869i\n",
      "---------------f------------\n",
      "Det of A from eigen values\n",
      " 100.00\n",
      "Det of A equals to product of eigenvalues.\n",
      "Det of A from singular values\n",
      " 100.00\n",
      "Det of A equals to product of singular values of A.\n",
      "---------------g------------\n",
      "Area of ellipsoid A maps the unit ball :\n",
      " 314.16\n"
     ]
    },
    {
     "data": {
      "image/png": "[encoded data removed]",
      "text/plain": [
       "<IPython.core.display.Image object>"
      ]
     },
     "metadata": {},
     "output_type": "display_data"
    },
    {
     "data": {
      "image/png": "[encoded data removed]",
      "text/plain": [
       "<IPython.core.display.Image object>"
      ]
     },
     "metadata": {},
     "output_type": "display_data"
    }
   ],
   "source": [
    "function eigenvalues= eigvalues(A)\n",
    "    p=[1 -A(1,1)-A(2,2)  A(2,2)*A(1,1)-A(2,1)*A(1,2)];\n",
    "    eigenvalues=roots(p);\n",
    "endfunction\n",
    "function eigenvectors= eigvectors(A)\n",
    "    eigenvalues= eigvalues(A);\n",
    "    eigenvectors=zeros(2,1);\n",
    "    v1=null(A-eye(2)*eigenvalues(1));\n",
    "    v2=null(A-eye(2)*eigenvalues(2));\n",
    "    eigenvectors=[v1,v2];\n",
    "endfunction\n",
    "\n",
    "%% A matrix \n",
    "A = [-2 11; -10 5];\n",
    "\n",
    "\n",
    "%% a\n",
    "\n",
    "disp(\"---------------a------------\");\n",
    "eigenvalues=sqrt(eigvalues(A*A'));\n",
    "U=eigvectors(A*A') %%%         U\n",
    "S=[eigenvalues(1),0;0,eigenvalues(2)]   %%%%%% S\n",
    "v1 = linsolve(A, S(1)*U(:, 1));  \n",
    "v2 = linsolve(A, S(4)*U(:, 2));\n",
    "VT=[v1'; v2']   %%%%  V'\n",
    "\n",
    "%% b\n",
    "disp(\"---------------b------------\");\n",
    "\n",
    "disp(\"Singular Values:\"); disp(eigenvalues);\n",
    "disp(\"Left singular vectors:\"), disp(U);\n",
    "disp(\"Right singular vectors:\"), disp(VT');\n",
    "\n",
    "%%% b-Plots\n",
    "t = linspace(0,2*pi,100); \n",
    "circsx = cos(t) ; \n",
    "circsy = sin(t) ; \n",
    "\n",
    "% Right Singular vectors.\n",
    "figure;\n",
    "plot(circsx,circsy);\n",
    "title(\"Right singular vectors\");\n",
    "hold on;\n",
    "quiver(0, 0, VT(1,1), VT(1,2), \"color\", \"Red\");\n",
    "quiver(0, 0, VT(2,1), VT(2,2), \"color\", \"Blue\");\n",
    "xlim([-5, 5]);\n",
    "ylim([-5, 5]);\n",
    "axis equal;\n",
    "set(gca, \"xaxislocation\", \"origin\");\n",
    "set(gca, \"yaxislocation\", \"origin\");\n",
    "\n",
    "% Left Singular vectors.\n",
    "figure;\n",
    "x=[circsx ; circsy];\n",
    "y=A*x;\n",
    "plot(y(1,:),y(2,:));\n",
    "title(\"Left singular vectors\");\n",
    "hold on;\n",
    "quiver(0, 0, S(1,1)*U(1,1),  S(1,1)*U(2,1), \"color\", \"Red\");\n",
    "quiver(0, 0,  S(2,2)*U(1,2),  S(2,2)*U(2,2), \"color\", \"Blue\");\n",
    "xlim([-20, 20]);\n",
    "ylim([-20, 20]);\n",
    "axis equal;\n",
    "set(gca, \"xaxislocation\", \"origin\");\n",
    "set(gca, \"yaxislocation\", \"origin\");\n",
    "\n",
    "disp(\"Plots are in bottom for some reason\");\n",
    "\n",
    "%% c\n",
    "disp(\"---------------c------------\");\n",
    "\n",
    "\n",
    "disp(\"1 Norm:\"); \n",
    "% max column sums;\n",
    "disp(max((abs(A(1,1))+ abs(A(2,1)) ), (abs(A(1,2))+ abs(A(2,2)) ) ));  \n",
    "disp(\"2 Norm:\"); \n",
    "% max of singular values.\n",
    "disp(max(eigenvalues));\n",
    "% max row sums\n",
    "disp(\"Inf Norm:\"); disp(max((abs(A(1,1))+ abs(A(1,2)) ), (abs(A(2,1))+ abs(A(2,2)) ) ));\n",
    "% square root of square of all cells on matrix.\n",
    "disp(\"Frobenius Norm:\") ;disp(sqrt(A(1,1)^2+A(1,2)^2+A(2,1)^2+A(2,2)^2));\n",
    "\n",
    "%% d\n",
    "disp(\"---------------d------------\");\n",
    "\n",
    "% A^-1= V * sigma^-1  * UT\n",
    "inv_S=[1/eigenvalues(1) 0; 0 ,1/eigenvalues(2)] ;\n",
    "\n",
    "disp(\"A inverse\"); disp(VT'* inv_S * U');\n",
    "\n",
    "%% e\n",
    "disp(\"---------------e------------\");\n",
    "Aeigvals=eigvalues(A);\n",
    "disp(\"Eigenvalues of A\");disp(Aeigvals);\n",
    "\n",
    "%% f\n",
    "disp(\"---------------f------------\");\n",
    "\n",
    "disp(\"Det of A from eigen values\");disp(Aeigvals(1)*Aeigvals(2));\n",
    "disp(\"Det of A equals to product of eigenvalues.\");\n",
    "\n",
    "disp(\"Det of A from singular values\");disp(eigenvalues(1)*eigenvalues(2));\n",
    "disp(\"Det of A equals to product of singular values of A.\");\n",
    "\n",
    "# Part g\n",
    "\n",
    "disp(\"---------------g------------\");\n",
    "disp(\"Area of ellipsoid A maps the unit ball :\"), disp(pi*Aeigvals(1)*Aeigvals(2));"
   ]
  },
  {
   "cell_type": "code",
   "execution_count": null,
   "metadata": {
    "collapsed": true
   },
   "outputs": [],
   "source": []
  }
 ],
 "metadata": {
  "kernelspec": {
   "display_name": "Octave",
   "language": "octave",
   "name": "octave"
  },
  "language_info": {
   "file_extension": ".m",
   "help_links": [
    {
     "text": "GNU Octave",
     "url": "https://www.gnu.org/software/octave/support.html"
    },
    {
     "text": "Octave Kernel",
     "url": "https://github.com/Calysto/octave_kernel"
    },
    {
     "text": "MetaKernel Magics",
     "url": "https://github.com/calysto/metakernel/blob/master/metakernel/magics/README.md"
    }
   ],
   "mimetype": "text/x-octave",
   "name": "octave",
   "version": "4.2.0"
  }
 },
 "nbformat": 4,
 "nbformat_minor": 2
}
