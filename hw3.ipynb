{
 "cells": [
  {
   "cell_type": "markdown",
   "metadata": {},
   "source": [
    "## Homework 3"
   ]
  },
  {
   "cell_type": "markdown",
   "metadata": {},
   "source": [
    "### 3.6.a"
   ]
  },
  {
   "cell_type": "markdown",
   "metadata": {},
   "source": [
    "In order to prove $\\|\\cdot\\|'$ is a norm, we have to prove the following:\n",
    "1. $\\| \\mathbf{x} \\|'=0$ if and only if $\\mathbf{x}=0$,  \n",
    "2. $\\| \\mathbf{x} + \\mathbf{y}\\|' \\leq \\| \\mathbf{x} \\|' + \\| \\mathbf{y} \\|'$\n",
    "3. $\\| \\alpha \\mathbf{x} \\| = \\left| \\alpha \\right| \\| \\mathbf{x} \\|$"
   ]
  },
  {
   "cell_type": "markdown",
   "metadata": {},
   "source": [
    "$$\\|\\mathbf{x}\\|' = \\sup_{\\|y\\|=1} \\left| \\mathbf{y}^* \\mathbf{x} \\right| $$"
   ]
  },
  {
   "cell_type": "markdown",
   "metadata": {},
   "source": [
    "1. If $\\mathbf{x}=0$, $\\left| \\mathbf{y}^* \\mathbf{x} \\right| = 0$ for every $\\|\\mathbf{y}\\|=1$.  \n",
    "If $\\left| \\mathbf{y}^* \\mathbf{x} \\right|=0$, $\\mathbf{x}=0$ should hold. Take a non-zero vector $\\mathbf{x}$. We can always choose the $\\mathbf{y}$ such that $\\mathbf{y}=\\frac{x}{\\|x\\|}$. In this case $\\| \\mathbf{x} \\|' >0$. Therefore $\\|x\\|'=0, x\\neq0$ is not true.  \n",
    "\n",
    "2.  \n",
    "\n",
    "3.  $$\\sup_{\\|y\\|=1}\\left|\\mathbf{y}^*\\alpha\\mathbf{x}\\right|$$  \n",
    "$$\\sup_{\\|y\\|=1}\\left|y^*_1 \\alpha x_1 + y^*_2 \\alpha x_2 + \\dots + y^*_m \\alpha x_m \\right|$$  \n",
    "$$\\sup_{\\|y\\|=1} \\left| \\left( \\alpha \\right) \\left( y^*_1 x_1 + y^*_2 x_2 + \\dots + y^*_m x_m \\right) \\right|$$  \n",
    "$$\\sup_{\\|y\\|=1}\\left|\\alpha\\right| \\left| y^*_1 x_1 + y^*_2 x_2 + \\dots + y^*_m x_m \\right|$$    \n",
    "$$\\left|\\alpha\\right| \\sup_{\\|y\\|=1} \\left| \\mathbf{y}^* \\mathbf{x} \\right|$$"
   ]
  },
  {
   "cell_type": "markdown",
   "metadata": {},
   "source": []
  },
  {
   "cell_type": "code",
   "execution_count": null,
   "metadata": {
    "collapsed": true
   },
   "outputs": [],
   "source": []
  }
 ],
 "metadata": {
  "kernelspec": {
   "display_name": "Octave",
   "language": "octave",
   "name": "octave"
  },
  "language_info": {
   "file_extension": ".m",
   "help_links": [
    {
     "text": "GNU Octave",
     "url": "https://www.gnu.org/software/octave/support.html"
    },
    {
     "text": "Octave Kernel",
     "url": "https://github.com/Calysto/octave_kernel"
    },
    {
     "text": "MetaKernel Magics",
     "url": "https://github.com/calysto/metakernel/blob/master/metakernel/magics/README.md"
    }
   ],
   "mimetype": "text/x-octave",
   "name": "octave",
   "version": "4.2.0"
  }
 },
 "nbformat": 4,
 "nbformat_minor": 2
}
