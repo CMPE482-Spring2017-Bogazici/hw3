{
 "cells": [
  {
   "cell_type": "markdown",
   "metadata": {
    "deletable": true,
    "editable": true
   },
   "source": [
    "## Homework 3"
   ]
  },
  {
   "cell_type": "markdown",
   "metadata": {
    "deletable": true,
    "editable": true
   },
   "source": [
    "### 3.6.a"
   ]
  },
  {
   "cell_type": "markdown",
   "metadata": {
    "deletable": true,
    "editable": true
   },
   "source": [
    "In order to prove $\\|\\cdot\\|'$ is a norm, we have to prove the following:\n",
    "1. $\\| \\mathbf{x} \\|'=0$ if and only if $\\mathbf{x}=0$,  \n",
    "2. $\\| \\mathbf{x} + \\mathbf{y}\\|' \\leq \\| \\mathbf{x} \\|' + \\| \\mathbf{y} \\|'$\n",
    "3. $\\| \\alpha \\mathbf{x} \\| = \\left| \\alpha \\right| \\| \\mathbf{x} \\|$"
   ]
  },
  {
   "cell_type": "markdown",
   "metadata": {
    "deletable": true,
    "editable": true
   },
   "source": [
    "$$\\|\\mathbf{x}\\|' = \\sup_{\\|y\\|=1} \\left| \\mathbf{y}^* \\mathbf{x} \\right| $$"
   ]
  },
  {
   "cell_type": "markdown",
   "metadata": {
    "deletable": true,
    "editable": true
   },
   "source": [
    "1. If $\\mathbf{x}=0$, $\\left| \\mathbf{y}^* \\mathbf{x} \\right| = 0$ for every $\\|\\mathbf{y}\\|=1$.  \n",
    "If $\\left| \\mathbf{y}^* \\mathbf{x} \\right|=0$, $\\mathbf{x}=0$ should hold. Take a non-zero vector $\\mathbf{x}$. We can always choose the $\\mathbf{y}$ such that $\\mathbf{y}=\\frac{\\mathbf{x}}{\\|\\mathbf{x}\\|}$. In this case $\\| \\mathbf{x} \\|' >0$. Therefore $\\|\\mathbf{x}\\|'=0, \\mathbf{x}\\neq0$ is not true.  \n",
    "\n",
    "2.  $$\\sup_{\\|y\\|=1}\\left|\\mathbf{y}^*\\left(\\mathbf{x}+\\mathbf{z}\\right)\\right|$$  \n",
    "$$\\sup_{\\|y\\|=1}\\left|\\mathbf{y}^*\\mathbf{x} + \\mathbf{y}^*\\mathbf{z}\\right|$$  \n",
    "Let us say $\\mathbf{y}^M$ is the vector which maximises $\\|\\mathbf{x}+\\mathbf{z}\\|$. Since $\\left|\\mathbf{x}+\\mathbf{z}\\right| \\leq \\left|\\mathbf{x}\\right| + \\left|\\mathbf{z}\\right|$, $\\left|\\mathbf{y}^{M*} \\mathbf{x} + \\mathbf{y}^{M*}\\mathbf{z}\\right| \\leq \\left| \\mathbf{y}^{M*}\\mathbf{x}\\right| + \\left|\\mathbf{y}^{M*}\\mathbf{z}\\right|$ is true.  \n",
    "\n",
    "3.  $$\\sup_{\\|y\\|=1}\\left|\\mathbf{y}^*\\alpha\\mathbf{x}\\right|$$  \n",
    "$$\\sup_{\\|y\\|=1}\\left|y^*_1 \\alpha x_1 + y^*_2 \\alpha x_2 + \\dots + y^*_m \\alpha x_m \\right|$$  \n",
    "$$\\sup_{\\|y\\|=1} \\left| \\left( \\alpha \\right) \\left( y^*_1 x_1 + y^*_2 x_2 + \\dots + y^*_m x_m \\right) \\right|$$  \n",
    "$$\\sup_{\\|y\\|=1}\\left|\\alpha\\right| \\left| y^*_1 x_1 + y^*_2 x_2 + \\dots + y^*_m x_m \\right|$$    \n",
    "$$\\left|\\alpha\\right| \\sup_{\\|y\\|=1} \\left| \\mathbf{y}^* \\mathbf{x} \\right|$$"
   ]
  },
  {
   "cell_type": "markdown",
   "metadata": {
    "deletable": true,
    "editable": true
   },
   "source": [
    "### 5.3"
   ]
  },
  {
   "cell_type": "markdown",
   "metadata": {},
   "source": [
    "#### a."
   ]
  },
  {
   "cell_type": "markdown",
   "metadata": {},
   "source": [
    "$$ A = U\\Sigma V^* $$  \n",
    "Since $U$ and $V^*$ are unitary,  $V^*=V^-$\n",
    "$$ A^*A =  V\\Sigma^* U^*U\\Sigma V^* $$  \n",
    "$$ A^*A = V\\Sigma^2 V^* $$  \n",
    "$$ AA^* =  U\\Sigma V^*V\\Sigma^* U^* $$  \n",
    "$$ AA^* = U\\Sigma^2 U^* $$  \n",
    "We find eigenvalues and eigenvectors of $A^*A$ and $AA^*$. Eigenvalues give $\\Sigma^2$, left eigenvectors of $A^*A$ give $V$, left eigenvectors of $AA^*$ give $U$."
   ]
  },
  {
   "cell_type": "code",
   "execution_count": 6,
   "metadata": {
    "collapsed": false
   },
   "outputs": [
    {
     "name": "stdout",
     "output_type": "stream",
     "text": [
      "eigenvalues =\n",
      "\n",
      "   200\n",
      "    50\n",
      "\n",
      "eigenvector_1 =\n",
      "\n",
      "   0.60000\n",
      "  -0.80000\n",
      "\n",
      "eigenvector_2 =\n",
      "\n",
      "   0.80000\n",
      "   0.60000\n",
      "\n",
      "V =\n",
      "\n",
      "   0.60000  -0.80000\n",
      "   0.80000   0.60000\n",
      "\n",
      "eigenvector_1 =\n",
      "\n",
      "  -0.70711\n",
      "  -0.70711\n",
      "\n",
      "eigenvector_2 =\n",
      "\n",
      "  -0.70711\n",
      "   0.70711\n",
      "\n",
      "U =\n",
      "\n",
      "  -0.70711  -0.70711\n",
      "  -0.70711   0.70711\n",
      "\n",
      "S =\n",
      "\n",
      "   14.14214    0.00000\n",
      "    0.00000    7.07107\n",
      "\n",
      "B =\n",
      "\n",
      "   -2.0000  -11.0000\n",
      "  -10.0000   -5.0000\n",
      "\n"
     ]
    }
   ],
   "source": [
    "A = [-2,11;-10,5];\n",
    "A_ta = A'*A;\n",
    "eigenvalues = roots([1, -A_ta(1,1)-A_ta(2,2) , A_ta(1,1)*A_ta(2,2)-A_ta(1,2)*A_ta(2,1)])\n",
    "eigenvector_1 = null(A_ta-eye(2)*eigenvalues(1))\n",
    "eigenvector_2 = null(A_ta-eye(2)*eigenvalues(2))\n",
    "V = [eigenvector_1'; eigenvector_2']\n",
    "\n",
    "Aa_t = A*A';\n",
    "eigenvector_1 = null(Aa_t-eye(2)*eigenvalues(1))\n",
    "eigenvector_2 = null(Aa_t-eye(2)*eigenvalues(2))\n",
    "\n",
    "U = [eigenvector_1, eigenvector_2]\n",
    "\n",
    "S = [sqrt(eigenvalues(1)), 0; 0, sqrt(eigenvalues(2))]\n",
    "\n",
    "B = U * S * V'"
   ]
  },
  {
   "cell_type": "markdown",
   "metadata": {},
   "source": [
    "#### b."
   ]
  },
  {
   "cell_type": "code",
   "execution_count": 147,
   "metadata": {
    "collapsed": false,
    "scrolled": false
   },
   "outputs": [
    {
     "name": "stdout",
     "output_type": "stream",
     "text": [
      "r =  1\n"
     ]
    },
    {
     "data": {
      "image/svg+xml": [
       "<svg height=\"420px\" viewBox=\"0 0 560 420\" width=\"560px\" xmlns=\"http://www.w3.org/2000/svg\" xmlns:xlink=\"http://www.w3.org/1999/xlink\">\n",
       "\n",
       "<title>Gnuplot</title>\n",
       "<desc>Produced by GNUPLOT 5.0 patchlevel 5 </desc>\n",
       "\n",
       "<g id=\"gnuplot_canvas\">\n",
       "\n",
       "<rect fill=\"#ffffff\" height=\"420\" width=\"560\" x=\"0\" y=\"0\"/>\n",
       "<defs>\n",
       "\n",
       "\t<circle id=\"gpDot\" r=\"0.5\" stroke-width=\"0.5\"/>\n",
       "\t<path d=\"M-1,0 h2 M0,-1 v2\" id=\"gpPt0\" stroke=\"currentColor\" stroke-width=\"0.333\"/>\n",
       "\t<path d=\"M-1,-1 L1,1 M1,-1 L-1,1\" id=\"gpPt1\" stroke=\"currentColor\" stroke-width=\"0.333\"/>\n",
       "\t<path d=\"M-1,0 L1,0 M0,-1 L0,1 M-1,-1 L1,1 M-1,1 L1,-1\" id=\"gpPt2\" stroke=\"currentColor\" stroke-width=\"0.333\"/>\n",
       "\t<rect height=\"2\" id=\"gpPt3\" stroke=\"currentColor\" stroke-width=\"0.333\" width=\"2\" x=\"-1\" y=\"-1\"/>\n",
       "\t<rect fill=\"currentColor\" height=\"2\" id=\"gpPt4\" stroke=\"currentColor\" stroke-width=\"0.333\" width=\"2\" x=\"-1\" y=\"-1\"/>\n",
       "\t<circle cx=\"0\" cy=\"0\" id=\"gpPt5\" r=\"1\" stroke=\"currentColor\" stroke-width=\"0.333\"/>\n",
       "\t<use fill=\"currentColor\" id=\"gpPt6\" stroke=\"none\" xlink:href=\"#gpPt5\"/>\n",
       "\t<path d=\"M0,-1.33 L-1.33,0.67 L1.33,0.67 z\" id=\"gpPt7\" stroke=\"currentColor\" stroke-width=\"0.333\"/>\n",
       "\t<use fill=\"currentColor\" id=\"gpPt8\" stroke=\"none\" xlink:href=\"#gpPt7\"/>\n",
       "\t<use id=\"gpPt9\" stroke=\"currentColor\" transform=\"rotate(180)\" xlink:href=\"#gpPt7\"/>\n",
       "\t<use fill=\"currentColor\" id=\"gpPt10\" stroke=\"none\" xlink:href=\"#gpPt9\"/>\n",
       "\t<use id=\"gpPt11\" stroke=\"currentColor\" transform=\"rotate(45)\" xlink:href=\"#gpPt3\"/>\n",
       "\t<use fill=\"currentColor\" id=\"gpPt12\" stroke=\"none\" xlink:href=\"#gpPt11\"/>\n",
       "\t<path d=\"M0,1.330 L1.265,0.411 L0.782,-1.067 L-0.782,-1.076 L-1.265,0.411 z\" id=\"gpPt13\" stroke=\"currentColor\" stroke-width=\"0.333\"/>\n",
       "\t<use fill=\"currentColor\" id=\"gpPt14\" stroke=\"none\" xlink:href=\"#gpPt13\"/>\n",
       "\t<filter filterUnits=\"objectBoundingBox\" height=\"1\" id=\"textbox\" width=\"1\" x=\"0\" y=\"0\">\n",
       "\t  <feFlood flood-color=\"#FFFFFF\" flood-opacity=\"1\" result=\"bgnd\"/>\n",
       "\t  <feComposite in=\"SourceGraphic\" in2=\"bgnd\" operator=\"atop\"/>\n",
       "\t</filter>\n",
       "\t<filter filterUnits=\"objectBoundingBox\" height=\"1\" id=\"greybox\" width=\"1\" x=\"0\" y=\"0\">\n",
       "\t  <feFlood flood-color=\"lightgrey\" flood-opacity=\"1\" result=\"grey\"/>\n",
       "\t  <feComposite in=\"SourceGraphic\" in2=\"grey\" operator=\"atop\"/>\n",
       "\t</filter>\n",
       "</defs>\n",
       "<g color=\"#FFFFFF\" fill=\"none\" stroke=\"currentColor\" stroke-linecap=\"butt\" stroke-linejoin=\"miter\" stroke-width=\"1.00\">\n",
       "</g>\n",
       "<g color=\"black\" fill=\"none\" stroke=\"currentColor\" stroke-linecap=\"butt\" stroke-linejoin=\"miter\" stroke-width=\"1.00\">\n",
       "\t<g shape-rendering=\"crispEdges\" stroke=\"none\">\n",
       "\t\t<polygon fill=\"rgb(255, 255, 255)\" points=\"36.4,396.0 543.0,396.0 543.0,40.7 36.4,40.7 \"/>\n",
       "\t</g>\n",
       "</g>\n",
       "<g color=\"black\" fill=\"none\" stroke=\"currentColor\" stroke-linecap=\"butt\" stroke-linejoin=\"miter\" stroke-width=\"1.00\">\n",
       "\t<path d=\"M36.4,396.0 L44.8,396.0 M543.1,396.0 L534.7,396.0  \" stroke=\"rgb(  0,   0,   0)\"/>\t<g fill=\"rgb(38,38,38)\" font-family=\"Arial\" font-size=\"10.00\" stroke=\"none\" text-anchor=\"end\" transform=\"translate(30.8,399.3)\">\n",
       "\t\t<text><tspan font-family=\"Arial\">-1</tspan></text>\n",
       "\t</g>\n",
       "</g>\n",
       "<g color=\"black\" fill=\"none\" stroke=\"currentColor\" stroke-linecap=\"butt\" stroke-linejoin=\"miter\" stroke-width=\"1.00\">\n",
       "\t<path d=\"M36.4,307.1 L44.8,307.1 M543.1,307.1 L534.7,307.1  \" stroke=\"rgb(  0,   0,   0)\"/>\t<g fill=\"rgb(38,38,38)\" font-family=\"Arial\" font-size=\"10.00\" stroke=\"none\" text-anchor=\"end\" transform=\"translate(30.8,310.4)\">\n",
       "\t\t<text><tspan font-family=\"Arial\">-0.5</tspan></text>\n",
       "\t</g>\n",
       "</g>\n",
       "<g color=\"black\" fill=\"none\" stroke=\"currentColor\" stroke-linecap=\"butt\" stroke-linejoin=\"miter\" stroke-width=\"1.00\">\n",
       "\t<path d=\"M36.4,218.3 L44.8,218.3 M543.1,218.3 L534.7,218.3  \" stroke=\"rgb(  0,   0,   0)\"/>\t<g fill=\"rgb(38,38,38)\" font-family=\"Arial\" font-size=\"10.00\" stroke=\"none\" text-anchor=\"end\" transform=\"translate(30.8,221.6)\">\n",
       "\t\t<text><tspan font-family=\"Arial\">0</tspan></text>\n",
       "\t</g>\n",
       "</g>\n",
       "<g color=\"black\" fill=\"none\" stroke=\"currentColor\" stroke-linecap=\"butt\" stroke-linejoin=\"miter\" stroke-width=\"1.00\">\n",
       "\t<path d=\"M36.4,129.4 L44.8,129.4 M543.1,129.4 L534.7,129.4  \" stroke=\"rgb(  0,   0,   0)\"/>\t<g fill=\"rgb(38,38,38)\" font-family=\"Arial\" font-size=\"10.00\" stroke=\"none\" text-anchor=\"end\" transform=\"translate(30.8,132.7)\">\n",
       "\t\t<text><tspan font-family=\"Arial\">0.5</tspan></text>\n",
       "\t</g>\n",
       "</g>\n",
       "<g color=\"black\" fill=\"none\" stroke=\"currentColor\" stroke-linecap=\"butt\" stroke-linejoin=\"miter\" stroke-width=\"1.00\">\n",
       "\t<path d=\"M36.4,40.6 L44.8,40.6 M543.1,40.6 L534.7,40.6  \" stroke=\"rgb(  0,   0,   0)\"/>\t<g fill=\"rgb(38,38,38)\" font-family=\"Arial\" font-size=\"10.00\" stroke=\"none\" text-anchor=\"end\" transform=\"translate(30.8,43.9)\">\n",
       "\t\t<text><tspan font-family=\"Arial\">1</tspan></text>\n",
       "\t</g>\n",
       "</g>\n",
       "<g color=\"black\" fill=\"none\" stroke=\"currentColor\" stroke-linecap=\"butt\" stroke-linejoin=\"miter\" stroke-width=\"1.00\">\n",
       "\t<path d=\"M36.4,396.0 L36.4,387.6 M36.4,40.6 L36.4,49.0  \" stroke=\"rgb(  0,   0,   0)\"/>\t<g fill=\"rgb(38,38,38)\" font-family=\"Arial\" font-size=\"10.00\" stroke=\"none\" text-anchor=\"middle\" transform=\"translate(36.4,411.3)\">\n",
       "\t\t<text><tspan font-family=\"Arial\">-1</tspan></text>\n",
       "\t</g>\n",
       "</g>\n",
       "<g color=\"black\" fill=\"none\" stroke=\"currentColor\" stroke-linecap=\"butt\" stroke-linejoin=\"miter\" stroke-width=\"1.00\">\n",
       "\t<path d=\"M163.1,396.0 L163.1,387.6 M163.1,40.6 L163.1,49.0  \" stroke=\"rgb(  0,   0,   0)\"/>\t<g fill=\"rgb(38,38,38)\" font-family=\"Arial\" font-size=\"10.00\" stroke=\"none\" text-anchor=\"middle\" transform=\"translate(163.1,411.3)\">\n",
       "\t\t<text><tspan font-family=\"Arial\">-0.5</tspan></text>\n",
       "\t</g>\n",
       "</g>\n",
       "<g color=\"black\" fill=\"none\" stroke=\"currentColor\" stroke-linecap=\"butt\" stroke-linejoin=\"miter\" stroke-width=\"1.00\">\n",
       "\t<path d=\"M289.8,396.0 L289.8,387.6 M289.8,40.6 L289.8,49.0  \" stroke=\"rgb(  0,   0,   0)\"/>\t<g fill=\"rgb(38,38,38)\" font-family=\"Arial\" font-size=\"10.00\" stroke=\"none\" text-anchor=\"middle\" transform=\"translate(289.8,411.3)\">\n",
       "\t\t<text><tspan font-family=\"Arial\">0</tspan></text>\n",
       "\t</g>\n",
       "</g>\n",
       "<g color=\"black\" fill=\"none\" stroke=\"currentColor\" stroke-linecap=\"butt\" stroke-linejoin=\"miter\" stroke-width=\"1.00\">\n",
       "\t<path d=\"M416.4,396.0 L416.4,387.6 M416.4,40.6 L416.4,49.0  \" stroke=\"rgb(  0,   0,   0)\"/>\t<g fill=\"rgb(38,38,38)\" font-family=\"Arial\" font-size=\"10.00\" stroke=\"none\" text-anchor=\"middle\" transform=\"translate(416.4,411.3)\">\n",
       "\t\t<text><tspan font-family=\"Arial\">0.5</tspan></text>\n",
       "\t</g>\n",
       "</g>\n",
       "<g color=\"black\" fill=\"none\" stroke=\"currentColor\" stroke-linecap=\"butt\" stroke-linejoin=\"miter\" stroke-width=\"1.00\">\n",
       "\t<path d=\"M543.1,396.0 L543.1,387.6 M543.1,40.6 L543.1,49.0  \" stroke=\"rgb(  0,   0,   0)\"/>\t<g fill=\"rgb(38,38,38)\" font-family=\"Arial\" font-size=\"10.00\" stroke=\"none\" text-anchor=\"middle\" transform=\"translate(543.1,411.3)\">\n",
       "\t\t<text><tspan font-family=\"Arial\">1</tspan></text>\n",
       "\t</g>\n",
       "</g>\n",
       "<g color=\"black\" fill=\"none\" stroke=\"currentColor\" stroke-linecap=\"butt\" stroke-linejoin=\"miter\" stroke-width=\"1.00\">\n",
       "</g>\n",
       "<g color=\"black\" fill=\"none\" stroke=\"currentColor\" stroke-linecap=\"butt\" stroke-linejoin=\"miter\" stroke-width=\"1.00\">\n",
       "\t<g fill=\"rgb(0,0,0)\" font-family=\":Bold\" font-size=\"11.00\" stroke=\"none\" text-anchor=\"middle\" transform=\"translate(289.7,21.7)\">\n",
       "\t\t<text><tspan font-family=\"\" font-weight=\"bold\">u vectors</tspan></text>\n",
       "\t</g>\n",
       "</g>\n",
       "<g color=\"black\" fill=\"none\" stroke=\"currentColor\" stroke-linecap=\"butt\" stroke-linejoin=\"miter\" stroke-width=\"1.00\">\n",
       "</g>\n",
       "\t<g id=\"gnuplot_plot_1a\"><title>gnuplot_plot_1a</title>\n",
       "<g color=\"#FFFFFF\" fill=\"none\" stroke=\"currentColor\" stroke-linecap=\"butt\" stroke-linejoin=\"miter\" stroke-width=\"3.00\">\n",
       "</g>\n",
       "<g color=\"black\" fill=\"none\" stroke=\"currentColor\" stroke-linecap=\"butt\" stroke-linejoin=\"miter\" stroke-width=\"3.00\">\n",
       "\t<path d=\"M543.1,218.3 L543.1,216.5 L543.0,214.7 L543.0,213.0 L542.9,211.2 L542.8,209.4 L542.6,207.6 L542.5,205.9   L542.3,204.1 L542.1,202.3 L541.8,200.6 L541.6,198.8 L541.3,197.0 L541.0,195.3 L540.6,193.5 L540.3,191.7   L539.9,190.0 L539.4,188.2 L539.0,186.5 L538.5,184.7 L538.0,183.0 L537.5,181.3 L537.0,179.5 L536.4,177.8   L535.8,176.1 L535.2,174.3 L534.6,172.6 L533.9,170.9 L533.2,169.2 L532.5,167.5 L531.8,165.8 L531.0,164.1   L530.2,162.4 L529.4,160.7 L528.6,159.0 L527.7,157.4 L526.9,155.7 L526.0,154.0 L525.0,152.4 L524.1,150.7   L523.1,149.1 L522.1,147.5 L521.1,145.8 L520.0,144.2 L519.0,142.6 L517.9,141.0 L516.8,139.4 L515.6,137.8   L514.5,136.2 L513.3,134.7 L512.1,133.1 L510.9,131.6 L509.6,130.0 L508.3,128.5 L507.1,126.9 L505.7,125.4   L504.4,123.9 L503.0,122.4 L501.7,120.9 L500.3,119.4 L498.8,118.0 L497.4,116.5 L495.9,115.1 L494.5,113.6   L493.0,112.2 L491.4,110.8 L489.9,109.3 L488.3,108.0 L486.7,106.6 L485.1,105.2 L483.5,103.8 L481.9,102.5   L480.2,101.1 L478.5,99.8 L476.8,98.5 L475.1,97.2 L473.4,95.9 L471.6,94.6 L469.9,93.3 L468.1,92.1   L466.3,90.8 L464.4,89.6 L462.6,88.4 L460.7,87.2 L458.9,86.0 L457.0,84.8 L455.0,83.6 L453.1,82.5   L451.2,81.3 L449.2,80.2 L447.2,79.1 L445.2,78.0 L443.2,76.9 L441.2,75.9 L439.2,74.8 L437.1,73.8   L435.1,72.7 L433.0,71.7 L430.9,70.7 L428.8,69.7 L426.6,68.8 L424.5,67.8 L422.3,66.9 L420.2,66.0   L418.0,65.1 L415.8,64.2 L413.6,63.3 L411.4,62.4 L409.2,61.6 L406.9,60.7 L404.7,59.9 L402.4,59.1   L400.1,58.4 L397.8,57.6 L395.5,56.8 L393.2,56.1 L390.9,55.4 L388.6,54.7 L386.3,54.0 L383.9,53.3   L381.6,52.7 L379.2,52.0 L376.8,51.4 L374.4,50.8 L372.0,50.2 L369.6,49.7 L367.2,49.1 L364.8,48.6   L362.4,48.1 L360.0,47.6 L357.5,47.1 L355.1,46.6 L352.6,46.2 L350.2,45.7 L347.7,45.3 L345.2,44.9   L342.8,44.5 L340.3,44.2 L337.8,43.8 L335.3,43.5 L332.8,43.2 L330.3,42.9 L327.8,42.6 L325.3,42.4   L322.8,42.1 L320.3,41.9 L317.8,41.7 L315.2,41.5 L312.7,41.3 L310.2,41.2 L307.7,41.0 L305.1,40.9   L302.6,40.8 L300.1,40.7 L297.6,40.7 L295.0,40.6 L292.5,40.6 L290.0,40.6 L287.4,40.6 L284.9,40.6   L282.4,40.7 L279.8,40.7 L277.3,40.8 L274.8,40.9 L272.2,41.0 L269.7,41.2 L267.2,41.3 L264.7,41.5   L262.1,41.7 L259.6,41.9 L257.1,42.1 L254.6,42.3 L252.1,42.6 L249.6,42.8 L247.1,43.1 L244.6,43.4   L242.1,43.8 L239.6,44.1 L237.1,44.5 L234.7,44.9 L232.2,45.2 L229.7,45.7 L227.3,46.1 L224.8,46.5   L222.4,47.0 L219.9,47.5 L217.5,48.0 L215.1,48.5 L212.7,49.0 L210.2,49.6 L207.8,50.1 L205.5,50.7   L203.1,51.3 L200.7,51.9 L198.3,52.6 L196.0,53.2 L193.6,53.9 L191.3,54.6 L188.9,55.3 L186.6,56.0   L184.3,56.7 L182.0,57.5 L179.7,58.2 L177.5,59.0 L175.2,59.8 L172.9,60.6 L170.7,61.4 L168.5,62.3   L166.2,63.1 L164.0,64.0 L161.8,64.9 L159.7,65.8 L157.5,66.7 L155.3,67.7 L153.2,68.6 L151.1,69.6   L149.0,70.6 L146.9,71.6 L144.8,72.6 L142.7,73.6 L140.7,74.6 L138.6,75.7 L136.6,76.8 L134.6,77.8   L132.6,78.9 L130.6,80.0 L128.6,81.2 L126.7,82.3 L124.8,83.4 L122.8,84.6 L120.9,85.8 L119.1,87.0   L117.2,88.2 L115.4,89.4 L113.5,90.6 L111.7,91.9 L109.9,93.1 L108.1,94.4 L106.4,95.7 L104.7,97.0   L102.9,98.3 L101.2,99.6 L99.5,100.9 L97.9,102.3 L96.2,103.6 L94.6,105.0 L93.0,106.3 L91.4,107.7   L89.9,109.1 L88.3,110.5 L86.8,112.0 L85.3,113.4 L83.8,114.8 L82.3,116.3 L80.9,117.7 L79.5,119.2   L78.1,120.7 L76.7,122.2 L75.3,123.7 L74.0,125.2 L72.7,126.7 L71.4,128.2 L70.1,129.8 L68.8,131.3   L67.6,132.9 L66.4,134.4 L65.2,136.0 L64.1,137.6 L62.9,139.2 L61.8,140.8 L60.7,142.4 L59.6,144.0   L58.6,145.6 L57.6,147.2 L56.6,148.8 L55.6,150.5 L54.6,152.1 L53.7,153.8 L52.8,155.4 L51.9,157.1   L51.0,158.8 L50.2,160.4 L49.4,162.1 L48.6,163.8 L47.8,165.5 L47.1,167.2 L46.4,168.9 L45.7,170.6   L45.0,172.3 L44.4,174.1 L43.8,175.8 L43.2,177.5 L42.6,179.2 L42.1,181.0 L41.5,182.7 L41.0,184.5   L40.6,186.2 L40.1,188.0 L39.7,189.7 L39.3,191.5 L38.9,193.2 L38.6,195.0 L38.3,196.7 L38.0,198.5   L37.7,200.3 L37.5,202.0 L37.2,203.8 L37.0,205.6 L36.9,207.4 L36.7,209.1 L36.6,210.9 L36.5,212.7   L36.5,214.5 L36.4,216.2 L36.4,218.0 L36.4,219.8 L36.4,221.6 L36.5,223.3 L36.6,225.1 L36.7,226.9   L36.8,228.7 L37.0,230.4 L37.2,232.2 L37.4,234.0 L37.6,235.8 L37.9,237.5 L38.2,239.3 L38.5,241.1   L38.8,242.8 L39.2,244.6 L39.6,246.3 L40.0,248.1 L40.4,249.8 L40.9,251.6 L41.4,253.3 L41.9,255.1   L42.4,256.8 L43.0,258.5 L43.6,260.3 L44.2,262.0 L44.8,263.7 L45.5,265.4 L46.2,267.1 L46.9,268.8   L47.6,270.5 L48.4,272.2 L49.1,273.9 L49.9,275.6 L50.8,277.3 L51.6,279.0 L52.5,280.6 L53.4,282.3   L54.3,283.9 L55.3,285.6 L56.2,287.2 L57.2,288.9 L58.3,290.5 L59.3,292.1 L60.4,293.7 L61.4,295.3   L62.6,296.9 L63.7,298.5 L64.8,300.1 L66.0,301.7 L67.2,303.2 L68.4,304.8 L69.7,306.3 L71.0,307.9   L72.2,309.4 L73.6,310.9 L74.9,312.5 L76.2,314.0 L77.6,315.4 L79.0,316.9 L80.4,318.4 L81.9,319.9   L83.3,321.3 L84.8,322.8 L86.3,324.2 L87.8,325.6 L89.4,327.0 L90.9,328.4 L92.5,329.8 L94.1,331.2   L95.7,332.6 L97.4,333.9 L99.0,335.3 L100.7,336.6 L102.4,337.9 L104.1,339.2 L105.8,340.5 L107.6,341.8   L109.4,343.1 L111.1,344.3 L113.0,345.6 L114.8,346.8 L116.6,348.0 L118.5,349.2 L120.3,350.4 L122.2,351.6   L124.1,352.8 L126.1,353.9 L128.0,355.1 L130.0,356.2 L131.9,357.3 L133.9,358.4 L135.9,359.5 L138.0,360.6   L140.0,361.6 L142.1,362.7 L144.1,363.7 L146.2,364.7 L148.3,365.7 L150.4,366.7 L152.5,367.7 L154.7,368.6   L156.8,369.6 L159.0,370.5 L161.2,371.4 L163.3,372.3 L165.5,373.2 L167.8,374.0 L170.0,374.9 L172.2,375.7   L174.5,376.5 L176.7,377.3 L179.0,378.1 L181.3,378.9 L183.6,379.6 L185.9,380.4 L188.2,381.1 L190.5,381.8   L192.9,382.5 L195.2,383.2 L197.6,383.8 L199.9,384.5 L202.3,385.1 L204.7,385.7 L207.1,386.3 L209.5,386.8   L211.9,387.4 L214.3,387.9 L216.7,388.5 L219.2,389.0 L221.6,389.4 L224.0,389.9 L226.5,390.4 L228.9,390.8   L231.4,391.2 L233.9,391.6 L236.3,392.0 L238.8,392.4 L241.3,392.7 L243.8,393.1 L246.3,393.4 L248.8,393.7   L251.3,393.9 L253.8,394.2 L256.3,394.4 L258.8,394.7 L261.3,394.9 L263.9,395.1 L266.4,395.2 L268.9,395.4   L271.4,395.5 L274.0,395.7 L276.5,395.8 L279.0,395.8 L281.5,395.9 L284.1,396.0 L286.6,396.0 L289.1,396.0   L291.7,396.0 L294.2,396.0 L296.7,395.9 L299.3,395.9 L301.8,395.8 L304.3,395.7 L306.9,395.6 L309.4,395.5   L311.9,395.3 L314.4,395.2 L317.0,395.0 L319.5,394.8 L322.0,394.6 L324.5,394.3 L327.0,394.1 L329.5,393.8   L332.0,393.5 L334.5,393.2 L337.0,392.9 L339.5,392.5 L342.0,392.2 L344.4,391.8 L346.9,391.4 L349.4,391.0   L351.8,390.6 L354.3,390.1 L356.7,389.7 L359.2,389.2 L361.6,388.7 L364.0,388.2 L366.5,387.7 L368.9,387.1   L371.3,386.5 L373.7,386.0 L376.1,385.4 L378.4,384.8 L380.8,384.1 L383.2,383.5 L385.5,382.8 L387.9,382.1   L390.2,381.4 L392.5,380.7 L394.8,380.0 L397.1,379.3 L399.4,378.5 L401.7,377.7 L403.9,376.9 L406.2,376.1   L408.4,375.3 L410.7,374.4 L412.9,373.6 L415.1,372.7 L417.3,371.8 L419.5,370.9 L421.7,370.0 L423.8,369.1   L426.0,368.1 L428.1,367.2 L430.2,366.2 L432.3,365.2 L434.4,364.2 L436.5,363.2 L438.5,362.1 L440.6,361.1   L442.6,360.0 L444.6,358.9 L446.6,357.8 L448.6,356.7 L450.5,355.6 L452.5,354.5 L454.4,353.3 L456.3,352.2   L458.2,351.0 L460.1,349.8 L462.0,348.6 L463.8,347.4 L465.7,346.2 L467.5,344.9 L469.3,343.7 L471.1,342.4   L472.8,341.1 L474.6,339.8 L476.3,338.5 L478.0,337.2 L479.7,335.9 L481.4,334.6 L483.0,333.2 L484.6,331.8   L486.2,330.5 L487.8,329.1 L489.4,327.7 L490.9,326.3 L492.5,324.9 L494.0,323.4 L495.5,322.0 L496.9,320.6   L498.4,319.1 L499.8,317.6 L501.2,316.2 L502.6,314.7 L504.0,313.2 L505.3,311.7 L506.6,310.1 L507.9,308.6   L509.2,307.1 L510.5,305.5 L511.7,304.0 L512.9,302.4 L514.1,300.9 L515.3,299.3 L516.4,297.7 L517.5,296.1   L518.6,294.5 L519.7,292.9 L520.8,291.3 L521.8,289.7 L522.8,288.0 L523.8,286.4 L524.7,284.7 L525.7,283.1   L526.6,281.4 L527.5,279.8 L528.3,278.1 L529.2,276.4 L530.0,274.7 L530.8,273.0 L531.5,271.4 L532.3,269.7   L533.0,268.0 L533.7,266.2 L534.4,264.5 L535.0,262.8 L535.6,261.1 L536.2,259.4 L536.8,257.6 L537.4,255.9   L537.9,254.2 L538.4,252.4 L538.9,250.7 L539.3,248.9 L539.7,247.2 L540.1,245.4 L540.5,243.7 L540.9,241.9   L541.2,240.1 L541.5,238.4 L541.8,236.6 L542.0,234.8 L542.2,233.1 L542.4,231.3 L542.6,229.5 L542.7,227.7   L542.9,226.0 L543.0,224.2 L543.0,222.4 L543.1,220.6 L543.1,218.9  \" stroke=\"rgb(  0,   0, 255)\"/></g>\n",
       "\t</g>\n",
       "\t<g id=\"gnuplot_plot_2a\"><title>gnuplot_plot_2a</title>\n",
       "<g color=\"#FFFFFF\" fill=\"none\" stroke=\"rgb(  0,   0, 255)\" stroke-linecap=\"butt\" stroke-linejoin=\"miter\" stroke-width=\"0.50\">\n",
       "</g>\n",
       "<g color=\"black\" fill=\"none\" stroke=\"currentColor\" stroke-linecap=\"butt\" stroke-linejoin=\"miter\" stroke-width=\"0.50\">\n",
       "\t<path d=\"M289.8,218.3 L441.8,360.5 L424.9,324.9 L441.8,360.5 L397.8,339.1  \" stroke=\"rgb(  0,   0, 255)\"/></g>\n",
       "\t</g>\n",
       "\t<g id=\"gnuplot_plot_3a\"><title>gnuplot_plot_3a</title>\n",
       "<g color=\"black\" fill=\"none\" stroke=\"currentColor\" stroke-linecap=\"butt\" stroke-linejoin=\"miter\" stroke-width=\"0.50\">\n",
       "\t<path d=\"M289.8,218.3 L492.4,111.7 L441.8,123.5 L492.4,111.7 L462.0,142.5  \" stroke=\"rgb(  0,   0, 255)\"/></g>\n",
       "\t</g>\n",
       "<g color=\"#FFFFFF\" fill=\"none\" stroke=\"rgb(  0,   0, 255)\" stroke-linecap=\"butt\" stroke-linejoin=\"miter\" stroke-width=\"2.00\">\n",
       "</g>\n",
       "<g color=\"black\" fill=\"none\" stroke=\"currentColor\" stroke-linecap=\"butt\" stroke-linejoin=\"miter\" stroke-width=\"2.00\">\n",
       "</g>\n",
       "<g color=\"black\" fill=\"none\" stroke=\"black\" stroke-linecap=\"butt\" stroke-linejoin=\"miter\" stroke-width=\"0.50\">\n",
       "</g>\n",
       "<g color=\"black\" fill=\"none\" stroke=\"currentColor\" stroke-linecap=\"butt\" stroke-linejoin=\"miter\" stroke-width=\"0.50\">\n",
       "\t<path d=\"M36.4,396.0 L543.1,396.0  \" stroke=\"rgb( 38,  38,  38)\"/></g>\n",
       "<g color=\"black\" fill=\"none\" stroke=\"currentColor\" stroke-linecap=\"butt\" stroke-linejoin=\"miter\" stroke-width=\"0.50\">\n",
       "\t<path d=\"M36.4,40.6 L543.1,40.6  \" stroke=\"rgb( 38,  38,  38)\"/></g>\n",
       "<g color=\"black\" fill=\"none\" stroke=\"currentColor\" stroke-linecap=\"butt\" stroke-linejoin=\"miter\" stroke-width=\"0.50\">\n",
       "\t<path d=\"M36.4,396.0 L36.4,40.6  \" stroke=\"rgb( 38,  38,  38)\"/></g>\n",
       "<g color=\"black\" fill=\"none\" stroke=\"currentColor\" stroke-linecap=\"butt\" stroke-linejoin=\"miter\" stroke-width=\"0.50\">\n",
       "\t<path d=\"M543.1,396.0 L543.1,40.6  \" stroke=\"rgb( 38,  38,  38)\"/></g>\n",
       "<g color=\"black\" fill=\"none\" stroke=\"rgb( 38,  38,  38)\" stroke-linecap=\"butt\" stroke-linejoin=\"miter\" stroke-width=\"1.00\">\n",
       "</g>\n",
       "<g color=\"black\" fill=\"none\" stroke=\"currentColor\" stroke-linecap=\"butt\" stroke-linejoin=\"miter\" stroke-width=\"1.00\">\n",
       "</g>\n",
       "</g>\n",
       "</svg>"
      ],
      "text/plain": [
       "<IPython.core.display.SVG object>"
      ]
     },
     "metadata": {},
     "output_type": "display_data"
    }
   ],
   "source": [
    "x = 0:0.01:2*pi;\n",
    "r = 1\n",
    "xx = r .* cos(x);\n",
    "yy = r .* sin(x);\n",
    "plot(xx, yy, \"linewidth\", 3, \"b\")\n",
    "\n",
    "hold on\n",
    "compass(V(1,1), V(1,2))\n",
    "compass(V(2,1), V(2,2))\n",
    "title(\"u vectors\")"
   ]
  },
  {
   "cell_type": "code",
   "execution_count": 148,
   "metadata": {
    "collapsed": false
   },
   "outputs": [
    {
     "data": {
      "image/svg+xml": [
       "<svg height=\"420px\" viewBox=\"0 0 560 420\" width=\"560px\" xmlns=\"http://www.w3.org/2000/svg\" xmlns:xlink=\"http://www.w3.org/1999/xlink\">\n",
       "\n",
       "<title>Gnuplot</title>\n",
       "<desc>Produced by GNUPLOT 5.0 patchlevel 5 </desc>\n",
       "\n",
       "<g id=\"gnuplot_canvas\">\n",
       "\n",
       "<rect fill=\"#ffffff\" height=\"420\" width=\"560\" x=\"0\" y=\"0\"/>\n",
       "<defs>\n",
       "\n",
       "\t<circle id=\"gpDot\" r=\"0.5\" stroke-width=\"0.5\"/>\n",
       "\t<path d=\"M-1,0 h2 M0,-1 v2\" id=\"gpPt0\" stroke=\"currentColor\" stroke-width=\"0.333\"/>\n",
       "\t<path d=\"M-1,-1 L1,1 M1,-1 L-1,1\" id=\"gpPt1\" stroke=\"currentColor\" stroke-width=\"0.333\"/>\n",
       "\t<path d=\"M-1,0 L1,0 M0,-1 L0,1 M-1,-1 L1,1 M-1,1 L1,-1\" id=\"gpPt2\" stroke=\"currentColor\" stroke-width=\"0.333\"/>\n",
       "\t<rect height=\"2\" id=\"gpPt3\" stroke=\"currentColor\" stroke-width=\"0.333\" width=\"2\" x=\"-1\" y=\"-1\"/>\n",
       "\t<rect fill=\"currentColor\" height=\"2\" id=\"gpPt4\" stroke=\"currentColor\" stroke-width=\"0.333\" width=\"2\" x=\"-1\" y=\"-1\"/>\n",
       "\t<circle cx=\"0\" cy=\"0\" id=\"gpPt5\" r=\"1\" stroke=\"currentColor\" stroke-width=\"0.333\"/>\n",
       "\t<use fill=\"currentColor\" id=\"gpPt6\" stroke=\"none\" xlink:href=\"#gpPt5\"/>\n",
       "\t<path d=\"M0,-1.33 L-1.33,0.67 L1.33,0.67 z\" id=\"gpPt7\" stroke=\"currentColor\" stroke-width=\"0.333\"/>\n",
       "\t<use fill=\"currentColor\" id=\"gpPt8\" stroke=\"none\" xlink:href=\"#gpPt7\"/>\n",
       "\t<use id=\"gpPt9\" stroke=\"currentColor\" transform=\"rotate(180)\" xlink:href=\"#gpPt7\"/>\n",
       "\t<use fill=\"currentColor\" id=\"gpPt10\" stroke=\"none\" xlink:href=\"#gpPt9\"/>\n",
       "\t<use id=\"gpPt11\" stroke=\"currentColor\" transform=\"rotate(45)\" xlink:href=\"#gpPt3\"/>\n",
       "\t<use fill=\"currentColor\" id=\"gpPt12\" stroke=\"none\" xlink:href=\"#gpPt11\"/>\n",
       "\t<path d=\"M0,1.330 L1.265,0.411 L0.782,-1.067 L-0.782,-1.076 L-1.265,0.411 z\" id=\"gpPt13\" stroke=\"currentColor\" stroke-width=\"0.333\"/>\n",
       "\t<use fill=\"currentColor\" id=\"gpPt14\" stroke=\"none\" xlink:href=\"#gpPt13\"/>\n",
       "\t<filter filterUnits=\"objectBoundingBox\" height=\"1\" id=\"textbox\" width=\"1\" x=\"0\" y=\"0\">\n",
       "\t  <feFlood flood-color=\"#FFFFFF\" flood-opacity=\"1\" result=\"bgnd\"/>\n",
       "\t  <feComposite in=\"SourceGraphic\" in2=\"bgnd\" operator=\"atop\"/>\n",
       "\t</filter>\n",
       "\t<filter filterUnits=\"objectBoundingBox\" height=\"1\" id=\"greybox\" width=\"1\" x=\"0\" y=\"0\">\n",
       "\t  <feFlood flood-color=\"lightgrey\" flood-opacity=\"1\" result=\"grey\"/>\n",
       "\t  <feComposite in=\"SourceGraphic\" in2=\"grey\" operator=\"atop\"/>\n",
       "\t</filter>\n",
       "</defs>\n",
       "<g color=\"#FFFFFF\" fill=\"none\" stroke=\"currentColor\" stroke-linecap=\"butt\" stroke-linejoin=\"miter\" stroke-width=\"1.00\">\n",
       "</g>\n",
       "<g color=\"black\" fill=\"none\" stroke=\"currentColor\" stroke-linecap=\"butt\" stroke-linejoin=\"miter\" stroke-width=\"1.00\">\n",
       "\t<g shape-rendering=\"crispEdges\" stroke=\"none\">\n",
       "\t\t<polygon fill=\"rgb(255, 255, 255)\" points=\"30.8,396.0 543.0,396.0 543.0,40.7 30.8,40.7 \"/>\n",
       "\t</g>\n",
       "</g>\n",
       "<g color=\"black\" fill=\"none\" stroke=\"currentColor\" stroke-linecap=\"butt\" stroke-linejoin=\"miter\" stroke-width=\"1.00\">\n",
       "\t<path d=\"M30.8,396.0 L39.2,396.0 M543.1,396.0 L534.7,396.0  \" stroke=\"rgb(  0,   0,   0)\"/>\t<g fill=\"rgb(38,38,38)\" font-family=\"Arial\" font-size=\"10.00\" stroke=\"none\" text-anchor=\"end\" transform=\"translate(25.2,399.3)\">\n",
       "\t\t<text><tspan font-family=\"Arial\">-15</tspan></text>\n",
       "\t</g>\n",
       "</g>\n",
       "<g color=\"black\" fill=\"none\" stroke=\"currentColor\" stroke-linecap=\"butt\" stroke-linejoin=\"miter\" stroke-width=\"1.00\">\n",
       "\t<path d=\"M30.8,336.8 L39.2,336.8 M543.1,336.8 L534.7,336.8  \" stroke=\"rgb(  0,   0,   0)\"/>\t<g fill=\"rgb(38,38,38)\" font-family=\"Arial\" font-size=\"10.00\" stroke=\"none\" text-anchor=\"end\" transform=\"translate(25.2,340.1)\">\n",
       "\t\t<text><tspan font-family=\"Arial\">-10</tspan></text>\n",
       "\t</g>\n",
       "</g>\n",
       "<g color=\"black\" fill=\"none\" stroke=\"currentColor\" stroke-linecap=\"butt\" stroke-linejoin=\"miter\" stroke-width=\"1.00\">\n",
       "\t<path d=\"M30.8,277.5 L39.2,277.5 M543.1,277.5 L534.7,277.5  \" stroke=\"rgb(  0,   0,   0)\"/>\t<g fill=\"rgb(38,38,38)\" font-family=\"Arial\" font-size=\"10.00\" stroke=\"none\" text-anchor=\"end\" transform=\"translate(25.2,280.8)\">\n",
       "\t\t<text><tspan font-family=\"Arial\">-5</tspan></text>\n",
       "\t</g>\n",
       "</g>\n",
       "<g color=\"black\" fill=\"none\" stroke=\"currentColor\" stroke-linecap=\"butt\" stroke-linejoin=\"miter\" stroke-width=\"1.00\">\n",
       "\t<path d=\"M30.8,218.3 L39.2,218.3 M543.1,218.3 L534.7,218.3  \" stroke=\"rgb(  0,   0,   0)\"/>\t<g fill=\"rgb(38,38,38)\" font-family=\"Arial\" font-size=\"10.00\" stroke=\"none\" text-anchor=\"end\" transform=\"translate(25.2,221.6)\">\n",
       "\t\t<text><tspan font-family=\"Arial\">0</tspan></text>\n",
       "\t</g>\n",
       "</g>\n",
       "<g color=\"black\" fill=\"none\" stroke=\"currentColor\" stroke-linecap=\"butt\" stroke-linejoin=\"miter\" stroke-width=\"1.00\">\n",
       "\t<path d=\"M30.8,159.1 L39.2,159.1 M543.1,159.1 L534.7,159.1  \" stroke=\"rgb(  0,   0,   0)\"/>\t<g fill=\"rgb(38,38,38)\" font-family=\"Arial\" font-size=\"10.00\" stroke=\"none\" text-anchor=\"end\" transform=\"translate(25.2,162.4)\">\n",
       "\t\t<text><tspan font-family=\"Arial\">5</tspan></text>\n",
       "\t</g>\n",
       "</g>\n",
       "<g color=\"black\" fill=\"none\" stroke=\"currentColor\" stroke-linecap=\"butt\" stroke-linejoin=\"miter\" stroke-width=\"1.00\">\n",
       "\t<path d=\"M30.8,99.8 L39.2,99.8 M543.1,99.8 L534.7,99.8  \" stroke=\"rgb(  0,   0,   0)\"/>\t<g fill=\"rgb(38,38,38)\" font-family=\"Arial\" font-size=\"10.00\" stroke=\"none\" text-anchor=\"end\" transform=\"translate(25.2,103.1)\">\n",
       "\t\t<text><tspan font-family=\"Arial\">10</tspan></text>\n",
       "\t</g>\n",
       "</g>\n",
       "<g color=\"black\" fill=\"none\" stroke=\"currentColor\" stroke-linecap=\"butt\" stroke-linejoin=\"miter\" stroke-width=\"1.00\">\n",
       "\t<path d=\"M30.8,40.6 L39.2,40.6 M543.1,40.6 L534.7,40.6  \" stroke=\"rgb(  0,   0,   0)\"/>\t<g fill=\"rgb(38,38,38)\" font-family=\"Arial\" font-size=\"10.00\" stroke=\"none\" text-anchor=\"end\" transform=\"translate(25.2,43.9)\">\n",
       "\t\t<text><tspan font-family=\"Arial\">15</tspan></text>\n",
       "\t</g>\n",
       "</g>\n",
       "<g color=\"black\" fill=\"none\" stroke=\"currentColor\" stroke-linecap=\"butt\" stroke-linejoin=\"miter\" stroke-width=\"1.00\">\n",
       "\t<path d=\"M30.8,396.0 L30.8,387.6 M30.8,40.6 L30.8,49.0  \" stroke=\"rgb(  0,   0,   0)\"/>\t<g fill=\"rgb(38,38,38)\" font-family=\"Arial\" font-size=\"10.00\" stroke=\"none\" text-anchor=\"middle\" transform=\"translate(30.8,411.3)\">\n",
       "\t\t<text><tspan font-family=\"Arial\">-15</tspan></text>\n",
       "\t</g>\n",
       "</g>\n",
       "<g color=\"black\" fill=\"none\" stroke=\"currentColor\" stroke-linecap=\"butt\" stroke-linejoin=\"miter\" stroke-width=\"1.00\">\n",
       "\t<path d=\"M116.2,396.0 L116.2,387.6 M116.2,40.6 L116.2,49.0  \" stroke=\"rgb(  0,   0,   0)\"/>\t<g fill=\"rgb(38,38,38)\" font-family=\"Arial\" font-size=\"10.00\" stroke=\"none\" text-anchor=\"middle\" transform=\"translate(116.2,411.3)\">\n",
       "\t\t<text><tspan font-family=\"Arial\">-10</tspan></text>\n",
       "\t</g>\n",
       "</g>\n",
       "<g color=\"black\" fill=\"none\" stroke=\"currentColor\" stroke-linecap=\"butt\" stroke-linejoin=\"miter\" stroke-width=\"1.00\">\n",
       "\t<path d=\"M201.6,396.0 L201.6,387.6 M201.6,40.6 L201.6,49.0  \" stroke=\"rgb(  0,   0,   0)\"/>\t<g fill=\"rgb(38,38,38)\" font-family=\"Arial\" font-size=\"10.00\" stroke=\"none\" text-anchor=\"middle\" transform=\"translate(201.6,411.3)\">\n",
       "\t\t<text><tspan font-family=\"Arial\">-5</tspan></text>\n",
       "\t</g>\n",
       "</g>\n",
       "<g color=\"black\" fill=\"none\" stroke=\"currentColor\" stroke-linecap=\"butt\" stroke-linejoin=\"miter\" stroke-width=\"1.00\">\n",
       "\t<path d=\"M287.0,396.0 L287.0,387.6 M287.0,40.6 L287.0,49.0  \" stroke=\"rgb(  0,   0,   0)\"/>\t<g fill=\"rgb(38,38,38)\" font-family=\"Arial\" font-size=\"10.00\" stroke=\"none\" text-anchor=\"middle\" transform=\"translate(287.0,411.3)\">\n",
       "\t\t<text><tspan font-family=\"Arial\">0</tspan></text>\n",
       "\t</g>\n",
       "</g>\n",
       "<g color=\"black\" fill=\"none\" stroke=\"currentColor\" stroke-linecap=\"butt\" stroke-linejoin=\"miter\" stroke-width=\"1.00\">\n",
       "\t<path d=\"M372.3,396.0 L372.3,387.6 M372.3,40.6 L372.3,49.0  \" stroke=\"rgb(  0,   0,   0)\"/>\t<g fill=\"rgb(38,38,38)\" font-family=\"Arial\" font-size=\"10.00\" stroke=\"none\" text-anchor=\"middle\" transform=\"translate(372.3,411.3)\">\n",
       "\t\t<text><tspan font-family=\"Arial\">5</tspan></text>\n",
       "\t</g>\n",
       "</g>\n",
       "<g color=\"black\" fill=\"none\" stroke=\"currentColor\" stroke-linecap=\"butt\" stroke-linejoin=\"miter\" stroke-width=\"1.00\">\n",
       "\t<path d=\"M457.7,396.0 L457.7,387.6 M457.7,40.6 L457.7,49.0  \" stroke=\"rgb(  0,   0,   0)\"/>\t<g fill=\"rgb(38,38,38)\" font-family=\"Arial\" font-size=\"10.00\" stroke=\"none\" text-anchor=\"middle\" transform=\"translate(457.7,411.3)\">\n",
       "\t\t<text><tspan font-family=\"Arial\">10</tspan></text>\n",
       "\t</g>\n",
       "</g>\n",
       "<g color=\"black\" fill=\"none\" stroke=\"currentColor\" stroke-linecap=\"butt\" stroke-linejoin=\"miter\" stroke-width=\"1.00\">\n",
       "\t<path d=\"M543.1,396.0 L543.1,387.6 M543.1,40.6 L543.1,49.0  \" stroke=\"rgb(  0,   0,   0)\"/>\t<g fill=\"rgb(38,38,38)\" font-family=\"Arial\" font-size=\"10.00\" stroke=\"none\" text-anchor=\"middle\" transform=\"translate(543.1,411.3)\">\n",
       "\t\t<text><tspan font-family=\"Arial\">15</tspan></text>\n",
       "\t</g>\n",
       "</g>\n",
       "<g color=\"black\" fill=\"none\" stroke=\"currentColor\" stroke-linecap=\"butt\" stroke-linejoin=\"miter\" stroke-width=\"1.00\">\n",
       "</g>\n",
       "<g color=\"black\" fill=\"none\" stroke=\"currentColor\" stroke-linecap=\"butt\" stroke-linejoin=\"miter\" stroke-width=\"1.00\">\n",
       "\t<g fill=\"rgb(0,0,0)\" font-family=\":Bold\" font-size=\"11.00\" stroke=\"none\" text-anchor=\"middle\" transform=\"translate(286.9,21.7)\">\n",
       "\t\t<text><tspan font-family=\"\" font-weight=\"bold\">v * sigma vectors</tspan></text>\n",
       "\t</g>\n",
       "</g>\n",
       "<g color=\"black\" fill=\"none\" stroke=\"currentColor\" stroke-linecap=\"butt\" stroke-linejoin=\"miter\" stroke-width=\"1.00\">\n",
       "</g>\n",
       "\t<g id=\"gnuplot_plot_1a\"><title>gnuplot_plot_1a</title>\n",
       "<g color=\"#FFFFFF\" fill=\"none\" stroke=\"currentColor\" stroke-linecap=\"butt\" stroke-linejoin=\"miter\" stroke-width=\"3.00\">\n",
       "</g>\n",
       "<g color=\"black\" fill=\"none\" stroke=\"currentColor\" stroke-linecap=\"butt\" stroke-linejoin=\"miter\" stroke-width=\"3.00\">\n",
       "\t<path d=\"M252.8,336.8 L254.7,336.2 L256.6,335.6 L258.4,334.9 L260.3,334.3 L262.2,333.7 L264.1,333.0 L266.0,332.3   L267.9,331.7 L269.8,331.0 L271.7,330.3 L273.6,329.5 L275.5,328.8 L277.4,328.1 L279.3,327.3 L281.3,326.6   L283.2,325.8 L285.1,325.0 L287.0,324.2 L288.9,323.4 L290.8,322.6 L292.7,321.8 L294.6,321.0 L296.5,320.1   L298.4,319.3 L300.3,318.4 L302.2,317.6 L304.1,316.7 L306.0,315.8 L307.9,314.9 L309.8,314.0 L311.7,313.1   L313.6,312.1 L315.5,311.2 L317.4,310.2 L319.3,309.3 L321.2,308.3 L323.0,307.3 L324.9,306.3 L326.8,305.4   L328.6,304.3 L330.5,303.3 L332.4,302.3 L334.2,301.3 L336.1,300.3 L337.9,299.2 L339.7,298.2 L341.6,297.1   L343.4,296.0 L345.2,295.0 L347.0,293.9 L348.8,292.8 L350.6,291.7 L352.4,290.6 L354.2,289.5 L356.0,288.3   L357.8,287.2 L359.6,286.1 L361.3,284.9 L363.1,283.8 L364.8,282.6 L366.6,281.5 L368.3,280.3 L370.0,279.1   L371.7,277.9 L373.4,276.8 L375.1,275.6 L376.8,274.4 L378.5,273.2 L380.2,272.0 L381.8,270.7 L383.5,269.5   L385.1,268.3 L386.8,267.1 L388.4,265.8 L390.0,264.6 L391.6,263.4 L393.2,262.1 L394.8,260.9 L396.3,259.6   L397.9,258.3 L399.5,257.1 L401.0,255.8 L402.5,254.5 L404.0,253.3 L405.5,252.0 L407.0,250.7 L408.5,249.4   L410.0,248.1 L411.4,246.8 L412.9,245.5 L414.3,244.2 L415.7,242.9 L417.1,241.6 L418.5,240.3 L419.9,239.0   L421.2,237.7 L422.6,236.4 L423.9,235.1 L425.3,233.8 L426.6,232.5 L427.9,231.1 L429.1,229.8 L430.4,228.5   L431.7,227.2 L432.9,225.9 L434.1,224.5 L435.3,223.2 L436.5,221.9 L437.7,220.6 L438.9,219.2 L440.0,217.9   L441.1,216.6 L442.3,215.3 L443.4,213.9 L444.5,212.6 L445.5,211.3 L446.6,210.0 L447.6,208.7 L448.6,207.3   L449.7,206.0 L450.6,204.7 L451.6,203.4 L452.6,202.1 L453.5,200.8 L454.4,199.4 L455.3,198.1 L456.2,196.8   L457.1,195.5 L458.0,194.2 L458.8,192.9 L459.6,191.6 L460.4,190.3 L461.2,189.0 L462.0,187.7 L462.8,186.4   L463.5,185.2 L464.2,183.9 L464.9,182.6 L465.6,181.3 L466.3,180.1 L466.9,178.8 L467.5,177.5 L468.1,176.3   L468.7,175.0 L469.3,173.8 L469.9,172.5 L470.4,171.3 L470.9,170.1 L471.4,168.8 L471.9,167.6 L472.4,166.4   L472.8,165.2 L473.2,163.9 L473.7,162.7 L474.0,161.5 L474.4,160.3 L474.8,159.2 L475.1,158.0 L475.4,156.8   L475.7,155.6 L476.0,154.5 L476.2,153.3 L476.5,152.2 L476.7,151.0 L476.9,149.9 L477.1,148.7 L477.3,147.6   L477.4,146.5 L477.5,145.4 L477.6,144.3 L477.7,143.2 L477.8,142.1 L477.8,141.0 L477.9,140.0 L477.9,138.9   L477.9,137.8 L477.8,136.8 L477.8,135.8 L477.7,134.7 L477.6,133.7 L477.5,132.7 L477.4,131.7 L477.3,130.7   L477.1,129.7 L476.9,128.7 L476.7,127.7 L476.5,126.8 L476.3,125.8 L476.0,124.9 L475.7,123.9 L475.5,123.0   L475.1,122.1 L474.8,121.2 L474.5,120.3 L474.1,119.4 L473.7,118.5 L473.3,117.7 L472.9,116.8 L472.4,116.0   L472.0,115.1 L471.5,114.3 L471.0,113.5 L470.5,112.7 L469.9,111.9 L469.4,111.1 L468.8,110.3 L468.2,109.6   L467.6,108.8 L467.0,108.1 L466.3,107.4 L465.7,106.6 L465.0,105.9 L464.3,105.2 L463.6,104.6 L462.8,103.9   L462.1,103.2 L461.3,102.6 L460.5,101.9 L459.7,101.3 L458.9,100.7 L458.1,100.1 L457.2,99.5 L456.4,98.9   L455.5,98.4 L454.6,97.8 L453.6,97.3 L452.7,96.7 L451.7,96.2 L450.8,95.7 L449.8,95.2 L448.8,94.7   L447.8,94.2 L446.7,93.8 L445.7,93.3 L444.6,92.9 L443.5,92.5 L442.4,92.1 L441.3,91.7 L440.2,91.3   L439.0,90.9 L437.9,90.6 L436.7,90.2 L435.5,89.9 L434.3,89.6 L433.1,89.3 L431.8,89.0 L430.6,88.7   L429.3,88.4 L428.0,88.2 L426.7,87.9 L425.4,87.7 L424.1,87.5 L422.8,87.3 L421.4,87.1 L420.1,86.9   L418.7,86.8 L417.3,86.6 L415.9,86.5 L414.5,86.4 L413.0,86.3 L411.6,86.2 L410.2,86.1 L408.7,86.0   L407.2,85.9 L405.7,85.9 L404.2,85.9 L402.7,85.9 L401.2,85.9 L399.7,85.9 L398.1,85.9 L396.5,85.9   L395.0,86.0 L393.4,86.0 L391.8,86.1 L390.2,86.2 L388.6,86.3 L387.0,86.4 L385.3,86.5 L383.7,86.7   L382.1,86.8 L380.4,87.0 L378.7,87.2 L377.0,87.4 L375.4,87.6 L373.7,87.8 L372.0,88.0 L370.2,88.3   L368.5,88.5 L366.8,88.8 L365.1,89.1 L363.3,89.4 L361.6,89.7 L359.8,90.0 L358.0,90.4 L356.2,90.7   L354.5,91.1 L352.7,91.5 L350.9,91.8 L349.1,92.2 L347.3,92.7 L345.5,93.1 L343.6,93.5 L341.8,94.0   L340.0,94.4 L338.1,94.9 L336.3,95.4 L334.5,95.9 L332.6,96.4 L330.7,96.9 L328.9,97.5 L327.0,98.0   L325.2,98.6 L323.3,99.2 L321.4,99.7 L319.5,100.3 L317.6,100.9 L315.8,101.6 L313.9,102.2 L312.0,102.8   L310.1,103.5 L308.2,104.2 L306.3,104.8 L304.4,105.5 L302.5,106.2 L300.6,106.9 L298.7,107.7 L296.8,108.4   L294.9,109.1 L293.0,109.9 L291.0,110.7 L289.1,111.4 L287.2,112.2 L285.3,113.0 L283.4,113.8 L281.5,114.7   L279.6,115.5 L277.7,116.3 L275.8,117.2 L273.9,118.0 L272.0,118.9 L270.1,119.8 L268.2,120.7 L266.3,121.6   L264.4,122.5 L262.5,123.4 L260.6,124.3 L258.7,125.3 L256.8,126.2 L254.9,127.2 L253.0,128.1 L251.2,129.1   L249.3,130.1 L247.4,131.1 L245.6,132.1 L243.7,133.1 L241.8,134.1 L240.0,135.1 L238.1,136.2 L236.3,137.2   L234.5,138.3 L232.6,139.3 L230.8,140.4 L229.0,141.5 L227.2,142.6 L225.3,143.7 L223.5,144.7 L221.7,145.9   L220.0,147.0 L218.2,148.1 L216.4,149.2 L214.6,150.3 L212.9,151.5 L211.1,152.6 L209.4,153.8 L207.6,154.9   L205.9,156.1 L204.2,157.3 L202.4,158.5 L200.7,159.6 L199.0,160.8 L197.3,162.0 L195.7,163.2 L194.0,164.4   L192.3,165.7 L190.7,166.9 L189.0,168.1 L187.4,169.3 L185.8,170.6 L184.2,171.8 L182.6,173.0 L181.0,174.3   L179.4,175.5 L177.8,176.8 L176.2,178.1 L174.7,179.3 L173.2,180.6 L171.6,181.9 L170.1,183.1 L168.6,184.4   L167.1,185.7 L165.6,187.0 L164.2,188.3 L162.7,189.6 L161.3,190.9 L159.8,192.1 L158.4,193.4 L157.0,194.8   L155.6,196.1 L154.2,197.4 L152.9,198.7 L151.5,200.0 L150.2,201.3 L148.9,202.6 L147.5,203.9 L146.2,205.2   L145.0,206.6 L143.7,207.9 L142.4,209.2 L141.2,210.5 L140.0,211.8 L138.8,213.2 L137.6,214.5 L136.4,215.8   L135.2,217.1 L134.1,218.5 L132.9,219.8 L131.8,221.1 L130.7,222.4 L129.6,223.8 L128.5,225.1 L127.5,226.4   L126.4,227.7 L125.4,229.1 L124.4,230.4 L123.4,231.7 L122.4,233.0 L121.5,234.3 L120.5,235.6 L119.6,236.9   L118.7,238.3 L117.8,239.6 L116.9,240.9 L116.1,242.2 L115.2,243.5 L114.4,244.8 L113.6,246.1 L112.8,247.4   L112.0,248.7 L111.3,249.9 L110.5,251.2 L109.8,252.5 L109.1,253.8 L108.4,255.1 L107.7,256.3 L107.1,257.6   L106.5,258.9 L105.9,260.1 L105.3,261.4 L104.7,262.6 L104.1,263.9 L103.6,265.1 L103.1,266.4 L102.6,267.6   L102.1,268.8 L101.6,270.0 L101.2,271.2 L100.7,272.5 L100.3,273.7 L99.9,274.9 L99.5,276.1 L99.2,277.3   L98.9,278.4 L98.5,279.6 L98.2,280.8 L98.0,281.9 L97.7,283.1 L97.5,284.3 L97.2,285.4 L97.0,286.5   L96.8,287.7 L96.7,288.8 L96.5,289.9 L96.4,291.0 L96.3,292.1 L96.2,293.2 L96.1,294.3 L96.1,295.4   L96.0,296.5 L96.0,297.5 L96.0,298.6 L96.1,299.6 L96.1,300.7 L96.2,301.7 L96.2,302.7 L96.3,303.8   L96.5,304.8 L96.6,305.8 L96.8,306.8 L96.9,307.7 L97.1,308.7 L97.3,309.7 L97.6,310.6 L97.8,311.6   L98.1,312.5 L98.4,313.4 L98.7,314.3 L99.0,315.3 L99.4,316.2 L99.7,317.0 L100.1,317.9 L100.5,318.8   L101.0,319.6 L101.4,320.5 L101.9,321.3 L102.3,322.2 L102.8,323.0 L103.3,323.8 L103.9,324.6 L104.4,325.4   L105.0,326.1 L105.6,326.9 L106.2,327.7 L106.8,328.4 L107.5,329.1 L108.1,329.8 L108.8,330.6 L109.5,331.2   L110.2,331.9 L110.9,332.6 L111.7,333.3 L112.4,333.9 L113.2,334.6 L114.0,335.2 L114.8,335.8 L115.7,336.4   L116.5,337.0 L117.4,337.6 L118.3,338.2 L119.2,338.7 L120.1,339.3 L121.1,339.8 L122.0,340.3 L123.0,340.8   L124.0,341.3 L125.0,341.8 L126.0,342.3 L127.0,342.7 L128.1,343.2 L129.1,343.6 L130.2,344.0 L131.3,344.5   L132.4,344.9 L133.6,345.2 L134.7,345.6 L135.9,346.0 L137.0,346.3 L138.2,346.6 L139.4,347.0 L140.6,347.3   L141.9,347.6 L143.1,347.9 L144.4,348.1 L145.7,348.4 L147.0,348.6 L148.3,348.9 L149.6,349.1 L150.9,349.3   L152.3,349.5 L153.6,349.6 L155.0,349.8 L156.4,350.0 L157.8,350.1 L159.2,350.2 L160.6,350.3 L162.1,350.4   L163.5,350.5 L165.0,350.6 L166.4,350.6 L167.9,350.7 L169.4,350.7 L170.9,350.7 L172.5,350.7 L174.0,350.7   L175.5,350.7 L177.1,350.7 L178.7,350.6 L180.2,350.6 L181.8,350.5 L183.4,350.4 L185.0,350.3 L186.7,350.2   L188.3,350.1 L189.9,349.9 L191.6,349.8 L193.2,349.6 L194.9,349.4 L196.6,349.3 L198.3,349.0 L200.0,348.8   L201.7,348.6 L203.4,348.4 L205.1,348.1 L206.8,347.8 L208.6,347.5 L210.3,347.2 L212.1,346.9 L213.8,346.6   L215.6,346.3 L217.4,345.9 L219.2,345.6 L220.9,345.2 L222.7,344.8 L224.5,344.4 L226.3,344.0 L228.2,343.6   L230.0,343.1 L231.8,342.7 L233.6,342.2 L235.5,341.8 L237.3,341.3 L239.2,340.8 L241.0,340.3 L242.9,339.7   L244.7,339.2 L246.6,338.7 L248.5,338.1 L250.3,337.5 L252.2,337.0  \" stroke=\"rgb(  0, 114, 189)\"/></g>\n",
       "\t</g>\n",
       "\t<g id=\"gnuplot_plot_2a\"><title>gnuplot_plot_2a</title>\n",
       "<g color=\"#FFFFFF\" fill=\"none\" stroke=\"rgb(  0, 114, 189)\" stroke-linecap=\"butt\" stroke-linejoin=\"miter\" stroke-width=\"0.50\">\n",
       "</g>\n",
       "<g color=\"black\" fill=\"none\" stroke=\"currentColor\" stroke-linecap=\"butt\" stroke-linejoin=\"miter\" stroke-width=\"0.50\">\n",
       "\t<path d=\"M287.0,218.3 L116.2,336.8 L161.7,321.0 L116.2,336.8 L139.0,305.2  \" stroke=\"rgb(  0,   0, 255)\"/></g>\n",
       "\t</g>\n",
       "\t<g id=\"gnuplot_plot_3a\"><title>gnuplot_plot_3a</title>\n",
       "<g color=\"black\" fill=\"none\" stroke=\"currentColor\" stroke-linecap=\"butt\" stroke-linejoin=\"miter\" stroke-width=\"0.50\">\n",
       "\t<path d=\"M287.0,218.3 L201.6,159.1 L213.0,174.9 L201.6,159.1 L224.3,167.0  \" stroke=\"rgb(  0,   0, 255)\"/></g>\n",
       "\t</g>\n",
       "<g color=\"#FFFFFF\" fill=\"none\" stroke=\"rgb(  0,   0, 255)\" stroke-linecap=\"butt\" stroke-linejoin=\"miter\" stroke-width=\"2.00\">\n",
       "</g>\n",
       "<g color=\"black\" fill=\"none\" stroke=\"currentColor\" stroke-linecap=\"butt\" stroke-linejoin=\"miter\" stroke-width=\"2.00\">\n",
       "</g>\n",
       "<g color=\"black\" fill=\"none\" stroke=\"black\" stroke-linecap=\"butt\" stroke-linejoin=\"miter\" stroke-width=\"0.50\">\n",
       "</g>\n",
       "<g color=\"black\" fill=\"none\" stroke=\"currentColor\" stroke-linecap=\"butt\" stroke-linejoin=\"miter\" stroke-width=\"0.50\">\n",
       "\t<path d=\"M30.8,396.0 L543.1,396.0  \" stroke=\"rgb( 38,  38,  38)\"/></g>\n",
       "<g color=\"black\" fill=\"none\" stroke=\"currentColor\" stroke-linecap=\"butt\" stroke-linejoin=\"miter\" stroke-width=\"0.50\">\n",
       "\t<path d=\"M30.8,40.6 L543.1,40.6  \" stroke=\"rgb( 38,  38,  38)\"/></g>\n",
       "<g color=\"black\" fill=\"none\" stroke=\"currentColor\" stroke-linecap=\"butt\" stroke-linejoin=\"miter\" stroke-width=\"0.50\">\n",
       "\t<path d=\"M30.8,396.0 L30.8,40.6  \" stroke=\"rgb( 38,  38,  38)\"/></g>\n",
       "<g color=\"black\" fill=\"none\" stroke=\"currentColor\" stroke-linecap=\"butt\" stroke-linejoin=\"miter\" stroke-width=\"0.50\">\n",
       "\t<path d=\"M543.1,396.0 L543.1,40.6  \" stroke=\"rgb( 38,  38,  38)\"/></g>\n",
       "<g color=\"black\" fill=\"none\" stroke=\"rgb( 38,  38,  38)\" stroke-linecap=\"butt\" stroke-linejoin=\"miter\" stroke-width=\"1.00\">\n",
       "</g>\n",
       "<g color=\"black\" fill=\"none\" stroke=\"currentColor\" stroke-linecap=\"butt\" stroke-linejoin=\"miter\" stroke-width=\"1.00\">\n",
       "</g>\n",
       "</g>\n",
       "</svg>"
      ],
      "text/plain": [
       "<IPython.core.display.SVG object>"
      ]
     },
     "metadata": {},
     "output_type": "display_data"
    }
   ],
   "source": [
    "K = A * [xx ; yy];\n",
    "\n",
    "plot(K(1,:), K(2,:), \"linewidth\", 3)\n",
    "hold on\n",
    "\n",
    "compass(U(1,1) * S(1,1), U(2,1) * S(1,1))\n",
    "compass(U(1,2) * S(2,2), U(2,2) * S(2,2))\n",
    "title(\"v * sigma vectors\")"
   ]
  },
  {
   "cell_type": "markdown",
   "metadata": {},
   "source": [
    "#### c."
   ]
  },
  {
   "cell_type": "markdown",
   "metadata": {},
   "source": [
    "By theorem 5.3, $\\|A\\|_2 =\\sigma_1$ and $\\|A\\|_F = \\sqrt{\\sigma_1^{2} + \\sigma_2^{2} + \\dots + \\sigma_2^{r}}$."
   ]
  },
  {
   "cell_type": "code",
   "execution_count": 164,
   "metadata": {
    "collapsed": false
   },
   "outputs": [
    {
     "name": "stdout",
     "output_type": "stream",
     "text": [
      "ans =  14.142\n",
      "ans =  14.142\n"
     ]
    }
   ],
   "source": [
    "# 2-norm\n",
    "max(max(S))\n",
    "\n",
    "norm(A,2)"
   ]
  },
  {
   "cell_type": "code",
   "execution_count": 9,
   "metadata": {
    "collapsed": false
   },
   "outputs": [
    {
     "name": "stdout",
     "output_type": "stream",
     "text": [
      "ans =  15.811\n",
      "ans =  15.811\n"
     ]
    }
   ],
   "source": [
    "# Frobenius norm\n",
    "sqrt(sum(eigenvalues))\n",
    "\n",
    "norm(A, p=\"fro\")"
   ]
  },
  {
   "cell_type": "markdown",
   "metadata": {},
   "source": [
    "$\\|A\\|_1 = \\max{c_i}$"
   ]
  },
  {
   "cell_type": "markdown",
   "metadata": {},
   "source": [
    "#### d."
   ]
  },
  {
   "cell_type": "markdown",
   "metadata": {},
   "source": [
    "Since $U$ and $V$ are unitary matrices, $A^-=V\\Sigma^-U^*$"
   ]
  },
  {
   "cell_type": "code",
   "execution_count": 149,
   "metadata": {
    "collapsed": false
   },
   "outputs": [
    {
     "name": "stdout",
     "output_type": "stream",
     "text": [
      "C =\n",
      "\n",
      "   0.050000  -0.110000\n",
      "  -0.100000   0.020000\n",
      "\n",
      "ans =\n",
      "\n",
      "   0.050000  -0.110000\n",
      "   0.100000  -0.020000\n",
      "\n"
     ]
    }
   ],
   "source": [
    "C = V * inv(S) * U'\n",
    "\n",
    "inv(A)"
   ]
  },
  {
   "cell_type": "code",
   "execution_count": 156,
   "metadata": {
    "collapsed": false
   },
   "outputs": [
    {
     "name": "stdout",
     "output_type": "stream",
     "text": [
      "ans =  100.00\n"
     ]
    }
   ],
   "source": [
    "S(1,1)*S(2,2)"
   ]
  }
 ],
 "metadata": {
  "kernelspec": {
   "display_name": "Octave",
   "language": "octave",
   "name": "octave"
  },
  "language_info": {
   "file_extension": ".m",
   "help_links": [
    {
     "text": "GNU Octave",
     "url": "https://www.gnu.org/software/octave/support.html"
    },
    {
     "text": "Octave Kernel",
     "url": "https://github.com/Calysto/octave_kernel"
    },
    {
     "text": "MetaKernel Magics",
     "url": "https://github.com/calysto/metakernel/blob/master/metakernel/magics/README.md"
    }
   ],
   "mimetype": "text/x-octave",
   "name": "octave",
   "version": "4.2.0"
  }
 },
 "nbformat": 4,
 "nbformat_minor": 2
}
