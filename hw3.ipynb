{
 "cells": [
  {
   "cell_type": "markdown",
   "metadata": {},
   "source": [
    "**Question 3.6a**"
   ]
  },
  {
   "cell_type": "markdown",
   "metadata": {},
   "source": [
    "Let $\\| \\cdot \\|$ denote any norm on $\\mathbb{C}^m$. The corresponding *dual norm* $\\| \\cdot \\|^{'}$ is defined by the formula $\\| x \\|^{'} = sup_{\\| y \\| = 1}{|y^{*}x|}$."
   ]
  },
  {
   "cell_type": "markdown",
   "metadata": {},
   "source": [
    "Prove that $\\| \\cdot \\|^{'}$ is a norm."
   ]
  },
  {
   "cell_type": "markdown",
   "metadata": {},
   "source": [
    "**Solution**"
   ]
  },
  {
   "cell_type": "markdown",
   "metadata": {},
   "source": [
    "By definition, a norm $ \\| \\cdot \\| $ must satisfy three conditions, $ \\forall x,y \\in \\mathbb{C}^{m}$ and $ \\forall \\alpha \\in \\mathbb{C}$\n",
    "\n",
    "$$ \\text{i. } \\| x \\| \\geq 0 \\text{ , and } \\| x \\| = 0 \\text{ only if } x = 0 $$"
   ]
  },
  {
   "cell_type": "markdown",
   "metadata": {},
   "source": [
    "$$ \\text{ii. } \\| x + y \\| \\leq \\| x \\| + \\| y \\| $$"
   ]
  },
  {
   "cell_type": "markdown",
   "metadata": {},
   "source": [
    "$$ \\text{iii. } \\| \\alpha x \\| = | \\alpha | \\| x \\| $$"
   ]
  },
  {
   "cell_type": "markdown",
   "metadata": {},
   "source": [
    "(i.)"
   ]
  },
  {
   "cell_type": "markdown",
   "metadata": {},
   "source": [
    "Since $| \\cdot | \\geq 0$ is a property of absolute value, $\\forall x \\in \\mathbb{C}^{m}$, $\\| x \\|^{'} \\geq 0 $ by the definition of $\\| x \\| ^ {'}$ "
   ]
  },
  {
   "cell_type": "markdown",
   "metadata": {},
   "source": [
    "Second part of the condition can be rewritten as $ x \\neq 0 \\implies \\|x\\|^{'} \\neq 0$. "
   ]
  },
  {
   "cell_type": "markdown",
   "metadata": {},
   "source": [
    "(ii.)"
   ]
  },
  {
   "cell_type": "markdown",
   "metadata": {},
   "source": [
    "We need to show that,\n",
    "$$ \\| x + y \\| \\leq \\| x \\| + \\| y \\| $$"
   ]
  },
  {
   "cell_type": "markdown",
   "metadata": {},
   "source": [
    "\n",
    "$$ sup_{\\|z \\| = 1} | z^{*}(x+y) | \\leq sup_{\\|z \\| = 1} | z^{*}x | + sup_{\\|z \\| = 1} | z^{*}y | $$"
   ]
  },
  {
   "cell_type": "markdown",
   "metadata": {},
   "source": [
    "$$ sup_{\\|z \\| = 1} | z^{*}x+ z^{*}y | \\leq sup_{\\|z \\| = 1} | z^{*}x | + sup_{\\|z \\| = 1} | z^{*}y | $$ using distributive law of matrices"
   ]
  },
  {
   "cell_type": "markdown",
   "metadata": {},
   "source": [
    "We already know that $ | z^{*}x+ z^{*}y | \\leq | z^{*}x | +  | z^{*}y | $ by triangle inequality for absolute values of $\\mathbb{C}$. Thus, above inequalities are, indeed, true."
   ]
  },
  {
   "cell_type": "markdown",
   "metadata": {},
   "source": [
    "(iii.)"
   ]
  },
  {
   "cell_type": "markdown",
   "metadata": {},
   "source": [
    "$$ \\| \\alpha x \\| = sup_{\\|y\\| = 1 } | \\alpha y^{*}x | $$"
   ]
  },
  {
   "cell_type": "markdown",
   "metadata": {},
   "source": [
    "$$ = sup_{\\|y\\| = 1 } | \\alpha | | y^{*}x |$$ using scaling property of absolute values of $\\mathbb{C}$"
   ]
  },
  {
   "cell_type": "markdown",
   "metadata": {},
   "source": [
    "$$ = | \\alpha | sup_{\\|y\\| = 1} | y^{*}x| $$ since $|\\alpha| \\geq 0$ does not affect supremum operation differently whether inside or outside of the expression. "
   ]
  },
  {
   "cell_type": "markdown",
   "metadata": {},
   "source": [
    "$$ = | \\alpha | \\| x \\|^{'} $$"
   ]
  },
  {
   "cell_type": "markdown",
   "metadata": {},
   "source": [
    "**Question 4.5**"
   ]
  },
  {
   "cell_type": "markdown",
   "metadata": {},
   "source": [
    "Theorem 4.1 asserts that every $A \\in \\mathbb{C}^{m \\times n}$ has an SVD $A = U \\Sigma V^*$. Show that if A is real, then it has a real SVD ($U \\in \\mathbb{R}^{m \\times m}$, $V \\in \\mathbb{R}^{n \\times n}$)"
   ]
  },
  {
   "cell_type": "markdown",
   "metadata": {},
   "source": [
    "**Solution**"
   ]
  },
  {
   "cell_type": "markdown",
   "metadata": {},
   "source": [
    "If $A \\in \\mathbb{R}^{m \\times n}$, then $A^* A = A^T A \\in \\mathbb{R}^{n \\times n}$ is real as well. "
   ]
  },
  {
   "cell_type": "markdown",
   "metadata": {},
   "source": [
    "Moreover, $A^T A$ is symmetric. \n",
    "$$ (A^T A)^T = A^T (A^T)^T = A^T A $$"
   ]
  },
  {
   "cell_type": "markdown",
   "metadata": {},
   "source": [
    "All eigenvalues of real symmetric matrices are real and eigenvectors corresponding to distinct eigenvalues are\n",
    "orthogonal."
   ]
  },
  {
   "cell_type": "markdown",
   "metadata": {},
   "source": [
    "We can also show that $A^T A$ has nonnegative eigenvalues, $ \\forall x \\in \\mathbb{R}^n$, \n",
    "$$ x(A^T A)x = (Ax)^T (Ax) = \\| Ax \\| _ {2} ^ 2 \\geq 0 $$"
   ]
  },
  {
   "cell_type": "markdown",
   "metadata": {},
   "source": [
    "$$ A = U \\Sigma V^* $$"
   ]
  },
  {
   "cell_type": "markdown",
   "metadata": {},
   "source": [
    "$$ A^* A = (V \\Sigma^* U^*)(U \\Sigma V^*) $$"
   ]
  },
  {
   "cell_type": "markdown",
   "metadata": {},
   "source": [
    "$$ = V \\Sigma^2 V^* $$ since $ U^* U = I $ and $ \\Sigma^* = \\Sigma $"
   ]
  },
  {
   "cell_type": "markdown",
   "metadata": {},
   "source": [
    "Here, $\\Sigma^2 \\in \\mathbb{R}^{n \\times n}$ and since both $A$ and $\\Sigma$ are real valued matrices, V is also real valued."
   ]
  },
  {
   "cell_type": "markdown",
   "metadata": {},
   "source": [
    "Solving $A = U \\Sigma V^*$ for U would give us a real valued matrix since all $A, \\Sigma$, and $V$ are real valued."
   ]
  },
  {
   "cell_type": "markdown",
   "metadata": {},
   "source": [
    "** Question 5.3 **"
   ]
  },
  {
   "cell_type": "markdown",
   "metadata": {},
   "source": [
    "Assume $A$ is a $ 2 \\times 2 $ matrix with arbitrary entries."
   ]
  },
  {
   "cell_type": "markdown",
   "metadata": {},
   "source": [
    "Execute your program with the matrix $A = \\begin{bmatrix}-2 & 11\\\\-10 & 5\\end{bmatrix}$ in the question and report your results."
   ]
  },
  {
   "cell_type": "markdown",
   "metadata": {},
   "source": [
    "** a. ** Determine a real SVD of A in the form $ A = U \\Sigma V^T$. The SVD is not unique, so find the one that has the minimal number of minus signs in U and V."
   ]
  },
  {
   "cell_type": "code",
   "execution_count": 1,
   "metadata": {
    "collapsed": true
   },
   "outputs": [],
   "source": [
    "# Eigenvectors of A^T A make up the columns of V\n",
    "# Eigenvectors of A A^T  make up the columns of U. \n",
    "# Singular values in S are square roots of eigenvalues from A A^T or A^T A."
   ]
  },
  {
   "cell_type": "code",
   "execution_count": 2,
   "metadata": {
    "collapsed": true
   },
   "outputs": [],
   "source": [
    "function e_values = findEigenvalues(A)\n",
    "## findEigenvalues finds eigenvalues of 2x2 matrices\n",
    "    e_values = roots([1, -A(1,1)-A(2,2), A(1,1)*A(2,2) - A(1,2)*A(2,1)]);\n",
    "end"
   ]
  },
  {
   "cell_type": "code",
   "execution_count": 3,
   "metadata": {
    "collapsed": false
   },
   "outputs": [],
   "source": [
    "function e_vectors = findEigenvectors(A)\n",
    "## findEigenvectors finds eigenvectors of 2x2 matrices\n",
    "    e_values = findEigenvalues(A);\n",
    "    e_vectors = zeros(2,2);\n",
    "    e_vectors(:,1) = null(A - eye(2) * e_values(1));\n",
    "    e_vectors(:,2) = null(A - eye(2) * e_values(2));\n",
    "end"
   ]
  },
  {
   "cell_type": "code",
   "execution_count": 4,
   "metadata": {
    "collapsed": false
   },
   "outputs": [],
   "source": [
    "A = [-2, 11; -10, 5];\n",
    "# A = rand(2) * 10 - 5 # between -5 and 5\n",
    "AAT = A * A';\n",
    "ATA = A' * A;"
   ]
  },
  {
   "cell_type": "code",
   "execution_count": 5,
   "metadata": {
    "collapsed": false
   },
   "outputs": [],
   "source": [
    "# Find eigenvalues, there will be 2 of them\n",
    "AAT_evalues = findEigenvalues(AAT);\n",
    "# ATA_evalues = findEigenvalues(ATA) # to check result"
   ]
  },
  {
   "cell_type": "code",
   "execution_count": 6,
   "metadata": {
    "collapsed": false
   },
   "outputs": [
    {
     "name": "stdout",
     "output_type": "stream",
     "text": [
      "sigma =\n",
      "\n",
      "Diagonal Matrix\n",
      "\n",
      "   14.1421         0\n",
      "         0    7.0711\n",
      "\n"
     ]
    }
   ],
   "source": [
    "# \\Sigma matrix is simply diagonal matrix formed by square roots of eigenvalues\n",
    "sigma = diag(sqrt(AAT_evalues))"
   ]
  },
  {
   "cell_type": "code",
   "execution_count": 7,
   "metadata": {
    "collapsed": false
   },
   "outputs": [
    {
     "name": "stdout",
     "output_type": "stream",
     "text": [
      "U =\n",
      "\n",
      "   0.70711  -0.70711\n",
      "   0.70711   0.70711\n",
      "\n",
      "V_tp =\n",
      "\n",
      "  -0.60000   0.80000\n",
      "  -0.80000  -0.60000\n",
      "\n"
     ]
    }
   ],
   "source": [
    "# U is formed by eigenvectors of A A^T\n",
    "U = findEigenvectors(AAT)\n",
    "# V is formed by eigenvectors of A^T A\n",
    "# V = findEigenvectors(ATA);\n",
    "# it does not give correct result when we find both matrices using findEigenvectors\n",
    "V = zeros(2);\n",
    "V(:, 1) = linsolve(A, sigma(1) * U(:,1));\n",
    "V(:, 2) = linsolve(A, sigma(4) * U(:,2));\n",
    "\n",
    "V_tp = V'"
   ]
  },
  {
   "cell_type": "code",
   "execution_count": 8,
   "metadata": {
    "collapsed": false
   },
   "outputs": [
    {
     "name": "stdout",
     "output_type": "stream",
     "text": [
      "M =\n",
      "\n",
      "   -2   11\n",
      "  -10    5\n",
      "\n",
      "A =\n",
      "\n",
      "   -2   11\n",
      "  -10    5\n",
      "\n"
     ]
    }
   ],
   "source": [
    "# check the result\n",
    "M = U * sigma * V'\n",
    "A"
   ]
  },
  {
   "cell_type": "markdown",
   "metadata": {},
   "source": [
    "**b. ** List the singular values, left singular vectors, and right singular vectors of A. Draw a careful, labeled picture of the unit ball in $\\mathbb{R}^2$ and its image under A, together with the singular vectors, with the coordinates of their vertices marked."
   ]
  },
  {
   "cell_type": "code",
   "execution_count": 9,
   "metadata": {
    "collapsed": false
   },
   "outputs": [
    {
     "name": "stdout",
     "output_type": "stream",
     "text": [
      "singular values\n",
      "ans =\n",
      "\n",
      "   14.1421\n",
      "    7.0711\n",
      "\n",
      "left singular vectors\n",
      "U =\n",
      "\n",
      "   0.70711  -0.70711\n",
      "   0.70711   0.70711\n",
      "\n",
      "right singular vectors\n",
      "V =\n",
      "\n",
      "  -0.60000  -0.80000\n",
      "   0.80000  -0.60000\n",
      "\n"
     ]
    },
    {
     "data": {
      "image/png": "[encoded data removed]",
      "text/plain": [
       "<IPython.core.display.Image object>"
      ]
     },
     "metadata": {},
     "output_type": "display_data"
    }
   ],
   "source": [
    "disp('singular values')\n",
    "sqrt(AAT_evalues)\n",
    "disp('left singular vectors')\n",
    "U\n",
    "disp('right singular vectors')\n",
    "V\n",
    "\n",
    "L = U * sigma;\n",
    "circ = linspace(0, 2*pi, 42);\n",
    "x1 = cos(circ);\n",
    "x2 = sin(circ);\n",
    "x = [x1; x2];\n",
    "ellipse = A * x;\n",
    "\n",
    "figure;\n",
    "title('left singular vectors on unit circle and its image under A')\n",
    "subplot(2, 1, 1);\n",
    "plot(x1, x2, 'color', 'black');\n",
    "hold on;\n",
    "quiver(0, 0, U(1, 1), U(2, 1), 'color', 'red');\n",
    "quiver(0, 0, U(1, 2), U(2, 2), 'color', 'blue');\n",
    "xlim([-3, 3]);\n",
    "ylim([-3, 3]);\n",
    "axis equal;\n",
    "\n",
    "subplot(2, 1, 2);\n",
    "plot(ellipse(1,:), ellipse(2,:), 'color', 'black');\n",
    "hold on;\n",
    "quiver(0, 0, L(1, 1), L(2, 1), 'color', 'red');\n",
    "quiver(0, 0, L(1, 2), L(2, 2), 'color', 'blue');\n",
    "xlim([-15, 15]);\n",
    "ylim([-15, 15]);\n",
    "axis equal;"
   ]
  },
  {
   "cell_type": "markdown",
   "metadata": {},
   "source": [
    "**c. ** What are the $1-$, $2-$, $\\infty-$, and Frobenius norms of $A$? "
   ]
  },
  {
   "cell_type": "code",
   "execution_count": 10,
   "metadata": {
    "collapsed": false
   },
   "outputs": [
    {
     "name": "stdout",
     "output_type": "stream",
     "text": [
      "norm1 =  16\n",
      "norm2 =  14.142\n",
      "norm_infty =  9\n",
      "norm_frobenius =  15.811\n"
     ]
    }
   ],
   "source": [
    "# 1-norm is the max column sums as we mentioned in hw2\n",
    "norm1 = max(sum(A(:,1)), sum(A(:,2)))\n",
    "\n",
    "# 2-norm is the maximum singular value, i.e \\sigma_1\n",
    "norm2 = sqrt(AAT_evalues(1))\n",
    "\n",
    "# \\infty-norm is the max row sums as we mentioned in hw2\n",
    "norm_infty = max(sum(A(1,:)), sum(A(2,:)))\n",
    "\n",
    "# Frobenius norm is the square root of the trace of A^T A\n",
    "norm_frobenius = sqrt(AAT(1) + AAT(4))"
   ]
  },
  {
   "cell_type": "markdown",
   "metadata": {},
   "source": [
    "**d. ** Find $A^{-1}$ not directly, but via the SVD."
   ]
  },
  {
   "cell_type": "code",
   "execution_count": 11,
   "metadata": {
    "collapsed": false
   },
   "outputs": [
    {
     "name": "stdout",
     "output_type": "stream",
     "text": [
      "A_inv =\n",
      "\n",
      "   0.050000  -0.110000\n",
      "   0.100000  -0.020000\n",
      "\n"
     ]
    }
   ],
   "source": [
    "# To find A^-1 we need to find V \\sigma^-1 U^T\n",
    "sigma_inv = sigma ^ -1;\n",
    "A_inv = V * sigma_inv * U'"
   ]
  },
  {
   "cell_type": "markdown",
   "metadata": {},
   "source": [
    "**e. ** Find the eigenvalues $\\lambda_{1}$ and $\\lambda_{2}$ of $A$."
   ]
  },
  {
   "cell_type": "code",
   "execution_count": 12,
   "metadata": {
    "collapsed": false
   },
   "outputs": [
    {
     "name": "stdout",
     "output_type": "stream",
     "text": [
      "A_evalues =\n",
      "\n",
      "   1.5000 + 9.8869i\n",
      "   1.5000 - 9.8869i\n",
      "\n"
     ]
    }
   ],
   "source": [
    "A_evalues = findEigenvalues(A)"
   ]
  },
  {
   "cell_type": "markdown",
   "metadata": {},
   "source": [
    "**f. ** Verify that $det A = \\lambda_1 \\lambda_2$ and $|detA| = \\sigma_1 \\sigma_2$."
   ]
  },
  {
   "cell_type": "code",
   "execution_count": 13,
   "metadata": {
    "collapsed": false
   },
   "outputs": [
    {
     "name": "stdout",
     "output_type": "stream",
     "text": [
      "detA =  100\n",
      "productOfEigenvalues =  100.00\n",
      "productOfSigmas =  100.00\n"
     ]
    }
   ],
   "source": [
    "detA = det(A)\n",
    "productOfEigenvalues = A_evalues(1) * A_evalues(2)\n",
    "productOfSigmas = sigma(1) * sigma(4)"
   ]
  },
  {
   "cell_type": "markdown",
   "metadata": {},
   "source": [
    "**g. ** What is the area of the elipsoid onto which A maps the unit ball of $\\mathbb{R}^2$?"
   ]
  },
  {
   "cell_type": "code",
   "execution_count": 14,
   "metadata": {
    "collapsed": false
   },
   "outputs": [
    {
     "name": "stdout",
     "output_type": "stream",
     "text": [
      "areaOfEllipse =  314.16\n"
     ]
    }
   ],
   "source": [
    "# Area of an ellipse is simply \\pi * r_1 * r_2 where r_1 = \\sigma_1 and r_2 = \\sigma_2 in our case\n",
    "areaOfEllipse = pi*abs(productOfEigenvalues)"
   ]
  }
 ],
 "metadata": {
  "celltoolbar": "Edit Metadata",
  "kernelspec": {
   "display_name": "Octave",
   "language": "octave",
   "name": "octave"
  },
  "language_info": {
   "file_extension": ".m",
   "help_links": [
    {
     "text": "GNU Octave",
     "url": "https://www.gnu.org/software/octave/support.html"
    },
    {
     "text": "Octave Kernel",
     "url": "https://github.com/Calysto/octave_kernel"
    },
    {
     "text": "MetaKernel Magics",
     "url": "https://github.com/calysto/metakernel/blob/master/metakernel/magics/README.md"
    }
   ],
   "mimetype": "text/x-octave",
   "name": "octave",
   "version": "3.8.1"
  }
 },
 "nbformat": 4,
 "nbformat_minor": 2
}
