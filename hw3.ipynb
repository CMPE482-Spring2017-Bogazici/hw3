{
 "cells": [
  {
   "cell_type": "markdown",
   "metadata": {},
   "source": [
    "### Ahmet Ercan Tekden\n",
    "### 2012400159\n",
    "# Hw3\n"
   ]
  },
  {
   "cell_type": "markdown",
   "metadata": {},
   "source": [
    "# 3.6.a\n",
    "\n",
    "Let $\\|.\\|$ denote any norm on $C^m$. The corresponding  dual norm $\\|.\\|'$ is defined by formula $\\|x\\|'= \\sup_{\\|y\\|=1}|y^*x|$.\n",
    "\n",
    "Prove that $\\|.\\|'$ is a norm.\n"
   ]
  },
  {
   "cell_type": "markdown",
   "metadata": {},
   "source": [
    "### solution\n",
    "\n",
    "We need to prove it on three points:\n",
    "* (1) $\\|x\\|\\geq 0$, and $\\|x\\|=0$ only if $x=0$,\n",
    "* (2) $\\|x+z\\| \\leq \\|x\\| + \\|z\\|$,\n",
    "* (3) $\\|\\alpha x\\|= |\\alpha|* \\|x\\|$.\n",
    "\n",
    "to prove first one we can think of it this way\n",
    "\n",
    "$|y^*x|=|y_1*x_1+y_2*x_2+...+y_m*x_m|$ \n",
    "\n",
    "Since dual norm is equal to supremum of this all $x_i*y_i$ will be either positive or negative(if $x_i*y_i\\geq 0$, $x_j*y_j\\geq0$ and if $x_i*y_i\\leq 0$, $x_j*y_j\\leq0$ ) so that non of those will have negative effect on output of calculation, such that following will be always true $|x_i*y_i+x_j*y_j|\\geq|x_i*y_i|$ .\n",
    "\n",
    "So if we start with (1) for any non-0 x to make $|y^*x|=|y_1*x_1+y_2*x_2+...+y_m*x_m|=0$ , values of y's should be selected in such a way that when we add for some of the $x_i*y_i$ values, $|x_i*y_i+x_j*y_j|\\leq|x_i*y_i|$ . But since we proved on above that this is not possible, (1) is proven.\n",
    "\n",
    "For (2)\n",
    "\n",
    "$\\|x+z\\|'= \\sup_{\\|y\\|=1}|y^*(x+z)|$\n",
    "\n",
    "Thinking them individually it will be\n",
    "\n",
    "$\\|x\\|'= \\sup_{\\|y_1\\|=1}|y_1^*x|$\n",
    "\n",
    "$\\|z\\|'= \\sup_{\\|y_2\\|=1}|y_2^*z|$\n",
    "\n",
    "$\\|x+z\\|'= \\sup_{\\|y_3\\|=1}|y_3^*(x+z)|$ since in here it can be different vector that maximizes $\\|x+z\\|'$ value\n",
    "\n",
    "so $y_1$ maximizes $\\|x\\|'$ and $y_2$ maximizes $\\|x\\|'$ so for any other $y_i$ vector it will be $|y_i^*z|\\leq|y_2^*z|$\n",
    "\n",
    "so we have following \n",
    "\n",
    "$\\|x+z\\|'= |y_3^*(x+z)| \\leq |y_3^*x| + |y_3^*z|  $\n",
    "\n",
    "$\\|x\\|'= |y_1^*x| \\geq |y_3^*x| $\n",
    "\n",
    "$\\|z\\|'= |y_2^*z| \\geq |y_3^*z| $\n",
    "\n",
    "from here we can derive\n",
    "\n",
    "$\\|x+z\\|'= |y_3^*(x+z)| \\leq |y_3^*x| + |y_3^*z| \\leq |y_1^*x| + |y_2^*z| = \\|x\\|' + \\|z\\|'$\n",
    "\n",
    "which proves (2).\n",
    "\n",
    "For (3),\n",
    "\n",
    "we should prove \n",
    "\n",
    "$ \\alpha *\\|x\\|' =  \\|\\alpha x\\|'= \\sup_{\\|y\\|=1}|\\alpha y^*x| = | \\alpha * y_1*x_1+ \\alpha *  y_2*x_2+...+ \\alpha * y_m*x_m|$\n",
    "\n",
    "since $| \\alpha * y_1*x_1+ \\alpha *  y_2*x_2+...+ \\alpha * y_m*x_m| = \\alpha * | y_1*x_1+ y_2*x_2+...+ y_m*x_m|$ , (3) is proven.\n"
   ]
  },
  {
   "cell_type": "markdown",
   "metadata": {},
   "source": [
    "# 4.5"
   ]
  },
  {
   "cell_type": "code",
   "execution_count": null,
   "metadata": {
    "collapsed": true
   },
   "outputs": [],
   "source": []
  },
  {
   "cell_type": "markdown",
   "metadata": {},
   "source": [
    "# 5.3"
   ]
  },
  {
   "cell_type": "code",
   "execution_count": null,
   "metadata": {
    "collapsed": true
   },
   "outputs": [],
   "source": []
  }
 ],
 "metadata": {
  "kernelspec": {
   "display_name": "Octave",
   "language": "octave",
   "name": "octave"
  },
  "language_info": {
   "file_extension": ".m",
   "help_links": [
    {
     "text": "GNU Octave",
     "url": "https://www.gnu.org/software/octave/support.html"
    },
    {
     "text": "Octave Kernel",
     "url": "https://github.com/Calysto/octave_kernel"
    },
    {
     "text": "MetaKernel Magics",
     "url": "https://github.com/calysto/metakernel/blob/master/metakernel/magics/README.md"
    }
   ],
   "mimetype": "text/x-octave",
   "name": "octave",
   "version": "4.2.0"
  }
 },
 "nbformat": 4,
 "nbformat_minor": 2
}
