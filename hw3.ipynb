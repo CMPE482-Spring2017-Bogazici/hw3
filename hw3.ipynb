{
 "cells": [
  {
   "cell_type": "markdown",
   "metadata": {},
   "source": [
    "# 3.6 A\n",
    "\n",
    "$$ ||x||^{'} =  sup _{|| y || = 1} ||y * x|| $$ "
   ]
  },
  {
   "cell_type": "markdown",
   "metadata": {},
   "source": [
    "Now first we need to make sure that this is greater than or equal to 0.\n",
    "There are two cases where x = 0 or x != 0, when x = 0 for all y this equation will be 0.\n",
    "In x != 0 this equation only becomes 0 when the x is ortogonal to y and when they are not ortogonal, y is a unit vector in this norm, and $y * x$ is the length of x when it is projected onto y, since they are not ortogonal this length will be greater then 0.\n",
    "\n",
    "Second $||x + z||^{'} <= ||x||^{'} +  ||z||^{'}$  should be proven."
   ]
  },
  {
   "cell_type": "markdown",
   "metadata": {},
   "source": [
    "$$ ||x + z||^{'} =  sup _{|| y || = 1} ||y * (x+z)|| $$ \n",
    "this equals to:\n",
    "\n",
    "$$ ||x + z||^{'} =  sup _{|| y || = 1} ||y * x + y*z|| $$ \n",
    "\n",
    "since we know that ||.|| is a norm: \n",
    "$$||y*x + y*z|| <=||y*x|| +||y*z||$$ and \n",
    "$$sup _{|| y || = 1}||y*x + y*z|| <= sup _{|| y || = 1}||y*x|| +sup _{|| y || = 1}||y*z|| $$\n"
   ]
  },
  {
   "cell_type": "markdown",
   "metadata": {},
   "source": [
    "because we knew that left side of the equation was already smaller than the right side when all the y's were same vector, we have taken all y for each such that ||y|| equals 1, and maximized them. Since right side is maximized with different y vectors they will still be greater or equal to right side, because in worst case they will have y vector equal to the one that maximizes the left side. "
   ]
  },
  {
   "cell_type": "markdown",
   "metadata": {},
   "source": [
    "lastly ||ax|| should be qual to |a| ||x||.\n",
    "$$ ||ax||^{'} =  sup _{|| y || = 1} ||y *(ax)|| $$ \n",
    "$$ ||ax||^{'} =  sup _{|| y || = 1} ||a y * x|| $$\n",
    "and again since ||.|| is a norm $||a y * x||$ equals to $|a| ||y * x||$\n",
    "and we can take multiplication with |a| outside of sup since it does not depend on y and then it becomes equal to $|a| ||x||^{'}$"
   ]
  },
  {
   "cell_type": "markdown",
   "metadata": {
    "collapsed": true
   },
   "source": [
    "4.5\n",
    "\n",
    "We need to show that if A is real, $A = U \\Sigma V^{*}$ is real.\n",
    "\n",
    "It is trivial to show that $ \\Sigma $ is real, because in theorem 4.1 $\\sigma_1 = ||A||_{2}$ thus the sigma are real.\n",
    "And in fact without even A being real, $\\Sigma$ was proven real in the book.\n",
    "\n",
    "The left-singular vectors of A are a set of orthonormal eigenvectors of $AA^{T}$.\n",
    "The right-singular vectors of A are a set of orthonormal eigenvectors of $M^{T}M$.\n",
    "\n",
    "When A is real $A^{T}$ is real. And both U and V are real since a real valued matrix will have real valued orthonormal eigenvectors.\n",
    "\n"
   ]
  },
  {
   "cell_type": "markdown",
   "metadata": {
    "collapsed": true
   },
   "source": [
    "# 5.3 \n",
    "\n",
    "## A\n",
    "we can calculate $A^{'}A$ and take its eigenvalues with code"
   ]
  },
  {
   "cell_type": "code",
   "execution_count": 97,
   "metadata": {
    "collapsed": false
   },
   "outputs": [
    {
     "name": "stdout",
     "output_type": "stream",
     "text": [
      "Sigma:  [[14.142135623730951, 0], [0, 7.0710678118654755]]\n",
      "V: [[-0.6  0.8]\n",
      " [ 0.8  0.6]]\n",
      "U: [[0.7071067811865474, 0.7071067811865476], [0.7071067811865476, -0.7071067811865474]]\n"
     ]
    }
   ],
   "source": [
    "%matplotlib inline \n",
    "import matplotlib.pyplot as plt\n",
    "import math\n",
    "import numpy as np\n",
    "from numpy import linalg as LA\n",
    "\n",
    "\n",
    "A=np.matrix([[-2,11],[-10,5]])\n",
    "B=A.T*A\n",
    "C=A*A.T\n",
    "\n",
    "w, v = LA.eig(B)\n",
    "\n",
    "w2,u = LA.eig(C)\n",
    "v=v.T\n",
    "\n",
    "Sigma=[[math.sqrt(w[1]),0],[0,math.sqrt(w[0])]]\n",
    "print \"Sigma: \",Sigma\n",
    "\n",
    "#we change orders because eigh sorts eigenvalues in increasing order rather than decreasing\n",
    "V=[v[1].tolist()[0],v[0].tolist()[0]]\n",
    "U=[u[1].tolist()[0],u[0].tolist()[0]]\n",
    "\n",
    "V=np.matrix(V)\n",
    "#reducing minus signs\n",
    "V*=-1\n",
    "print \"V:\",V\n",
    "\n",
    "print \"U:\",U\n",
    "\n",
    "#print np.matrix(U)*np.matrix(Sigma)*V\n"
   ]
  },
  {
   "cell_type": "markdown",
   "metadata": {},
   "source": [
    "## B\n",
    "singular values:\n",
    "14.142135623730951\n",
    "7.0710678118654755\n",
    "\n",
    "left singular vectors\n",
    "[0.7071067811865474, 0.7071067811865476]\n",
    "[0.7071067811865476, -0.7071067811865474]\n",
    "\n",
    "right singular vectors\n",
    "[-0.6  0.8]\n",
    "[ 0.8  0.6]\n",
    "\n"
   ]
  },
  {
   "cell_type": "code",
   "execution_count": 123,
   "metadata": {
    "collapsed": false
   },
   "outputs": [
    {
     "data": {
      "image/png": "[encoded data removed]",
      "text/plain": [
       "<matplotlib.figure.Figure at 0x10be4f8d0>"
      ]
     },
     "metadata": {},
     "output_type": "display_data"
    }
   ],
   "source": [
    "Xr=[]\n",
    "Yr=[]\n",
    "for x in range(-1000,1001):\n",
    "    X=x/1000.\n",
    "    Y=math.sqrt(1-X*X)\n",
    "    Xr.append(X)\n",
    "    Yr.append(Y)\n",
    "    Xr.append(X)\n",
    "    Yr.append(-Y)\n",
    "\n",
    "plt.scatter(Xr,Yr)\n",
    "\n",
    "Xr=[]\n",
    "Yr=[]\n",
    "for i in range(0,1001):\n",
    "    o=i/1000.\n",
    "    X=V[0,0]*o\n",
    "    Y=V[0,1]*o\n",
    "    Xr.append(X)\n",
    "    Yr.append(Y)\n",
    "    \n",
    "plt.scatter(Xr,Yr,color=\"red\")\n",
    "plt.scatter(V[0,0],V[0,1],color=\"red\",linewidth=10)\n",
    "\n",
    "\n",
    "Xr=[]\n",
    "Yr=[]\n",
    "for i in range(0,1001):\n",
    "    o=i/1000.\n",
    "    X=V[1,0]*o\n",
    "    Y=V[1,1]*o\n",
    "    Xr.append(X)\n",
    "    Yr.append(Y)\n",
    "    \n",
    "plt.scatter(Xr,Yr,color=\"green\")\n",
    "plt.scatter(V[1,0],V[1,1],color=\"green\",linewidth=10)\n",
    "\n",
    "\n",
    "plt.show()"
   ]
  },
  {
   "cell_type": "markdown",
   "metadata": {},
   "source": [
    "here red and green lines correspond to the singular vectors"
   ]
  },
  {
   "cell_type": "code",
   "execution_count": 121,
   "metadata": {
    "collapsed": false
   },
   "outputs": [
    {
     "data": {
      "image/png": "[encoded data removed]",
      "text/plain": [
       "<matplotlib.figure.Figure at 0x10c3535d0>"
      ]
     },
     "metadata": {},
     "output_type": "display_data"
    }
   ],
   "source": [
    "def multWithA(x,y):\n",
    "    res=[]\n",
    "    res.append(-2*x+11*y)\n",
    "    res.append(-10*x+5*y)\n",
    "    return res\n",
    "\n",
    "Xr=[]\n",
    "Yr=[]\n",
    "for x in range(-1000,1001):\n",
    "    X=x/1000.\n",
    "    Y=math.sqrt(1-X*X)\n",
    "    \n",
    "    v=multWithA(X,Y)\n",
    "    Xr.append(v[0])\n",
    "    Yr.append(v[1])\n",
    "    v=multWithA(X,-Y)\n",
    "    Xr.append(v[0])\n",
    "    Yr.append(v[1])\n",
    "\n",
    "plt.scatter(Xr,Yr)\n",
    "\n",
    "Xr=[]\n",
    "Yr=[]\n",
    "for i in range(0,1001):\n",
    "    o=i/1000.\n",
    "    X=V[0,0]*o\n",
    "    Y=V[0,1]*o\n",
    "    v=multWithA(X,Y)\n",
    "    Xr.append(v[0])\n",
    "    Yr.append(v[1])\n",
    "    \n",
    "plt.scatter(Xr,Yr,color=\"red\")\n",
    "v=multWithA(V[0,0],V[0,1])\n",
    "plt.scatter(v[0],v[1],color=\"red\",linewidth=10)\n",
    "\n",
    "\n",
    "Xr=[]\n",
    "Yr=[]\n",
    "for i in range(0,1001):\n",
    "    o=i/1000.\n",
    "    X=V[1,0]*o\n",
    "    Y=V[1,1]*o\n",
    "    v=multWithA(X,Y)\n",
    "    Xr.append(v[0])\n",
    "    Yr.append(v[1])\n",
    "    \n",
    "plt.scatter(Xr,Yr,color=\"green\",linewidth=1)\n",
    "\n",
    "v=multWithA(V[1,0],V[1,1])\n",
    "plt.scatter(v[0],v[1],color=\"green\",linewidth=10)\n",
    "\n",
    "plt.show()"
   ]
  },
  {
   "cell_type": "markdown",
   "metadata": {},
   "source": [
    "here red and green lines correspond to the singular vectors after multiplication with A\n"
   ]
  },
  {
   "cell_type": "markdown",
   "metadata": {},
   "source": [
    "## C\n",
    "\n",
    "2 Norm is easy since it is Sigma[0,0], it equals to 14.142135623730951\n",
    "\n",
    "1 Norm is max column sum which is 11+5 = 16\n",
    "\n",
    "Inf norm is max row sum which is |-10| + 5 = 15\n",
    "\n",
    "F form is the sqrt of the sum of every elementh to the power of 2\n",
    "\n",
    "which is $sqrt(2*2+11*11+10*10+5*5) = 15.81138830084189665999$"
   ]
  },
  {
   "cell_type": "markdown",
   "metadata": {},
   "source": [
    "## D"
   ]
  },
  {
   "cell_type": "code",
   "execution_count": 126,
   "metadata": {
    "collapsed": false
   },
   "outputs": [
    {
     "name": "stdout",
     "output_type": "stream",
     "text": [
      "[[ 0.05 -0.11]\n",
      " [ 0.1  -0.02]]\n"
     ]
    }
   ],
   "source": [
    "sinv=[[1./Sigma[0][0],0],[0,1./Sigma[1][1]]]\n",
    "print V*np.matrix(sinv)*np.matrix(U).T"
   ]
  },
  {
   "cell_type": "markdown",
   "metadata": {},
   "source": [
    "## E"
   ]
  },
  {
   "cell_type": "code",
   "execution_count": 128,
   "metadata": {
    "collapsed": false
   },
   "outputs": [
    {
     "name": "stdout",
     "output_type": "stream",
     "text": [
      "(1.5+9.88685996664j) (1.5-9.88685996664j)\n"
     ]
    }
   ],
   "source": [
    "w3,v3=LA.eig(A)\n",
    "print w3[0],w3[1]"
   ]
  },
  {
   "cell_type": "markdown",
   "metadata": {},
   "source": [
    "these are the eigenvalues of the A"
   ]
  },
  {
   "cell_type": "markdown",
   "metadata": {},
   "source": [
    "## F\n"
   ]
  },
  {
   "cell_type": "code",
   "execution_count": 132,
   "metadata": {
    "collapsed": false
   },
   "outputs": [
    {
     "name": "stdout",
     "output_type": "stream",
     "text": [
      "100.0\n",
      "(100+0j)\n"
     ]
    }
   ],
   "source": [
    "print LA.det(np.matrix(A))\n",
    "print w3[0]*w3[1]"
   ]
  },
  {
   "cell_type": "markdown",
   "metadata": {},
   "source": [
    "clearly multiplication of eigenvalues are equal to the determinant of A"
   ]
  },
  {
   "cell_type": "code",
   "execution_count": 133,
   "metadata": {
    "collapsed": false
   },
   "outputs": [
    {
     "name": "stdout",
     "output_type": "stream",
     "text": [
      "100.0\n"
     ]
    }
   ],
   "source": [
    "print Sigma[0][0]*Sigma[1][1]"
   ]
  },
  {
   "cell_type": "markdown",
   "metadata": {},
   "source": [
    "and this value is equal to the absolute value of the determinant of A(actually since it is positive it directly equals to the determinant)"
   ]
  },
  {
   "cell_type": "markdown",
   "metadata": {},
   "source": [
    "## G\n"
   ]
  },
  {
   "cell_type": "code",
   "execution_count": 134,
   "metadata": {
    "collapsed": false
   },
   "outputs": [
    {
     "name": "stdout",
     "output_type": "stream",
     "text": [
      "314.159265359\n"
     ]
    }
   ],
   "source": [
    "print math.pi*100"
   ]
  },
  {
   "cell_type": "markdown",
   "metadata": {},
   "source": [
    "is the area, since 100 is the multiplication of the lengths of the unit vectors in the new plane(like in $\\pi * r^2)$"
   ]
  },
  {
   "cell_type": "code",
   "execution_count": null,
   "metadata": {
    "collapsed": true
   },
   "outputs": [],
   "source": []
  }
 ],
 "metadata": {
  "kernelspec": {
   "display_name": "Python 2",
   "language": "python",
   "name": "python2"
  },
  "language_info": {
   "codemirror_mode": {
    "name": "ipython",
    "version": 2
   },
   "file_extension": ".py",
   "mimetype": "text/x-python",
   "name": "python",
   "nbconvert_exporter": "python",
   "pygments_lexer": "ipython2",
   "version": "2.7.13"
  }
 },
 "nbformat": 4,
 "nbformat_minor": 2
}
