{
 "cells": [
  {
   "cell_type": "markdown",
   "metadata": {},
   "source": [
    "### Q3.6\n",
    "\n",
    "To prove that the dual norm is a norm, we need to show the 3 rules of norm hold for the dual norm.\n",
    "\n",
    "1)  By the definition of absolute value being non-negative, we can say $|y^* x| \\ne 0$ when $x \\ne 0$. Hence $|y^* x| > 0$ when  $x \\ne 0$.  \n",
    "Then $\\exists y$ such that $y^* x$ value can be zero. However, the dual norm tries to find supremum value of the value $|y^* x|$; therefore, we can trivially find a $y$ so that $|y^* x| \\ne 0$ when $x \\ne 0$, hence $|y^* x| > 0$ when $x \\ne 0$.  \n",
    "Also, obviously when $x = 0$, $|y^* x| = 0$, then $||x||' = 0$ when only $x = 0$.  \n",
    "  \n",
    "2)  \n",
    "$\n",
    "\\begin{eqnarray}\n",
    "||x+z||' &=& \\sup_{||y|| = 1} |y^* (x+z)|  \\\\\n",
    "         &=& \\sup_{||y|| = 1} |(y^* x + y^* z)|  \\\\\n",
    "         &\\le& \\sup_{||y|| = 1} |y^* x| + \\sup_{||y|| = 1} |y^* z|  \\\\\n",
    "         &\\le& ||x||' + ||z||'\n",
    "\\end{eqnarray}\n",
    "$  \n",
    "  \n",
    "3)  \n",
    "Using alpha being scalar and the definition of absolute value:  \n",
    "$\n",
    "\\begin{eqnarray}\n",
    "||\\alpha x||' &=& \\sup_{||y|| = 1} |y^* \\alpha x|  \\\\\n",
    "         &=& \\sup_{||y|| = 1} |\\alpha|| |y^* x|  \\\\\n",
    "         &=& |\\alpha| ||x||'\n",
    "\\end{eqnarray}\n",
    "$  "
   ]
  },
  {
   "cell_type": "markdown",
   "metadata": {},
   "source": [
    "### Q4.5\n",
    "\n",
    "A is real $\\implies A^T = A^* \\implies AA^* = A A^T$  \n",
    "Then  \n",
    "$AA^T = U \\sum^2 U^T$  \n",
    "$\\sum^2$ is real.  \n",
    "$AA^* = U \\sum^2 U^*$  \n",
    "Then $U^* = U^T$ meaning U is real.  \n",
    "Same iteration can be applied to find V is real by finding $A^* A$ instead $AA^*$"
   ]
  },
  {
   "cell_type": "markdown",
   "metadata": {},
   "source": [
    "## Hw3\n",
    "### Seleme Topuz\n",
    "### Q5.3"
   ]
  },
  {
   "cell_type": "code",
   "execution_count": 123,
   "metadata": {
    "collapsed": false
   },
   "outputs": [
    {
     "name": "stdout",
     "output_type": "stream",
     "text": [
      "A =\n",
      "\n",
      "   -2   11\n",
      "  -10    5\n",
      "\n",
      "U =\n",
      "\n",
      "   0.70711   0.70711\n",
      "   0.70711  -0.70711\n",
      "\n",
      "E =\n",
      "\n",
      "   14.14214    0.00000\n",
      "    0.00000    7.07107\n",
      "\n",
      "V =\n",
      "\n",
      "  -0.60000   0.80000\n",
      "   0.80000   0.60000\n",
      "\n",
      "ans =\n",
      "\n",
      "   -2.0000   11.0000\n",
      "  -10.0000    5.0000\n",
      "\n"
     ]
    }
   ],
   "source": [
    "# A\n",
    "\n",
    "A = [-2,11; -10,5];  % A can be any arbitrary 2x2 matrix\n",
    "\n",
    "B = A'*A;\n",
    "C = A*A';\n",
    "\n",
    "# Using Theorem 5.4 here; Squareroots of eigenvalues of A*A (B) gives singular values. (or AA* (C))\n",
    "eigen_values = roots([1, -(B(1,1)+B(2,2)), B(1,1)*B(2,2)-B(1,2)*B(2,1)]);\n",
    "E = [sqrt(eigen_values)(1), 0; 0, sqrt(eigen_values)(2)];\n",
    "\n",
    "# A*A = VE*EV* -> (A*A-eigenvector)v=0 -> so we need to find vectors that make this 0.\n",
    "v1 = null(B - eye(2)*eigen_values(1));\n",
    "v2 = null(B - eye(2)*eigen_values(2));\n",
    "V = [v1, v2];\n",
    "# Same for U.\n",
    "u1 = null(C - eye(2)*eigen_values(1));\n",
    "u2 = null(C - eye(2)*eigen_values(2));\n",
    "U = [u1, -u2];\n",
    "\n",
    "A\n",
    "U\n",
    "E\n",
    "V\n",
    "U*E*V'"
   ]
  },
  {
   "cell_type": "code",
   "execution_count": 106,
   "metadata": {
    "collapsed": false
   },
   "outputs": [
    {
     "name": "stdout",
     "output_type": "stream",
     "text": [
      "Singular Values\n",
      "   14.1421\n",
      "    7.0711\n",
      "Left Singular Vectors\n",
      "[\n",
      "   0.70711\n",
      "   0.70711\n",
      "]\n",
      "[\n",
      "   0.70711\n",
      "  -0.70711\n",
      "]\n",
      "Right Singular Vectors\n",
      "[\n",
      "  -0.60000\n",
      "   0.80000\n",
      "]\n",
      "[\n",
      "   0.80000\n",
      "   0.60000\n",
      "]\n"
     ]
    }
   ],
   "source": [
    "# B\n",
    "\n",
    "disp('Singular Values'), disp(sqrt(eigen_values))\n",
    "disp('Left Singular Vectors'), disp('['), disp(U(:,1)), disp(']'), disp('['), disp(U(:,2)), disp(']')\n",
    "disp('Right Singular Vectors'), disp('['), disp(V(:,1)), disp(']'), disp('['), disp(V(:,2)), disp(']')"
   ]
  },
  {
   "cell_type": "code",
   "execution_count": 121,
   "metadata": {
    "collapsed": false
   },
   "outputs": [
    {
     "data": {
      "image/png": "[encoded data removed]",
      "text/plain": [
       "<IPython.core.display.Image object>"
      ]
     },
     "metadata": {},
     "output_type": "display_data"
    },
    {
     "data": {
      "image/png": "[encoded data removed]",
      "text/plain": [
       "<IPython.core.display.Image object>"
      ]
     },
     "metadata": {},
     "output_type": "display_data"
    }
   ],
   "source": [
    "# B\n",
    "\n",
    "figure; hold; axis equal;\n",
    "set(gca, \"xaxislocation\", \"origin\", \"yaxislocation\", \"origin\");\n",
    "title('Only left singular vectors under unit ball in R2')\n",
    "t = linspace(0,2*pi);\n",
    "plot(cos(t), sin(t))\n",
    "quiver(0,0,U(1,1),U(2,1))\n",
    "quiver(0,0,U(1,2),U(2,2))\n",
    "\n",
    "figure; hold; axis equal;\n",
    "set(gca, \"xaxislocation\", \"origin\", \"yaxislocation\", \"origin\");\n",
    "title('Only left singular vectors on the image under A')\n",
    "e = A*[cos(t); sin(t)];\n",
    "plot(e(1,:), e(2,:))\n",
    "quiver(0,0,U(1,1)*E(1,1),U(2,1)*E(1,1))\n",
    "quiver(0,0,U(1,2)*E(2,2),U(2,2)*E(2,2))"
   ]
  },
  {
   "cell_type": "code",
   "execution_count": 133,
   "metadata": {
    "collapsed": false
   },
   "outputs": [
    {
     "name": "stdout",
     "output_type": "stream",
     "text": [
      "a_norm_1 =  16\n",
      "a_norm_inf =  15\n",
      "a_norm_fre =  15.811\n"
     ]
    }
   ],
   "source": [
    "# C\n",
    "\n",
    "a_norm_1 = max(sum(abs(A)(:,1)), sum(abs(A)(:,2)))\n",
    "\n",
    "a_norm_inf = max(sum(abs(A)(1,:)), sum(abs(A)(2,:)))\n",
    "a_norm_fre = sqrt(B(1,1)+B(2,2))"
   ]
  },
  {
   "cell_type": "code",
   "execution_count": 136,
   "metadata": {
    "collapsed": false
   },
   "outputs": [
    {
     "name": "stdout",
     "output_type": "stream",
     "text": [
      "A_inverse =\n",
      "\n",
      "   0.050000  -0.110000\n",
      "   0.100000  -0.020000\n",
      "\n"
     ]
    }
   ],
   "source": [
    "# D\n",
    "\n",
    "# A^-1 = (UEV*)^-1 = VE^-1U*\n",
    "E_inverse = [1/E(1,1), 0; 0, 1/E(2,2)];\n",
    "A_inverse = V*E_inverse*U'"
   ]
  },
  {
   "cell_type": "code",
   "execution_count": 139,
   "metadata": {
    "collapsed": false
   },
   "outputs": [
    {
     "name": "stdout",
     "output_type": "stream",
     "text": [
      "eigen_values_of_a =\n",
      "\n",
      "   1.5000 + 9.8869i\n",
      "   1.5000 - 9.8869i\n",
      "\n"
     ]
    }
   ],
   "source": [
    "# E\n",
    "\n",
    "eigen_values_of_a = roots([1, -(A(1,1)+A(2,2)), A(1,1)*A(2,2)-A(1,2)*A(2,1)])"
   ]
  },
  {
   "cell_type": "code",
   "execution_count": 153,
   "metadata": {
    "collapsed": false
   },
   "outputs": [
    {
     "name": "stdout",
     "output_type": "stream",
     "text": [
      "ans =  100.00\n",
      "ans =  100\n",
      "ans =  100.00\n"
     ]
    }
   ],
   "source": [
    "# F\n",
    "\n",
    "eigen_values_of_a(1)*eigen_values_of_a(2)\n",
    "det(A)\n",
    "E(1,1)*E(2,2)"
   ]
  },
  {
   "cell_type": "code",
   "execution_count": 154,
   "metadata": {
    "collapsed": false
   },
   "outputs": [
    {
     "name": "stdout",
     "output_type": "stream",
     "text": [
      "area =  314.16\n"
     ]
    }
   ],
   "source": [
    "# G\n",
    "\n",
    "area = pi*E(1,1)*E(2,2)"
   ]
  },
  {
   "cell_type": "code",
   "execution_count": null,
   "metadata": {
    "collapsed": true
   },
   "outputs": [],
   "source": []
  }
 ],
 "metadata": {
  "kernelspec": {
   "display_name": "Octave",
   "language": "octave",
   "name": "octave"
  },
  "language_info": {
   "file_extension": ".m",
   "help_links": [
    {
     "text": "GNU Octave",
     "url": "https://www.gnu.org/software/octave/support.html"
    },
    {
     "text": "Octave Kernel",
     "url": "https://github.com/Calysto/octave_kernel"
    },
    {
     "text": "MetaKernel Magics",
     "url": "https://github.com/calysto/metakernel/blob/master/metakernel/magics/README.md"
    }
   ],
   "mimetype": "text/x-octave",
   "name": "octave",
   "version": "4.2.0"
  }
 },
 "nbformat": 4,
 "nbformat_minor": 2
}
