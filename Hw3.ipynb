{
 "cells": [
  {
   "cell_type": "markdown",
   "metadata": {},
   "source": [
    "# Exercise 3.6a"
   ]
  },
  {
   "cell_type": "markdown",
   "metadata": {},
   "source": [
    "Let $\\Vert \\cdot \\Vert$ denote any norm on $ \\mathbb{C}^m $. The corresponding dual norm $\\Vert \\cdot \\Vert$' is defined by the formula $\\Vert x\\Vert'=\\sup_{\\Vert y\\Vert=1}|y^\\dagger x|$. Prove that $\\Vert \\cdot \\Vert$' is a norm.\n"
   ]
  },
  {
   "cell_type": "markdown",
   "metadata": {},
   "source": [
    "First, we should verify the nonnegativity rule.\n",
    "\\begin{equation*}\n",
    "\\Vert x \\Vert' \\geq 0 , \\Vert x \\Vert'=0 \\Leftrightarrow x = 0 \\\\\n",
    "\\sup_{\\Vert y\\Vert=1}|y^\\dagger x| \\geq 0 \\Leftrightarrow y^\\dagger x =0 ,\\space \\text{for all y with}\\space \\Vert y \\Vert = 1 \\Leftrightarrow x=0\n",
    "\\end{equation*}\n",
    "\n"
   ]
  },
  {
   "cell_type": "markdown",
   "metadata": {},
   "source": [
    "Second, we should verify the triangle equality which is;\n",
    "\n",
    "\\begin{equation*}\n",
    "\\Vert x + k \\Vert' \\leq \\Vert x \\Vert' + \\Vert k \\Vert' \\\\\n",
    "\\sup_{\\Vert y\\Vert=1}|y^\\dagger (x+k)| = \\sup_{\\Vert y\\Vert=1}|y^\\dagger x+y^\\dagger k| \\\\\n",
    "\\sup_{\\Vert y\\Vert=1}|y^\\dagger x+y^\\dagger k| \\leq \\sup_{\\Vert y\\Vert=1}|y^\\dagger x| + \\sup_{\\Vert y\\Vert=1}|y^\\dagger k| \\space\\space \\text{(because} \\space |a+b|\\leq|a|+|b| \\text{)} \\\\\n",
    "\\sup_{\\Vert y\\Vert=1}|y^\\dagger x| + \\sup_{\\Vert y\\Vert=1}|y^\\dagger k| = \\Vert x \\Vert' + \\Vert k \\Vert' \\\\\n",
    "\\text{so it is clear that} \\space \\Vert x + k \\Vert' \\leq \\Vert x \\Vert' + \\Vert k \\Vert'\n",
    "\\end{equation*} "
   ]
  },
  {
   "cell_type": "markdown",
   "metadata": {},
   "source": [
    "Third one to verify is the scaling property of a norm;\n",
    "\\begin{equation*}\n",
    "\\Vert \\alpha x \\Vert' = |\\alpha|.\\Vert x \\Vert' \\\\\n",
    "\\Vert \\alpha x \\Vert' = \\sup_{\\Vert y\\Vert=1}|y^\\dagger (\\alpha x)| = \\sup_{\\Vert y\\Vert=1}|\\alpha (y^\\dagger x)| = |\\alpha| \\sup_{\\Vert y\\Vert=1}|y^\\dagger x| = |\\alpha|.\\Vert x \\Vert' \\\\\n",
    "\\end{equation*}"
   ]
  },
  {
   "cell_type": "markdown",
   "metadata": {},
   "source": [
    "# Exercise 4.5"
   ]
  },
  {
   "cell_type": "markdown",
   "metadata": {},
   "source": [
    "Theorem 4.1 asserts that every $A \\in \\mathbb{C}^{mxn}$ has an SVD $ A= U\\Sigma V^{T}$.  \n",
    "Show that if A is real, then it has a real SVD ($U \\in \\mathbb{R}^{mxm}, V \\in \\mathbb{R}^{nxn}$)."
   ]
  },
  {
   "cell_type": "markdown",
   "metadata": {},
   "source": [
    "Answer: No idea."
   ]
  },
  {
   "cell_type": "markdown",
   "metadata": {},
   "source": [
    "# Exercise 5.3"
   ]
  },
  {
   "cell_type": "markdown",
   "metadata": {},
   "source": [
    "Type down the matrix A (2x2 matrix)."
   ]
  },
  {
   "cell_type": "code",
   "execution_count": 3,
   "metadata": {
    "collapsed": false
   },
   "outputs": [
    {
     "name": "stdout",
     "output_type": "stream",
     "text": [
      "A =\n",
      "\n",
      "   -2   11\n",
      "  -10    5\n",
      "\n"
     ]
    }
   ],
   "source": [
    "A = [-2,11;-10,5]"
   ]
  },
  {
   "cell_type": "markdown",
   "metadata": {},
   "source": [
    "a) Determine a real SVD on A in the form $ A= U\\Sigma V^{T}$. (Find the one that has minimum number of minus signs on U and V.)"
   ]
  },
  {
   "cell_type": "code",
   "execution_count": 17,
   "metadata": {
    "collapsed": false
   },
   "outputs": [
    {
     "name": "stdout",
     "output_type": "stream",
     "text": [
      "B =\n",
      "\n",
      "   104   -72\n",
      "   -72   146\n",
      "\n",
      "a =  104\n",
      "b = -72\n",
      "c = -72\n",
      "d =  146\n",
      "p =\n",
      "\n",
      "       1    -250   10000\n",
      "\n",
      "eig1 =  200\n",
      "eig2 =  50\n",
      "sig1 =  14.142\n",
      "sig2 =  7.0711\n",
      "A1 =\n",
      "\n",
      "   -96  -272\n",
      "  -272   -54\n",
      "\n",
      "A2 =\n",
      "\n",
      "    54  -122\n",
      "  -122    96\n",
      "\n"
     ]
    }
   ],
   "source": [
    "B = A'*A\n",
    "a=B(1,1)\n",
    "b=B(1,2)\n",
    "c=B(2,1)\n",
    "d=B(2,2)\n",
    "p = [1 -(a+d) a*d-b*c]\n",
    "eig1=roots(p)(1)\n",
    "eig2=roots(p)(2)\n",
    "sig1=sqrt(eig1)\n",
    "sig2=sqrt(eig2)\n",
    "\n",
    "A1 = B-eig1\n",
    "A2 = B-eig2"
   ]
  },
  {
   "cell_type": "markdown",
   "metadata": {},
   "source": [
    "After this point, we should find the eigenvectors but I couldn't find a way to do it without eig()."
   ]
  },
  {
   "cell_type": "markdown",
   "metadata": {},
   "source": [
    "b) List the singular values, left singular vectors, and right singular vectors of A. Draw a careful, labeled picture of the unit ball in $\\mathbb{R}^{2}$ and its image under A, together with the singular vectors, with the coordinates of their vertices marked."
   ]
  },
  {
   "cell_type": "code",
   "execution_count": null,
   "metadata": {
    "collapsed": true
   },
   "outputs": [],
   "source": []
  },
  {
   "cell_type": "markdown",
   "metadata": {},
   "source": [
    "c) What are the 1-, 2-, $\\inf$- and Frobenius norms of A?"
   ]
  },
  {
   "cell_type": "markdown",
   "metadata": {},
   "source": [
    "d) Find $A^{-1}$ not directly but via the SVD."
   ]
  },
  {
   "cell_type": "markdown",
   "metadata": {},
   "source": [
    "e) Find the eigenvalues $\\lambda_{1},\\lambda_{2}$ of A."
   ]
  },
  {
   "cell_type": "markdown",
   "metadata": {},
   "source": [
    "f) Verify that $\\det A = \\lambda_{1}\\lambda_{2}$ and $|\\det A| = \\sigma_{1}\\sigma_{2}$."
   ]
  },
  {
   "cell_type": "markdown",
   "metadata": {},
   "source": [
    "g) What is the area of the ellipsoid onto which A maps the unit ball of $\\mathbb{R}^{2}$?"
   ]
  },
  {
   "cell_type": "code",
   "execution_count": null,
   "metadata": {
    "collapsed": true
   },
   "outputs": [],
   "source": []
  }
 ],
 "metadata": {
  "kernelspec": {
   "display_name": "Octave",
   "language": "octave",
   "name": "octave"
  },
  "language_info": {
   "file_extension": ".m",
   "help_links": [
    {
     "text": "GNU Octave",
     "url": "https://www.gnu.org/software/octave/support.html"
    },
    {
     "text": "Octave Kernel",
     "url": "https://github.com/Calysto/octave_kernel"
    },
    {
     "text": "MetaKernel Magics",
     "url": "https://github.com/calysto/metakernel/blob/master/metakernel/magics/README.md"
    }
   ],
   "mimetype": "text/x-octave",
   "name": "octave",
   "version": "4.2.0"
  }
 },
 "nbformat": 4,
 "nbformat_minor": 2
}
