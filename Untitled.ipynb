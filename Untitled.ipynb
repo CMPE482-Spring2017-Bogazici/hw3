{
 "cells": [
  {
   "cell_type": "markdown",
   "metadata": {},
   "source": [
    "## 3.6(a)\n",
    "Let $\\| \\cdot \\|$ denote any norm, the corresponding dual norm $\\|\\cdot\\|'$ is defined by the formula $\\|\\cdot\\|' = sup_{\\|y\\| = 1} |y^* x|$. Prove that $\\|\\cdot\\|'$ is a norm. \n",
    "\n",
    "In order to prove $\\|\\cdot\\|'$ is a norm, we need to show that $\\|\\cdot\\|'$ shows the following properties. \n",
    "\n",
    "$$ \\|A\\| \\geq 0, \\|A\\| = 0 \\text{ only if } A = 0. \\\\ \n",
    "\\|\\alpha A\\| = \\|\\alpha\\| \\|A\\| \\\\  \n",
    "\\|A + B\\| \\leq \\|A\\| + \\|B\\| $$\n",
    "\n",
    "### 1. $ \\|A\\| \\geq 0, \\|A\\| = 0 \\text{ only if } A = 0 $\n",
    "\n",
    "####  $ \\|x\\| \\geq 0$\n",
    "$$\\|x\\| \\geq 0 \\text{ since } |y^* x| \\geq 0 $$\n",
    "\n",
    "####  $\\|A\\| = 0 \\text{ only if } A = 0 $\n",
    "$ x = 0 \\implies \\|x\\|' = 0,$\n",
    "\n",
    "\\begin{align}\n",
    "x = 0 &\\implies |y^* x| = 0 \\\\\n",
    "      &\\implies sup_{\\|y\\| = 1} |y^* x| = 0 \\\\\n",
    "       &\\implies \\|x\\|' = 0     \n",
    "\\end{align}\n",
    "\n",
    "$\\|x\\|' = 0 \\implies x = 0,$\n",
    "\n",
    "\\begin{align}\n",
    "\\|x\\|' = 0 &\\implies sup_{\\|y\\| = 1} |y^* x| = 0 \\\\\n",
    "&\\implies |y^* x| \\leq 0 \\\\\n",
    "\\end{align}\n",
    "\n",
    "since $|y^* x|$ cannot be less than 0, $|y^* x| = 0$, therefore $x = 0$. \n",
    "\n",
    "\n",
    "### 2. $ \\|\\alpha A\\| = \\|\\alpha\\| \\|A\\| $\n",
    "\n",
    "\\begin{align}\n",
    "\\|\\alpha x\\|' &= sup_{\\|y\\| = 1} |y^* (\\alpha x)| \\\\\n",
    "              &=  sup_{\\|y\\| = 1} |\\alpha (y^* x)| \\\\\n",
    "              &=  sup_{\\|y\\| = 1} |\\alpha|*|(y^* x)| \\\\\n",
    "              &=  |\\alpha|*sup_{\\|y\\| = 1}|(y^* x)| \\\\\n",
    "              &= |\\alpha|*\\|x\\|'\n",
    "\\end{align}\n",
    "\n",
    "### 3. $\\|A + B\\| \\leq \\|A\\| + \\|B\\|$\n",
    "\n",
    "I couldn't prove this part\n",
    "\n",
    "\n",
    "\n"
   ]
  },
  {
   "cell_type": "markdown",
   "metadata": {},
   "source": [
    "## 4.5"
   ]
  },
  {
   "cell_type": "markdown",
   "metadata": {},
   "source": [
    "## 5.3"
   ]
  },
  {
   "cell_type": "code",
   "execution_count": 691,
   "metadata": {
    "collapsed": false,
    "scrolled": true
   },
   "outputs": [],
   "source": [
    "function [e, ev] = eigv(M)\n",
    "    sum_ad = sum(diag(M));\n",
    "    center = sum_ad / 2;\n",
    "    dist = sqrt(sum_ad ^ 2 - 4 * det(M)) / 2;\n",
    "    \n",
    "    e = center + dist * [-1; +1];\n",
    "    \n",
    "    ev = [\n",
    "        -M(1, 2)        -M(1, 2);\n",
    "        M(1, 1) - e(1)  M(1, 1) - e(2)\n",
    "    ];\n",
    "    ev = ev / diag(sqrt(sum(ev .^ 2)));\n",
    "end\n",
    "\n",
    "A = [-2, 11; -10 5];"
   ]
  },
  {
   "cell_type": "code",
   "execution_count": 692,
   "metadata": {
    "collapsed": false
   },
   "outputs": [
    {
     "name": "stdout",
     "output_type": "stream",
     "text": [
      "U =\n",
      "\n",
      "  -0.70711  -0.70711\n",
      "   0.70711  -0.70711\n",
      "\n",
      "A =\n",
      "\n",
      "   -2   11\n",
      "  -10    5\n",
      "\n",
      "sigma =\n",
      "\n",
      "Diagonal Matrix\n",
      "\n",
      "    7.0711         0\n",
      "         0   14.1421\n",
      "\n",
      "eA =\n",
      "\n",
      "   1.5000 - 9.8869i\n",
      "   1.5000 + 9.8869i\n",
      "\n",
      "evA =\n",
      "\n",
      "  -1.06434 - 0.65024i  -1.06434 + 0.65024i\n",
      "  -0.92310 + 0.74974i  -0.92310 - 0.74974i\n",
      "\n"
     ]
    }
   ],
   "source": [
    "% 1. sigma, U and V matrices\n",
    "[e, U] = eigv(A * A');\n",
    "[~, V] = eigv(A' * A);\n",
    "sigma = diag(sqrt(e));\n",
    "U\n",
    "A\n",
    "sigma\n",
    "\n",
    "[eA, evA] = eigv(A)\n"
   ]
  },
  {
   "cell_type": "code",
   "execution_count": 693,
   "metadata": {
    "collapsed": false
   },
   "outputs": [
    {
     "data": {
      "image/svg+xml": [
       "<svg height=\"420px\" viewBox=\"0 0 560 420\" width=\"560px\" xmlns=\"http://www.w3.org/2000/svg\" xmlns:xlink=\"http://www.w3.org/1999/xlink\">\n",
       "\n",
       "<title>Gnuplot</title>\n",
       "<desc>Produced by GNUPLOT 5.0 patchlevel 5 </desc>\n",
       "\n",
       "<g id=\"gnuplot_canvas\">\n",
       "\n",
       "<rect fill=\"#ffffff\" height=\"420\" width=\"560\" x=\"0\" y=\"0\"/>\n",
       "<defs>\n",
       "\n",
       "\t<circle id=\"gpDot\" r=\"0.5\" stroke-width=\"0.5\"/>\n",
       "\t<path d=\"M-1,0 h2 M0,-1 v2\" id=\"gpPt0\" stroke=\"currentColor\" stroke-width=\"0.333\"/>\n",
       "\t<path d=\"M-1,-1 L1,1 M1,-1 L-1,1\" id=\"gpPt1\" stroke=\"currentColor\" stroke-width=\"0.333\"/>\n",
       "\t<path d=\"M-1,0 L1,0 M0,-1 L0,1 M-1,-1 L1,1 M-1,1 L1,-1\" id=\"gpPt2\" stroke=\"currentColor\" stroke-width=\"0.333\"/>\n",
       "\t<rect height=\"2\" id=\"gpPt3\" stroke=\"currentColor\" stroke-width=\"0.333\" width=\"2\" x=\"-1\" y=\"-1\"/>\n",
       "\t<rect fill=\"currentColor\" height=\"2\" id=\"gpPt4\" stroke=\"currentColor\" stroke-width=\"0.333\" width=\"2\" x=\"-1\" y=\"-1\"/>\n",
       "\t<circle cx=\"0\" cy=\"0\" id=\"gpPt5\" r=\"1\" stroke=\"currentColor\" stroke-width=\"0.333\"/>\n",
       "\t<use fill=\"currentColor\" id=\"gpPt6\" stroke=\"none\" xlink:href=\"#gpPt5\"/>\n",
       "\t<path d=\"M0,-1.33 L-1.33,0.67 L1.33,0.67 z\" id=\"gpPt7\" stroke=\"currentColor\" stroke-width=\"0.333\"/>\n",
       "\t<use fill=\"currentColor\" id=\"gpPt8\" stroke=\"none\" xlink:href=\"#gpPt7\"/>\n",
       "\t<use id=\"gpPt9\" stroke=\"currentColor\" transform=\"rotate(180)\" xlink:href=\"#gpPt7\"/>\n",
       "\t<use fill=\"currentColor\" id=\"gpPt10\" stroke=\"none\" xlink:href=\"#gpPt9\"/>\n",
       "\t<use id=\"gpPt11\" stroke=\"currentColor\" transform=\"rotate(45)\" xlink:href=\"#gpPt3\"/>\n",
       "\t<use fill=\"currentColor\" id=\"gpPt12\" stroke=\"none\" xlink:href=\"#gpPt11\"/>\n",
       "\t<path d=\"M0,1.330 L1.265,0.411 L0.782,-1.067 L-0.782,-1.076 L-1.265,0.411 z\" id=\"gpPt13\" stroke=\"currentColor\" stroke-width=\"0.333\"/>\n",
       "\t<use fill=\"currentColor\" id=\"gpPt14\" stroke=\"none\" xlink:href=\"#gpPt13\"/>\n",
       "\t<filter filterUnits=\"objectBoundingBox\" height=\"1\" id=\"textbox\" width=\"1\" x=\"0\" y=\"0\">\n",
       "\t  <feFlood flood-color=\"#FFFFFF\" flood-opacity=\"1\" result=\"bgnd\"/>\n",
       "\t  <feComposite in=\"SourceGraphic\" in2=\"bgnd\" operator=\"atop\"/>\n",
       "\t</filter>\n",
       "\t<filter filterUnits=\"objectBoundingBox\" height=\"1\" id=\"greybox\" width=\"1\" x=\"0\" y=\"0\">\n",
       "\t  <feFlood flood-color=\"lightgrey\" flood-opacity=\"1\" result=\"grey\"/>\n",
       "\t  <feComposite in=\"SourceGraphic\" in2=\"grey\" operator=\"atop\"/>\n",
       "\t</filter>\n",
       "</defs>\n",
       "<g color=\"#FFFFFF\" fill=\"none\" stroke=\"currentColor\" stroke-linecap=\"butt\" stroke-linejoin=\"miter\" stroke-width=\"1.00\">\n",
       "</g>\n",
       "<g color=\"black\" fill=\"none\" stroke=\"currentColor\" stroke-linecap=\"butt\" stroke-linejoin=\"miter\" stroke-width=\"1.00\">\n",
       "\t<g shape-rendering=\"crispEdges\" stroke=\"none\">\n",
       "\t\t<polygon fill=\"rgb(255, 255, 255)\" points=\"44.5,394.8 529.2,394.8 529.2,12.6 44.5,12.6 \"/>\n",
       "\t</g>\n",
       "</g>\n",
       "<g color=\"black\" fill=\"none\" stroke=\"currentColor\" stroke-linecap=\"butt\" stroke-linejoin=\"miter\" stroke-width=\"1.00\">\n",
       "\t<path d=\"M44.5,374.7 L52.9,374.7 M529.3,374.7 L520.9,374.7  \" stroke=\"rgb(  0,   0,   0)\"/>\t<g fill=\"rgb(38,38,38)\" font-family=\"Arial\" font-size=\"10.00\" stroke=\"none\" text-anchor=\"end\" transform=\"translate(38.9,378.0)\">\n",
       "\t\t<text><tspan font-family=\"Arial\">-10</tspan></text>\n",
       "\t</g>\n",
       "</g>\n",
       "<g color=\"black\" fill=\"none\" stroke=\"currentColor\" stroke-linecap=\"butt\" stroke-linejoin=\"miter\" stroke-width=\"1.00\">\n",
       "\t<path d=\"M44.5,289.2 L52.9,289.2 M529.3,289.2 L520.9,289.2  \" stroke=\"rgb(  0,   0,   0)\"/>\t<g fill=\"rgb(38,38,38)\" font-family=\"Arial\" font-size=\"10.00\" stroke=\"none\" text-anchor=\"end\" transform=\"translate(38.9,292.5)\">\n",
       "\t\t<text><tspan font-family=\"Arial\">-5</tspan></text>\n",
       "\t</g>\n",
       "</g>\n",
       "<g color=\"black\" fill=\"none\" stroke=\"currentColor\" stroke-linecap=\"butt\" stroke-linejoin=\"miter\" stroke-width=\"1.00\">\n",
       "\t<path d=\"M44.5,203.7 L52.9,203.7 M529.3,203.7 L520.9,203.7  \" stroke=\"rgb(  0,   0,   0)\"/>\t<g fill=\"rgb(38,38,38)\" font-family=\"Arial\" font-size=\"10.00\" stroke=\"none\" text-anchor=\"end\" transform=\"translate(38.9,207.0)\">\n",
       "\t\t<text><tspan font-family=\"Arial\">0</tspan></text>\n",
       "\t</g>\n",
       "</g>\n",
       "<g color=\"black\" fill=\"none\" stroke=\"currentColor\" stroke-linecap=\"butt\" stroke-linejoin=\"miter\" stroke-width=\"1.00\">\n",
       "\t<path d=\"M44.5,118.2 L52.9,118.2 M529.3,118.2 L520.9,118.2  \" stroke=\"rgb(  0,   0,   0)\"/>\t<g fill=\"rgb(38,38,38)\" font-family=\"Arial\" font-size=\"10.00\" stroke=\"none\" text-anchor=\"end\" transform=\"translate(38.9,121.5)\">\n",
       "\t\t<text><tspan font-family=\"Arial\">5</tspan></text>\n",
       "\t</g>\n",
       "</g>\n",
       "<g color=\"black\" fill=\"none\" stroke=\"currentColor\" stroke-linecap=\"butt\" stroke-linejoin=\"miter\" stroke-width=\"1.00\">\n",
       "\t<path d=\"M44.5,32.7 L52.9,32.7 M529.3,32.7 L520.9,32.7  \" stroke=\"rgb(  0,   0,   0)\"/>\t<g fill=\"rgb(38,38,38)\" font-family=\"Arial\" font-size=\"10.00\" stroke=\"none\" text-anchor=\"end\" transform=\"translate(38.9,36.0)\">\n",
       "\t\t<text><tspan font-family=\"Arial\">10</tspan></text>\n",
       "\t</g>\n",
       "</g>\n",
       "<g color=\"black\" fill=\"none\" stroke=\"currentColor\" stroke-linecap=\"butt\" stroke-linejoin=\"miter\" stroke-width=\"1.00\">\n",
       "\t<path d=\"M115.9,394.8 L115.9,386.4 M115.9,12.5 L115.9,20.9  \" stroke=\"rgb(  0,   0,   0)\"/>\t<g fill=\"rgb(38,38,38)\" font-family=\"Arial\" font-size=\"10.00\" stroke=\"none\" text-anchor=\"middle\" transform=\"translate(115.9,410.1)\">\n",
       "\t\t<text><tspan font-family=\"Arial\">-10</tspan></text>\n",
       "\t</g>\n",
       "</g>\n",
       "<g color=\"black\" fill=\"none\" stroke=\"currentColor\" stroke-linecap=\"butt\" stroke-linejoin=\"miter\" stroke-width=\"1.00\">\n",
       "\t<path d=\"M201.4,394.8 L201.4,386.4 M201.4,12.5 L201.4,20.9  \" stroke=\"rgb(  0,   0,   0)\"/>\t<g fill=\"rgb(38,38,38)\" font-family=\"Arial\" font-size=\"10.00\" stroke=\"none\" text-anchor=\"middle\" transform=\"translate(201.4,410.1)\">\n",
       "\t\t<text><tspan font-family=\"Arial\">-5</tspan></text>\n",
       "\t</g>\n",
       "</g>\n",
       "<g color=\"black\" fill=\"none\" stroke=\"currentColor\" stroke-linecap=\"butt\" stroke-linejoin=\"miter\" stroke-width=\"1.00\">\n",
       "\t<path d=\"M286.9,394.8 L286.9,386.4 M286.9,12.5 L286.9,20.9  \" stroke=\"rgb(  0,   0,   0)\"/>\t<g fill=\"rgb(38,38,38)\" font-family=\"Arial\" font-size=\"10.00\" stroke=\"none\" text-anchor=\"middle\" transform=\"translate(286.9,410.1)\">\n",
       "\t\t<text><tspan font-family=\"Arial\">0</tspan></text>\n",
       "\t</g>\n",
       "</g>\n",
       "<g color=\"black\" fill=\"none\" stroke=\"currentColor\" stroke-linecap=\"butt\" stroke-linejoin=\"miter\" stroke-width=\"1.00\">\n",
       "\t<path d=\"M372.4,394.8 L372.4,386.4 M372.4,12.5 L372.4,20.9  \" stroke=\"rgb(  0,   0,   0)\"/>\t<g fill=\"rgb(38,38,38)\" font-family=\"Arial\" font-size=\"10.00\" stroke=\"none\" text-anchor=\"middle\" transform=\"translate(372.4,410.1)\">\n",
       "\t\t<text><tspan font-family=\"Arial\">5</tspan></text>\n",
       "\t</g>\n",
       "</g>\n",
       "<g color=\"black\" fill=\"none\" stroke=\"currentColor\" stroke-linecap=\"butt\" stroke-linejoin=\"miter\" stroke-width=\"1.00\">\n",
       "\t<path d=\"M458.0,394.8 L458.0,386.4 M458.0,12.5 L458.0,20.9  \" stroke=\"rgb(  0,   0,   0)\"/>\t<g fill=\"rgb(38,38,38)\" font-family=\"Arial\" font-size=\"10.00\" stroke=\"none\" text-anchor=\"middle\" transform=\"translate(458.0,410.1)\">\n",
       "\t\t<text><tspan font-family=\"Arial\">10</tspan></text>\n",
       "\t</g>\n",
       "</g>\n",
       "<g color=\"black\" fill=\"none\" stroke=\"currentColor\" stroke-linecap=\"butt\" stroke-linejoin=\"miter\" stroke-width=\"1.00\">\n",
       "</g>\n",
       "<g color=\"black\" fill=\"none\" stroke=\"currentColor\" stroke-linecap=\"butt\" stroke-linejoin=\"miter\" stroke-width=\"1.00\">\n",
       "</g>\n",
       "\t<g id=\"gnuplot_plot_1a\"><title>gnuplot_plot_1a</title>\n",
       "<g color=\"#FFFFFF\" fill=\"none\" stroke=\"rgb(  0,   0,   0)\" stroke-linecap=\"butt\" stroke-linejoin=\"miter\" stroke-width=\"0.50\">\n",
       "</g>\n",
       "<g color=\"black\" fill=\"none\" stroke=\"currentColor\" stroke-linecap=\"butt\" stroke-linejoin=\"miter\" stroke-width=\"0.50\">\n",
       "\t<path d=\"M304.0,203.7 L304.0,202.6 L303.9,201.5 L303.7,200.4 L303.5,199.4 L303.2,198.3 L302.8,197.3 L302.4,196.3   L301.9,195.3 L301.3,194.4 L300.7,193.5 L300.0,192.7 L299.3,191.9 L298.5,191.1 L297.7,190.4 L296.9,189.7   L295.9,189.1 L295.0,188.6 L294.0,188.1 L293.0,187.7 L292.0,187.3 L291.0,187.0 L289.9,186.8 L288.8,186.7   L287.7,186.6 L286.7,186.6 L285.6,186.6 L284.5,186.7 L283.4,186.9 L282.4,187.2 L281.3,187.5 L280.3,187.9   L279.3,188.3 L278.4,188.9 L277.5,189.4 L276.6,190.1 L275.7,190.7 L274.9,191.5 L274.2,192.3 L273.5,193.1   L272.8,194.0 L272.3,194.9 L271.7,195.8 L271.3,196.8 L270.9,197.8 L270.5,198.8 L270.2,199.9 L270.0,201.0   L269.9,202.0 L269.8,203.1 L269.8,204.2 L269.9,205.3 L270.0,206.4 L270.2,207.4 L270.5,208.5 L270.9,209.5   L271.3,210.5 L271.7,211.5 L272.3,212.4 L272.8,213.4 L273.5,214.2 L274.2,215.1 L274.9,215.8 L275.7,216.6   L276.6,217.3 L277.5,217.9 L278.4,218.5 L279.3,219.0 L280.3,219.4 L281.3,219.8 L282.4,220.1 L283.4,220.4   L284.5,220.6 L285.6,220.7 L286.7,220.8 L287.7,220.7 L288.8,220.7 L289.9,220.5 L291.0,220.3 L292.0,220.0   L293.0,219.6 L294.0,219.2 L295.0,218.7 L295.9,218.2 L296.9,217.6 L297.7,216.9 L298.5,216.2 L299.3,215.5   L300.0,214.7 L300.7,213.8 L301.3,212.9 L301.9,212.0 L302.4,211.0 L302.8,210.0 L303.2,209.0 L303.5,208.0   L303.7,206.9 L303.9,205.8 L304.0,204.7 L304.0,203.7  \" stroke=\"rgb(  0, 114, 189)\"/></g>\n",
       "\t</g>\n",
       "\t<g id=\"gnuplot_plot_2a\"><title>gnuplot_plot_2a</title>\n",
       "<g color=\"black\" fill=\"none\" stroke=\"currentColor\" stroke-linecap=\"butt\" stroke-linejoin=\"miter\" stroke-width=\"0.50\">\n",
       "\t<path d=\"M252.7,374.7 L264.7,368.9 L276.8,362.5 L288.9,355.4 L301.1,347.7 L313.1,339.4 L325.1,330.6 L336.9,321.3   L348.5,311.5 L359.9,301.3 L370.9,290.7 L381.7,279.7 L392.0,268.4 L401.9,256.9 L411.4,245.1 L420.3,233.2   L428.8,221.2 L436.6,209.1 L443.8,196.9 L450.5,184.8 L456.4,172.8 L461.7,160.9 L466.3,149.2 L470.1,137.6   L473.2,126.4 L475.6,115.5 L477.2,104.9 L478.0,94.7 L478.1,85.0 L477.4,75.7 L475.9,66.9 L473.7,58.7   L470.7,51.1 L467.0,44.1 L462.5,37.8 L457.3,32.1 L451.5,27.1 L445.0,22.8 L437.9,19.2 L430.1,16.4   L421.8,14.3 L412.9,13.0 L403.5,12.5 L393.7,12.7 L383.4,13.7 L372.8,15.5 L361.7,18.0 L350.4,21.3   L338.9,25.3 L327.1,30.0 L315.2,35.5 L303.1,41.6 L291.0,48.3 L278.9,55.7 L266.8,63.7 L254.7,72.2   L242.8,81.3 L231.1,90.9 L219.6,100.9 L208.4,111.3 L197.5,122.1 L187.0,133.2 L176.9,144.6 L167.2,156.3   L157.9,168.1 L149.3,180.1 L141.1,192.2 L133.6,204.3 L126.6,216.5 L120.3,228.5 L114.7,240.5 L109.8,252.3   L105.6,264.0 L102.1,275.3 L99.4,286.4 L97.4,297.2 L96.2,307.6 L95.7,317.6 L96.0,327.1 L97.1,336.1   L99.0,344.6 L101.6,352.5 L105.0,359.8 L109.0,366.5 L113.8,372.5 L119.4,377.8 L125.5,382.5 L132.4,386.4   L139.8,389.6 L147.8,392.0 L156.4,393.7 L165.6,394.7 L175.2,394.8 L185.3,394.2 L195.7,392.8 L206.6,390.6   L217.7,387.7 L229.2,384.1 L240.9,379.7 L252.7,374.7  \" stroke=\"rgb(217,  83,  25)\"/></g>\n",
       "\t</g>\n",
       "\t<g id=\"gnuplot_plot_3a\"><title>gnuplot_plot_3a</title>\n",
       "<g color=\"black\" fill=\"none\" stroke=\"currentColor\" stroke-linecap=\"butt\" stroke-linejoin=\"miter\" stroke-width=\"0.50\">\n",
       "\t<path d=\"M286.9,203.7 L201.4,118.2  \" stroke=\"rgb(237, 177,  32)\"/></g>\n",
       "\t</g>\n",
       "\t<g id=\"gnuplot_plot_4a\"><title>gnuplot_plot_4a</title>\n",
       "<g color=\"black\" fill=\"none\" stroke=\"currentColor\" stroke-linecap=\"butt\" stroke-linejoin=\"miter\" stroke-width=\"0.50\">\n",
       "\t<path d=\"M286.9,203.7 L115.9,374.7  \" stroke=\"rgb(126,  47, 142)\"/></g>\n",
       "\t</g>\n",
       "<g color=\"#FFFFFF\" fill=\"none\" stroke=\"rgb(126,  47, 142)\" stroke-linecap=\"butt\" stroke-linejoin=\"miter\" stroke-width=\"2.00\">\n",
       "</g>\n",
       "<g color=\"black\" fill=\"none\" stroke=\"currentColor\" stroke-linecap=\"butt\" stroke-linejoin=\"miter\" stroke-width=\"2.00\">\n",
       "\t<g fill=\"rgb(0,0,0)\" font-family=\"Arial\" font-size=\"10.00\" stroke=\"none\" text-anchor=\"start\" transform=\"translate(184.3,112.9)\">\n",
       "\t\t<text><tspan font-family=\"Arial\">(-5, 5)</tspan></text>\n",
       "\t</g>\n",
       "\t<g fill=\"rgb(0,0,0)\" font-family=\"Arial\" font-size=\"10.00\" stroke=\"none\" text-anchor=\"start\" transform=\"translate(90.3,369.4)\">\n",
       "\t\t<text><tspan font-family=\"Arial\">(-10, -10)</tspan></text>\n",
       "\t</g>\n",
       "</g>\n",
       "<g color=\"black\" fill=\"none\" stroke=\"rgb(  0,   0,   0)\" stroke-linecap=\"butt\" stroke-linejoin=\"miter\" stroke-width=\"0.50\">\n",
       "</g>\n",
       "<g color=\"black\" fill=\"none\" stroke=\"currentColor\" stroke-linecap=\"butt\" stroke-linejoin=\"miter\" stroke-width=\"0.50\">\n",
       "\t<path d=\"M44.5,394.8 L529.3,394.8  \" stroke=\"rgb( 38,  38,  38)\"/></g>\n",
       "<g color=\"black\" fill=\"none\" stroke=\"currentColor\" stroke-linecap=\"butt\" stroke-linejoin=\"miter\" stroke-width=\"0.50\">\n",
       "\t<path d=\"M44.5,12.5 L529.3,12.5  \" stroke=\"rgb( 38,  38,  38)\"/></g>\n",
       "<g color=\"black\" fill=\"none\" stroke=\"currentColor\" stroke-linecap=\"butt\" stroke-linejoin=\"miter\" stroke-width=\"0.50\">\n",
       "\t<path d=\"M44.5,394.8 L44.5,12.5  \" stroke=\"rgb( 38,  38,  38)\"/></g>\n",
       "<g color=\"black\" fill=\"none\" stroke=\"currentColor\" stroke-linecap=\"butt\" stroke-linejoin=\"miter\" stroke-width=\"0.50\">\n",
       "\t<path d=\"M529.3,394.8 L529.3,12.5  \" stroke=\"rgb( 38,  38,  38)\"/></g>\n",
       "<g color=\"black\" fill=\"none\" stroke=\"rgb( 38,  38,  38)\" stroke-linecap=\"butt\" stroke-linejoin=\"miter\" stroke-width=\"1.00\">\n",
       "</g>\n",
       "<g color=\"black\" fill=\"none\" stroke=\"currentColor\" stroke-linecap=\"butt\" stroke-linejoin=\"miter\" stroke-width=\"1.00\">\n",
       "</g>\n",
       "</g>\n",
       "</svg>"
      ],
      "text/plain": [
       "<IPython.core.display.SVG object>"
      ]
     },
     "metadata": {},
     "output_type": "display_data"
    }
   ],
   "source": [
    "% 2. singular values, left singular vectors, right singular vectors\n",
    "    % singular values are the entries of the diagonals of sigma\n",
    "    % left singular vectors are the column vectors of U\n",
    "    % right singular vectors are the row vectors of V\n",
    "\n",
    "\n",
    "t = linspace(0,2*pi);\n",
    "\n",
    "x1 = cos(t);\n",
    "y1 = sin(t);\n",
    "\n",
    "x2 = cos(t) * A(1, 1) + sin(t) * A(1, 2);\n",
    "y2 = cos(t) * A(2, 1) + sin(t) * A(2, 2);\n",
    "\n",
    "ellaxes = U * sigma;\n",
    "\n",
    "figure\n",
    "plot(x1, y1); hold on;\n",
    "plot(x2, y2); hold on;\n",
    "plot([0 0; ellaxes(1, :)], [0 0; ellaxes(2, :)]);\n",
    "text(ellaxes(1, 1) - 1, ellaxes(2, 1) + 0.5, '(-5, 5)')\n",
    "text(ellaxes(1, 2) - 1.5, ellaxes(2, 2) + 0.5, '(-10, -10)')\n",
    "axis equal;"
   ]
  },
  {
   "cell_type": "code",
   "execution_count": 694,
   "metadata": {
    "collapsed": false
   },
   "outputs": [
    {
     "name": "stdout",
     "output_type": "stream",
     "text": [
      "norm1 =  16\n",
      "normInf =  15\n",
      "normFrob =  15.811\n",
      "norm2 =  14.142\n"
     ]
    }
   ],
   "source": [
    "% 3. 1, 2, infinity, Frobenius Norms of A\n",
    "\n",
    "norm1 = max(sum(abs(A)))\n",
    "normInf = max(sum(abs(A),2))\n",
    "normFrob = sqrt(trace(A' * A))\n",
    "norm2 = max(sigma(:))\n",
    "\n"
   ]
  },
  {
   "cell_type": "code",
   "execution_count": 695,
   "metadata": {
    "collapsed": false
   },
   "outputs": [
    {
     "name": "stdout",
     "output_type": "stream",
     "text": [
      "A_inv =\n",
      "\n",
      "  -0.110000   0.050000\n",
      "  -0.020000   0.100000\n",
      "\n"
     ]
    }
   ],
   "source": [
    "% 4. Inverse of A\n",
    "A_inv = V * inv(sigma) * U'\n"
   ]
  },
  {
   "cell_type": "code",
   "execution_count": 696,
   "metadata": {
    "collapsed": false
   },
   "outputs": [
    {
     "name": "stdout",
     "output_type": "stream",
     "text": [
      "e =\n",
      "\n",
      "   1.5000 - 9.8869i\n",
      "   1.5000 + 9.8869i\n",
      "\n"
     ]
    }
   ],
   "source": [
    "% 5. Eigenvalues of A\n",
    "e = eigv(A)\n"
   ]
  },
  {
   "cell_type": "code",
   "execution_count": 697,
   "metadata": {
    "collapsed": false
   },
   "outputs": [
    {
     "name": "stdout",
     "output_type": "stream",
     "text": [
      "detA =  100\n",
      "eigMult =  100.00\n",
      "absDetA =  100\n",
      "sigmaMult =  100.00\n"
     ]
    }
   ],
   "source": [
    "% 6. Verify \n",
    "detA = det(A)\n",
    "eigMult = e(1) * e(2)\n",
    "\n",
    "s = diag(sigma);\n",
    "\n",
    "absDetA = abs(det(A))\n",
    "sigmaMult = s(1) * s(2)\n",
    "\n",
    "\n"
   ]
  },
  {
   "cell_type": "code",
   "execution_count": 698,
   "metadata": {
    "collapsed": false
   },
   "outputs": [
    {
     "name": "stdout",
     "output_type": "stream",
     "text": [
      "area =  314.16\n"
     ]
    }
   ],
   "source": [
    "% 7. Area of the ellipsoid\n",
    "area = s(1) * s(2) * pi"
   ]
  }
 ],
 "metadata": {
  "kernelspec": {
   "display_name": "Octave",
   "language": "octave",
   "name": "octave"
  },
  "language_info": {
   "file_extension": ".m",
   "help_links": [
    {
     "text": "GNU Octave",
     "url": "https://www.gnu.org/software/octave/support.html"
    },
    {
     "text": "Octave Kernel",
     "url": "https://github.com/Calysto/octave_kernel"
    },
    {
     "text": "MetaKernel Magics",
     "url": "https://github.com/calysto/metakernel/blob/master/metakernel/magics/README.md"
    }
   ],
   "mimetype": "text/x-octave",
   "name": "octave",
   "version": "4.2.0"
  }
 },
 "nbformat": 4,
 "nbformat_minor": 2
}
