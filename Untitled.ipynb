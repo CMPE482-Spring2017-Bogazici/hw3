{
 "cells": [
  {
   "cell_type": "markdown",
   "metadata": {},
   "source": [
    "# Homework #3\n",
    "Melce Husunbeyi _ 2016700222"
   ]
  },
  {
   "cell_type": "markdown",
   "metadata": {},
   "source": [
    "#### (3.6.a)\n",
    "\n",
    "A norm must satisfy following three conditions. Also, the dual norm $||x||' =sup_{||y||=1} | y^{∗} x |$ must satisfy these three cases to define as a norm. For all vectors $x$ and $y$, and for all scalar $\\alpha \\in \\mathbb{C}$,  \n",
    "\n",
    "(i) $||x|| \\geq 0$,  and $||x|| = 0$ only if $x = 0$\n",
    "\n",
    "The supremum of absolute value of $y^{*}x$ obviously positive except when $x = 0$.\n",
    "\n",
    "$||x||' \\geq ((\\frac{x}{||x||})^{*}x) = ||x||$ \n",
    "\n",
    "Then $||x||' = 0$ if and only if $x = 0$\n",
    "\n",
    "\n",
    "(ii) $||x + y|| \\leq ||x|| + ||y||$\n",
    "\n",
    "By using with the definition of the dual norm and second case,  \n",
    "\n",
    "$||x_{1}+x_{2}||' = sup_{||y||=1}|y^{*}(x_{1} + x_{2})| \\leq sup_{||y||=1}(|y^{*}x_{1}| + |y^{*}x_{2}|) \\leq sup_{||y||=1}|y^{*}x_{1}| + sup_{||y||=1}|y^{*}x_{2}|$ \n",
    "\n",
    "Thus, this means that $||x_{1}+x_{2}||' \\leq ||x_{1}||' + ||x_{2}||' $\n",
    "\n",
    "\n",
    "(iii) $||\\alpha x|| = |\\alpha|||x||$\n",
    "\n",
    "For any $\\alpha \\in \\mathbb{C}, ||\\alpha x||' = sup_{||y||=1} | y^{∗} \\alpha x | = sup_{||y||=1} |\\alpha||y^{∗}x| $\n",
    "\n",
    "So, it can be said that $||\\alpha x||' = |\\alpha|||x||'$"
   ]
  },
  {
   "cell_type": "markdown",
   "metadata": {},
   "source": [
    "#### (4.5) \n",
    "\n",
    "Assume that $ x \\in \\mathbb{R}^{n}$ and $ y \\in \\mathbb{R}^{n}$ be unit 2-norm vectors that satisfy $ Ax=\\sigma y$ with $\\sigma = ||A||_{2}$. It is possible to find $V_{1} \\in \\mathbb{R}^{nx(n-1)}$ and $U_{1} \\in \\mathbb{R}^{mx(m-1)}$ are orthogonal because any orthonormal set can be extended to form an orthonormal basis. \n",
    "\n",
    "$U^{T}AV = \\begin{bmatrix}\n",
    "             \\sigma \\quad \\omega^{T} \\\\\n",
    "             0 \\quad B\n",
    "            \\end{bmatrix} = A_{1}$\n",
    "            \n",
    "Because $||A_{1} (\\frac{\\sigma}{\\omega})||_{2}^{2} \\geq (\\sigma ^2 + \\omega ^{T} \\omega )^2 $ \n",
    "\n",
    "We have $||A_{1}||_{2}^{2} \\geq (\\sigma ^2 + \\omega ^{T} \\omega )$. But $\\sigma ^2 = ||A||_{2}^{2} = ||A_{1}||_{2}^{2}$, and hence we must have $\\omega = 0$. \n",
    "\n",
    "If $n = 1$ or $m = 1$, we are done. Otherwise, the submatrix $B$ describes the action of $A$ on the subspace orthogonal to $V_{1}$. By the induction hypothesis, $B$ has an $SVD$, $B = U_{2}\\Sigma_{2}V_{2}^*$. It verified that\n",
    "\n",
    "$ A=  U_{1}\\begin{bmatrix}\n",
    "            1 \\quad 0 \\\\\n",
    "             0 \\quad U_{2}\n",
    "            \\end{bmatrix}  \n",
    "            \\begin{bmatrix}\n",
    "             \\sigma_{1} \\quad 0 \\\\\n",
    "             0 \\quad \\Sigma_{2}\n",
    "            \\end{bmatrix}\n",
    "            \\begin{bmatrix}\n",
    "             \\sigma_{1} \\quad 0 \\\\\n",
    "             0 \\quad V_{2}\n",
    "            \\end{bmatrix} ^* V_{1} ^*$ is an SVD of A.\n",
    "\n",
    "\n",
    "\n"
   ]
  },
  {
   "cell_type": "markdown",
   "metadata": {
    "collapsed": true
   },
   "source": [
    "#### (5.3) \n"
   ]
  },
  {
   "cell_type": "code",
   "execution_count": 53,
   "metadata": {
    "collapsed": false
   },
   "outputs": [
    {
     "name": "stdout",
     "output_type": "stream",
     "text": [
      "A =\n",
      "\n",
      "   -2   11\n",
      "  -10    5\n",
      "\n",
      "B =\n",
      "\n",
      "   125    75\n",
      "    75   125\n",
      "\n",
      "eigen_value =\n",
      "\n",
      "   200\n",
      "    50\n",
      "\n",
      "e1 =  200\n",
      "e2 =  50\n",
      "s1 =  14.142\n",
      "s2 =  7.0711\n",
      "U =\n",
      "\n",
      "   0.70711   0.70711\n",
      "   0.70711  -0.70711\n",
      "\n",
      "T =\n",
      "\n",
      "   14.14214    0.00000\n",
      "    0.00000    7.07107\n",
      "\n",
      "V =\n",
      "\n",
      "  -0.60000   0.80000\n",
      "   0.80000   0.60000\n",
      "\n",
      "leftsingvec1 =\n",
      "\n",
      "   0.70711\n",
      "   0.70711\n",
      "\n",
      "leftsingvec2 =\n",
      "\n",
      "   0.70711\n",
      "  -0.70711\n",
      "\n",
      "rightsingvec1 =\n",
      "\n",
      "  -0.60000\n",
      "   0.80000\n",
      "\n",
      "rightsingvec2 =\n",
      "\n",
      "   0.80000\n",
      "   0.60000\n",
      "\n",
      "norm_1 =  16\n",
      "norm_2 =  14.142\n",
      "norm_inf =  15\n",
      "norm_frobenius =  15.811\n",
      "inv_A =\n",
      "\n",
      "   0.050000  -0.110000\n",
      "   0.100000  -0.020000\n",
      "\n",
      "eigen_value =\n",
      "\n",
      "   1.5000 + 9.8869i\n",
      "   1.5000 - 9.8869i\n",
      "\n",
      "det_A =  100.00\n",
      "det_sigma_calculation =  100.00\n",
      "area =  314.16\n"
     ]
    },
    {
     "data": {
      "image/png": "[encoded data removed]",
      "text/plain": [
       "<IPython.core.display.Image object>"
      ]
     },
     "metadata": {},
     "output_type": "display_data"
    }
   ],
   "source": [
    "A = [-2 11;-10 5]\n",
    "\n",
    "#B = A.A^T \n",
    "B=A*A'\n",
    "\n",
    "eigen_value=roots([1, -(B(2,2)+B(1,1)), (B(1,1)*B(2,2)-B(2,1)*B(1,2))])\n",
    "\n",
    "#Eigen values of A.A^T\n",
    "e1=eigen_value(1)\n",
    "e2=eigen_value(2)\n",
    "\n",
    "#Singular values of A\n",
    "s1 = sqrt(e1)\n",
    "s2 = sqrt(e2)\n",
    "\n",
    "eigenvec1=[1;-((B(1,1)-e1)/B(2,1))];\n",
    "eigenvec2=[1;-((B(1,1)-e2)/B(2,1))];\n",
    "eigenvec1=eigenvec1/norm(eigenvec1);\n",
    "eigenvec2=eigenvec2/norm(eigenvec2);\n",
    "\n",
    "#orthogonal U matrix\n",
    "U=[eigenvec1,eigenvec2]\n",
    "\n",
    "#orthogonal V matrix\n",
    "T=[sqrt(e1),0; 0,sqrt(e2)]\n",
    "V=A'*U;\n",
    "V=[V(:,1)/T(1,1),V(:,2)/T(2,2)]\n",
    "\n",
    "#left singular vector\n",
    "leftsingvec1 = U(:,1)\n",
    "leftsingvec2 = U(:,2)\n",
    "\n",
    "#right singular vector\n",
    "rightsingvec1 = V(:,1)\n",
    "rightsingvec2 = V(:,2)\n",
    "\n",
    "# 1-, 2-, inf-, and Frobenius norms of A\n",
    "norm_1 = max(abs(sum(A(:,1))),abs(sum(A(:,2))))\n",
    "norm_2 = T(1,1)\n",
    "norm_inf = max(abs(A(1,1))+abs(A(1,2)), abs(A(2,1))+abs(A(2,2))) \n",
    "norm_frobenius = 0;\n",
    "for i=1:2\n",
    "    norm_frobenius = norm_frobenius + (T(i,i)^2);\n",
    "end\n",
    "norm_frobenius = sqrt(norm_frobenius)\n",
    "\n",
    "#inverse of A\n",
    "inv_A= V * [1/T(1,1),0;0,1/T(2,2)] * U.'\n",
    "\n",
    "#eigenvalues of A\n",
    "eigen_value = roots([1, -(A(2,2)+A(1,1)), (A(1,1)*A(2,2)-A(2,1)*A(1,2))])\n",
    "\n",
    "#comparison det_A and |det_A|\n",
    "det_A = eigen_value(1)*eigen_value(2)\n",
    "det_sigma_calculation = T(1,1)*T(2,2)\n",
    "\n",
    "#area of elipsoid is = 314.16\n",
    "area=pi*T(1,1)*T(2,2)\n",
    "\n",
    "#figures with singular vectors\n",
    "th=0:2*pi/256:2*pi;\n",
    "dom=[cos(th); sin(th)]; \n",
    "ran=A*dom;\n",
    "subplot(1,2,1)\n",
    "plot(dom(1,:),dom(2,:),'.'),axis('image'),grid,hold\n",
    "quiver(0,0,V(1,1),V(2,1))\n",
    "hold on\n",
    "quiver(0,0,V(1,2),V(2,2))\n",
    "hold on\n",
    "title(\"Right Singular Vectors\")\n",
    "subplot(1,2,2)\n",
    "plot(ran(1,:),ran(2,:),'r.'),axis('image'),grid,hold\n",
    "quiver(0,0,T(1)*U(1,1),T(1)*U(2,1))\n",
    "hold on\n",
    "quiver(0,0,T(2)*U(1,2),T(2)*U(2,2))\n",
    "hold on\n",
    "title(\"Left Singular Vectors\")\n",
    "    "
   ]
  },
  {
   "cell_type": "code",
   "execution_count": null,
   "metadata": {
    "collapsed": true
   },
   "outputs": [],
   "source": []
  },
  {
   "cell_type": "code",
   "execution_count": null,
   "metadata": {
    "collapsed": true
   },
   "outputs": [],
   "source": []
  }
 ],
 "metadata": {
  "kernelspec": {
   "display_name": "Octave",
   "language": "octave",
   "name": "octave"
  },
  "language_info": {
   "file_extension": ".m",
   "help_links": [
    {
     "text": "GNU Octave",
     "url": "https://www.gnu.org/software/octave/support.html"
    },
    {
     "text": "Octave Kernel",
     "url": "https://github.com/Calysto/octave_kernel"
    },
    {
     "text": "MetaKernel Magics",
     "url": "https://github.com/calysto/metakernel/blob/master/metakernel/magics/README.md"
    }
   ],
   "mimetype": "text/x-octave",
   "name": "octave",
   "version": "4.0.2"
  }
 },
 "nbformat": 4,
 "nbformat_minor": 2
}
