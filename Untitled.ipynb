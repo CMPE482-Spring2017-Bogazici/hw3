{
 "cells": [
  {
   "cell_type": "markdown",
   "metadata": {},
   "source": [
    "# Homework 3\n",
    "## Arda Akdemir\n",
    "## 2012400126"
   ]
  },
  {
   "cell_type": "markdown",
   "metadata": {},
   "source": [
    "** 3.3 a) ** In order to prove that $\\|x\\|'= sup_{\\|y\\|=1}|y^*x|$ to be a norm it has to satisfy the 3 properties of norms:\n",
    "\n",
    "**1. Nonzero property: **$\\|x\\|'=0$ if and only if x=0.\n",
    "\n",
    " for any nonzero x vector choose y such that $ y = \\frac{x}{\\|x\\|}$ so that the multiplication $ y*x = \\|x\\|$.\n",
    "    \n",
    " so there always exists, for any x, that satisfy the nonzero property.\n",
    "  \n",
    "\n",
    "**2. Triangle inequality:** $\\|x_{1}+x_{2}\\|'\\leq \\|x_{1}\\|'+\\|x_{2}\\|'$\n",
    "   \n",
    "   $ \\|x_{1}+x_{2}\\|' = sup_{\\|y\\|=1}|y* (x_{1}+x_{2})| \\leq sup_{\\|y\\|=1}(|y* x_{1}|+|y*x_{2}| )=  \\|x_{1}\\|'+ \\|x_{2}\\|'$\n",
    "\n",
    "\n",
    "**3. Scaling property:** $\\|\\alpha x\\|'=\\alpha\\| x\\|'$\n",
    "   \n",
    "   $  \\|\\alpha x\\|'  = sup_{\\|y\\|=1}|y^*\\alpha x|= sup_{\\|y\\|=1}\\alpha|y^ x|= \\alpha \\|x\\|'$\n"
   ]
  },
  {
   "cell_type": "markdown",
   "metadata": {},
   "source": [
    "** 4.5 ** In order to prove that when A is real it has a real SVD we have to show that all parts of SVD are real. $\\Sigma$ is real by definition because it consists of real valued coefficients. \n",
    "\n",
    "By observing that $A^{T}A$ is both symmetric and real we can figure out the rest. \n",
    "\n"
   ]
  },
  {
   "cell_type": "markdown",
   "metadata": {},
   "source": [
    "**5.3  a)**   We want to find the SVD of A. Since $A = U\\Sigma V^T$   $A^T*A=V\\Sigma^T\\Sigma V^T$ We can find $\\Sigma$ and V by finding eigenvalues and eigenvectors of $A^T*A$"
   ]
  },
  {
   "cell_type": "markdown",
   "metadata": {
    "collapsed": true
   },
   "source": [
    "**-** Then the next step is to find U by using the fact that $AV=U\\Sigma$ since $VV^T=I$"
   ]
  },
  {
   "cell_type": "code",
   "execution_count": 19,
   "metadata": {
    "collapsed": false
   },
   "outputs": [
    {
     "name": "stdout",
     "output_type": "stream",
     "text": [
      "A =\n",
      "\n",
      "   -2   11\n",
      "  -10    5\n",
      "\n",
      "V =\n",
      "\n",
      "   0.60000   0.80000\n",
      "  -0.80000   0.60000\n",
      "\n"
     ]
    }
   ],
   "source": [
    "\n",
    "A=[-2,11;-10,5]\n",
    "function eigenval= eigenvalues(A)\n",
    "    a(1)= 1;\n",
    "    a(2)= - (A(1,1)+A(2,2));\n",
    "    a(3)= A(1,1)*A(2,2)-(A(1,2)*A(2,1));\n",
    "    x=roots(a);\n",
    "    eigenval=eye(2);\n",
    "    eigenval(1,1)=x(1,1);\n",
    "    eigenval(2,2)=x(2,1);\n",
    "endfunction\n",
    "M=A'*A;\n",
    "eigenval=eigenvalues(M);\n",
    "eigenvector=ones(2);\n",
    "B=M;\n",
    "\n",
    "B(1,1)=M(1,1)-eigenval(1,1);\n",
    "B(2,2)=M(2,2)-eigenval(1,1);\n",
    "vector1=null(B);\n",
    "B=M;\n",
    "B(1,1)=M(1,1)-eigenval(2,2);\n",
    "B(2,2)=M(2,2)-eigenval(2,2);\n",
    "vector2=null(B);\n",
    "sigma=eigenval;\n",
    "sigma(1,1)=sqrt(sigma(1,1));\n",
    "sigma(2,2)=sqrt(sigma(2,2));\n",
    "V=[vector1,vector2]"
   ]
  },
  {
   "cell_type": "code",
   "execution_count": 20,
   "metadata": {
    "collapsed": false
   },
   "outputs": [
    {
     "name": "stdout",
     "output_type": "stream",
     "text": [
      "AV =\n",
      "\n",
      "  -10    5\n",
      "  -10   -5\n",
      "\n"
     ]
    }
   ],
   "source": [
    "AV=A*V\n",
    "U=ones(2);\n",
    "for i=1:2\n",
    "    len=sqrt(AV(1,i)*AV(1,i)+AV(2,i)*AV(2,i));\n",
    "    U(1,i)=AV(1,i)/len;\n",
    "    U(2,i)=AV(2,i)/len;\n",
    "endfor\n"
   ]
  },
  {
   "cell_type": "markdown",
   "metadata": {
    "collapsed": true
   },
   "source": [
    "**-** Now we found all the components of the SVD."
   ]
  },
  {
   "cell_type": "markdown",
   "metadata": {},
   "source": [
    "**b)** Singular values are the entries of sigma\n",
    "\n",
    "Singular values left and right vectors:"
   ]
  },
  {
   "cell_type": "code",
   "execution_count": 21,
   "metadata": {
    "collapsed": false
   },
   "outputs": [
    {
     "name": "stdout",
     "output_type": "stream",
     "text": [
      "singular =  14.142\n",
      "leftvector =\n",
      "\n",
      "  -0.70711\n",
      "  -0.70711\n",
      "\n",
      "rightvector =\n",
      "\n",
      "   0.60000\n",
      "  -0.80000\n",
      "\n",
      "singular =  7.0711\n",
      "leftvector =\n",
      "\n",
      "   0.70711\n",
      "  -0.70711\n",
      "\n",
      "rightvector =\n",
      "\n",
      "   0.80000\n",
      "   0.60000\n",
      "\n"
     ]
    }
   ],
   "source": [
    "for i=1:2\n",
    "  singular= sigma(i,i)\n",
    "  leftvector=U(:,i)\n",
    "  rightvector=V(:,i)\n",
    "endfor\n"
   ]
  },
  {
   "cell_type": "markdown",
   "metadata": {},
   "source": [
    "**-** Unit ball in $\\mathbb{R}^2$"
   ]
  },
  {
   "cell_type": "code",
   "execution_count": 22,
   "metadata": {
    "collapsed": false
   },
   "outputs": [
    {
     "data": {
      "image/png": "[encoded data removed]",
      "text/plain": [
       "<IPython.core.display.Image object>"
      ]
     },
     "metadata": {},
     "output_type": "display_data"
    }
   ],
   "source": [
    "a=linspace(0,2*pi,360);\n",
    "x=cos(a);\n",
    "y=sin(a);\n",
    "%Plot basis vectors for domain space (eigenvectors for this case !)\n",
    "subplot(2,1,1)\n",
    "plot(x,y,'r')\n",
    "hold on\n",
    "title('Unit ball with left singular vectors','FontSize', 18 )\n",
    "set(gca,'xlim',[-2 2],'ylim', [-2 2])\n",
    "compass(V(1,1),V(2,1))\n",
    "compass(V(1,2),V(2,2))\n",
    "subplot(2,1,2)\n",
    "Ellipse= A*[x;y];\n",
    "plot(Ellipse(1,:),Ellipse(2,:),'r')\n",
    "title('Image with right singular vectors','FontSize', 18 )\n",
    "hold on\n",
    "compass(U(1,1)*sigma(1,1),U(2,1)*sigma(1,1))\n",
    "compass(U(1,2)*sigma(2,2),U(2,2)*sigma(2,2))\n"
   ]
  },
  {
   "cell_type": "markdown",
   "metadata": {
    "collapsed": true
   },
   "source": [
    "**c)** Norms of matrix A"
   ]
  },
  {
   "cell_type": "code",
   "execution_count": 23,
   "metadata": {
    "collapsed": false
   },
   "outputs": [
    {
     "name": "stdout",
     "output_type": "stream",
     "text": [
      "norm1 =  16\n",
      "norminf =  15\n",
      "norm2 =  14.142\n",
      "normfro =  15.811\n"
     ]
    }
   ],
   "source": [
    "sum1=abs(A(1,1))+abs(A(2,1));\n",
    "sum2=abs(A(1,2))+abs(A(2,2));\n",
    "norm1= max(sum1,sum2)\n",
    "\n",
    "sum3=abs(A(1,1))+abs(A(1,2));\n",
    "sum4=abs(A(2,1))+abs(A(2,2));\n",
    "norminf=max(sum3,sum4)\n",
    "\n",
    "%since 2-norm is the biggest stretch it is equal to the square root of largest eigenvalue which is sigma1\n",
    "norm2=sigma(1,1)\n",
    "%since frobenius is invariant under multiplication by unitary matrices it can be calculated by only considering eigenvalues\n",
    "normfro=sqrt(eigenval(1,1)+eigenval(2,2))\n"
   ]
  },
  {
   "cell_type": "markdown",
   "metadata": {},
   "source": [
    "**d)** inverse of A  $A^{-1}=V\\Sigma U^T$ because of the properties of unitary matrices"
   ]
  },
  {
   "cell_type": "code",
   "execution_count": 24,
   "metadata": {
    "collapsed": false
   },
   "outputs": [
    {
     "name": "stdout",
     "output_type": "stream",
     "text": [
      "Ainv =\n",
      "\n",
      "   0.050000  -0.110000\n",
      "   0.100000  -0.020000\n",
      "\n"
     ]
    }
   ],
   "source": [
    "sigmainv=eye(2);\n",
    "sigmainv(1,1)=1/sigma(1,1);\n",
    "sigmainv(2,2)=1/sigma(2,2);\n",
    "Ainv=V*sigmainv*U'"
   ]
  },
  {
   "cell_type": "markdown",
   "metadata": {},
   "source": [
    "**e)** calculating eigenvalues is straight forward "
   ]
  },
  {
   "cell_type": "code",
   "execution_count": 25,
   "metadata": {
    "collapsed": false
   },
   "outputs": [
    {
     "name": "stdout",
     "output_type": "stream",
     "text": [
      "a =\n",
      "\n",
      "     1    -3   100\n",
      "\n",
      "eigen =\n",
      "\n",
      "   1.5000 + 9.8869i\n",
      "   1.5000 - 9.8869i\n",
      "\n"
     ]
    }
   ],
   "source": [
    "a=[1,-(A(1,1)+A(2,2)),A(1,1)*A(2,2)-(A(1,2)*A(2,1))]\n",
    "eigen=roots(a)"
   ]
  },
  {
   "cell_type": "markdown",
   "metadata": {},
   "source": [
    "**f)**"
   ]
  },
  {
   "cell_type": "code",
   "execution_count": 35,
   "metadata": {
    "collapsed": false
   },
   "outputs": [
    {
     "name": "stdout",
     "output_type": "stream",
     "text": [
      "A =\n",
      "\n",
      "   -2   11\n",
      "  -10    5\n",
      "\n",
      "det =  100\n",
      "multiplication of eigens\n",
      "mult =  100.00\n",
      "absdet =  100\n",
      "sigmas =  100.00\n"
     ]
    }
   ],
   "source": [
    "A=[-2,11;-10,5]\n",
    "det=A(1,1)*A(2,2)-A(1,2)*A(2,1)\n",
    "\n",
    "disp('multiplication of eigens')\n",
    "mult=eigen(1,1)*eigen(2,1)\n",
    "absdet=abs(det)\n",
    "sigmas=sigma(1,1)*sigma(2,2)"
   ]
  },
  {
   "cell_type": "markdown",
   "metadata": {},
   "source": [
    "**g)** Since unit ball is stretched by sigma values and direction is irrelevant for calculating the area we can calculate the area by two sigma values"
   ]
  },
  {
   "cell_type": "code",
   "execution_count": 36,
   "metadata": {
    "collapsed": false
   },
   "outputs": [
    {
     "name": "stdout",
     "output_type": "stream",
     "text": [
      "area =  314.16\n"
     ]
    }
   ],
   "source": [
    "area= pi * sigma(1,1)*sigma(2,2)"
   ]
  },
  {
   "cell_type": "code",
   "execution_count": null,
   "metadata": {
    "collapsed": true
   },
   "outputs": [],
   "source": []
  },
  {
   "cell_type": "code",
   "execution_count": null,
   "metadata": {
    "collapsed": true
   },
   "outputs": [],
   "source": []
  },
  {
   "cell_type": "code",
   "execution_count": null,
   "metadata": {
    "collapsed": true
   },
   "outputs": [],
   "source": []
  }
 ],
 "metadata": {
  "kernelspec": {
   "display_name": "Octave",
   "language": "octave",
   "name": "octave"
  },
  "language_info": {
   "file_extension": ".m",
   "help_links": [
    {
     "text": "GNU Octave",
     "url": "https://www.gnu.org/software/octave/support.html"
    },
    {
     "text": "Octave Kernel",
     "url": "https://github.com/Calysto/octave_kernel"
    },
    {
     "text": "MetaKernel Magics",
     "url": "https://github.com/calysto/metakernel/blob/master/metakernel/magics/README.md"
    }
   ],
   "mimetype": "text/x-octave",
   "name": "octave",
   "version": "4.0.0"
  }
 },
 "nbformat": 4,
 "nbformat_minor": 2
}
