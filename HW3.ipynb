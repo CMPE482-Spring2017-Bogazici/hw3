{
 "cells": [
  {
   "cell_type": "markdown",
   "metadata": {},
   "source": [
    "# HOMEWORK 3"
   ]
  },
  {
   "cell_type": "markdown",
   "metadata": {},
   "source": [
    "## Q1\n",
    "\n",
    "### First  Condition \n",
    "$$\n",
    "\\| x \\| \\ > 0 \\quad  \\lor  \\quad \\| x \\| = 0 \\implies x = 0 \\\\\n",
    "\\sup_{\\|y\\|=1}{|{ y^*x}|} > 0 \\\\\n",
    "y_1 * x_1 + x_2 * y_2 \\dots x_m * y_m \\neq  0 \n",
    "$$\n",
    "as we can choose a unit vector $y$ that satisfy $$x_i * y_i$$ is not equal 0. Let say $y_i$ = 1 and other entries equals 0 so we already obtain a value greater than 0. Hence, we look for superium the result must be greater or equal \n",
    "$|y_i * x_i|$. If $x$ is equal 0 vector, it is clear that the result is \n",
    "### Second Contidition\n",
    "$$\n",
    "\\| x + z \\| \\leq \\|x\\| + \\|z\\| \\\\\n",
    "| y^* x + y^*z | \\leq |y^*x| + |y^*z| \\\\\n",
    "$$\n",
    "as all terms are complex numbers we can use $|a+b| \\leq |a| + |b| $ the ineqaulity.\n",
    "\n",
    "### Third Condition\n",
    "$$\n",
    "\\| \\alpha y^*x \\| = |\\alpha|\\|y^*x\\| \\\\\n",
    "y^*x = z \\in \\mathbb{C} \\\\\n",
    "\\alpha z^*\\alpha z = \\alpha^2 z^*z\n",
    "$$\n",
    "as scalar variables can be moved in matrix product, the equality holds.\n",
    "\n",
    "## Q2\n",
    "$$\n",
    "A^* = A^T \\\\\n",
    "\\Sigma \\in \\mathbb{R}^{m x n} \\\\\n",
    "AA^* = U \\Sigma^2 U^* = (U^*)^T \\Sigma^2 U^T \\\\\n",
    "A^*A = V \\Sigma^2 V^* = (V^*)^T \\Sigma^2 V^T \n",
    "$$\n",
    "\n",
    "Observe that $AA^*$ is symmetric matrix and $\\Sigma$ is known as real matrix. \n",
    "To sustain symmetrically \n",
    "\n",
    "$$\n",
    "(U^*)^T = U \\quad \\land \\quad U^T = U^* \\\\\n",
    "(V^*)^T = V \\quad \\land \\quad V^T = V^* \\\\\n",
    "U^T = U^* \\implies U \\in \\mathbb{R}^{m x m} \\\\\n",
    "V^T = V^* \\implies V \\in \\mathbb{R}^{n x n} \\\\\n",
    "$$"
   ]
  },
  {
   "cell_type": "markdown",
   "metadata": {},
   "source": [
    "## Q3"
   ]
  },
  {
   "cell_type": "code",
   "execution_count": 79,
   "metadata": {
    "collapsed": false
   },
   "outputs": [],
   "source": [
    "function Q = calculate_angle(M)\n",
    "    x = 2 * M(1,1) * M(2,1) + 2*M(1,2)*M(2,2);\n",
    "    y = M(1,1)^2 + M(1,2)^2 - (M(2,1)^2 + M(2,2)^2);\n",
    "    Q = 0.5 * atan2(x,y);\n",
    "endfunction\n",
    "function U = construct_matrix(Q)\n",
    "    U = [cos(Q) -sin(Q); sin(Q) cos(Q)];\n",
    "endfunction\n",
    "function sigma = find_sigma(M)\n",
    "    a = M(1,1);\n",
    "    b = M(1,2);\n",
    "    c = M(2,1);\n",
    "    d = M(2,2);\n",
    "    e = sqrt(roots([1 ,-a-d ,a*d-b*c]));\n",
    "    sigma = [e(1) 0; 0 e(2)];\n",
    "endfunction\n",
    "function [U S V] = find_svd(A)\n",
    "    AU = A*A';\n",
    "    U = construct_matrix(calculate_angle(AU));\n",
    "    S = find_sigma(AU);\n",
    "    V = linsolve(U*S,A)';\n",
    "endfunction\n",
    "A = [-2,11;-10,5] ;\n",
    "[U S V] = svd(A);\n",
    "[X Y Z] = find_svd(A);\n",
    "function [norm1,norm2,norminf,normfro] = find_norms(A)\n",
    "    C = abs(A);\n",
    "    norm1 = max((sum(C(:,1))),(sum(C(:,2))));\n",
    "    norm2 = max(diag(find_sigma(A*A')));\n",
    "    norminf =max(sum(C(1,:)),sum(C(2,:)));\n",
    "    normfro = sqrt(sum(diag(A'*A)));\n",
    "endfunction\n",
    "function Inv = find_inverse(A)\n",
    "        [U S V] =  find_svd(A);\n",
    "        s = diag(S);\n",
    "        Inv_S = diag(s.^-1);\n",
    "        Inv = V*Inv_S*U';\n",
    "endfunction\n",
    "function eigen = find_eigen(M)\n",
    "    a = M(1,1);\n",
    "    b = M(1,2);\n",
    "    c = M(2,1);\n",
    "    d = M(2,2);\n",
    "    eigen = (roots([1 ,-a-d ,a*d-b*c]));\n",
    "endfunction\n",
    "A = [-2 11; -10 5];\n",
    "%%%\n",
    "%%\n",
    "%%%\n",
    "%%%\n",
    "%%%\n"
   ]
  },
  {
   "cell_type": "markdown",
   "metadata": {},
   "source": [
    "### Part A\n",
    "$U$ is calculated by using sin and cos representation of U.  \n",
    "$\\Sigma$ is calculated with the sqrt of roots of $det(A^*A-I\\alpha)$.  \n",
    "$V$ is calculated with $V = (A(U\\Sigma)^-1)^T$ linear solution."
   ]
  },
  {
   "cell_type": "code",
   "execution_count": 95,
   "metadata": {
    "collapsed": false
   },
   "outputs": [
    {
     "name": "stdout",
     "output_type": "stream",
     "text": [
      "U =\n",
      "\n",
      "   0.70711  -0.70711\n",
      "   0.70711   0.70711\n",
      "\n",
      "S =\n",
      "\n",
      "   14.14214    0.00000\n",
      "    0.00000    7.07107\n",
      "\n",
      "V =\n",
      "\n",
      "  -0.60000  -0.80000\n",
      "   0.80000  -0.60000\n",
      "\n"
     ]
    }
   ],
   "source": [
    "[U S V] = find_svd(A)"
   ]
  },
  {
   "cell_type": "markdown",
   "metadata": {},
   "source": [
    "### PART B"
   ]
  },
  {
   "cell_type": "code",
   "execution_count": 125,
   "metadata": {
    "collapsed": false
   },
   "outputs": [
    {
     "data": {
      "image/svg+xml": [
       "<svg height=\"500px\" viewBox=\"0 0 500 500\" width=\"500px\" xmlns=\"http://www.w3.org/2000/svg\" xmlns:xlink=\"http://www.w3.org/1999/xlink\">\n",
       "\n",
       "<title>Gnuplot</title>\n",
       "<desc>Produced by GNUPLOT 5.0 patchlevel 5 </desc>\n",
       "\n",
       "<g id=\"gnuplot_canvas\">\n",
       "\n",
       "<rect fill=\"#ffffff\" height=\"500\" width=\"500\" x=\"0\" y=\"0\"/>\n",
       "<defs>\n",
       "\n",
       "\t<circle id=\"gpDot\" r=\"0.5\" stroke-width=\"0.5\"/>\n",
       "\t<path d=\"M-1,0 h2 M0,-1 v2\" id=\"gpPt0\" stroke=\"currentColor\" stroke-width=\"0.333\"/>\n",
       "\t<path d=\"M-1,-1 L1,1 M1,-1 L-1,1\" id=\"gpPt1\" stroke=\"currentColor\" stroke-width=\"0.333\"/>\n",
       "\t<path d=\"M-1,0 L1,0 M0,-1 L0,1 M-1,-1 L1,1 M-1,1 L1,-1\" id=\"gpPt2\" stroke=\"currentColor\" stroke-width=\"0.333\"/>\n",
       "\t<rect height=\"2\" id=\"gpPt3\" stroke=\"currentColor\" stroke-width=\"0.333\" width=\"2\" x=\"-1\" y=\"-1\"/>\n",
       "\t<rect fill=\"currentColor\" height=\"2\" id=\"gpPt4\" stroke=\"currentColor\" stroke-width=\"0.333\" width=\"2\" x=\"-1\" y=\"-1\"/>\n",
       "\t<circle cx=\"0\" cy=\"0\" id=\"gpPt5\" r=\"1\" stroke=\"currentColor\" stroke-width=\"0.333\"/>\n",
       "\t<use fill=\"currentColor\" id=\"gpPt6\" stroke=\"none\" xlink:href=\"#gpPt5\"/>\n",
       "\t<path d=\"M0,-1.33 L-1.33,0.67 L1.33,0.67 z\" id=\"gpPt7\" stroke=\"currentColor\" stroke-width=\"0.333\"/>\n",
       "\t<use fill=\"currentColor\" id=\"gpPt8\" stroke=\"none\" xlink:href=\"#gpPt7\"/>\n",
       "\t<use id=\"gpPt9\" stroke=\"currentColor\" transform=\"rotate(180)\" xlink:href=\"#gpPt7\"/>\n",
       "\t<use fill=\"currentColor\" id=\"gpPt10\" stroke=\"none\" xlink:href=\"#gpPt9\"/>\n",
       "\t<use id=\"gpPt11\" stroke=\"currentColor\" transform=\"rotate(45)\" xlink:href=\"#gpPt3\"/>\n",
       "\t<use fill=\"currentColor\" id=\"gpPt12\" stroke=\"none\" xlink:href=\"#gpPt11\"/>\n",
       "\t<path d=\"M0,1.330 L1.265,0.411 L0.782,-1.067 L-0.782,-1.076 L-1.265,0.411 z\" id=\"gpPt13\" stroke=\"currentColor\" stroke-width=\"0.333\"/>\n",
       "\t<use fill=\"currentColor\" id=\"gpPt14\" stroke=\"none\" xlink:href=\"#gpPt13\"/>\n",
       "\t<filter filterUnits=\"objectBoundingBox\" height=\"1\" id=\"textbox\" width=\"1\" x=\"0\" y=\"0\">\n",
       "\t  <feFlood flood-color=\"#FFFFFF\" flood-opacity=\"1\" result=\"bgnd\"/>\n",
       "\t  <feComposite in=\"SourceGraphic\" in2=\"bgnd\" operator=\"atop\"/>\n",
       "\t</filter>\n",
       "\t<filter filterUnits=\"objectBoundingBox\" height=\"1\" id=\"greybox\" width=\"1\" x=\"0\" y=\"0\">\n",
       "\t  <feFlood flood-color=\"lightgrey\" flood-opacity=\"1\" result=\"grey\"/>\n",
       "\t  <feComposite in=\"SourceGraphic\" in2=\"grey\" operator=\"atop\"/>\n",
       "\t</filter>\n",
       "</defs>\n",
       "<g color=\"#FFFFFF\" fill=\"none\" stroke=\"currentColor\" stroke-linecap=\"butt\" stroke-linejoin=\"miter\" stroke-width=\"1.00\">\n",
       "</g>\n",
       "<g color=\"black\" fill=\"none\" stroke=\"currentColor\" stroke-linecap=\"butt\" stroke-linejoin=\"miter\" stroke-width=\"1.00\">\n",
       "\t<g shape-rendering=\"crispEdges\" stroke=\"none\">\n",
       "\t\t<polygon fill=\"rgb(255, 255, 255)\" points=\"36.4,476.0 483.0,476.0 483.0,11.4 36.4,11.4 \"/>\n",
       "\t</g>\n",
       "</g>\n",
       "<g color=\"black\" fill=\"none\" stroke=\"currentColor\" stroke-linecap=\"butt\" stroke-linejoin=\"miter\" stroke-width=\"1.00\">\n",
       "\t<path d=\"M36.4,476.0 L44.8,476.0 M483.1,476.0 L474.7,476.0  \" stroke=\"rgb(  0,   0,   0)\"/>\t<g fill=\"rgb(38,38,38)\" font-family=\"Arial\" font-size=\"10.00\" stroke=\"none\" text-anchor=\"end\" transform=\"translate(30.8,479.3)\">\n",
       "\t\t<text><tspan font-family=\"Arial\">-1</tspan></text>\n",
       "\t</g>\n",
       "</g>\n",
       "<g color=\"black\" fill=\"none\" stroke=\"currentColor\" stroke-linecap=\"butt\" stroke-linejoin=\"miter\" stroke-width=\"1.00\">\n",
       "\t<path d=\"M36.4,359.8 L44.8,359.8 M483.1,359.8 L474.7,359.8  \" stroke=\"rgb(  0,   0,   0)\"/>\t<g fill=\"rgb(38,38,38)\" font-family=\"Arial\" font-size=\"10.00\" stroke=\"none\" text-anchor=\"end\" transform=\"translate(30.8,363.1)\">\n",
       "\t\t<text><tspan font-family=\"Arial\">-0.5</tspan></text>\n",
       "\t</g>\n",
       "</g>\n",
       "<g color=\"black\" fill=\"none\" stroke=\"currentColor\" stroke-linecap=\"butt\" stroke-linejoin=\"miter\" stroke-width=\"1.00\">\n",
       "\t<path d=\"M36.4,243.6 L44.8,243.6 M483.1,243.6 L474.7,243.6  \" stroke=\"rgb(  0,   0,   0)\"/>\t<g fill=\"rgb(38,38,38)\" font-family=\"Arial\" font-size=\"10.00\" stroke=\"none\" text-anchor=\"end\" transform=\"translate(30.8,246.9)\">\n",
       "\t\t<text><tspan font-family=\"Arial\">0</tspan></text>\n",
       "\t</g>\n",
       "</g>\n",
       "<g color=\"black\" fill=\"none\" stroke=\"currentColor\" stroke-linecap=\"butt\" stroke-linejoin=\"miter\" stroke-width=\"1.00\">\n",
       "\t<path d=\"M36.4,127.5 L44.8,127.5 M483.1,127.5 L474.7,127.5  \" stroke=\"rgb(  0,   0,   0)\"/>\t<g fill=\"rgb(38,38,38)\" font-family=\"Arial\" font-size=\"10.00\" stroke=\"none\" text-anchor=\"end\" transform=\"translate(30.8,130.8)\">\n",
       "\t\t<text><tspan font-family=\"Arial\">0.5</tspan></text>\n",
       "\t</g>\n",
       "</g>\n",
       "<g color=\"black\" fill=\"none\" stroke=\"currentColor\" stroke-linecap=\"butt\" stroke-linejoin=\"miter\" stroke-width=\"1.00\">\n",
       "\t<path d=\"M36.4,11.3 L44.8,11.3 M483.1,11.3 L474.7,11.3  \" stroke=\"rgb(  0,   0,   0)\"/>\t<g fill=\"rgb(38,38,38)\" font-family=\"Arial\" font-size=\"10.00\" stroke=\"none\" text-anchor=\"end\" transform=\"translate(30.8,14.6)\">\n",
       "\t\t<text><tspan font-family=\"Arial\">1</tspan></text>\n",
       "\t</g>\n",
       "</g>\n",
       "<g color=\"black\" fill=\"none\" stroke=\"currentColor\" stroke-linecap=\"butt\" stroke-linejoin=\"miter\" stroke-width=\"1.00\">\n",
       "\t<path d=\"M36.4,476.0 L36.4,467.6 M36.4,11.3 L36.4,19.7  \" stroke=\"rgb(  0,   0,   0)\"/>\t<g fill=\"rgb(38,38,38)\" font-family=\"Arial\" font-size=\"10.00\" stroke=\"none\" text-anchor=\"middle\" transform=\"translate(36.4,491.3)\">\n",
       "\t\t<text><tspan font-family=\"Arial\">-1</tspan></text>\n",
       "\t</g>\n",
       "</g>\n",
       "<g color=\"black\" fill=\"none\" stroke=\"currentColor\" stroke-linecap=\"butt\" stroke-linejoin=\"miter\" stroke-width=\"1.00\">\n",
       "\t<path d=\"M148.1,476.0 L148.1,467.6 M148.1,11.3 L148.1,19.7  \" stroke=\"rgb(  0,   0,   0)\"/>\t<g fill=\"rgb(38,38,38)\" font-family=\"Arial\" font-size=\"10.00\" stroke=\"none\" text-anchor=\"middle\" transform=\"translate(148.1,491.3)\">\n",
       "\t\t<text><tspan font-family=\"Arial\">-0.5</tspan></text>\n",
       "\t</g>\n",
       "</g>\n",
       "<g color=\"black\" fill=\"none\" stroke=\"currentColor\" stroke-linecap=\"butt\" stroke-linejoin=\"miter\" stroke-width=\"1.00\">\n",
       "\t<path d=\"M259.8,476.0 L259.8,467.6 M259.8,11.3 L259.8,19.7  \" stroke=\"rgb(  0,   0,   0)\"/>\t<g fill=\"rgb(38,38,38)\" font-family=\"Arial\" font-size=\"10.00\" stroke=\"none\" text-anchor=\"middle\" transform=\"translate(259.8,491.3)\">\n",
       "\t\t<text><tspan font-family=\"Arial\">0</tspan></text>\n",
       "\t</g>\n",
       "</g>\n",
       "<g color=\"black\" fill=\"none\" stroke=\"currentColor\" stroke-linecap=\"butt\" stroke-linejoin=\"miter\" stroke-width=\"1.00\">\n",
       "\t<path d=\"M371.4,476.0 L371.4,467.6 M371.4,11.3 L371.4,19.7  \" stroke=\"rgb(  0,   0,   0)\"/>\t<g fill=\"rgb(38,38,38)\" font-family=\"Arial\" font-size=\"10.00\" stroke=\"none\" text-anchor=\"middle\" transform=\"translate(371.4,491.3)\">\n",
       "\t\t<text><tspan font-family=\"Arial\">0.5</tspan></text>\n",
       "\t</g>\n",
       "</g>\n",
       "<g color=\"black\" fill=\"none\" stroke=\"currentColor\" stroke-linecap=\"butt\" stroke-linejoin=\"miter\" stroke-width=\"1.00\">\n",
       "\t<path d=\"M483.1,476.0 L483.1,467.6 M483.1,11.3 L483.1,19.7  \" stroke=\"rgb(  0,   0,   0)\"/>\t<g fill=\"rgb(38,38,38)\" font-family=\"Arial\" font-size=\"10.00\" stroke=\"none\" text-anchor=\"middle\" transform=\"translate(483.1,491.3)\">\n",
       "\t\t<text><tspan font-family=\"Arial\">1</tspan></text>\n",
       "\t</g>\n",
       "</g>\n",
       "<g color=\"black\" fill=\"none\" stroke=\"currentColor\" stroke-linecap=\"butt\" stroke-linejoin=\"miter\" stroke-width=\"1.00\">\n",
       "</g>\n",
       "<g color=\"black\" fill=\"none\" stroke=\"currentColor\" stroke-linecap=\"butt\" stroke-linejoin=\"miter\" stroke-width=\"1.00\">\n",
       "</g>\n",
       "\t<g id=\"gnuplot_plot_1a\"><title>gnuplot_plot_1a</title>\n",
       "<g color=\"#FFFFFF\" fill=\"none\" stroke=\"rgb(  0,   0,   0)\" stroke-linecap=\"butt\" stroke-linejoin=\"miter\" stroke-width=\"0.50\">\n",
       "</g>\n",
       "<g color=\"black\" fill=\"none\" stroke=\"currentColor\" stroke-linecap=\"butt\" stroke-linejoin=\"miter\" stroke-width=\"0.50\">\n",
       "\t<path d=\"M259.8,243.6 L125.7,57.8  \" stroke=\"rgb(  0, 114, 189)\"/></g>\n",
       "\t</g>\n",
       "\t<g id=\"gnuplot_plot_2a\"><title>gnuplot_plot_2a</title>\n",
       "<g color=\"black\" fill=\"none\" stroke=\"currentColor\" stroke-linecap=\"butt\" stroke-linejoin=\"miter\" stroke-width=\"0.50\">\n",
       "\t<path d=\"M190.3,104.2 L125.7,57.8 L150.6,135.2  \" stroke=\"rgb(  0, 114, 189)\"/></g>\n",
       "\t</g>\n",
       "\t<g id=\"gnuplot_plot_3a\"><title>gnuplot_plot_3a</title>\n",
       "<g color=\"black\" fill=\"none\" stroke=\"currentColor\" stroke-linecap=\"butt\" stroke-linejoin=\"miter\" stroke-width=\"0.50\">\n",
       "\t<path d=\"M259.8,243.6 L81.1,383.1  \" stroke=\"rgb(119, 172,  48)\"/></g>\n",
       "\t</g>\n",
       "\t<g id=\"gnuplot_plot_4a\"><title>gnuplot_plot_4a</title>\n",
       "<g color=\"black\" fill=\"none\" stroke=\"currentColor\" stroke-linecap=\"butt\" stroke-linejoin=\"miter\" stroke-width=\"0.50\">\n",
       "\t<path d=\"M125.7,315.9 L81.1,383.1 L155.5,357.2  \" stroke=\"rgb(119, 172,  48)\"/></g>\n",
       "\t</g>\n",
       "\t<g id=\"gnuplot_plot_5a\"><title>gnuplot_plot_5a</title>\n",
       "<g color=\"black\" fill=\"none\" stroke=\"currentColor\" stroke-linecap=\"butt\" stroke-linejoin=\"miter\" stroke-width=\"0.50\">\n",
       "\t<path d=\"M483.1,243.6 L482.7,228.9 L481.3,214.2 L479.1,199.7 L475.9,185.3 L471.9,171.1 L467.1,157.3 L461.4,143.8   L454.9,130.7 L447.6,118.0 L439.6,105.9 L430.8,94.3 L421.4,83.3 L411.3,73.0 L400.6,63.3 L389.3,54.4   L377.5,46.2 L365.2,38.8 L352.5,32.3 L339.5,26.6 L326.1,21.8 L312.4,17.8 L298.5,14.8 L284.5,12.7   L270.4,11.6 L256.2,11.3 L242.0,12.0 L228.0,13.7 L214.0,16.2 L200.2,19.7 L186.7,24.1 L173.5,29.3   L160.6,35.5 L148.1,42.4 L136.0,50.2 L124.5,58.8 L113.5,68.1 L103.1,78.1 L93.3,88.7 L84.2,100.0   L75.8,111.9 L68.1,124.3 L61.2,137.2 L55.1,150.5 L49.9,164.2 L45.4,178.2 L41.9,192.5 L39.2,206.9   L37.4,221.6 L36.5,236.3 L36.5,251.0 L37.4,265.7 L39.2,280.4 L41.9,294.8 L45.4,309.1 L49.9,323.1   L55.1,336.8 L61.2,350.1 L68.1,363.0 L75.8,375.4 L84.2,387.3 L93.3,398.6 L103.1,409.2 L113.5,419.2   L124.5,428.5 L136.0,437.1 L148.1,444.9 L160.6,451.8 L173.5,458.0 L186.7,463.2 L200.2,467.6 L214.0,471.1   L228.0,473.6 L242.0,475.3 L256.2,476.0 L270.4,475.7 L284.5,474.6 L298.5,472.5 L312.4,469.5 L326.1,465.5   L339.5,460.7 L352.5,455.0 L365.2,448.5 L377.5,441.1 L389.3,432.9 L400.6,424.0 L411.3,414.3 L421.4,404.0   L430.8,393.0 L439.6,381.4 L447.6,369.3 L454.9,356.6 L461.4,343.5 L467.1,330.0 L471.9,316.2 L475.9,302.0   L479.1,287.6 L481.3,273.1 L482.7,258.4 L483.1,243.7  \" stroke=\"rgb(217,  83,  25)\"/></g>\n",
       "\t</g>\n",
       "<g color=\"#FFFFFF\" fill=\"none\" stroke=\"rgb(217,  83,  25)\" stroke-linecap=\"butt\" stroke-linejoin=\"miter\" stroke-width=\"2.00\">\n",
       "</g>\n",
       "<g color=\"black\" fill=\"none\" stroke=\"currentColor\" stroke-linecap=\"butt\" stroke-linejoin=\"miter\" stroke-width=\"2.00\">\n",
       "</g>\n",
       "<g color=\"black\" fill=\"none\" stroke=\"black\" stroke-linecap=\"butt\" stroke-linejoin=\"miter\" stroke-width=\"0.50\">\n",
       "</g>\n",
       "<g color=\"black\" fill=\"none\" stroke=\"currentColor\" stroke-linecap=\"butt\" stroke-linejoin=\"miter\" stroke-width=\"0.50\">\n",
       "\t<path d=\"M36.4,476.0 L483.1,476.0  \" stroke=\"rgb( 38,  38,  38)\"/></g>\n",
       "<g color=\"black\" fill=\"none\" stroke=\"currentColor\" stroke-linecap=\"butt\" stroke-linejoin=\"miter\" stroke-width=\"0.50\">\n",
       "\t<path d=\"M36.4,11.3 L483.1,11.3  \" stroke=\"rgb( 38,  38,  38)\"/></g>\n",
       "<g color=\"black\" fill=\"none\" stroke=\"currentColor\" stroke-linecap=\"butt\" stroke-linejoin=\"miter\" stroke-width=\"0.50\">\n",
       "\t<path d=\"M36.4,476.0 L36.4,11.3  \" stroke=\"rgb( 38,  38,  38)\"/></g>\n",
       "<g color=\"black\" fill=\"none\" stroke=\"currentColor\" stroke-linecap=\"butt\" stroke-linejoin=\"miter\" stroke-width=\"0.50\">\n",
       "\t<path d=\"M483.1,476.0 L483.1,11.3  \" stroke=\"rgb( 38,  38,  38)\"/></g>\n",
       "<g color=\"black\" fill=\"none\" stroke=\"rgb( 38,  38,  38)\" stroke-linecap=\"butt\" stroke-linejoin=\"miter\" stroke-width=\"1.00\">\n",
       "</g>\n",
       "<g color=\"black\" fill=\"none\" stroke=\"currentColor\" stroke-linecap=\"butt\" stroke-linejoin=\"miter\" stroke-width=\"1.00\">\n",
       "</g>\n",
       "</g>\n",
       "</svg>"
      ],
      "text/plain": [
       "<IPython.core.display.SVG object>"
      ]
     },
     "metadata": {},
     "output_type": "display_data"
    },
    {
     "data": {
      "image/svg+xml": [
       "<svg height=\"500px\" viewBox=\"0 0 500 500\" width=\"500px\" xmlns=\"http://www.w3.org/2000/svg\" xmlns:xlink=\"http://www.w3.org/1999/xlink\">\n",
       "\n",
       "<title>Gnuplot</title>\n",
       "<desc>Produced by GNUPLOT 5.0 patchlevel 5 </desc>\n",
       "\n",
       "<g id=\"gnuplot_canvas\">\n",
       "\n",
       "<rect fill=\"#ffffff\" height=\"500\" width=\"500\" x=\"0\" y=\"0\"/>\n",
       "<defs>\n",
       "\n",
       "\t<circle id=\"gpDot\" r=\"0.5\" stroke-width=\"0.5\"/>\n",
       "\t<path d=\"M-1,0 h2 M0,-1 v2\" id=\"gpPt0\" stroke=\"currentColor\" stroke-width=\"0.333\"/>\n",
       "\t<path d=\"M-1,-1 L1,1 M1,-1 L-1,1\" id=\"gpPt1\" stroke=\"currentColor\" stroke-width=\"0.333\"/>\n",
       "\t<path d=\"M-1,0 L1,0 M0,-1 L0,1 M-1,-1 L1,1 M-1,1 L1,-1\" id=\"gpPt2\" stroke=\"currentColor\" stroke-width=\"0.333\"/>\n",
       "\t<rect height=\"2\" id=\"gpPt3\" stroke=\"currentColor\" stroke-width=\"0.333\" width=\"2\" x=\"-1\" y=\"-1\"/>\n",
       "\t<rect fill=\"currentColor\" height=\"2\" id=\"gpPt4\" stroke=\"currentColor\" stroke-width=\"0.333\" width=\"2\" x=\"-1\" y=\"-1\"/>\n",
       "\t<circle cx=\"0\" cy=\"0\" id=\"gpPt5\" r=\"1\" stroke=\"currentColor\" stroke-width=\"0.333\"/>\n",
       "\t<use fill=\"currentColor\" id=\"gpPt6\" stroke=\"none\" xlink:href=\"#gpPt5\"/>\n",
       "\t<path d=\"M0,-1.33 L-1.33,0.67 L1.33,0.67 z\" id=\"gpPt7\" stroke=\"currentColor\" stroke-width=\"0.333\"/>\n",
       "\t<use fill=\"currentColor\" id=\"gpPt8\" stroke=\"none\" xlink:href=\"#gpPt7\"/>\n",
       "\t<use id=\"gpPt9\" stroke=\"currentColor\" transform=\"rotate(180)\" xlink:href=\"#gpPt7\"/>\n",
       "\t<use fill=\"currentColor\" id=\"gpPt10\" stroke=\"none\" xlink:href=\"#gpPt9\"/>\n",
       "\t<use id=\"gpPt11\" stroke=\"currentColor\" transform=\"rotate(45)\" xlink:href=\"#gpPt3\"/>\n",
       "\t<use fill=\"currentColor\" id=\"gpPt12\" stroke=\"none\" xlink:href=\"#gpPt11\"/>\n",
       "\t<path d=\"M0,1.330 L1.265,0.411 L0.782,-1.067 L-0.782,-1.076 L-1.265,0.411 z\" id=\"gpPt13\" stroke=\"currentColor\" stroke-width=\"0.333\"/>\n",
       "\t<use fill=\"currentColor\" id=\"gpPt14\" stroke=\"none\" xlink:href=\"#gpPt13\"/>\n",
       "\t<filter filterUnits=\"objectBoundingBox\" height=\"1\" id=\"textbox\" width=\"1\" x=\"0\" y=\"0\">\n",
       "\t  <feFlood flood-color=\"#FFFFFF\" flood-opacity=\"1\" result=\"bgnd\"/>\n",
       "\t  <feComposite in=\"SourceGraphic\" in2=\"bgnd\" operator=\"atop\"/>\n",
       "\t</filter>\n",
       "\t<filter filterUnits=\"objectBoundingBox\" height=\"1\" id=\"greybox\" width=\"1\" x=\"0\" y=\"0\">\n",
       "\t  <feFlood flood-color=\"lightgrey\" flood-opacity=\"1\" result=\"grey\"/>\n",
       "\t  <feComposite in=\"SourceGraphic\" in2=\"grey\" operator=\"atop\"/>\n",
       "\t</filter>\n",
       "</defs>\n",
       "<g color=\"#FFFFFF\" fill=\"none\" stroke=\"currentColor\" stroke-linecap=\"butt\" stroke-linejoin=\"miter\" stroke-width=\"1.00\">\n",
       "</g>\n",
       "<g color=\"black\" fill=\"none\" stroke=\"currentColor\" stroke-linecap=\"butt\" stroke-linejoin=\"miter\" stroke-width=\"1.00\">\n",
       "\t<g shape-rendering=\"crispEdges\" stroke=\"none\">\n",
       "\t\t<polygon fill=\"rgb(255, 255, 255)\" points=\"30.8,476.0 483.0,476.0 483.0,11.4 30.8,11.4 \"/>\n",
       "\t</g>\n",
       "</g>\n",
       "<g color=\"black\" fill=\"none\" stroke=\"currentColor\" stroke-linecap=\"butt\" stroke-linejoin=\"miter\" stroke-width=\"1.00\">\n",
       "\t<path d=\"M30.8,476.0 L39.2,476.0 M483.1,476.0 L474.7,476.0  \" stroke=\"rgb(  0,   0,   0)\"/>\t<g fill=\"rgb(38,38,38)\" font-family=\"Arial\" font-size=\"10.00\" stroke=\"none\" text-anchor=\"end\" transform=\"translate(25.2,479.3)\">\n",
       "\t\t<text><tspan font-family=\"Arial\">-15</tspan></text>\n",
       "\t</g>\n",
       "</g>\n",
       "<g color=\"black\" fill=\"none\" stroke=\"currentColor\" stroke-linecap=\"butt\" stroke-linejoin=\"miter\" stroke-width=\"1.00\">\n",
       "\t<path d=\"M30.8,398.5 L39.2,398.5 M483.1,398.5 L474.7,398.5  \" stroke=\"rgb(  0,   0,   0)\"/>\t<g fill=\"rgb(38,38,38)\" font-family=\"Arial\" font-size=\"10.00\" stroke=\"none\" text-anchor=\"end\" transform=\"translate(25.2,401.8)\">\n",
       "\t\t<text><tspan font-family=\"Arial\">-10</tspan></text>\n",
       "\t</g>\n",
       "</g>\n",
       "<g color=\"black\" fill=\"none\" stroke=\"currentColor\" stroke-linecap=\"butt\" stroke-linejoin=\"miter\" stroke-width=\"1.00\">\n",
       "\t<path d=\"M30.8,321.1 L39.2,321.1 M483.1,321.1 L474.7,321.1  \" stroke=\"rgb(  0,   0,   0)\"/>\t<g fill=\"rgb(38,38,38)\" font-family=\"Arial\" font-size=\"10.00\" stroke=\"none\" text-anchor=\"end\" transform=\"translate(25.2,324.4)\">\n",
       "\t\t<text><tspan font-family=\"Arial\">-5</tspan></text>\n",
       "\t</g>\n",
       "</g>\n",
       "<g color=\"black\" fill=\"none\" stroke=\"currentColor\" stroke-linecap=\"butt\" stroke-linejoin=\"miter\" stroke-width=\"1.00\">\n",
       "\t<path d=\"M30.8,243.6 L39.2,243.6 M483.1,243.6 L474.7,243.6  \" stroke=\"rgb(  0,   0,   0)\"/>\t<g fill=\"rgb(38,38,38)\" font-family=\"Arial\" font-size=\"10.00\" stroke=\"none\" text-anchor=\"end\" transform=\"translate(25.2,246.9)\">\n",
       "\t\t<text><tspan font-family=\"Arial\">0</tspan></text>\n",
       "\t</g>\n",
       "</g>\n",
       "<g color=\"black\" fill=\"none\" stroke=\"currentColor\" stroke-linecap=\"butt\" stroke-linejoin=\"miter\" stroke-width=\"1.00\">\n",
       "\t<path d=\"M30.8,166.2 L39.2,166.2 M483.1,166.2 L474.7,166.2  \" stroke=\"rgb(  0,   0,   0)\"/>\t<g fill=\"rgb(38,38,38)\" font-family=\"Arial\" font-size=\"10.00\" stroke=\"none\" text-anchor=\"end\" transform=\"translate(25.2,169.5)\">\n",
       "\t\t<text><tspan font-family=\"Arial\">5</tspan></text>\n",
       "\t</g>\n",
       "</g>\n",
       "<g color=\"black\" fill=\"none\" stroke=\"currentColor\" stroke-linecap=\"butt\" stroke-linejoin=\"miter\" stroke-width=\"1.00\">\n",
       "\t<path d=\"M30.8,88.7 L39.2,88.7 M483.1,88.7 L474.7,88.7  \" stroke=\"rgb(  0,   0,   0)\"/>\t<g fill=\"rgb(38,38,38)\" font-family=\"Arial\" font-size=\"10.00\" stroke=\"none\" text-anchor=\"end\" transform=\"translate(25.2,92.0)\">\n",
       "\t\t<text><tspan font-family=\"Arial\">10</tspan></text>\n",
       "\t</g>\n",
       "</g>\n",
       "<g color=\"black\" fill=\"none\" stroke=\"currentColor\" stroke-linecap=\"butt\" stroke-linejoin=\"miter\" stroke-width=\"1.00\">\n",
       "\t<path d=\"M30.8,11.3 L39.2,11.3 M483.1,11.3 L474.7,11.3  \" stroke=\"rgb(  0,   0,   0)\"/>\t<g fill=\"rgb(38,38,38)\" font-family=\"Arial\" font-size=\"10.00\" stroke=\"none\" text-anchor=\"end\" transform=\"translate(25.2,14.6)\">\n",
       "\t\t<text><tspan font-family=\"Arial\">15</tspan></text>\n",
       "\t</g>\n",
       "</g>\n",
       "<g color=\"black\" fill=\"none\" stroke=\"currentColor\" stroke-linecap=\"butt\" stroke-linejoin=\"miter\" stroke-width=\"1.00\">\n",
       "\t<path d=\"M30.8,476.0 L30.8,467.6 M30.8,11.3 L30.8,19.7  \" stroke=\"rgb(  0,   0,   0)\"/>\t<g fill=\"rgb(38,38,38)\" font-family=\"Arial\" font-size=\"10.00\" stroke=\"none\" text-anchor=\"middle\" transform=\"translate(30.8,491.3)\">\n",
       "\t\t<text><tspan font-family=\"Arial\">-15</tspan></text>\n",
       "\t</g>\n",
       "</g>\n",
       "<g color=\"black\" fill=\"none\" stroke=\"currentColor\" stroke-linecap=\"butt\" stroke-linejoin=\"miter\" stroke-width=\"1.00\">\n",
       "\t<path d=\"M106.2,476.0 L106.2,467.6 M106.2,11.3 L106.2,19.7  \" stroke=\"rgb(  0,   0,   0)\"/>\t<g fill=\"rgb(38,38,38)\" font-family=\"Arial\" font-size=\"10.00\" stroke=\"none\" text-anchor=\"middle\" transform=\"translate(106.2,491.3)\">\n",
       "\t\t<text><tspan font-family=\"Arial\">-10</tspan></text>\n",
       "\t</g>\n",
       "</g>\n",
       "<g color=\"black\" fill=\"none\" stroke=\"currentColor\" stroke-linecap=\"butt\" stroke-linejoin=\"miter\" stroke-width=\"1.00\">\n",
       "\t<path d=\"M181.6,476.0 L181.6,467.6 M181.6,11.3 L181.6,19.7  \" stroke=\"rgb(  0,   0,   0)\"/>\t<g fill=\"rgb(38,38,38)\" font-family=\"Arial\" font-size=\"10.00\" stroke=\"none\" text-anchor=\"middle\" transform=\"translate(181.6,491.3)\">\n",
       "\t\t<text><tspan font-family=\"Arial\">-5</tspan></text>\n",
       "\t</g>\n",
       "</g>\n",
       "<g color=\"black\" fill=\"none\" stroke=\"currentColor\" stroke-linecap=\"butt\" stroke-linejoin=\"miter\" stroke-width=\"1.00\">\n",
       "\t<path d=\"M257.0,476.0 L257.0,467.6 M257.0,11.3 L257.0,19.7  \" stroke=\"rgb(  0,   0,   0)\"/>\t<g fill=\"rgb(38,38,38)\" font-family=\"Arial\" font-size=\"10.00\" stroke=\"none\" text-anchor=\"middle\" transform=\"translate(257.0,491.3)\">\n",
       "\t\t<text><tspan font-family=\"Arial\">0</tspan></text>\n",
       "\t</g>\n",
       "</g>\n",
       "<g color=\"black\" fill=\"none\" stroke=\"currentColor\" stroke-linecap=\"butt\" stroke-linejoin=\"miter\" stroke-width=\"1.00\">\n",
       "\t<path d=\"M332.3,476.0 L332.3,467.6 M332.3,11.3 L332.3,19.7  \" stroke=\"rgb(  0,   0,   0)\"/>\t<g fill=\"rgb(38,38,38)\" font-family=\"Arial\" font-size=\"10.00\" stroke=\"none\" text-anchor=\"middle\" transform=\"translate(332.3,491.3)\">\n",
       "\t\t<text><tspan font-family=\"Arial\">5</tspan></text>\n",
       "\t</g>\n",
       "</g>\n",
       "<g color=\"black\" fill=\"none\" stroke=\"currentColor\" stroke-linecap=\"butt\" stroke-linejoin=\"miter\" stroke-width=\"1.00\">\n",
       "\t<path d=\"M407.7,476.0 L407.7,467.6 M407.7,11.3 L407.7,19.7  \" stroke=\"rgb(  0,   0,   0)\"/>\t<g fill=\"rgb(38,38,38)\" font-family=\"Arial\" font-size=\"10.00\" stroke=\"none\" text-anchor=\"middle\" transform=\"translate(407.7,491.3)\">\n",
       "\t\t<text><tspan font-family=\"Arial\">10</tspan></text>\n",
       "\t</g>\n",
       "</g>\n",
       "<g color=\"black\" fill=\"none\" stroke=\"currentColor\" stroke-linecap=\"butt\" stroke-linejoin=\"miter\" stroke-width=\"1.00\">\n",
       "\t<path d=\"M483.1,476.0 L483.1,467.6 M483.1,11.3 L483.1,19.7  \" stroke=\"rgb(  0,   0,   0)\"/>\t<g fill=\"rgb(38,38,38)\" font-family=\"Arial\" font-size=\"10.00\" stroke=\"none\" text-anchor=\"middle\" transform=\"translate(483.1,491.3)\">\n",
       "\t\t<text><tspan font-family=\"Arial\">15</tspan></text>\n",
       "\t</g>\n",
       "</g>\n",
       "<g color=\"black\" fill=\"none\" stroke=\"currentColor\" stroke-linecap=\"butt\" stroke-linejoin=\"miter\" stroke-width=\"1.00\">\n",
       "</g>\n",
       "<g color=\"black\" fill=\"none\" stroke=\"currentColor\" stroke-linecap=\"butt\" stroke-linejoin=\"miter\" stroke-width=\"1.00\">\n",
       "</g>\n",
       "\t<g id=\"gnuplot_plot_1a\"><title>gnuplot_plot_1a</title>\n",
       "<g color=\"#FFFFFF\" fill=\"none\" stroke=\"rgb(  0,   0,   0)\" stroke-linecap=\"butt\" stroke-linejoin=\"miter\" stroke-width=\"0.50\">\n",
       "</g>\n",
       "<g color=\"black\" fill=\"none\" stroke=\"currentColor\" stroke-linecap=\"butt\" stroke-linejoin=\"miter\" stroke-width=\"0.50\">\n",
       "\t<path d=\"M226.8,398.5 L237.4,393.3 L248.0,387.5 L258.7,381.1 L269.4,374.1 L280.1,366.6 L290.6,358.7 L301.0,350.2   L311.2,341.4 L321.2,332.1 L331.0,322.5 L340.5,312.5 L349.6,302.3 L358.3,291.9 L366.7,281.2 L374.6,270.4   L382.0,259.5 L388.9,248.5 L395.3,237.5 L401.1,226.6 L406.4,215.7 L411.0,204.9 L415.0,194.3 L418.4,183.8   L421.2,173.7 L423.3,163.8 L424.7,154.2 L425.4,144.9 L425.5,136.1 L424.8,127.7 L423.5,119.8 L421.6,112.4   L418.9,105.5 L415.7,99.1 L411.7,93.4 L407.2,88.2 L402.0,83.7 L396.3,79.8 L390.0,76.6 L383.2,74.0   L375.8,72.1 L368.0,71.0 L359.7,70.5 L351.1,70.7 L342.0,71.6 L332.6,73.2 L322.9,75.5 L312.9,78.5   L302.7,82.1 L292.4,86.4 L281.8,91.3 L271.2,96.8 L260.5,102.9 L249.8,109.6 L239.2,116.8 L228.6,124.6   L218.1,132.8 L207.8,141.5 L197.6,150.5 L187.7,160.0 L178.1,169.8 L168.8,179.8 L159.9,190.2 L151.4,200.7   L143.2,211.5 L135.6,222.3 L128.4,233.3 L121.7,244.3 L115.6,255.2 L110.1,266.2 L105.1,277.0 L100.8,287.7   L97.1,298.3 L94.0,308.6 L91.6,318.6 L89.9,328.4 L88.8,337.8 L88.4,346.8 L88.7,355.4 L89.6,363.6   L91.3,371.3 L93.6,378.4 L96.5,385.1 L100.1,391.1 L104.4,396.6 L109.2,401.4 L114.7,405.6 L120.7,409.2   L127.2,412.1 L134.3,414.3 L141.9,415.8 L150.0,416.7 L158.4,416.8 L167.3,416.2 L176.6,415.0 L186.1,413.0   L196.0,410.4 L206.0,407.1 L216.3,403.2 L226.8,398.6  \" stroke=\"rgb(  0, 114, 189)\"/></g>\n",
       "\t</g>\n",
       "\t<g id=\"gnuplot_plot_2a\"><title>gnuplot_plot_2a</title>\n",
       "<g color=\"black\" fill=\"none\" stroke=\"currentColor\" stroke-linecap=\"butt\" stroke-linejoin=\"miter\" stroke-width=\"0.50\">\n",
       "\t<path d=\"M257.0,243.6 L407.7,88.7  \" stroke=\"rgb(217,  83,  25)\"/></g>\n",
       "\t</g>\n",
       "\t<g id=\"gnuplot_plot_3a\"><title>gnuplot_plot_3a</title>\n",
       "<g color=\"black\" fill=\"none\" stroke=\"currentColor\" stroke-linecap=\"butt\" stroke-linejoin=\"miter\" stroke-width=\"0.50\">\n",
       "\t<path d=\"M374.2,157.6 L407.7,88.7 L340.7,123.2  \" stroke=\"rgb(217,  83,  25)\"/></g>\n",
       "\t</g>\n",
       "\t<g id=\"gnuplot_plot_4a\"><title>gnuplot_plot_4a</title>\n",
       "<g color=\"black\" fill=\"none\" stroke=\"currentColor\" stroke-linecap=\"butt\" stroke-linejoin=\"miter\" stroke-width=\"0.50\">\n",
       "\t<path d=\"M257.0,243.6 L181.6,166.2  \" stroke=\"rgb( 77, 190, 238)\"/></g>\n",
       "\t</g>\n",
       "\t<g id=\"gnuplot_plot_5a\"><title>gnuplot_plot_5a</title>\n",
       "<g color=\"black\" fill=\"none\" stroke=\"currentColor\" stroke-linecap=\"butt\" stroke-linejoin=\"miter\" stroke-width=\"0.50\">\n",
       "\t<path d=\"M215.1,183.4 L181.6,166.2 L198.3,200.6  \" stroke=\"rgb( 77, 190, 238)\"/></g>\n",
       "\t</g>\n",
       "<g color=\"#FFFFFF\" fill=\"none\" stroke=\"rgb( 77, 190, 238)\" stroke-linecap=\"butt\" stroke-linejoin=\"miter\" stroke-width=\"2.00\">\n",
       "</g>\n",
       "<g color=\"black\" fill=\"none\" stroke=\"currentColor\" stroke-linecap=\"butt\" stroke-linejoin=\"miter\" stroke-width=\"2.00\">\n",
       "</g>\n",
       "<g color=\"black\" fill=\"none\" stroke=\"black\" stroke-linecap=\"butt\" stroke-linejoin=\"miter\" stroke-width=\"0.50\">\n",
       "</g>\n",
       "<g color=\"black\" fill=\"none\" stroke=\"currentColor\" stroke-linecap=\"butt\" stroke-linejoin=\"miter\" stroke-width=\"0.50\">\n",
       "\t<path d=\"M30.8,476.0 L483.1,476.0  \" stroke=\"rgb( 38,  38,  38)\"/></g>\n",
       "<g color=\"black\" fill=\"none\" stroke=\"currentColor\" stroke-linecap=\"butt\" stroke-linejoin=\"miter\" stroke-width=\"0.50\">\n",
       "\t<path d=\"M30.8,11.3 L483.1,11.3  \" stroke=\"rgb( 38,  38,  38)\"/></g>\n",
       "<g color=\"black\" fill=\"none\" stroke=\"currentColor\" stroke-linecap=\"butt\" stroke-linejoin=\"miter\" stroke-width=\"0.50\">\n",
       "\t<path d=\"M30.8,476.0 L30.8,11.3  \" stroke=\"rgb( 38,  38,  38)\"/></g>\n",
       "<g color=\"black\" fill=\"none\" stroke=\"currentColor\" stroke-linecap=\"butt\" stroke-linejoin=\"miter\" stroke-width=\"0.50\">\n",
       "\t<path d=\"M483.1,476.0 L483.1,11.3  \" stroke=\"rgb( 38,  38,  38)\"/></g>\n",
       "<g color=\"black\" fill=\"none\" stroke=\"rgb( 38,  38,  38)\" stroke-linecap=\"butt\" stroke-linejoin=\"miter\" stroke-width=\"1.00\">\n",
       "</g>\n",
       "<g color=\"black\" fill=\"none\" stroke=\"currentColor\" stroke-linecap=\"butt\" stroke-linejoin=\"miter\" stroke-width=\"1.00\">\n",
       "</g>\n",
       "</g>\n",
       "</svg>"
      ],
      "text/plain": [
       "<IPython.core.display.SVG object>"
      ]
     },
     "metadata": {},
     "output_type": "display_data"
    }
   ],
   "source": [
    "range1 = U(:,1);\n",
    "range2 = U(:,2);\n",
    "domain1 = V(:,1);\n",
    "domain2 = V(:,2);\n",
    "%% The code is from http://stackoverflow.com/questions/7971467/how-to-draw-a-circle-in-gnu-octave\n",
    "figure('Position', [0 0 250 250]);\n",
    "t = linspace(0,2*pi,100)'; \n",
    "r =1;\n",
    "circsx = r.*cos(t); \n",
    "circsy = r.*sin(t);\n",
    "quiver(0,0,domain1(1),domain1(2));\n",
    "hold on;\n",
    "quiver(0,0,domain2(1),domain2(2));\n",
    "hold on;\n",
    "plot(circsx,circsy);\n",
    "hold on;\n",
    "%%%%%%%%%%%%\n",
    "figure('Position', [0 0 500 500]);\n",
    "x = A * [circsx';circsy'];\n",
    "plot(x(1,:),x(2,:));\n",
    "hold on;\n",
    "quiver(0,0,S(1,1)*range1(1),S(1,1)*range1(2));\n",
    "hold on;\n",
    "quiver(0,0,S(2,2)*range2(1),S(2,2)*range2(2));\n",
    "\n",
    "\n",
    "\n"
   ]
  },
  {
   "cell_type": "markdown",
   "metadata": {},
   "source": [
    "### PART C"
   ]
  },
  {
   "cell_type": "code",
   "execution_count": 64,
   "metadata": {
    "collapsed": false
   },
   "outputs": [
    {
     "name": "stdout",
     "output_type": "stream",
     "text": [
      "norm1 =  16\n",
      "norm2 =  14.142\n",
      "norminf =  15\n",
      "norminf =  15.811\n"
     ]
    }
   ],
   "source": [
    "[norm1 norm2 norminf norminf] = find_norms(A)"
   ]
  },
  {
   "cell_type": "markdown",
   "metadata": {},
   "source": [
    "### PART D\n",
    "$$A^{-1}A^ = I \\\\\n",
    "V\\Sigma^{-1}U^* U\\Sigma V^* = I\n",
    "$$\n",
    "$U$ and $V$ unitary.  \n",
    "$\\Sigma$ is diagonal."
   ]
  },
  {
   "cell_type": "code",
   "execution_count": 66,
   "metadata": {
    "collapsed": false
   },
   "outputs": [
    {
     "name": "stdout",
     "output_type": "stream",
     "text": [
      "Inverse_of_A =\n",
      "\n",
      "   0.050000  -0.110000\n",
      "   0.100000  -0.020000\n",
      "\n"
     ]
    }
   ],
   "source": [
    "Inverse_of_A = find_inverse(A)"
   ]
  },
  {
   "cell_type": "markdown",
   "metadata": {},
   "source": [
    "### PART E and F\n",
    "Answer is very such small that is not larger than machine epsilon."
   ]
  },
  {
   "cell_type": "code",
   "execution_count": 81,
   "metadata": {
    "collapsed": false
   },
   "outputs": [
    {
     "name": "stdout",
     "output_type": "stream",
     "text": [
      "Eigenvalues =\n",
      "\n",
      "   1.5000 + 9.8869i\n",
      "   1.5000 - 9.8869i\n",
      "\n",
      "diff_of_my_det_and_built_in_det =    1.4211e-14\n"
     ]
    }
   ],
   "source": [
    "Eigenvalues = find_eigen(A)\n",
    "diff_of_my_det_and_built_in_det =abs(Eigenvalues(1)*Eigenvalues(2)) - det(A)"
   ]
  },
  {
   "cell_type": "markdown",
   "metadata": {},
   "source": [
    "### PART G"
   ]
  },
  {
   "cell_type": "code",
   "execution_count": 89,
   "metadata": {
    "collapsed": false
   },
   "outputs": [
    {
     "name": "stdout",
     "output_type": "stream",
     "text": [
      "ares =  314.16\n"
     ]
    }
   ],
   "source": [
    "sigmas = diag(find_sigma(A'*A));\n",
    "ares = sigmas(1)*sigmas(2)*pi"
   ]
  },
  {
   "cell_type": "code",
   "execution_count": null,
   "metadata": {
    "collapsed": true
   },
   "outputs": [],
   "source": []
  }
 ],
 "metadata": {
  "kernelspec": {
   "display_name": "Octave",
   "language": "octave",
   "name": "octave"
  },
  "language_info": {
   "file_extension": ".m",
   "help_links": [
    {
     "text": "GNU Octave",
     "url": "https://www.gnu.org/software/octave/support.html"
    },
    {
     "text": "Octave Kernel",
     "url": "https://github.com/Calysto/octave_kernel"
    },
    {
     "text": "MetaKernel Magics",
     "url": "https://github.com/calysto/metakernel/blob/master/metakernel/magics/README.md"
    }
   ],
   "mimetype": "text/x-octave",
   "name": "octave",
   "version": "4.2.0"
  }
 },
 "nbformat": 4,
 "nbformat_minor": 2
}
