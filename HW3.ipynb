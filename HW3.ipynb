{
 "cells": [
  {
   "cell_type": "markdown",
   "metadata": {
    "collapsed": true
   },
   "source": [
    "### Question 3.6\n",
    "\n",
    "We know that a norm function should satisfy the following three proporties:\n",
    "\n",
    "(1) $||x|| \\geq 0$,  and $||x|| = 0$ only if $x = 0$ \n",
    "\n",
    "(2) $||x + y|| \\leq ||x|| + ||y||$ \n",
    "\n",
    "(3) $||ax|| = |a|||x||$\n",
    "\n",
    "For this reason, the dual norm, $||x||' =sup_{||y||=1} | y^{∗} x |$ , should satisfy these three properties.\n",
    "\n",
    "##### Proof of (1):\n",
    "From the definition of the dual norm, we can say that we are trying to find maximum absolute value of $y^{*}x$ as the spremum. Because the absolute value of a number is positive, $||x||'$ is always positive except when $x = 0$. In this case the maximum value of absulate value of $y^{*}x = 0$.\n",
    "\n",
    "##### Proof of (2):\n",
    "$||x+z||' = sup_{||y||=1}|y^{*}(x+z)|= sup_{||y||=1}|y^{*}x+y^{*}z|\\leq sup_{||y||=1}|y^{*}x|+sup_{||y||=1}|y^{*}z| = ||x||'+||z||'$\n",
    "\n",
    "##### Proof of (3):\n",
    "$||ax||' = sup_{||y||=1}|y^{*}ax| = sup_{||y||=1}|ay^{*}x| = sup_{||y||=1}|a||y^{*}x| = sup_{||y||=1}|a|||x||'$  \n",
    "\n",
    "\n",
    "\n",
    "\n"
   ]
  },
  {
   "cell_type": "markdown",
   "metadata": {},
   "source": [
    "### Question 4.5\n"
   ]
  },
  {
   "cell_type": "markdown",
   "metadata": {
    "collapsed": true
   },
   "source": [
    "If A $\\in$ $ \\mathbb{R} ^{mxn}$ then we can say that $A^{*}A=A^{T}A$.\n",
    "\n",
    "We know that A has an SVD such that $A=U\\Sigma V^{*}$ where $U \\in \\mathbb{C} ^{mxm}$. For this reason, we can write the following equation:\n",
    "\n",
    "$A^{T}A=(V\\Sigma^{T} U^{*})(U\\Sigma V^{*}) = VDV^{*}$ where $D = \\Sigma ^{T} \\Sigma $ and $D \\in \\mathbb{R}^{nxn}$.  In SVD, we are adding columns or rows to $\\hat{\\Sigma}$ to obtain $\\Sigma$ based on $m \\geq n$ or $m \\leq n$. For this reason, we can say that $\\hat{\\Sigma}=\\sqrt{D}$ and V is an orthagonal matrix with real values because of the fact that $A=\\sqrt{D}V^{*}$. We know that $A$ and $\\sqrt{D}$ are real. For this reason, $V^{*}$ and $V$ should be real as well.\n",
    "\n",
    "After this point, we know that $V$, $\\hat{\\Sigma}$ and A has real elements. For this reason U should be a matrix with real elements such that $AV = U\\Sigma$"
   ]
  },
  {
   "cell_type": "code",
   "execution_count": null,
   "metadata": {
    "collapsed": true
   },
   "outputs": [],
   "source": []
  }
 ],
 "metadata": {
  "kernelspec": {
   "display_name": "Octave",
   "language": "octave",
   "name": "octave"
  },
  "language_info": {
   "file_extension": ".m",
   "help_links": [
    {
     "text": "GNU Octave",
     "url": "https://www.gnu.org/software/octave/support.html"
    },
    {
     "text": "Octave Kernel",
     "url": "https://github.com/Calysto/octave_kernel"
    },
    {
     "text": "MetaKernel Magics",
     "url": "https://github.com/calysto/metakernel/blob/master/metakernel/magics/README.md"
    }
   ],
   "mimetype": "text/x-octave",
   "name": "octave",
   "version": "3.8.0"
  }
 },
 "nbformat": 4,
 "nbformat_minor": 2
}
