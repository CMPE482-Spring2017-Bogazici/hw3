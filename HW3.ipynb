{
 "cells": [
  {
   "cell_type": "markdown",
   "metadata": {
    "collapsed": true
   },
   "source": [
    "### Question 3.6\n",
    "\n",
    "We know that a norm function should satisfy the following three proporties:\n",
    "\n",
    "(1) $||x|| \\geq 0$,  and $||x|| = 0$ only if $x = 0$ \n",
    "\n",
    "(2) $||x + y|| \\leq ||x|| + ||y||$ \n",
    "\n",
    "(3) $||ax|| = |a|||x||$\n",
    "\n",
    "For this reason, the dual norm, $||x||' =sup_{||y||=1} | y^{∗} x |$ , should satisfy these three properties.\n",
    "\n",
    "##### Proof of (1):\n",
    "\n",
    "\n",
    "##### Proof of (2):\n",
    "$||x+z||' = sup_{||y||=1}|y^{*}(x+z)|= sup_{||y||=1}|y^{*}x+y^{*}z|\\leq sup_{||y||=1}|y^{*}x|+sup_{||y||=1}|y^{*}z| = ||x||'+||z||'$\n",
    "\n",
    "##### Proof of (3):\n",
    "$||ax||' = sup_{||y||=1}|y^{*}ax| = sup_{||y||=1}|ay^{*}x| = sup_{||y||=1}|a||y^{*}x| = sup_{||y||=1}|a|||x||'$  \n",
    "\n",
    "\n",
    "\n",
    "\n"
   ]
  },
  {
   "cell_type": "code",
   "execution_count": null,
   "metadata": {
    "collapsed": true
   },
   "outputs": [],
   "source": []
  }
 ],
 "metadata": {
  "kernelspec": {
   "display_name": "Octave",
   "language": "octave",
   "name": "octave"
  },
  "language_info": {
   "file_extension": ".m",
   "help_links": [
    {
     "text": "GNU Octave",
     "url": "https://www.gnu.org/software/octave/support.html"
    },
    {
     "text": "Octave Kernel",
     "url": "https://github.com/Calysto/octave_kernel"
    },
    {
     "text": "MetaKernel Magics",
     "url": "https://github.com/calysto/metakernel/blob/master/metakernel/magics/README.md"
    }
   ],
   "mimetype": "text/x-octave",
   "name": "octave",
   "version": "3.8.0"
  }
 },
 "nbformat": 4,
 "nbformat_minor": 2
}
