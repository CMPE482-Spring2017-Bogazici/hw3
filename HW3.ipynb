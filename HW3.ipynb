{
 "cells": [
  {
   "cell_type": "markdown",
   "metadata": {
    "collapsed": true
   },
   "source": [
    "### Question 3.6\n",
    "\n",
    "We know that a norm function should satisfy the following three proporties:\n",
    "\n",
    "(1) $||x|| \\geq 0$,  and $||x|| = 0$ only if $x = 0$ \n",
    "\n",
    "(2) $||x + y|| \\leq ||x|| + ||y||$ \n",
    "\n",
    "(3) $||ax|| = |a|||x||$\n",
    "\n",
    "For this reason, the dual norm, $||x||' =sup_{||y||=1} | y^{∗} x |$ , should satisfy these three properties.\n",
    "\n",
    "##### Proof of (1):\n",
    "From the definition of the dual norm, we can say that we are trying to find maximum absolute value of $y^{*}x$ as the spremum. Because the absolute value of a number is positive, $||x||'$ is always positive except when $x = 0$. In this case the maximum value of absulate value of $y^{*}x = 0$.\n",
    "\n",
    "##### Proof of (2):\n",
    "$||x+z||' = sup_{||y||=1}|y^{*}(x+z)|= sup_{||y||=1}|y^{*}x+y^{*}z|\\leq sup_{||y||=1}|y^{*}x|+sup_{||y||=1}|y^{*}z| = ||x||'+||z||'$\n",
    "\n",
    "##### Proof of (3):\n",
    "$||ax||' = sup_{||y||=1}|y^{*}ax| = sup_{||y||=1}|ay^{*}x| = sup_{||y||=1}|a||y^{*}x| = sup_{||y||=1}|a|||x||'$  \n",
    "\n",
    "\n",
    "\n",
    "\n"
   ]
  },
  {
   "cell_type": "markdown",
   "metadata": {},
   "source": [
    "### Question 4.5\n"
   ]
  },
  {
   "cell_type": "markdown",
   "metadata": {
    "collapsed": true
   },
   "source": [
    "If A $\\in$ $ \\mathbb{R} ^{mxn}$ then we can say that $A^{*}A=A^{T}A$.\n",
    "\n",
    "We know that A has an SVD such that $A=U\\Sigma V^{*}$ where $U \\in \\mathbb{C} ^{mxm}$. For this reason, we can write the following equation:\n",
    "\n",
    "$A^{T}A=(V\\Sigma^{T} U^{*})(U\\Sigma V^{*}) = VDV^{*}$ where $D = \\Sigma ^{T} \\Sigma $ and $D \\in \\mathbb{R}^{nxn}$.  In SVD, we are adding columns or rows to $\\hat{\\Sigma}$ to obtain $\\Sigma$ based on $m \\geq n$ or $m \\leq n$. For this reason, we can say that $\\hat{\\Sigma}=\\sqrt{D}$ and V is an orthagonal matrix with real values because of the fact that $A=\\sqrt{D}V^{*}$. We know that $A$ and $\\sqrt{D}$ are real. For this reason, $V^{*}$ and $V$ should be real as well.\n",
    "\n",
    "After this point, we know that $V$, $\\hat{\\Sigma}$ and A has real elements. For this reason U should be a matrix with real elements such that $AV = U\\Sigma$"
   ]
  },
  {
   "cell_type": "markdown",
   "metadata": {},
   "source": [
    "### Question 5.3"
   ]
  },
  {
   "cell_type": "code",
   "execution_count": 54,
   "metadata": {
    "collapsed": false
   },
   "outputs": [
    {
     "name": "stdout",
     "output_type": "stream",
     "text": [
      "A =\n",
      "\n",
      "   -2   11\n",
      "  -10    5\n",
      "\n",
      "T =\n",
      "\n",
      "   125    75\n",
      "    75   125\n",
      "\n",
      "a =  1\n",
      "b = -250\n",
      "c =  10000\n",
      "e1 =  50\n",
      "e2 =  200\n",
      "E =\n",
      "\n",
      "    50     0\n",
      "     0   200\n",
      "\n",
      "s1 =  7.0711\n",
      "s2 =  14.142\n",
      "temp1 =\n",
      "\n",
      "   75   75\n",
      "   75   75\n",
      "\n",
      "ev1 =\n",
      "\n",
      "   0.70711\n",
      "   0.70711\n",
      "\n",
      "temp2 =\n",
      "\n",
      "  -75   75\n",
      "   75  -75\n",
      "\n",
      "ev2 =\n",
      "\n",
      "  -0.70711\n",
      "   0.70711\n",
      "\n",
      "U =\n",
      "\n",
      "   0.70711  -0.70711\n",
      "   0.70711   0.70711\n",
      "\n",
      "V =\n",
      "\n",
      "  -0.169706  -0.028284\n",
      "   0.226274  -0.021213\n",
      "\n",
      "ls1 =\n",
      "\n",
      "   0.70711\n",
      "   0.70711\n",
      "\n",
      "ls2 =\n",
      "\n",
      "  -0.70711\n",
      "   0.70711\n",
      "\n",
      "rs1 =\n",
      "\n",
      "  -0.16971\n",
      "   0.22627\n",
      "\n",
      "rs2 =\n",
      "\n",
      "  -0.028284\n",
      "  -0.021213\n",
      "\n",
      "A1 =  16\n",
      "A2 =  14.142\n",
      "A_inf =  15\n",
      "A_F =  15.811\n",
      "invA =\n",
      "\n",
      "  -0.0023000  -0.0025000\n",
      "   0.0032750   0.0031250\n",
      "\n"
     ]
    }
   ],
   "source": [
    "A = [-2 11;-10 5]\n",
    "\n",
    "#### Question a ####\n",
    "T = A*A'\n",
    "a = 1\n",
    "b = -T(1,1)-T(2,2)\n",
    "c = T(1,1)*T(2,2)-T(1,2)*T(2,1)\n",
    "\n",
    "#eigenvalues of A*A'\n",
    "e1 = (-b-sqrt(b*b-4*a*c))/2*a\n",
    "e2 = (-b+sqrt(b*b-4*a*c))/2*a\n",
    "E = [e1 0;0 e2]\n",
    "\n",
    "#singular values of A\n",
    "s1 = sqrt(e1)\n",
    "s2 = sqrt(e2)\n",
    "\n",
    "#eigenvectors of A*A'\n",
    "temp1 = (T - [e1 0; 0 e1])\n",
    "ev1 = (temp1(1,:) / sqrt(temp1(1,1)*temp1(1,1)+temp1(1,2)*temp1(1,2)))'\n",
    "temp2 = T - [e2 0; 0 e2]\n",
    "ev2 = (temp2(1,:) / sqrt(temp2(1,1)*temp2(1,1)+temp2(1,2)*temp2(1,2)))'\n",
    "\n",
    "#find U & V\n",
    "U = [ev1 ev2]\n",
    "V = (inv(E)*inv(U)*A)'\n",
    "\n",
    "#### Question b ####\n",
    "ls1 = U(:,1)\n",
    "ls2 = U(:,2)\n",
    "\n",
    "rs1 = V(:,1)\n",
    "rs2 = V(:,2)\n",
    "\n",
    "#### Question c ####\n",
    "A1 = max(abs(sum(A(:,1))),abs(sum(A(:,2))))\n",
    "A2 = sqrt(max(e1,e2))\n",
    "A_inf = max(abs(A(1,1))+abs(A(1,2)), abs(A(2,1))+abs(A(2,2))) \n",
    "A_F = sqrt(A(1,1)^2+ A(2,1)^2+A(1,2)^2+A(2,2)^2)\n",
    "\n",
    "#### Question d ####\n",
    "invA = V* inv(E) * U'"
   ]
  },
  {
   "cell_type": "code",
   "execution_count": 50,
   "metadata": {
    "collapsed": false
   },
   "outputs": [
    {
     "name": "stdout",
     "output_type": "stream",
     "text": [
      "ans =  4\n"
     ]
    }
   ],
   "source": []
  },
  {
   "cell_type": "code",
   "execution_count": null,
   "metadata": {
    "collapsed": true
   },
   "outputs": [],
   "source": []
  }
 ],
 "metadata": {
  "kernelspec": {
   "display_name": "Octave",
   "language": "octave",
   "name": "octave"
  },
  "language_info": {
   "file_extension": ".m",
   "help_links": [
    {
     "text": "GNU Octave",
     "url": "https://www.gnu.org/software/octave/support.html"
    },
    {
     "text": "Octave Kernel",
     "url": "https://github.com/Calysto/octave_kernel"
    },
    {
     "text": "MetaKernel Magics",
     "url": "https://github.com/calysto/metakernel/blob/master/metakernel/magics/README.md"
    }
   ],
   "mimetype": "text/x-octave",
   "name": "octave",
   "version": "3.8.0"
  }
 },
 "nbformat": 4,
 "nbformat_minor": 2
}
